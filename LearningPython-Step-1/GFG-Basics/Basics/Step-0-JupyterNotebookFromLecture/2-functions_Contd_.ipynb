{
  "nbformat": 4,
  "nbformat_minor": 0,
  "metadata": {
    "colab": {
      "provenance": []
    },
    "kernelspec": {
      "name": "python3",
      "display_name": "Python 3"
    },
    "language_info": {
      "name": "python"
    }
  },
  "cells": [
    {
      "cell_type": "code",
      "execution_count": null,
      "metadata": {
        "colab": {
          "base_uri": "https://localhost:8080/"
        },
        "id": "61-jLgCr2m3M",
        "outputId": "b885c177-9b00-4156-a082-9cb675ca73e5"
      },
      "outputs": [
        {
          "name": "stdout",
          "output_type": "stream",
          "text": [
            "enter first number5\n",
            "enter second number4\n"
          ]
        },
        {
          "output_type": "execute_result",
          "data": {
            "text/plain": [
              "20"
            ]
          },
          "metadata": {},
          "execution_count": 2
        }
      ],
      "source": [
        "def multiply(a,b):\n",
        "  return a*b\n",
        "a=int(input(\"enter first number\"))\n",
        "b=int(input(\"enter second number\"))\n",
        "multiply(a,b)"
      ]
    },
    {
      "cell_type": "code",
      "source": [
        "# Ques 1 : Temperature Conversion\n",
        "\n",
        "# usage- WAP to convert celsius into fahrenheit and vice versa\n",
        "\n",
        "def convert_temp(temp,unit):\n",
        "\n",
        "  if unit==\"c\":\n",
        "    return (temp *9/5 +32)  #celsius to Fahrenheit\n",
        "  elif unit==\"F\":\n",
        "    return (temp-32)*5/9  # Fahrenheit to Celsius\n",
        "  else:\n",
        "    return None\n",
        "print(convert_temp(68,\"F\"))\n",
        "print(convert_temp(77,\"c\"))"
      ],
      "metadata": {
        "colab": {
          "base_uri": "https://localhost:8080/"
        },
        "id": "RMVn5fyP5cgK",
        "outputId": "a7147cb6-0ffc-46e6-d2d6-ce133fbade61"
      },
      "execution_count": 1,
      "outputs": [
        {
          "output_type": "stream",
          "name": "stdout",
          "text": [
            "20.0\n",
            "170.6\n"
          ]
        }
      ]
    },
    {
      "cell_type": "code",
      "source": [
        "# Ques 2 - Password strength Checker\n",
        "\n",
        "def is_strong_pass(password):\n",
        "  if len(password)<8:\n",
        "    return False\n",
        "  if not any(char.isdigit() for char in password):\n",
        "    return False\n",
        "  if not any(char.islower() for char in password):\n",
        "    return False\n",
        "  if not any(char.isupper() for char in password):\n",
        "    return False\n",
        "  if not any(char in \"!@#$%^&*_+-\" for char in password):\n",
        "    return False\n",
        "  return True\n",
        "\n",
        "# calling my function\n",
        "\n",
        "print(is_strong_pass(\"Paracetamol1234##*$\"))\n",
        "print(is_strong_pass(\"Paracetamol12#\"))"
      ],
      "metadata": {
        "colab": {
          "base_uri": "https://localhost:8080/"
        },
        "id": "ciQ4sO5w7Sga",
        "outputId": "17a7340e-c062-4999-df54-8b499a9727cd"
      },
      "execution_count": null,
      "outputs": [
        {
          "output_type": "stream",
          "name": "stdout",
          "text": [
            "True\n",
            "True\n"
          ]
        }
      ]
    },
    {
      "cell_type": "code",
      "source": [
        "# Ques 3 : Calculate the Total cost of items in a shopping cart\n",
        "\n",
        "def calculate_total(cart):\n",
        "  total_cost=0\n",
        "  for i in cart:\n",
        "    total_cost+=i['price']*i[\"quantity\"]\n",
        "  return total_cost\n",
        "\n",
        "\n",
        "#example cart\n",
        "\n",
        "cart=[\n",
        "    {\"name\":\"apple\",\"price\":50,\"quantity\":5},  #250\n",
        "    {\"name\":\"banana\",\"price\":30,\"quantity\":3}, # 90\n",
        "    {\"name\":\"orange\",\"price\":40,\"quantity\":2} #80\n",
        "\n",
        "    #total=420/-\n",
        "]\n",
        "\n",
        "#calling the function\n",
        "\n",
        "total_cost=calculate_total(cart)\n",
        "print(\"Total Price of the Fruits are\", total_cost)"
      ],
      "metadata": {
        "colab": {
          "base_uri": "https://localhost:8080/"
        },
        "id": "4hqP9QAH-Hrd",
        "outputId": "111a8bd4-5dba-4c58-ed12-0f8fd740deb5"
      },
      "execution_count": null,
      "outputs": [
        {
          "output_type": "stream",
          "name": "stdout",
          "text": [
            "Total Price of the Fruits are 420\n"
          ]
        }
      ]
    },
    {
      "cell_type": "code",
      "source": [
        "# Ques 4 Check if a string is a Palindrome or not\n",
        "\n",
        "def palindrome(n):\n",
        "  n=n.lower().replace(\" \",\"\")\n",
        "  c=(n==n[::-1])\n",
        "  if c==True:\n",
        "    return \"Palindrome\"\n",
        "  else:\n",
        "    return \"Not a Palindrome\"\n",
        "\n",
        "print(palindrome(\"NooN civiC nooN\"))\n",
        "print(palindrome(\"moon\"))"
      ],
      "metadata": {
        "colab": {
          "base_uri": "https://localhost:8080/"
        },
        "id": "HRK9iIlJ_7Au",
        "outputId": "1769f871-cdc3-41d2-c5ec-295a780ab3d7"
      },
      "execution_count": null,
      "outputs": [
        {
          "output_type": "stream",
          "name": "stdout",
          "text": [
            "Palindrome\n",
            "Not a Palindrome\n"
          ]
        }
      ]
    },
    {
      "cell_type": "code",
      "source": [
        "# Ques 5 : Calculate the factorial of a number using funtions\n",
        "\n",
        "def fact(num):\n",
        "    if num < 0:\n",
        "        return \"Factorial is not defined.\"\n",
        "    elif num  ==0 or num == 1:\n",
        "        return 1\n",
        "    else:\n",
        "        result = 1\n",
        "        for i in range(2, num + 1):\n",
        "            result *= i\n",
        "        return result\n",
        "number = int(input(\"Enter a number to find its factorial: \"))\n",
        "print(fact(number))"
      ],
      "metadata": {
        "colab": {
          "base_uri": "https://localhost:8080/"
        },
        "id": "RiG4lueMCsxh",
        "outputId": "03cf49f8-2818-4793-d527-b5d1c88db88c"
      },
      "execution_count": null,
      "outputs": [
        {
          "output_type": "stream",
          "name": "stdout",
          "text": [
            "Enter a number to find its factorial: 5\n",
            "120\n"
          ]
        }
      ]
    },
    {
      "cell_type": "code",
      "source": [
        "# lamda Functions"
      ],
      "metadata": {
        "id": "9IsjClbPGjPe"
      },
      "execution_count": null,
      "outputs": []
    },
    {
      "cell_type": "markdown",
      "source": [
        "Lambda Functions in Python:\n",
        "\n",
        "A lambda expression in Python is like a mini function that doesn’t need a name. It’s a one-liner used when you want to do something quickly without going through the formalities of defining a full function.\n",
        "\n",
        "Analogy:\n",
        "\n",
        "A lambda is like a vending machine: you press a button (give input), and it instantly gives you a snack (output). No need for a chef (full function)! 🍫"
      ],
      "metadata": {
        "id": "9UfiuR1TGmgF"
      }
    },
    {
      "cell_type": "code",
      "source": [
        "#syntax of lambda function\n",
        "\n",
        "lambda arguremnts: expression"
      ],
      "metadata": {
        "colab": {
          "base_uri": "https://localhost:8080/"
        },
        "id": "_j9oAfdZGqhR",
        "outputId": "30aa9934-fe4b-4e5d-e9a0-131a56490370"
      },
      "execution_count": null,
      "outputs": [
        {
          "output_type": "execute_result",
          "data": {
            "text/plain": [
              "<function __main__.<lambda>(arguremnts)>"
            ]
          },
          "metadata": {},
          "execution_count": 24
        }
      ]
    },
    {
      "cell_type": "code",
      "source": [
        "# add 2 numbers\n",
        "\n",
        "def addition(a,b):\n",
        "  return a+b"
      ],
      "metadata": {
        "id": "LOTAvIbFH0Ov"
      },
      "execution_count": null,
      "outputs": []
    },
    {
      "cell_type": "code",
      "source": [
        "addition(3,4)"
      ],
      "metadata": {
        "colab": {
          "base_uri": "https://localhost:8080/"
        },
        "id": "AuM0r2luH9yg",
        "outputId": "dfd8c450-6f81-4e5e-afb6-c021c10c544c"
      },
      "execution_count": null,
      "outputs": [
        {
          "output_type": "execute_result",
          "data": {
            "text/plain": [
              "7"
            ]
          },
          "metadata": {},
          "execution_count": 26
        }
      ]
    },
    {
      "cell_type": "code",
      "source": [
        "multiplication=lambda a,b: a*b\n",
        "print(multiplication(5,6))"
      ],
      "metadata": {
        "colab": {
          "base_uri": "https://localhost:8080/"
        },
        "id": "s8T8gVxsIDqa",
        "outputId": "62b1af93-7221-4d00-dbb9-0c98474d4e31"
      },
      "execution_count": null,
      "outputs": [
        {
          "output_type": "stream",
          "name": "stdout",
          "text": [
            "30\n"
          ]
        }
      ]
    },
    {
      "cell_type": "code",
      "source": [
        "def even(num):\n",
        "  if num%2==0:\n",
        "    return True\n",
        "  else:\n",
        "    return False\n",
        "\n",
        "even(24)"
      ],
      "metadata": {
        "colab": {
          "base_uri": "https://localhost:8080/"
        },
        "id": "IUz9vMe1I_mH",
        "outputId": "ee1523ac-b0e5-4d49-a8c5-24bf9520bb17"
      },
      "execution_count": null,
      "outputs": [
        {
          "output_type": "execute_result",
          "data": {
            "text/plain": [
              "True"
            ]
          },
          "metadata": {},
          "execution_count": 30
        }
      ]
    },
    {
      "cell_type": "code",
      "source": [
        "iseven=lambda num: num%2==0\n",
        "iseven(24)"
      ],
      "metadata": {
        "colab": {
          "base_uri": "https://localhost:8080/"
        },
        "id": "wIbesYSkJQB3",
        "outputId": "96ef4768-9938-40b5-caa8-e595e1b2aa91"
      },
      "execution_count": null,
      "outputs": [
        {
          "output_type": "execute_result",
          "data": {
            "text/plain": [
              "True"
            ]
          },
          "metadata": {},
          "execution_count": 31
        }
      ]
    },
    {
      "cell_type": "code",
      "source": [
        "addition=lambda a,b,c,d: a+b+c+d\n",
        "addition(5,6,10,5)"
      ],
      "metadata": {
        "colab": {
          "base_uri": "https://localhost:8080/"
        },
        "id": "FhZb7N3yJy-g",
        "outputId": "749dfd27-4339-4ab1-a06c-aa68ccd214c1"
      },
      "execution_count": null,
      "outputs": [
        {
          "output_type": "execute_result",
          "data": {
            "text/plain": [
              "26"
            ]
          },
          "metadata": {},
          "execution_count": 33
        }
      ]
    },
    {
      "cell_type": "markdown",
      "source": [
        "## The map() Function in Python\n",
        "\n",
        "\n",
        "The map() function takes a function and a list (or any iterable) and applies that function to every item in the list, giving you a new list with the results.\n",
        "\n",
        "\n",
        "map() is like a DJ playing remixes: you give the DJ (function) a playlist (list), and they remix every song (apply the function) into a new playlist.\n",
        "1,2,3 LETS ROCKK GEEEKS !!! bold text"
      ],
      "metadata": {
        "id": "oWTMfjadKD5g"
      }
    },
    {
      "cell_type": "code",
      "source": [
        "def cube(x):\n",
        "  return x*x*x\n",
        "\n",
        "cube(10)"
      ],
      "metadata": {
        "colab": {
          "base_uri": "https://localhost:8080/"
        },
        "id": "uAR_jREJKIEI",
        "outputId": "47a8e3d1-38ad-4a92-df9a-ad1fd60ecccf"
      },
      "execution_count": null,
      "outputs": [
        {
          "output_type": "execute_result",
          "data": {
            "text/plain": [
              "1000"
            ]
          },
          "metadata": {},
          "execution_count": 43
        }
      ]
    },
    {
      "cell_type": "code",
      "source": [
        "def square(x):\n",
        "  return x*x\n"
      ],
      "metadata": {
        "id": "ErGZuoHYLzkJ"
      },
      "execution_count": null,
      "outputs": []
    },
    {
      "cell_type": "code",
      "source": [
        "numbers=[1,2,3,4,5,6,7,8,9,10]\n",
        "print(list(map(cube,numbers)))\n",
        "print(list(map(square,numbers)))"
      ],
      "metadata": {
        "colab": {
          "base_uri": "https://localhost:8080/"
        },
        "id": "V5CLMI8pKnSN",
        "outputId": "34654c8c-1d97-4554-976d-e198217dbab9"
      },
      "execution_count": null,
      "outputs": [
        {
          "output_type": "stream",
          "name": "stdout",
          "text": [
            "[1, 8, 27, 64, 125, 216, 343, 512, 729, 1000]\n",
            "[1, 4, 9, 16, 25, 36, 49, 64, 81, 100]\n"
          ]
        }
      ]
    },
    {
      "cell_type": "code",
      "source": [
        "numbers=[1,2,3,4,5,6,7,8,9,10]\n",
        "list(map(lambda x: x*x*x , numbers ))"
      ],
      "metadata": {
        "colab": {
          "base_uri": "https://localhost:8080/"
        },
        "id": "3rfAeOYGMcTK",
        "outputId": "e0bc9ebc-fb54-455f-8a8b-dfafcd1b7167"
      },
      "execution_count": null,
      "outputs": [
        {
          "output_type": "execute_result",
          "data": {
            "text/plain": [
              "[1, 8, 27, 64, 125, 216, 343, 512, 729, 1000]"
            ]
          },
          "metadata": {},
          "execution_count": 48
        }
      ]
    },
    {
      "cell_type": "code",
      "source": [
        "list1=[1,2,3,4,5]\n",
        "list2=[6,7,8,9,10]\n",
        "added_numbers=list(map(lambda x,y:x+y,list1,list2))\n",
        "print(added_numbers)\n"
      ],
      "metadata": {
        "colab": {
          "base_uri": "https://localhost:8080/"
        },
        "id": "G2qDAjMLM8W0",
        "outputId": "02630048-ebe2-4a4c-8de4-c5eaf40d15eb"
      },
      "execution_count": null,
      "outputs": [
        {
          "output_type": "stream",
          "name": "stdout",
          "text": [
            "[7, 9, 11, 13, 15]\n"
          ]
        }
      ]
    },
    {
      "cell_type": "code",
      "source": [
        "words= [\"apple\",\"banana\",\"cheery\",\"papaya\",\"kiwi\"]\n",
        "upper_words=list(map(str.upper,words))\n",
        "print(upper_words)"
      ],
      "metadata": {
        "colab": {
          "base_uri": "https://localhost:8080/"
        },
        "id": "_gx0a1WBNsql",
        "outputId": "fbdb4c2a-b6d5-4c7d-fc40-34e8f27944e9"
      },
      "execution_count": null,
      "outputs": [
        {
          "output_type": "stream",
          "name": "stdout",
          "text": [
            "['APPLE', 'BANANA', 'CHEERY', 'PAPAYA', 'KIWI']\n"
          ]
        }
      ]
    },
    {
      "cell_type": "code",
      "source": [
        "words= [\"apple\",\"banana\",\"cheery\",\"papaya\",\"kiwi\"]\n",
        "upper_words=list(map(lambda x: x.upper(),words))\n",
        "print(upper_words)"
      ],
      "metadata": {
        "colab": {
          "base_uri": "https://localhost:8080/"
        },
        "id": "YamgJM2qOinQ",
        "outputId": "70b798b8-766f-4373-f893-723cce5457ea"
      },
      "execution_count": null,
      "outputs": [
        {
          "output_type": "stream",
          "name": "stdout",
          "text": [
            "['APPLE', 'BANANA', 'CHEERY', 'PAPAYA', 'KIWI']\n"
          ]
        }
      ]
    },
    {
      "cell_type": "code",
      "source": [],
      "metadata": {
        "id": "G_dixkFSO59W"
      },
      "execution_count": null,
      "outputs": []
    },
    {
      "cell_type": "markdown",
      "source": [
        "## The filter() Function in Python\n",
        "The filter() function helps you pick only the items from a list (or iterable) that meet a certain condition. You give it a function (the condition) and a list, and it filters out the items that don’t pass the test.\n",
        "\n",
        "filter() is like a bouncer at a club: it only lets in the people (list items) who match the dress code (pass the condition). The rest are turned away! **🕺🚫**"
      ],
      "metadata": {
        "id": "e3wnkXRWO8zf"
      }
    },
    {
      "cell_type": "code",
      "source": [],
      "metadata": {
        "id": "ctASR-1FP55E"
      },
      "execution_count": null,
      "outputs": []
    },
    {
      "cell_type": "code",
      "source": [
        "list1=[1,2,3,4,5,6,7,8,9,10]\n",
        "\n",
        "result=list(filter(lambda x : x<5,list1))\n",
        "print(result)"
      ],
      "metadata": {
        "colab": {
          "base_uri": "https://localhost:8080/"
        },
        "id": "oBNqKXM1O9hN",
        "outputId": "3c905101-3f57-44dd-df96-f77a152027f1"
      },
      "execution_count": null,
      "outputs": [
        {
          "output_type": "stream",
          "name": "stdout",
          "text": [
            "[1, 2, 3, 4]\n"
          ]
        }
      ]
    },
    {
      "cell_type": "code",
      "source": [
        "list1=[1,2,3,4,5,6,7,8,9,10]\n",
        "\n",
        "result=list(filter(lambda x : x<8 and x%2==0,list1))\n",
        "print(result)"
      ],
      "metadata": {
        "colab": {
          "base_uri": "https://localhost:8080/"
        },
        "id": "LYoLSzxsQWzi",
        "outputId": "679e8e53-92eb-44f4-8e70-746f55e7953e"
      },
      "execution_count": null,
      "outputs": [
        {
          "output_type": "stream",
          "name": "stdout",
          "text": [
            "[2, 4, 6]\n"
          ]
        }
      ]
    },
    {
      "cell_type": "code",
      "source": [
        "## filter () to check if the age is greater than 25 in the dictionary\n",
        "\n",
        "people=[\n",
        "    {\"name\": \"Rohan\",\"age\":12},\n",
        "    {\"name\": \"Karan\",\"age\":30},\n",
        "    {\"name\": \"Mohit\",\"age\":43},\n",
        "    {\"name\": \"Nisha\",\"age\":18},\n",
        "    {\"name\": \"Swati\",\"age\":27}\n",
        "]\n",
        "\n",
        "def age_greater_than_25(person):\n",
        "  return person[\"age\"]>25\n",
        "\n",
        "list(filter(age_greater_than_25,people))"
      ],
      "metadata": {
        "colab": {
          "base_uri": "https://localhost:8080/"
        },
        "id": "P3bhEewvQ5Ng",
        "outputId": "474dbdea-d124-4af9-89bd-07d72af6818c"
      },
      "execution_count": null,
      "outputs": [
        {
          "output_type": "execute_result",
          "data": {
            "text/plain": [
              "[{'name': 'Karan', 'age': 30},\n",
              " {'name': 'Mohit', 'age': 43},\n",
              " {'name': 'Swati', 'age': 27}]"
            ]
          },
          "metadata": {},
          "execution_count": 63
        }
      ]
    },
    {
      "cell_type": "code",
      "source": [
        "apple=aelpp"
      ],
      "metadata": {
        "id": "Lw8BkYzUStVZ"
      },
      "execution_count": null,
      "outputs": []
    }
  ]
}