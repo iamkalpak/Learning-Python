{
 "cells": [
  {
   "cell_type": "code",
   "execution_count": null,
   "metadata": {
    "colab": {
     "base_uri": "https://localhost:8080/"
    },
    "id": "kR2U7Cu5iXCq",
    "outputId": "092b33d9-cecf-4af8-c218-05d891104aa5"
   },
   "outputs": [
    {
     "name": "stdout",
     "output_type": "stream",
     "text": [
      "Hello World\n"
     ]
    }
   ],
   "source": [
    "print(\"Hello World\")"
   ]
  },
  {
   "cell_type": "markdown",
   "metadata": {
    "id": "kN6BnAeljzWZ"
   },
   "source": [
    "#Comments"
   ]
  },
  {
   "cell_type": "code",
   "execution_count": null,
   "metadata": {
    "id": "_E8qrEPmjcC4"
   },
   "outputs": [],
   "source": [
    "# Single Line Comment\n",
    "# Hi everyone this is a comment\n",
    "print('Hello World') # This helps you give the output"
   ]
  },
  {
   "cell_type": "code",
   "execution_count": null,
   "metadata": {
    "colab": {
     "base_uri": "https://localhost:8080/"
    },
    "id": "nfxWLuN_juvq",
    "outputId": "8ba897b7-6388-44a8-8402-7604b8745567"
   },
   "outputs": [
    {
     "name": "stdout",
     "output_type": "stream",
     "text": [
      "Hello World\n"
     ]
    }
   ],
   "source": [
    "'''\n",
    "Hi this is\n",
    "a python file\n",
    "and it is commented\n",
    "'''\n",
    "print('Hello World')"
   ]
  },
  {
   "cell_type": "code",
   "execution_count": null,
   "metadata": {
    "colab": {
     "base_uri": "https://localhost:8080/"
    },
    "id": "JEWuddOQkWow",
    "outputId": "472cb993-4dda-49e0-ce5a-afc0a423cd27"
   },
   "outputs": [
    {
     "name": "stdout",
     "output_type": "stream",
     "text": [
      "55\n"
     ]
    }
   ],
   "source": [
    "# Line Continuation\n",
    "# Use Backslash(\\)\n",
    "\n",
    "total = 1+2+3+4+5+6+7+\\\n",
    "8+9+10\n",
    "\n",
    "print(total)"
   ]
  },
  {
   "cell_type": "code",
   "execution_count": null,
   "metadata": {
    "colab": {
     "base_uri": "https://localhost:8080/"
    },
    "id": "sE71GizHkorn",
    "outputId": "e6395e54-1138-4d60-fe78-eac970164a86"
   },
   "outputs": [
    {
     "name": "stdout",
     "output_type": "stream",
     "text": [
      "13\n"
     ]
    }
   ],
   "source": [
    "# Multiple statements in a single line\n",
    "\n",
    "x=3;y=10;z=x+y\n",
    "print(z)"
   ]
  },
  {
   "cell_type": "markdown",
   "metadata": {
    "id": "HgN85RfmlNgr"
   },
   "source": [
    "#Indentation\n"
   ]
  },
  {
   "cell_type": "code",
   "execution_count": null,
   "metadata": {
    "colab": {
     "base_uri": "https://localhost:8080/"
    },
    "id": "iNj7p_KJlCHK",
    "outputId": "c1ab9656-f064-44a0-c7fd-c50c799c0840"
   },
   "outputs": [
    {
     "name": "stdout",
     "output_type": "stream",
     "text": [
      "32\n"
     ]
    }
   ],
   "source": [
    "age = 32\n",
    "\n",
    "if age>30:\n",
    "  print(age)\n"
   ]
  },
  {
   "cell_type": "markdown",
   "metadata": {
    "id": "uxBndmFil5M_"
   },
   "source": [
    "# Variables"
   ]
  },
  {
   "cell_type": "code",
   "execution_count": null,
   "metadata": {
    "colab": {
     "base_uri": "https://localhost:8080/"
    },
    "id": "7yoiPsUZl3Fp",
    "outputId": "0dc4ffea-75d6-4a65-fee2-547ef73e7e44"
   },
   "outputs": [
    {
     "name": "stdout",
     "output_type": "stream",
     "text": [
      "Hi Rahul Your age is 32 Your Height is 6.1\n"
     ]
    }
   ],
   "source": [
    "## Declaring And Assigning Variables\n",
    "\n",
    "age = 32 # this is an integer variable\n",
    "height = 6.1\n",
    "name = 'Rahul' # this is a string variable\n",
    "\n",
    "# Printing the variables\n",
    "\n",
    "# print(\"Hi, your age is\", age, \"How are you\", height, name)\n",
    "print('Hi', name, \"Your age is\", age, \"Your Height is\", height)"
   ]
  },
  {
   "cell_type": "code",
   "execution_count": null,
   "metadata": {
    "id": "ZEGVEdiCmvGe"
   },
   "outputs": [],
   "source": [
    "# Naming Conventions\n",
    "# Variable name should not start with a number\n",
    "# Variable name should not start with a special symbol as well\n",
    "# _\n",
    "\n",
    "first_name = \"Harsh\"\n",
    "last_name = \"Singh\"\n",
    "_age = 23\n",
    "_age_23 = 34"
   ]
  },
  {
   "cell_type": "code",
   "execution_count": null,
   "metadata": {
    "colab": {
     "base_uri": "https://localhost:8080/",
     "height": 106
    },
    "id": "u3WA8KhIpK69",
    "outputId": "49428d1d-5305-4b78-cb11-94fa90c0e237"
   },
   "outputs": [
    {
     "ename": "SyntaxError",
     "evalue": "invalid syntax. Maybe you meant '==' or ':=' instead of '='? (<ipython-input-24-8e59580c19b1>, line 5)",
     "output_type": "error",
     "traceback": [
      "\u001b[0;36m  File \u001b[0;32m\"<ipython-input-24-8e59580c19b1>\"\u001b[0;36m, line \u001b[0;32m5\u001b[0m\n\u001b[0;31m    @name = 12\u001b[0m\n\u001b[0m     ^\u001b[0m\n\u001b[0;31mSyntaxError\u001b[0m\u001b[0;31m:\u001b[0m invalid syntax. Maybe you meant '==' or ':=' instead of '='?\n"
     ]
    }
   ],
   "source": [
    "# Invalid Variable names\n",
    "\n",
    "# 2age = 23\n",
    "# first@name = 'Harsh'\n",
    "@name = 12"
   ]
  },
  {
   "cell_type": "code",
   "execution_count": null,
   "metadata": {
    "colab": {
     "base_uri": "https://localhost:8080/"
    },
    "id": "PDceUrC5pYFE",
    "outputId": "97ebfd6d-e3d3-4282-b071-d2e3a9b29a52"
   },
   "outputs": [
    {
     "name": "stdout",
     "output_type": "stream",
     "text": [
      "Hello World\n"
     ]
    }
   ],
   "source": [
    "print(\"Hello World\")"
   ]
  },
  {
   "cell_type": "code",
   "execution_count": null,
   "metadata": {
    "colab": {
     "base_uri": "https://localhost:8080/",
     "height": 141
    },
    "id": "n6xpqvbpptVs",
    "outputId": "3139ff5a-e36a-4663-b9b5-dab88ca0a499"
   },
   "outputs": [
    {
     "ename": "NameError",
     "evalue": "name 'Print' is not defined",
     "output_type": "error",
     "traceback": [
      "\u001b[0;31m---------------------------------------------------------------------------\u001b[0m",
      "\u001b[0;31mNameError\u001b[0m                                 Traceback (most recent call last)",
      "\u001b[0;32m<ipython-input-28-76108a059f25>\u001b[0m in \u001b[0;36m<cell line: 1>\u001b[0;34m()\u001b[0m\n\u001b[0;32m----> 1\u001b[0;31m \u001b[0mPrint\u001b[0m\u001b[0;34m(\u001b[0m\u001b[0;34m'Hello World'\u001b[0m\u001b[0;34m)\u001b[0m\u001b[0;34m\u001b[0m\u001b[0;34m\u001b[0m\u001b[0m\n\u001b[0m",
      "\u001b[0;31mNameError\u001b[0m: name 'Print' is not defined"
     ]
    }
   ],
   "source": [
    "Print('Hello World')"
   ]
  },
  {
   "cell_type": "code",
   "execution_count": null,
   "metadata": {
    "colab": {
     "base_uri": "https://localhost:8080/"
    },
    "id": "xXu_hyLwpvh2",
    "outputId": "9209f47f-ab45-4e58-d39c-21539c8acac2"
   },
   "outputs": [
    {
     "name": "stdout",
     "output_type": "stream",
     "text": [
      "Harsh Singh\n"
     ]
    }
   ],
   "source": [
    "name = \"Harsh\"\n",
    "Name = \"Singh\"\n",
    "\n",
    "print(name, Name)"
   ]
  },
  {
   "cell_type": "code",
   "execution_count": null,
   "metadata": {
    "colab": {
     "base_uri": "https://localhost:8080/"
    },
    "id": "yszXKI9cp95u",
    "outputId": "c24a7739-7a57-4d9b-cbf0-06360498590a"
   },
   "outputs": [
    {
     "name": "stdout",
     "output_type": "stream",
     "text": [
      "<class 'int'>\n"
     ]
    }
   ],
   "source": [
    "age = 23\n",
    "height = 6.1\n",
    "name = \"harsh\"\n",
    "\n",
    "# print(type(name))\n",
    "print(type(age))"
   ]
  },
  {
   "cell_type": "code",
   "execution_count": null,
   "metadata": {
    "colab": {
     "base_uri": "https://localhost:8080/"
    },
    "id": "OhR-kLWwqZMi",
    "outputId": "c47d4c38-2605-4755-ca63-97d5ab8cadc3"
   },
   "outputs": [
    {
     "name": "stdout",
     "output_type": "stream",
     "text": [
      "<class 'float'>\n"
     ]
    }
   ],
   "source": [
    "# Type Conversion\n",
    "\n",
    "age = float(age)\n",
    "print(type(age))"
   ]
  },
  {
   "cell_type": "code",
   "execution_count": null,
   "metadata": {
    "colab": {
     "base_uri": "https://localhost:8080/"
    },
    "id": "k8xSu-kqq8oP",
    "outputId": "4c2f4477-a170-43e1-cfa4-6b7ecb7d1424"
   },
   "outputs": [
    {
     "name": "stdout",
     "output_type": "stream",
     "text": [
      "<class 'float'>\n"
     ]
    }
   ],
   "source": [
    "print(type(height))"
   ]
  },
  {
   "cell_type": "code",
   "execution_count": null,
   "metadata": {
    "colab": {
     "base_uri": "https://localhost:8080/"
    },
    "id": "lhL42s6QrJVP",
    "outputId": "03b45b5d-2f9a-4aa4-bfcc-403421424af0"
   },
   "outputs": [
    {
     "name": "stdout",
     "output_type": "stream",
     "text": [
      "<class 'int'>\n"
     ]
    }
   ],
   "source": [
    "height = int(height)\n",
    "print(type(height))"
   ]
  },
  {
   "cell_type": "code",
   "execution_count": null,
   "metadata": {
    "colab": {
     "base_uri": "https://localhost:8080/"
    },
    "id": "7yurfkHgrN-k",
    "outputId": "02a35f05-f8e9-46b8-8452-71b02d65802b"
   },
   "outputs": [
    {
     "name": "stdout",
     "output_type": "stream",
     "text": [
      "<class 'str'>\n"
     ]
    }
   ],
   "source": [
    "print(type(name))"
   ]
  },
  {
   "cell_type": "code",
   "execution_count": null,
   "metadata": {
    "colab": {
     "base_uri": "https://localhost:8080/",
     "height": 141
    },
    "id": "a_vLnMrtrWaG",
    "outputId": "964da313-9dbb-4800-ca9b-2d7841048b03"
   },
   "outputs": [
    {
     "ename": "ValueError",
     "evalue": "invalid literal for int() with base 10: 'harsh'",
     "output_type": "error",
     "traceback": [
      "\u001b[0;31m---------------------------------------------------------------------------\u001b[0m",
      "\u001b[0;31mValueError\u001b[0m                                Traceback (most recent call last)",
      "\u001b[0;32m<ipython-input-40-864aac87bd98>\u001b[0m in \u001b[0;36m<cell line: 1>\u001b[0;34m()\u001b[0m\n\u001b[0;32m----> 1\u001b[0;31m \u001b[0mname\u001b[0m \u001b[0;34m=\u001b[0m \u001b[0mint\u001b[0m\u001b[0;34m(\u001b[0m\u001b[0mname\u001b[0m\u001b[0;34m)\u001b[0m\u001b[0;34m\u001b[0m\u001b[0;34m\u001b[0m\u001b[0m\n\u001b[0m",
      "\u001b[0;31mValueError\u001b[0m: invalid literal for int() with base 10: 'harsh'"
     ]
    }
   ],
   "source": [
    "name = int(name)"
   ]
  },
  {
   "cell_type": "code",
   "execution_count": null,
   "metadata": {
    "colab": {
     "base_uri": "https://localhost:8080/"
    },
    "id": "Hb9G8Dmerb7h",
    "outputId": "e98a1118-e25c-4972-a6b4-73d536707749"
   },
   "outputs": [
    {
     "name": "stdout",
     "output_type": "stream",
     "text": [
      "<class 'str'>\n"
     ]
    }
   ],
   "source": [
    "age = str(age)\n",
    "print(type(age))"
   ]
  },
  {
   "cell_type": "code",
   "execution_count": null,
   "metadata": {
    "colab": {
     "base_uri": "https://localhost:8080/"
    },
    "id": "isxlDd1NruUM",
    "outputId": "641fc772-f16b-4567-c972-dae7d382bf49"
   },
   "outputs": [
    {
     "name": "stdout",
     "output_type": "stream",
     "text": [
      "10 <class 'int'>\n",
      "hello <class 'str'>\n",
      "3.14 <class 'float'>\n"
     ]
    }
   ],
   "source": [
    "# Dynamic Typing\n",
    "\n",
    "var = 10 #int\n",
    "print(var, type(var))\n",
    "\n",
    "var = \"hello\"\n",
    "print(var, type(var))\n",
    "\n",
    "var = 3.14\n",
    "print(var, type(var))"
   ]
  },
  {
   "cell_type": "code",
   "execution_count": null,
   "metadata": {
    "colab": {
     "base_uri": "https://localhost:8080/"
    },
    "id": "nHrySQCwsHuE",
    "outputId": "29027b1f-e5b4-474f-a018-4218ec570ea4"
   },
   "outputs": [
    {
     "name": "stdout",
     "output_type": "stream",
     "text": [
      "What is the age 23\n",
      "Hi, your age is 23\n"
     ]
    }
   ],
   "source": [
    "# Input\n",
    "\n",
    "age = int(input(\"What is the age \"))\n",
    "print(\"Hi, your age is\", age)"
   ]
  },
  {
   "cell_type": "code",
   "execution_count": null,
   "metadata": {
    "colab": {
     "base_uri": "https://localhost:8080/"
    },
    "id": "HqxU5KTutYm5",
    "outputId": "9be43315-2516-4cb2-8577-f59809036951"
   },
   "outputs": [
    {
     "name": "stdout",
     "output_type": "stream",
     "text": [
      "What is your age 23\n",
      "What is your name Harsh\n",
      "What is your height6.2\n",
      "Hi Harsh your age is 23 your height is 6.2\n"
     ]
    }
   ],
   "source": [
    "age = int(input(\"What is your age \"))\n",
    "name = input(\"What is your name \")\n",
    "height = float(input(\"What is your height\"))\n",
    "\n",
    "print(\"Hi\", name, \"your age is\", age, \"your height is\", height)"
   ]
  },
  {
   "cell_type": "markdown",
   "metadata": {
    "id": "zKqrPcfVwNvi"
   },
   "source": [
    "# DataTypes"
   ]
  },
  {
   "cell_type": "code",
   "execution_count": null,
   "metadata": {
    "colab": {
     "base_uri": "https://localhost:8080/"
    },
    "id": "OekEyK4hv6fO",
    "outputId": "9cc97c4e-ffc1-4f59-d0f3-eb543a708f6d"
   },
   "outputs": [
    {
     "data": {
      "text/plain": [
       "int"
      ]
     },
     "execution_count": 51,
     "metadata": {},
     "output_type": "execute_result"
    }
   ],
   "source": [
    "## Integer Example\n",
    "age = 35\n",
    "type(age)"
   ]
  },
  {
   "cell_type": "code",
   "execution_count": null,
   "metadata": {
    "colab": {
     "base_uri": "https://localhost:8080/"
    },
    "id": "NqWSFlTaw4Bk",
    "outputId": "2bbd69b8-cc0d-4165-83ac-d04e710536cd"
   },
   "outputs": [
    {
     "name": "stdout",
     "output_type": "stream",
     "text": [
      "<class 'float'>\n"
     ]
    }
   ],
   "source": [
    "## Floating Point Datatypes\n",
    "height = 5.12\n",
    "print(type(height))"
   ]
  },
  {
   "cell_type": "code",
   "execution_count": null,
   "metadata": {
    "colab": {
     "base_uri": "https://localhost:8080/"
    },
    "id": "4zLYDyMDxLVL",
    "outputId": "1e4086c4-3b5d-4869-d009-b92f1ce814c0"
   },
   "outputs": [
    {
     "name": "stdout",
     "output_type": "stream",
     "text": [
      "<class 'str'>\n"
     ]
    }
   ],
   "source": [
    "## String DataTypes\n",
    "name = \"Harshvardhan\"\n",
    "print(type(name))"
   ]
  },
  {
   "cell_type": "code",
   "execution_count": null,
   "metadata": {
    "colab": {
     "base_uri": "https://localhost:8080/"
    },
    "id": "U155EHpExXxo",
    "outputId": "84e0d2e9-4f2f-4a5f-8b4e-9e3e156311bf"
   },
   "outputs": [
    {
     "name": "stdout",
     "output_type": "stream",
     "text": [
      "<class 'bool'>\n"
     ]
    }
   ],
   "source": [
    "## Boolean DataType\n",
    "a = True\n",
    "print(type(a))"
   ]
  },
  {
   "cell_type": "code",
   "execution_count": null,
   "metadata": {
    "colab": {
     "base_uri": "https://localhost:8080/",
     "height": 158
    },
    "id": "ytlBmVsRxnTl",
    "outputId": "310da941-4736-4ef7-dc79-f021891c07ad"
   },
   "outputs": [
    {
     "ename": "TypeError",
     "evalue": "can only concatenate str (not \"int\") to str",
     "output_type": "error",
     "traceback": [
      "\u001b[0;31m---------------------------------------------------------------------------\u001b[0m",
      "\u001b[0;31mTypeError\u001b[0m                                 Traceback (most recent call last)",
      "\u001b[0;32m<ipython-input-59-46078337c018>\u001b[0m in \u001b[0;36m<cell line: 2>\u001b[0;34m()\u001b[0m\n\u001b[1;32m      1\u001b[0m \u001b[0;31m## Common Error\u001b[0m\u001b[0;34m\u001b[0m\u001b[0;34m\u001b[0m\u001b[0m\n\u001b[0;32m----> 2\u001b[0;31m \u001b[0mresult\u001b[0m \u001b[0;34m=\u001b[0m \u001b[0;34m\"Hello\"\u001b[0m \u001b[0;34m+\u001b[0m \u001b[0;36m5\u001b[0m\u001b[0;34m\u001b[0m\u001b[0;34m\u001b[0m\u001b[0m\n\u001b[0m",
      "\u001b[0;31mTypeError\u001b[0m: can only concatenate str (not \"int\") to str"
     ]
    }
   ],
   "source": [
    "## Common Error\n",
    "result = \"Hello\" + 5"
   ]
  },
  {
   "cell_type": "code",
   "execution_count": null,
   "metadata": {
    "colab": {
     "base_uri": "https://localhost:8080/"
    },
    "id": "i_8EhV4Cx3Zy",
    "outputId": "7325eace-870a-4d4c-ab27-a7111c1ffe03"
   },
   "outputs": [
    {
     "name": "stdout",
     "output_type": "stream",
     "text": [
      "Hello5Hey23\n"
     ]
    }
   ],
   "source": [
    "result = \"Hello\" + \"5\" + \"Hey\" + \"23\"\n",
    "print(result)"
   ]
  },
  {
   "cell_type": "markdown",
   "metadata": {
    "id": "PCTKDrwSyXAf"
   },
   "source": [
    "# Operators"
   ]
  },
  {
   "cell_type": "markdown",
   "metadata": {
    "id": "a1OPGypoyeOm"
   },
   "source": [
    "## Arithmethic Operators"
   ]
  },
  {
   "cell_type": "code",
   "execution_count": null,
   "metadata": {
    "colab": {
     "base_uri": "https://localhost:8080/"
    },
    "id": "zJo_NWaNyGkd",
    "outputId": "125c9315-d0b4-4f4a-e043-9f05fcbd7e7f"
   },
   "outputs": [
    {
     "name": "stdout",
     "output_type": "stream",
     "text": [
      "15\n",
      "5\n",
      "50\n",
      "2.0\n",
      "2\n",
      "0\n",
      "100000\n"
     ]
    }
   ],
   "source": [
    "a = 10\n",
    "b = 5\n",
    "\n",
    "add = a + b # Addition\n",
    "sub = a - b # Substract\n",
    "mul = a * b # Multiply\n",
    "div = a / b # Divide\n",
    "floor_div = a // b # Floor Division\n",
    "modulus = a % b # Modulus Operator\n",
    "expo = a ** b # Exponential\n",
    "\n",
    "print(add)\n",
    "print(sub)\n",
    "print(mul)\n",
    "print(div)\n",
    "print(floor_div)\n",
    "print(modulus)\n",
    "print(expo)"
   ]
  },
  {
   "cell_type": "code",
   "execution_count": null,
   "metadata": {
    "colab": {
     "base_uri": "https://localhost:8080/"
    },
    "id": "mbownLqxzbcv",
    "outputId": "9b8f2a47-ca75-4c65-9163-bab8e027c7d3"
   },
   "outputs": [
    {
     "data": {
      "text/plain": [
       "5.25"
      ]
     },
     "execution_count": 1,
     "metadata": {},
     "output_type": "execute_result"
    }
   ],
   "source": [
    "21/4"
   ]
  },
  {
   "cell_type": "code",
   "execution_count": null,
   "metadata": {
    "colab": {
     "base_uri": "https://localhost:8080/"
    },
    "id": "fbdbX2AA0yxB",
    "outputId": "3ec99a64-5047-4604-c03a-7b8c9200319f"
   },
   "outputs": [
    {
     "data": {
      "text/plain": [
       "5"
      ]
     },
     "execution_count": 2,
     "metadata": {},
     "output_type": "execute_result"
    }
   ],
   "source": [
    "21//4"
   ]
  },
  {
   "cell_type": "code",
   "execution_count": null,
   "metadata": {
    "colab": {
     "base_uri": "https://localhost:8080/"
    },
    "id": "CGgmqJVB03Hs",
    "outputId": "e52b303e-7e14-4dca-c8bf-1fc0921e1f6c"
   },
   "outputs": [
    {
     "data": {
      "text/plain": [
       "4.666666666666667"
      ]
     },
     "execution_count": 68,
     "metadata": {},
     "output_type": "execute_result"
    }
   ],
   "source": [
    "42/9"
   ]
  },
  {
   "cell_type": "code",
   "execution_count": null,
   "metadata": {
    "colab": {
     "base_uri": "https://localhost:8080/"
    },
    "id": "LAYTwDsx08Tu",
    "outputId": "6533a7af-dc7c-40b4-ac4b-d607d37fc000"
   },
   "outputs": [
    {
     "data": {
      "text/plain": [
       "4"
      ]
     },
     "execution_count": 69,
     "metadata": {},
     "output_type": "execute_result"
    }
   ],
   "source": [
    "42//9"
   ]
  },
  {
   "cell_type": "code",
   "execution_count": null,
   "metadata": {
    "colab": {
     "base_uri": "https://localhost:8080/"
    },
    "id": "Jgd8Kv-90_sC",
    "outputId": "d8d7da9f-c47e-42c4-8f88-dbe722e6ba47"
   },
   "outputs": [
    {
     "data": {
      "text/plain": [
       "1"
      ]
     },
     "execution_count": 70,
     "metadata": {},
     "output_type": "execute_result"
    }
   ],
   "source": [
    "10 % 3"
   ]
  },
  {
   "cell_type": "code",
   "execution_count": null,
   "metadata": {
    "colab": {
     "base_uri": "https://localhost:8080/"
    },
    "id": "Qe2YptzD1RIA",
    "outputId": "f38bfdc1-cb2b-4b14-92fb-e0a6d36e188d"
   },
   "outputs": [
    {
     "data": {
      "text/plain": [
       "1"
      ]
     },
     "execution_count": 71,
     "metadata": {},
     "output_type": "execute_result"
    }
   ],
   "source": [
    "5 % 2"
   ]
  },
  {
   "cell_type": "markdown",
   "metadata": {
    "id": "qd7EEPci1ZLX"
   },
   "source": [
    "## Comparison Operators"
   ]
  },
  {
   "cell_type": "code",
   "execution_count": null,
   "metadata": {
    "colab": {
     "base_uri": "https://localhost:8080/"
    },
    "id": "Cui2kL8o1Tew",
    "outputId": "e3ae899c-84b2-4f72-d2d4-fc2e2d6b72af"
   },
   "outputs": [
    {
     "data": {
      "text/plain": [
       "True"
      ]
     },
     "execution_count": 76,
     "metadata": {},
     "output_type": "execute_result"
    }
   ],
   "source": [
    "## Equals to ==\n",
    "\n",
    "a = 10.00\n",
    "b = 10\n",
    "\n",
    "a == b"
   ]
  },
  {
   "cell_type": "code",
   "execution_count": null,
   "metadata": {
    "colab": {
     "base_uri": "https://localhost:8080/"
    },
    "id": "KjnA5BoY1qzk",
    "outputId": "8f70b18b-23c5-4bfe-f848-b6b5349f4e68"
   },
   "outputs": [
    {
     "data": {
      "text/plain": [
       "True"
      ]
     },
     "execution_count": 82,
     "metadata": {},
     "output_type": "execute_result"
    }
   ],
   "source": [
    "str1 = \"Harsh\"\n",
    "str2 = \"Harsh\"\n",
    "\n",
    "str1 == str2"
   ]
  },
  {
   "cell_type": "code",
   "execution_count": null,
   "metadata": {
    "colab": {
     "base_uri": "https://localhost:8080/"
    },
    "id": "zpmJiaAO2I7h",
    "outputId": "106486a6-5623-4495-e096-3f0c1511ebf7"
   },
   "outputs": [
    {
     "data": {
      "text/plain": [
       "False"
      ]
     },
     "execution_count": 83,
     "metadata": {},
     "output_type": "execute_result"
    }
   ],
   "source": [
    "## Not Equal to !=\n",
    "str1 != str2"
   ]
  },
  {
   "cell_type": "code",
   "execution_count": null,
   "metadata": {
    "colab": {
     "base_uri": "https://localhost:8080/"
    },
    "id": "QeFlUw3v2rIV",
    "outputId": "bcc9871c-d634-43aa-9ef0-9bba611b4142"
   },
   "outputs": [
    {
     "name": "stdout",
     "output_type": "stream",
     "text": [
      "True\n"
     ]
    }
   ],
   "source": [
    "## Greater than or equal to\n",
    "\n",
    "num1 = 66\n",
    "num2 = 45\n",
    "\n",
    "print(num1 >= num2)"
   ]
  },
  {
   "cell_type": "code",
   "execution_count": null,
   "metadata": {
    "colab": {
     "base_uri": "https://localhost:8080/"
    },
    "id": "uws60p5J28_y",
    "outputId": "3d0b1553-8d08-41ec-d322-d2a5ad4d290d"
   },
   "outputs": [
    {
     "name": "stdout",
     "output_type": "stream",
     "text": [
      "False\n"
     ]
    }
   ],
   "source": [
    "## Less than or equal to\n",
    "\n",
    "num1 = 86\n",
    "num2 = 77\n",
    "\n",
    "print(num1 <= num2)"
   ]
  },
  {
   "cell_type": "markdown",
   "metadata": {
    "id": "l7zBrBCS3X5V"
   },
   "source": [
    "## Logical Operator"
   ]
  },
  {
   "cell_type": "markdown",
   "metadata": {
    "id": "vjCohOHf2PwK"
   },
   "source": [
    "![Screenshot 2024-10-18 at 7.07.20 PM.png](data:image/png;base64,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)"
   ]
  },
  {
   "cell_type": "code",
   "execution_count": null,
   "metadata": {
    "colab": {
     "base_uri": "https://localhost:8080/"
    },
    "id": "48dMB4lU3PrX",
    "outputId": "3b13c00e-04ea-4fd2-96a7-b453715cd1e7"
   },
   "outputs": [
    {
     "name": "stdout",
     "output_type": "stream",
     "text": [
      "True\n"
     ]
    }
   ],
   "source": [
    "# And Operator\n",
    "\n",
    "X = True\n",
    "Y = True\n",
    "\n",
    "result = X and Y\n",
    "print(result)"
   ]
  },
  {
   "cell_type": "code",
   "execution_count": null,
   "metadata": {
    "colab": {
     "base_uri": "https://localhost:8080/"
    },
    "id": "uaLwm0xF35js",
    "outputId": "365f834a-2bab-45d1-c314-a4a2375664b1"
   },
   "outputs": [
    {
     "name": "stdout",
     "output_type": "stream",
     "text": [
      "False\n"
     ]
    }
   ],
   "source": [
    "X = False\n",
    "Y = True\n",
    "\n",
    "result = X and Y\n",
    "print(result)"
   ]
  },
  {
   "cell_type": "code",
   "execution_count": null,
   "metadata": {
    "colab": {
     "base_uri": "https://localhost:8080/"
    },
    "id": "f-O37U153-uT",
    "outputId": "ce6a7e79-81a7-48cb-87aa-ec757eb92593"
   },
   "outputs": [
    {
     "name": "stdout",
     "output_type": "stream",
     "text": [
      "True\n"
     ]
    }
   ],
   "source": [
    "# OR Operator\n",
    "\n",
    "X = True\n",
    "Y = True\n",
    "\n",
    "result = X or Y\n",
    "print(result)"
   ]
  },
  {
   "cell_type": "code",
   "execution_count": null,
   "metadata": {
    "colab": {
     "base_uri": "https://localhost:8080/"
    },
    "id": "TfkzBKDi4SOa",
    "outputId": "df75bd5e-e5b4-416d-8d7e-347a29e56eeb"
   },
   "outputs": [
    {
     "name": "stdout",
     "output_type": "stream",
     "text": [
      "True\n"
     ]
    }
   ],
   "source": [
    "X = False\n",
    "Y = True\n",
    "\n",
    "result = X or Y\n",
    "print(result)"
   ]
  },
  {
   "cell_type": "code",
   "execution_count": null,
   "metadata": {
    "colab": {
     "base_uri": "https://localhost:8080/"
    },
    "id": "5rKkFeil4Vzh",
    "outputId": "2f39d986-cb13-4301-ce5d-fe77b46c3770"
   },
   "outputs": [
    {
     "data": {
      "text/plain": [
       "True"
      ]
     },
     "execution_count": 95,
     "metadata": {},
     "output_type": "execute_result"
    }
   ],
   "source": [
    "# Not Operator\n",
    "\n",
    "X = False\n",
    "not X"
   ]
  },
  {
   "cell_type": "code",
   "execution_count": null,
   "metadata": {
    "colab": {
     "base_uri": "https://localhost:8080/"
    },
    "id": "fDWO92sc4f3u",
    "outputId": "faf37ce1-f8ae-4147-a27e-17f07e4a4880"
   },
   "outputs": [
    {
     "data": {
      "text/plain": [
       "False"
      ]
     },
     "execution_count": 96,
     "metadata": {},
     "output_type": "execute_result"
    }
   ],
   "source": [
    "X = True\n",
    "not X"
   ]
  },
  {
   "cell_type": "markdown",
   "metadata": {
    "id": "QK0mmIkGrg4e"
   },
   "source": [
    "# Conditional Statements"
   ]
  },
  {
   "cell_type": "code",
   "execution_count": null,
   "metadata": {
    "id": "AqQbLSht4jvq"
   },
   "outputs": [],
   "source": [
    "# if statement\n",
    "age = 20\n",
    "\n",
    "if age>=18:\n",
    "  print(\"You are allowed to vote in the election\")"
   ]
  },
  {
   "cell_type": "code",
   "execution_count": null,
   "metadata": {
    "colab": {
     "base_uri": "https://localhost:8080/"
    },
    "id": "L69VK82YvGGL",
    "outputId": "a68ce054-e274-45b9-fcdd-b27fb06c5fa5"
   },
   "outputs": [
    {
     "name": "stdout",
     "output_type": "stream",
     "text": [
      "Correct Indentation\n",
      "This is not Printed\n",
      "this will print\n",
      "Outside of if block\n"
     ]
    }
   ],
   "source": [
    "# Code example of indentation\n",
    "if True:\n",
    "  print('Correct Indentation')\n",
    "  if False:\n",
    "    print('This is not Printed')\n",
    "  print(\"this will print\")\n",
    "print(\"Outside of if block\")"
   ]
  },
  {
   "cell_type": "code",
   "execution_count": null,
   "metadata": {
    "colab": {
     "base_uri": "https://localhost:8080/"
    },
    "id": "C7En0paSwAFG",
    "outputId": "609192db-dff7-487d-d74f-2828afad70d4"
   },
   "outputs": [
    {
     "name": "stdout",
     "output_type": "stream",
     "text": [
      "What is your age ?67\n",
      "You are eligible for voting\n"
     ]
    }
   ],
   "source": [
    "# Else\n",
    "\n",
    "age = int(input(\"What is your age ?\"))\n",
    "\n",
    "if age>=18:\n",
    "  print(\"You are eligible for voting\")\n",
    "\n",
    "else:\n",
    "  print('You are a minor')"
   ]
  },
  {
   "cell_type": "code",
   "execution_count": null,
   "metadata": {
    "colab": {
     "base_uri": "https://localhost:8080/"
    },
    "id": "x4gHfmbIxawZ",
    "outputId": "2e5b6a1e-0838-4fb4-abe2-3c73c5a5a079"
   },
   "outputs": [
    {
     "name": "stdout",
     "output_type": "stream",
     "text": [
      "Enter the number: 41\n",
      "The number is odd\n"
     ]
    }
   ],
   "source": [
    "# Find if the number is even or odd\n",
    "\n",
    "num = int(input(\"Enter the number: \"))\n",
    "\n",
    "if num % 2 == 0:\n",
    "  print(\"The number is Even\")\n",
    "else:\n",
    "  print(\"The number is odd\")"
   ]
  },
  {
   "cell_type": "code",
   "execution_count": null,
   "metadata": {
    "colab": {
     "base_uri": "https://localhost:8080/"
    },
    "id": "rQIrw1NPzeBi",
    "outputId": "dce228e6-d8e5-4579-86d8-7b5271698bea"
   },
   "outputs": [
    {
     "name": "stdout",
     "output_type": "stream",
     "text": [
      "What is your age: 13\n",
      "You are a child\n"
     ]
    }
   ],
   "source": [
    "# elif\n",
    "# else if\n",
    "\n",
    "age = int(input(\"What is your age: \"))\n",
    "\n",
    "if age<=13:\n",
    "  print(\"You are a child\")\n",
    "elif age<15:\n",
    "  print(\"You are a mid teen\")\n",
    "elif age<18:\n",
    "  print(\"You are a teenager\")\n",
    "else:\n",
    "  print(\"You are an adult\")\n"
   ]
  },
  {
   "cell_type": "code",
   "execution_count": null,
   "metadata": {
    "colab": {
     "base_uri": "https://localhost:8080/"
    },
    "id": "KB9T7jfx0v9Y",
    "outputId": "3ea9687c-66dc-4770-d9d8-012c43f00ec2"
   },
   "outputs": [
    {
     "name": "stdout",
     "output_type": "stream",
     "text": [
      "Enter the number:66\n",
      "This number is positive\n",
      "This number is even\n"
     ]
    }
   ],
   "source": [
    "# Nested Conditional Statements\n",
    "\n",
    "num = int(input(\"Enter the number:\"))\n",
    "\n",
    "if num>0:\n",
    "  print(\"This number is positive\")\n",
    "\n",
    "  if num%2 == 0:\n",
    "    print(\"This number is even\")\n",
    "\n",
    "  else:\n",
    "    print(\"This Number is odd\")\n",
    "\n",
    "else:\n",
    "  print(\"The number is zero or negative\")"
   ]
  },
  {
   "cell_type": "code",
   "execution_count": null,
   "metadata": {
    "colab": {
     "base_uri": "https://localhost:8080/"
    },
    "id": "Z986x_YP2x9Z",
    "outputId": "63dd59f2-8290-482c-aca8-6bbc5d7d3f7b"
   },
   "outputs": [
    {
     "name": "stdout",
     "output_type": "stream",
     "text": [
      "Enter the first number: -4.9\n",
      "Enter the second number: 5\n",
      "Enter operations (+, -, *, /): *\n",
      "The Result is : -24.5\n"
     ]
    }
   ],
   "source": [
    "# Quest - Simple Calculator\n",
    "\n",
    "# Taking User Input\n",
    "num1 = float(input('Enter the first number: '))\n",
    "num2 = float(input(\"Enter the second number: \"))\n",
    "operation = input(\"Enter operations (+, -, *, /): \")\n",
    "\n",
    "# Perform the operations\n",
    "if operation == \"+\":\n",
    "  result = num1 + num2\n",
    "elif operation == \"-\":\n",
    "  result = num1 - num2\n",
    "elif operation == '*':\n",
    "  result = num1 * num2\n",
    "elif operation == \"/\":\n",
    "  if num2 != 0:\n",
    "    result = num1 / num2\n",
    "  else:\n",
    "    result = \"Error! Division by Zero\"\n",
    "else:\n",
    "  result = \"Invalid Operation\"\n",
    "\n",
    "print(\"The Result is :\", result)\n"
   ]
  },
  {
   "cell_type": "code",
   "execution_count": null,
   "metadata": {
    "colab": {
     "base_uri": "https://localhost:8080/"
    },
    "id": "5AuyWBoq7nlY",
    "outputId": "ee1a4cf4-14e2-412f-882e-cb9da12c3442"
   },
   "outputs": [
    {
     "name": "stdout",
     "output_type": "stream",
     "text": [
      "Enter Username: admin\n",
      "Enter password: j\n",
      "Incorrect Credentials\n"
     ]
    }
   ],
   "source": [
    "# Ques: User Login System\n",
    "\n",
    "# Predefine the username and the passward\n",
    "stored_username = 'admin'\n",
    "stored_password = 'password123'\n",
    "\n",
    "# Take user input\n",
    "username = input(\"Enter Username: \")\n",
    "password = input(\"Enter password: \")\n",
    "\n",
    "# Check login credentials\n",
    "if username == stored_username:\n",
    "  if password == stored_password:\n",
    "    print(\"Login Successful !!\")\n",
    "  else:\n",
    "    print(\"Incorrect Credentials\")\n",
    "else:\n",
    "  print(\"Username not found\")"
   ]
  },
  {
   "cell_type": "code",
   "execution_count": null,
   "metadata": {
    "colab": {
     "base_uri": "https://localhost:8080/"
    },
    "id": "DLRm8MNw_GqB",
    "outputId": "54f63c79-518f-4448-ceb7-94072f2ff33c"
   },
   "outputs": [
    {
     "name": "stdout",
     "output_type": "stream",
     "text": [
      "What is your name: Rahul\n",
      "Enter your marks: 78\n",
      "Hi Rahul your grade is B\n"
     ]
    }
   ],
   "source": [
    "# Report Card Generator\n",
    "\n",
    "name = str(input(\"What is your name: \"))\n",
    "marks = int(input(\"Enter your marks: \"))\n",
    "\n",
    "if 90 <= marks <= 100:\n",
    "  grade = \"A+\"\n",
    "elif 80 <= marks <= 89:\n",
    "  grade = \"A\"\n",
    "elif 70 <= marks <= 79:\n",
    "  grade = 'B'\n",
    "elif 60 <= marks <= 69:\n",
    "  grade = \"C\"\n",
    "elif 50 <= marks <= 59:\n",
    "  grade = \"D\"\n",
    "\n",
    "else:\n",
    "  grade = \"F\"\n",
    "\n",
    "print(\"Hi\", name, \"your grade is\", grade)"
   ]
  },
  {
   "cell_type": "code",
   "execution_count": null,
   "metadata": {
    "colab": {
     "base_uri": "https://localhost:8080/"
    },
    "id": "OHdaAL0_BtC3",
    "outputId": "929675d2-f447-4ef8-8ab6-88b7943b6755"
   },
   "outputs": [
    {
     "name": "stdout",
     "output_type": "stream",
     "text": [
      "Enter your age: 55\n",
      "Are you a student? (yes/no): no\n",
      "Ticket Price is : Rs 30\n"
     ]
    }
   ],
   "source": [
    "# Ticket Price Generator\n",
    "\n",
    "# Take user input\n",
    "age = int(input(\"Enter your age: \"))\n",
    "is_student = input(\"Are you a student? (yes/no): \").lower()\n",
    "\n",
    "# Determine Ticket Price\n",
    "if age < 5:\n",
    "  price = \"Free\"\n",
    "elif age <= 12:\n",
    "  price = \"Rs 10\"\n",
    "elif age <= 17:\n",
    "  if is_student == 'yes':\n",
    "    price = \"Rs 12\"\n",
    "  else:\n",
    "    price = \"Rs 15\"\n",
    "elif age <= 64:\n",
    "  if is_student == 'yes':\n",
    "    price = \"Rs 25\"\n",
    "  else:\n",
    "    price = \"Rs 30\"\n",
    "\n",
    "else:\n",
    "  price = \"Rs 50\"\n",
    "\n",
    "print(\"Ticket Price is :\", price)"
   ]
  },
  {
   "cell_type": "markdown",
   "metadata": {
    "id": "5jGOMXCCs2zE"
   },
   "source": [
    "## Q) Calculate an employee's bonus based on their performance"
   ]
  },
  {
   "cell_type": "markdown",
   "metadata": {
    "id": "9M25L5Umt-Nr"
   },
   "source": [
    "* 1) Years of Service\n",
    "* 2) performance rating (1.0 to 5.0)\n",
    "\n",
    ">= 4.5\n",
    "- 10years (20)\n",
    "- 5 years (15)\n",
    "\n",
    ">= 3.5\n",
    "- 10 years (10)\n",
    "\n",
    "Salary ->"
   ]
  },
  {
   "cell_type": "code",
   "execution_count": null,
   "metadata": {
    "colab": {
     "base_uri": "https://localhost:8080/"
    },
    "id": "88xQyZWsFRfn",
    "outputId": "cbcf57c9-e4c1-4b29-a349-2389ee59bb34"
   },
   "outputs": [
    {
     "name": "stdout",
     "output_type": "stream",
     "text": [
      "Enter years pf service: 10\n",
      "Enter performance ratings (1.0 to 5.0): 2.5\n",
      "Enter current salary: 10000\n",
      "Bonus Amount is Rs 0.0\n"
     ]
    }
   ],
   "source": [
    "# Employee Bonus Calculator\n",
    "\n",
    "# Taking User Input\n",
    "years_of_service = int(input('Enter years pf service: '))\n",
    "performance_rating = float(input(\"Enter performance ratings (1.0 to 5.0): \"))\n",
    "\n",
    "# Determine bonus percentage\n",
    "if performance_rating >= 4.5:\n",
    "  if years_of_service > 10:\n",
    "    bonus_percentage = 20\n",
    "  elif years_of_service > 5:\n",
    "    bonus_percentage = 15\n",
    "  else:\n",
    "    bonus_percentage = 10\n",
    "\n",
    "elif performance_rating >= 3.5:\n",
    "  if years_of_service > 10:\n",
    "    bonus_percentage = 15\n",
    "  elif years_of_service > 5:\n",
    "    bonus_percentage = 10\n",
    "  else:\n",
    "    bonus_percentage = 5\n",
    "\n",
    "else:\n",
    "  bonus_percentage = 0\n",
    "\n",
    "# Calculate bonus amount\n",
    "salary = float(input(\"Enter current salary: \"))\n",
    "bonus_amount = salary * bonus_percentage / 100\n",
    "\n",
    "print(\"Bonus Amount is Rs\", bonus_amount)"
   ]
  },
  {
   "cell_type": "markdown",
   "metadata": {
    "id": "gswkUXj30Jxp"
   },
   "source": [
    "#Loops"
   ]
  },
  {
   "cell_type": "code",
   "execution_count": null,
   "metadata": {
    "colab": {
     "base_uri": "https://localhost:8080/"
    },
    "id": "zwJM7D7UzTjp",
    "outputId": "6ae81a41-f3d1-424e-b5b1-42859a6e14c0"
   },
   "outputs": [
    {
     "name": "stdout",
     "output_type": "stream",
     "text": [
      "R\n",
      "a\n",
      "h\n",
      "u\n",
      "l\n",
      " \n",
      "N\n",
      "i\n",
      "g\n",
      "a\n",
      "m\n"
     ]
    }
   ],
   "source": [
    "# How to iterate over a string\n",
    "\n",
    "text = \"Rahul Nigam\"\n",
    "\n",
    "for i in text:\n",
    "  print(i)"
   ]
  },
  {
   "cell_type": "code",
   "execution_count": null,
   "metadata": {
    "colab": {
     "base_uri": "https://localhost:8080/"
    },
    "id": "HafCUNGe0hIa",
    "outputId": "2ef25c9d-ef24-4209-c7b6-2cba11b31524"
   },
   "outputs": [
    {
     "name": "stdout",
     "output_type": "stream",
     "text": [
      "Sum of first 10 natural number: 55\n"
     ]
    }
   ],
   "source": [
    "# Q1) Calculate the sum of first 10 natural numbers using a while and for loop\n",
    "\n",
    "n = 10\n",
    "sum = 0\n",
    "count = 1\n",
    "\n",
    "while count<=n:\n",
    "  sum = sum + count\n",
    "  count = count + 1\n",
    "\n",
    "print(\"Sum of first 10 natural number:\", sum)"
   ]
  },
  {
   "cell_type": "code",
   "execution_count": null,
   "metadata": {
    "colab": {
     "base_uri": "https://localhost:8080/"
    },
    "id": "QTGgd2L-07Ye",
    "outputId": "ede3a84c-225b-424b-edbd-de6f87499077"
   },
   "outputs": [
    {
     "name": "stdout",
     "output_type": "stream",
     "text": [
      "55\n"
     ]
    }
   ],
   "source": [
    "n = 10\n",
    "sum = 0\n",
    "\n",
    "for i in range(11):\n",
    "  sum = sum + i\n",
    "\n",
    "print(sum)"
   ]
  },
  {
   "cell_type": "code",
   "execution_count": null,
   "metadata": {
    "colab": {
     "base_uri": "https://localhost:8080/"
    },
    "id": "Xv8E4Une2yCn",
    "outputId": "255c616f-6076-40cf-e16c-9ca7a118817a"
   },
   "outputs": [
    {
     "name": "stdout",
     "output_type": "stream",
     "text": [
      "i: 0 and j: 0\n",
      "i: 0 and j: 1\n",
      "i: 1 and j: 0\n",
      "i: 1 and j: 1\n",
      "i: 2 and j: 0\n",
      "i: 2 and j: 1\n"
     ]
    }
   ],
   "source": [
    "# Nested Loops\n",
    "\n",
    "for i in range(3): # i will take 0, 1,2.\n",
    "  for j in range(2): # j will take values 0,1\n",
    "    print('i:',i,'and','j:',j)"
   ]
  },
  {
   "cell_type": "markdown",
   "metadata": {
    "id": "GiUWtjJA3-Z9"
   },
   "source": [
    "i = 2\n",
    "\n",
    "j = 1"
   ]
  },
  {
   "cell_type": "code",
   "execution_count": null,
   "metadata": {
    "colab": {
     "base_uri": "https://localhost:8080/"
    },
    "id": "10lCpRSj3NET",
    "outputId": "d421a2ea-1da3-4177-c53e-e571fa1cefbc"
   },
   "outputs": [
    {
     "name": "stdout",
     "output_type": "stream",
     "text": [
      "*****\n",
      "*****\n",
      "*****\n",
      "*****\n",
      "*****\n"
     ]
    }
   ],
   "source": [
    "# Pattern Printing Ques - 1 ( Basic Square Printing)\n",
    "\n",
    "row = 5\n",
    "\n",
    "for i in range(row):\n",
    "  for j in range(row):\n",
    "    print(\"*\", end='')\n",
    "  print()"
   ]
  },
  {
   "cell_type": "markdown",
   "metadata": {
    "id": "BLmQSJzT67V5"
   },
   "source": [
    "\n",
    "*   The outer loop controls the number of rows\n",
    "\n",
    "\n",
    "*   The inner loop controls the number of asterisks being printed\n",
    "\n",
    "\n",
    "\n"
   ]
  },
  {
   "cell_type": "code",
   "execution_count": null,
   "metadata": {
    "colab": {
     "base_uri": "https://localhost:8080/"
    },
    "id": "jXzhYgj_6ZTV",
    "outputId": "0c29efa4-e600-4394-fc2f-b6d176b7df0f"
   },
   "outputs": [
    {
     "name": "stdout",
     "output_type": "stream",
     "text": [
      "*\n",
      "**\n",
      "***\n",
      "****\n",
      "*****\n"
     ]
    }
   ],
   "source": [
    "# Q2) Triangle Pattern Printing\n",
    "\n",
    "row = 5\n",
    "\n",
    "for i in range(1, row+1):\n",
    "  for j in range(i):\n",
    "    print(\"*\", end = '')\n",
    "  print()"
   ]
  },
  {
   "cell_type": "code",
   "execution_count": null,
   "metadata": {
    "colab": {
     "base_uri": "https://localhost:8080/"
    },
    "id": "fllAOVgp70EE",
    "outputId": "719c22bb-67e4-4c07-acd8-6edbdf7c4d1e"
   },
   "outputs": [
    {
     "name": "stdout",
     "output_type": "stream",
     "text": [
      "*****\n",
      "****\n",
      "***\n",
      "**\n",
      "*\n"
     ]
    }
   ],
   "source": [
    "# Q3) Inverted Triangle Pattern\n",
    "\n",
    "row = 5\n",
    "for i in range(row, 0, -1):\n",
    "  for j in range(i):\n",
    "    print(\"*\", end=\"\")\n",
    "  print()"
   ]
  },
  {
   "cell_type": "markdown",
   "metadata": {
    "id": "4Bc_1uB4AFWS"
   },
   "source": [
    "# List"
   ]
  },
  {
   "cell_type": "markdown",
   "metadata": {
    "id": "84nj3xHXAJu5"
   },
   "source": [
    "\n",
    "\n",
    "*   List are ordered, mutable collections of items\n",
    "*   List can contain items of different data types\n",
    "\n"
   ]
  },
  {
   "cell_type": "code",
   "execution_count": null,
   "metadata": {
    "colab": {
     "base_uri": "https://localhost:8080/"
    },
    "id": "WAcT5nvf_8hE",
    "outputId": "ec0ae18d-4715-43a2-f287-0e9751f65bd3"
   },
   "outputs": [
    {
     "name": "stdout",
     "output_type": "stream",
     "text": [
      "<class 'list'>\n"
     ]
    }
   ],
   "source": [
    "lst = []\n",
    "print(type(lst))"
   ]
  },
  {
   "cell_type": "code",
   "execution_count": null,
   "metadata": {
    "colab": {
     "base_uri": "https://localhost:8080/"
    },
    "id": "yCqw7u7fAieg",
    "outputId": "e1bab06b-7a11-453f-b2ee-238780ae05fa"
   },
   "outputs": [
    {
     "name": "stdout",
     "output_type": "stream",
     "text": [
      "['Harsh', 'Rahul', 'Gaur', 1, 2, 3, 4, 5]\n"
     ]
    }
   ],
   "source": [
    "names = [\"Harsh\", \"Rahul\", \"Gaur\", 1,2,3,4,5]\n",
    "print(names)"
   ]
  },
  {
   "cell_type": "code",
   "execution_count": null,
   "metadata": {
    "colab": {
     "base_uri": "https://localhost:8080/"
    },
    "id": "n4O0rKA0AyJd",
    "outputId": "a7182727-4666-4465-8080-b332844d1298"
   },
   "outputs": [
    {
     "name": "stdout",
     "output_type": "stream",
     "text": [
      "[1, 'Hello', 3.14, True]\n"
     ]
    }
   ],
   "source": [
    "mixed_list = [1, \"Hello\", 3.14, True]\n",
    "print(mixed_list)"
   ]
  },
  {
   "cell_type": "code",
   "execution_count": null,
   "metadata": {
    "id": "m7axEOJvA9JA"
   },
   "outputs": [],
   "source": [
    "# Accessing List Elements\n",
    "\n",
    "fruits = ['apple', 'banana', 'cherry', 'kiwi', 'gauva']"
   ]
  },
  {
   "cell_type": "code",
   "execution_count": null,
   "metadata": {
    "colab": {
     "base_uri": "https://localhost:8080/"
    },
    "id": "u2ZNEMM0BOI6",
    "outputId": "77861baf-1bc9-4456-f21d-5e46e19e790e"
   },
   "outputs": [
    {
     "name": "stdout",
     "output_type": "stream",
     "text": [
      "banana\n",
      "apple\n",
      "gauva\n",
      "gauva\n"
     ]
    }
   ],
   "source": [
    "print(fruits[1])\n",
    "print(fruits[0])\n",
    "print(fruits[4])\n",
    "print(fruits[-1])"
   ]
  },
  {
   "cell_type": "code",
   "execution_count": null,
   "metadata": {
    "colab": {
     "base_uri": "https://localhost:8080/"
    },
    "id": "4B_KAnaIBXLy",
    "outputId": "1fbb2b3e-3ca8-4624-edeb-a3d2a12623c4"
   },
   "outputs": [
    {
     "data": {
      "text/plain": [
       "['apple', 'banana', 'cherry', 'kiwi', 'gauva']"
      ]
     },
     "execution_count": 6,
     "metadata": {},
     "output_type": "execute_result"
    }
   ],
   "source": [
    "# Modifying the list elements\n",
    "fruits"
   ]
  },
  {
   "cell_type": "code",
   "execution_count": null,
   "metadata": {
    "colab": {
     "base_uri": "https://localhost:8080/"
    },
    "id": "0hGNkr63B1B_",
    "outputId": "ed062635-dcf5-4a2d-8846-bac7bbd267fb"
   },
   "outputs": [
    {
     "name": "stdout",
     "output_type": "stream",
     "text": [
      "['apple', 'watermelon', 'cherry', 'kiwi', 'gauva']\n"
     ]
    }
   ],
   "source": [
    "fruits[1] = 'watermelon'\n",
    "print(fruits)"
   ]
  },
  {
   "cell_type": "code",
   "execution_count": null,
   "metadata": {
    "colab": {
     "base_uri": "https://localhost:8080/"
    },
    "id": "eWuj0bleB9Zi",
    "outputId": "a77d412b-e6f4-4608-cf4c-d2699be2f826"
   },
   "outputs": [
    {
     "name": "stdout",
     "output_type": "stream",
     "text": [
      "['cherry', 'kiwi']\n"
     ]
    }
   ],
   "source": [
    "print(fruits[2:4])"
   ]
  },
  {
   "cell_type": "markdown",
   "metadata": {
    "id": "YRNVFKysCyiS"
   },
   "source": [
    "1) 3 arguments\n",
    "- start, stop, step"
   ]
  },
  {
   "cell_type": "code",
   "execution_count": null,
   "metadata": {
    "id": "nxg2ufcLCSRI"
   },
   "outputs": [],
   "source": [
    "fruits[1:] ='watermelon'"
   ]
  },
  {
   "cell_type": "code",
   "execution_count": null,
   "metadata": {
    "colab": {
     "base_uri": "https://localhost:8080/"
    },
    "id": "SwB9coM6C9tY",
    "outputId": "e190ea52-da44-4069-c6e3-b33e12f1609b"
   },
   "outputs": [
    {
     "data": {
      "text/plain": [
       "['apple', 'w', 'a', 't', 'e', 'r', 'm', 'e', 'l', 'o', 'n']"
      ]
     },
     "execution_count": 43,
     "metadata": {},
     "output_type": "execute_result"
    }
   ],
   "source": [
    "fruits"
   ]
  },
  {
   "cell_type": "code",
   "execution_count": null,
   "metadata": {
    "id": "bcm2B0NFC-5E"
   },
   "outputs": [],
   "source": [
    "fruits = ['apple', 'banana', 'cherry', 'kiwi', 'gauva']"
   ]
  },
  {
   "cell_type": "code",
   "execution_count": null,
   "metadata": {
    "colab": {
     "base_uri": "https://localhost:8080/"
    },
    "id": "E5RwJI_RDNZs",
    "outputId": "3048ac12-637e-4389-db68-3340e1fb9bf5"
   },
   "outputs": [
    {
     "data": {
      "text/plain": [
       "['apple', 'banana', 'cherry', 'kiwi', 'gauva']"
      ]
     },
     "execution_count": 45,
     "metadata": {},
     "output_type": "execute_result"
    }
   ],
   "source": [
    "fruits"
   ]
  },
  {
   "cell_type": "code",
   "execution_count": null,
   "metadata": {
    "colab": {
     "base_uri": "https://localhost:8080/"
    },
    "id": "wSgAw7cADOoL",
    "outputId": "2c081a88-999d-4191-ab74-1b06995fb62c"
   },
   "outputs": [
    {
     "name": "stdout",
     "output_type": "stream",
     "text": [
      "['apple', 'banana', 'cherry', 'kiwi', 'gauva', 'orange']\n"
     ]
    }
   ],
   "source": [
    "# List Methods\n",
    "\n",
    "fruits.append('orange')  # Add an item to the end\n",
    "print(fruits)"
   ]
  },
  {
   "cell_type": "code",
   "execution_count": null,
   "metadata": {
    "colab": {
     "base_uri": "https://localhost:8080/"
    },
    "id": "yVGmna91Da3P",
    "outputId": "c59bbb36-fbd8-4cf2-cd88-4542478e752a"
   },
   "outputs": [
    {
     "name": "stdout",
     "output_type": "stream",
     "text": [
      "['apple', 'banana', 'watermelon', 'cherry', 'kiwi', 'gauva', 'orange']\n"
     ]
    }
   ],
   "source": [
    "fruits.insert(2, 'watermelon')\n",
    "print(fruits)"
   ]
  },
  {
   "cell_type": "code",
   "execution_count": null,
   "metadata": {
    "id": "Dd0O5f-qDy6G"
   },
   "outputs": [],
   "source": [
    "fruits.append('banana')"
   ]
  },
  {
   "cell_type": "code",
   "execution_count": null,
   "metadata": {
    "colab": {
     "base_uri": "https://localhost:8080/"
    },
    "id": "m0BhATe4EChx",
    "outputId": "f32e64c3-9a03-48f2-85f9-b24756963bf2"
   },
   "outputs": [
    {
     "name": "stdout",
     "output_type": "stream",
     "text": [
      "['apple', 'banana', 'watermelon', 'cherry', 'kiwi', 'gauva', 'orange', 'banana']\n"
     ]
    }
   ],
   "source": [
    "print(fruits)"
   ]
  },
  {
   "cell_type": "code",
   "execution_count": null,
   "metadata": {
    "colab": {
     "base_uri": "https://localhost:8080/"
    },
    "id": "W0NCU0u9EFGj",
    "outputId": "c756aaba-258c-4ef3-a1b1-ad65ff0cc710"
   },
   "outputs": [
    {
     "name": "stdout",
     "output_type": "stream",
     "text": [
      "['apple', 'watermelon', 'cherry', 'kiwi', 'gauva', 'orange', 'banana']\n"
     ]
    }
   ],
   "source": [
    "fruits.remove('banana') # Removes the firt occurance of an item\n",
    "print(fruits)"
   ]
  },
  {
   "cell_type": "code",
   "execution_count": null,
   "metadata": {
    "colab": {
     "base_uri": "https://localhost:8080/"
    },
    "id": "IJgdWrvuEOxE",
    "outputId": "3c15af01-07ea-4b22-d442-5aafbed9ded4"
   },
   "outputs": [
    {
     "name": "stdout",
     "output_type": "stream",
     "text": [
      "banana\n",
      "['apple', 'watermelon', 'cherry', 'kiwi', 'gauva', 'orange']\n"
     ]
    }
   ],
   "source": [
    "# Remove and return the last element\n",
    "\n",
    "popped_fruits = fruits.pop()\n",
    "print(popped_fruits)\n",
    "print(fruits)"
   ]
  },
  {
   "cell_type": "code",
   "execution_count": null,
   "metadata": {
    "colab": {
     "base_uri": "https://localhost:8080/"
    },
    "id": "3KA9V657Eqhp",
    "outputId": "6bad7260-8f0e-4db9-aee3-1ea021fe07fd"
   },
   "outputs": [
    {
     "name": "stdout",
     "output_type": "stream",
     "text": [
      "2\n"
     ]
    }
   ],
   "source": [
    "index = fruits.index('cherry')\n",
    "print(index)"
   ]
  },
  {
   "cell_type": "code",
   "execution_count": null,
   "metadata": {
    "colab": {
     "base_uri": "https://localhost:8080/"
    },
    "id": "mf28_b1DE2eF",
    "outputId": "40f8a5ce-3703-4134-dce8-0f1e8c0dc0f1"
   },
   "outputs": [
    {
     "name": "stdout",
     "output_type": "stream",
     "text": [
      "1\n"
     ]
    }
   ],
   "source": [
    "fruits.insert(2, 'banana')\n",
    "print(fruits.count('banana'))"
   ]
  },
  {
   "cell_type": "code",
   "execution_count": null,
   "metadata": {
    "colab": {
     "base_uri": "https://localhost:8080/"
    },
    "id": "P8YCTmIFFISx",
    "outputId": "35eeb106-c20b-428a-effa-2cb6909fff1e"
   },
   "outputs": [
    {
     "name": "stdout",
     "output_type": "stream",
     "text": [
      "['apple', 'watermelon', 'banana', 'cherry', 'kiwi', 'gauva', 'orange', 'banana']\n"
     ]
    }
   ],
   "source": [
    "fruits.append('banana')\n",
    "print(fruits)"
   ]
  },
  {
   "cell_type": "code",
   "execution_count": null,
   "metadata": {
    "colab": {
     "base_uri": "https://localhost:8080/"
    },
    "id": "ywoynlYnFOYh",
    "outputId": "128d4187-d71e-47c5-ee53-389e2e536e4d"
   },
   "outputs": [
    {
     "name": "stdout",
     "output_type": "stream",
     "text": [
      "2\n"
     ]
    }
   ],
   "source": [
    "print(fruits.count('banana'))"
   ]
  },
  {
   "cell_type": "code",
   "execution_count": null,
   "metadata": {
    "id": "gZrJ5kvoFSga"
   },
   "outputs": [],
   "source": [
    "# Sorting the list in ascending order\n",
    "\n",
    "fruits.sort()"
   ]
  },
  {
   "cell_type": "code",
   "execution_count": null,
   "metadata": {
    "colab": {
     "base_uri": "https://localhost:8080/"
    },
    "id": "Ejvk4eLlFbtm",
    "outputId": "1d75b238-368c-4c61-dbe0-e7f04cf4d9d8"
   },
   "outputs": [
    {
     "name": "stdout",
     "output_type": "stream",
     "text": [
      "['apple', 'banana', 'banana', 'cherry', 'gauva', 'kiwi', 'orange', 'watermelon']\n"
     ]
    }
   ],
   "source": [
    "print(fruits)"
   ]
  },
  {
   "cell_type": "code",
   "execution_count": null,
   "metadata": {
    "id": "PcHwwiZWFcjr"
   },
   "outputs": [],
   "source": [
    "# Reverse the list\n",
    "\n",
    "fruits.reverse()"
   ]
  },
  {
   "cell_type": "code",
   "execution_count": null,
   "metadata": {
    "colab": {
     "base_uri": "https://localhost:8080/"
    },
    "id": "soIH0wZ8FoOw",
    "outputId": "d093e66d-0650-42d1-b871-65f931e894cb"
   },
   "outputs": [
    {
     "name": "stdout",
     "output_type": "stream",
     "text": [
      "['watermelon', 'orange', 'kiwi', 'gauva', 'cherry', 'banana', 'banana', 'apple']\n"
     ]
    }
   ],
   "source": [
    "print(fruits)"
   ]
  },
  {
   "cell_type": "code",
   "execution_count": null,
   "metadata": {
    "colab": {
     "base_uri": "https://localhost:8080/"
    },
    "id": "AAW4_ZrwFqSB",
    "outputId": "a9b298e9-8b99-4ba4-9794-c7b9a2f7c29c"
   },
   "outputs": [
    {
     "name": "stdout",
     "output_type": "stream",
     "text": [
      "[]\n"
     ]
    }
   ],
   "source": [
    "# Remove all items from the list\n",
    "\n",
    "fruits.clear()\n",
    "print(fruits)"
   ]
  },
  {
   "cell_type": "code",
   "execution_count": null,
   "metadata": {
    "id": "5zNODYDZF0lQ"
   },
   "outputs": [],
   "source": [
    "fruits = ['apple', 'banana', 'cherry', 'kiwi', 'gauva']"
   ]
  },
  {
   "cell_type": "code",
   "execution_count": null,
   "metadata": {
    "colab": {
     "base_uri": "https://localhost:8080/"
    },
    "id": "5hTRR5Mrr6t8",
    "outputId": "25c21649-ff63-497d-c5e7-c0cbd1c483f1"
   },
   "outputs": [
    {
     "name": "stdout",
     "output_type": "stream",
     "text": [
      "['gauva', 'kiwi', 'cherry', 'banana', 'apple']\n"
     ]
    }
   ],
   "source": [
    "# Slicing List\n",
    "fruits = ['apple', 'banana', 'cherry', 'kiwi', 'gauva']\n",
    "\n",
    "# print(fruits[1:4])\n",
    "# print(fruits[:3])\n",
    "# print(fruits[:])\n",
    "# print(fruits[::2])\n",
    "print(fruits[::-1])"
   ]
  },
  {
   "cell_type": "markdown",
   "metadata": {
    "id": "wVoV6_CFsQJl"
   },
   "source": [
    "3 arguments\n",
    "- start\n",
    "- stop\n",
    "- step"
   ]
  },
  {
   "cell_type": "code",
   "execution_count": null,
   "metadata": {
    "colab": {
     "base_uri": "https://localhost:8080/"
    },
    "id": "DAYFlx-vs8Hp",
    "outputId": "cc374c97-77dd-4640-f912-75638df23f83"
   },
   "outputs": [
    {
     "name": "stdout",
     "output_type": "stream",
     "text": [
      "apple\n",
      "banana\n",
      "cherry\n",
      "kiwi\n",
      "gauva\n"
     ]
    }
   ],
   "source": [
    "# Iteration over list\n",
    "\n",
    "for i in fruits:\n",
    "  print(i)"
   ]
  },
  {
   "cell_type": "code",
   "execution_count": null,
   "metadata": {
    "colab": {
     "base_uri": "https://localhost:8080/"
    },
    "id": "M8Ige1OMtgXB",
    "outputId": "8c1a9fba-b48b-491f-8e79-879a07235eea"
   },
   "outputs": [
    {
     "name": "stdout",
     "output_type": "stream",
     "text": [
      "0 apple\n",
      "1 banana\n",
      "2 cherry\n",
      "3 kiwi\n",
      "4 gauva\n"
     ]
    }
   ],
   "source": [
    "# Iteration with index\n",
    "\n",
    "for index,i in enumerate(fruits):\n",
    "  print(index, i)"
   ]
  },
  {
   "cell_type": "code",
   "execution_count": null,
   "metadata": {
    "id": "eVu86Hyut5M7"
   },
   "outputs": [],
   "source": [
    "# List Comprehension\n",
    "\n",
    "lst = []\n",
    "for x in range(11):\n",
    "  lst.append(x**2)"
   ]
  },
  {
   "cell_type": "code",
   "execution_count": null,
   "metadata": {
    "colab": {
     "base_uri": "https://localhost:8080/"
    },
    "id": "bocxt4-RudYd",
    "outputId": "21dedd5d-3560-4deb-c9ca-a796ed0c83a1"
   },
   "outputs": [
    {
     "data": {
      "text/plain": [
       "[0, 1, 4, 9, 16, 25, 36, 49, 64, 81, 100]"
      ]
     },
     "execution_count": 23,
     "metadata": {},
     "output_type": "execute_result"
    }
   ],
   "source": [
    "lst"
   ]
  },
  {
   "cell_type": "code",
   "execution_count": null,
   "metadata": {
    "colab": {
     "base_uri": "https://localhost:8080/"
    },
    "id": "KFiBqFbJueV_",
    "outputId": "fc389929-a0d0-4037-a7e6-3d9aa58dd1c6"
   },
   "outputs": [
    {
     "data": {
      "text/plain": [
       "[0, 1, 4, 9, 16, 25, 36, 49, 64, 81, 100]"
      ]
     },
     "execution_count": 24,
     "metadata": {},
     "output_type": "execute_result"
    }
   ],
   "source": [
    "[x**2 for x in range(11)]"
   ]
  },
  {
   "cell_type": "markdown",
   "metadata": {
    "id": "yd5XEgrHuu9g"
   },
   "source": [
    "List Comprehension\n",
    "- Basic Syntax [expression for item in iterable]\n",
    "- With Conditional Logic [expression for item in iterable if condition]\n",
    "- Nested List Comprehension [expression for item1 in iterable1 for item2 in iterable2 ]"
   ]
  },
  {
   "cell_type": "code",
   "execution_count": null,
   "metadata": {
    "colab": {
     "base_uri": "https://localhost:8080/"
    },
    "id": "jTBjUKKQusBW",
    "outputId": "ee6cf9b4-d7ba-41c0-f3b1-1c6aa7352e37"
   },
   "outputs": [
    {
     "name": "stdout",
     "output_type": "stream",
     "text": [
      "[0, 1, 4, 9, 16, 25, 36, 49, 64, 81, 100]\n"
     ]
    }
   ],
   "source": [
    "# Basic Syntax\n",
    "\n",
    "square = [num**2 for num in range(11)]\n",
    "print(square)"
   ]
  },
  {
   "cell_type": "code",
   "execution_count": null,
   "metadata": {
    "id": "0wrrP1DrvoRh"
   },
   "outputs": [],
   "source": [
    "# List Comprehension with Conditions\n",
    "\n",
    "lst = []\n",
    "for i in range(11):\n",
    "  if i%2==0:\n",
    "    lst.append(i)"
   ]
  },
  {
   "cell_type": "code",
   "execution_count": null,
   "metadata": {
    "colab": {
     "base_uri": "https://localhost:8080/"
    },
    "id": "S4FEf34tv8wH",
    "outputId": "70557846-0dc4-4e36-9699-07e1bc38a1cf"
   },
   "outputs": [
    {
     "data": {
      "text/plain": [
       "[0, 2, 4, 6, 8, 10]"
      ]
     },
     "execution_count": 27,
     "metadata": {},
     "output_type": "execute_result"
    }
   ],
   "source": [
    "lst"
   ]
  },
  {
   "cell_type": "code",
   "execution_count": null,
   "metadata": {
    "id": "T_3xgnKsv9-M"
   },
   "outputs": [],
   "source": [
    "even_numbers = [num for num in range(11) if num%2==0]"
   ]
  },
  {
   "cell_type": "code",
   "execution_count": null,
   "metadata": {
    "colab": {
     "base_uri": "https://localhost:8080/"
    },
    "id": "etUJZYXzwSgl",
    "outputId": "3b3ab138-56f3-492b-8849-ab1d8d1f9234"
   },
   "outputs": [
    {
     "data": {
      "text/plain": [
       "[0, 2, 4, 6, 8, 10]"
      ]
     },
     "execution_count": 31,
     "metadata": {},
     "output_type": "execute_result"
    }
   ],
   "source": [
    "even_numbers"
   ]
  },
  {
   "cell_type": "code",
   "execution_count": null,
   "metadata": {
    "colab": {
     "base_uri": "https://localhost:8080/"
    },
    "id": "n77STr4NwT6s",
    "outputId": "a63e1d6a-eae8-414b-cd2c-bc7d97e3f7e3"
   },
   "outputs": [
    {
     "name": "stdout",
     "output_type": "stream",
     "text": [
      "[[1, 'a'], [1, 'b'], [1, 'c'], [1, 'd'], [2, 'a'], [2, 'b'], [2, 'c'], [2, 'd'], [3, 'a'], [3, 'b'], [3, 'c'], [3, 'd'], [4, 'a'], [4, 'b'], [4, 'c'], [4, 'd']]\n"
     ]
    }
   ],
   "source": [
    "# Nested List Comprehension\n",
    "\n",
    "lst1 = [1,2,3,4]\n",
    "lst2 = ['a','b','c','d']\n",
    "\n",
    "pair = [[i,j] for i in lst1 for j in lst2]\n",
    "\n",
    "print(pair)"
   ]
  },
  {
   "cell_type": "code",
   "execution_count": null,
   "metadata": {
    "colab": {
     "base_uri": "https://localhost:8080/"
    },
    "id": "nrlYfTD4yMlV",
    "outputId": "64647085-520e-421d-8819-fe536cd00c62"
   },
   "outputs": [
    {
     "name": "stdout",
     "output_type": "stream",
     "text": [
      "[5, 5, 6, 4, 13]\n"
     ]
    }
   ],
   "source": [
    "words = ['hello', 'world', 'python', 'list','comprehension']\n",
    "lengths = [len(i) for i in words]\n",
    "print(lengths)"
   ]
  },
  {
   "cell_type": "markdown",
   "metadata": {
    "id": "wXvj0Xo7zNjC"
   },
   "source": [
    "# Real World Examples using List"
   ]
  },
  {
   "cell_type": "code",
   "execution_count": null,
   "metadata": {
    "colab": {
     "base_uri": "https://localhost:8080/"
    },
    "id": "DtkVmbM-y4Ez",
    "outputId": "01e332b8-1b97-4c7a-d59d-30cd789f5530"
   },
   "outputs": [
    {
     "name": "stdout",
     "output_type": "stream",
     "text": [
      "Don't Forget to pay the utility bills\n",
      "Buy Grocery\n",
      "Pay Bills\n",
      "Go to Gym\n",
      "Schedule a meeting\n",
      "Go for a run\n"
     ]
    }
   ],
   "source": [
    "# Example 1: To Do list\n",
    "\n",
    "to_do_list = ['Buy Grocery', 'Clean the house', \"Pay Bills\", \"Go to Gym\"]\n",
    "\n",
    "# Add the task\n",
    "to_do_list.append(\"Schedule a meeting\")\n",
    "to_do_list.append(\"Go for a run\")\n",
    "\n",
    "# Removing a completed task\n",
    "to_do_list.remove('Clean the house')\n",
    "\n",
    "# Checking if task is in list\n",
    "if \"Pay Bills\" in to_do_list:\n",
    "  print(\"Don't Forget to pay the utility bills\")\n",
    "\n",
    "# Printing all the elements\n",
    "for i in to_do_list:\n",
    "  print(i)"
   ]
  },
  {
   "cell_type": "code",
   "execution_count": null,
   "metadata": {
    "colab": {
     "base_uri": "https://localhost:8080/"
    },
    "id": "usoM0bUr27Xc",
    "outputId": "a02472ed-2261-467f-c9ba-558264a378cc"
   },
   "outputs": [
    {
     "name": "stdout",
     "output_type": "stream",
     "text": [
      "The Average Grade of the class is 88.0\n",
      "Highest grade is 95\n",
      "Lowest grade is 78\n"
     ]
    }
   ],
   "source": [
    "# Example 2 (Organizing Student Grades)\n",
    "\n",
    "# Adding some grades\n",
    "grades = [85, 92, 78, 90, 88]\n",
    "\n",
    "# Add a new grade\n",
    "grades.append(95)\n",
    "\n",
    "# Calculate the average grade\n",
    "average_grade = sum(grades) / len(grades)\n",
    "print(\"The Average Grade of the class is\", average_grade)\n",
    "\n",
    "# Finding the highest and lowest\n",
    "highest_grade = max(grades)\n",
    "lowest_grade = min(grades)\n",
    "print(\"Highest grade is\", highest_grade)\n",
    "print(\"Lowest grade is\", lowest_grade)"
   ]
  },
  {
   "cell_type": "markdown",
   "metadata": {
    "id": "u6Bi0lSa58LH"
   },
   "source": [
    "# Tuple"
   ]
  },
  {
   "cell_type": "markdown",
   "metadata": {
    "id": "eqAwNxjO6Hr9"
   },
   "source": [
    "Tuples are ordered collections of items that are immutable. They are similar to lists, but their immutability makes them different."
   ]
  },
  {
   "cell_type": "code",
   "execution_count": null,
   "metadata": {
    "colab": {
     "base_uri": "https://localhost:8080/"
    },
    "id": "yNJBTveD5qcr",
    "outputId": "d87a7d36-fa47-4d04-f07b-5acca6082933"
   },
   "outputs": [
    {
     "name": "stdout",
     "output_type": "stream",
     "text": [
      "()\n",
      "<class 'tuple'>\n"
     ]
    }
   ],
   "source": [
    "# Creating a tuple\n",
    "empty_tuple = ()\n",
    "print(empty_tuple)\n",
    "print(type(empty_tuple))"
   ]
  },
  {
   "cell_type": "code",
   "execution_count": null,
   "metadata": {
    "colab": {
     "base_uri": "https://localhost:8080/"
    },
    "id": "8LZYAWIL6YCH",
    "outputId": "4196ae9d-90b6-479a-8e8e-2ea8fc7d0087"
   },
   "outputs": [
    {
     "name": "stdout",
     "output_type": "stream",
     "text": [
      "<class 'list'>\n"
     ]
    }
   ],
   "source": [
    "lst = list()\n",
    "print(type(lst))"
   ]
  },
  {
   "cell_type": "code",
   "execution_count": null,
   "metadata": {
    "colab": {
     "base_uri": "https://localhost:8080/"
    },
    "id": "vSyT_rRe6mIl",
    "outputId": "b1e47d78-832b-454f-ad72-f3b813a98506"
   },
   "outputs": [
    {
     "name": "stdout",
     "output_type": "stream",
     "text": [
      "<class 'tuple'>\n"
     ]
    }
   ],
   "source": [
    "tpl = tuple()\n",
    "print(type(tpl))"
   ]
  },
  {
   "cell_type": "code",
   "execution_count": null,
   "metadata": {
    "colab": {
     "base_uri": "https://localhost:8080/"
    },
    "id": "uHrTVHyI6tKR",
    "outputId": "6a9b11df-666c-410a-a29f-18952f01fbb1"
   },
   "outputs": [
    {
     "data": {
      "text/plain": [
       "[1, 2, 3, 4, 5, 6]"
      ]
     },
     "execution_count": 43,
     "metadata": {},
     "output_type": "execute_result"
    }
   ],
   "source": [
    "list((1,2,3,4,5,6))"
   ]
  },
  {
   "cell_type": "code",
   "execution_count": null,
   "metadata": {
    "colab": {
     "base_uri": "https://localhost:8080/"
    },
    "id": "nMH6Eh_c62WV",
    "outputId": "e547b594-6894-4e0e-ac5a-a59d6618fcd7"
   },
   "outputs": [
    {
     "data": {
      "text/plain": [
       "(1, 2, 3, 4, 5, 6)"
      ]
     },
     "execution_count": 44,
     "metadata": {},
     "output_type": "execute_result"
    }
   ],
   "source": [
    "tuple((1,2,3,4,5,6))"
   ]
  },
  {
   "cell_type": "code",
   "execution_count": null,
   "metadata": {
    "colab": {
     "base_uri": "https://localhost:8080/"
    },
    "id": "wOGNUKtT69fL",
    "outputId": "d71469ef-dc19-42e8-bbac-2bf5d1fb2bb7"
   },
   "outputs": [
    {
     "name": "stdout",
     "output_type": "stream",
     "text": [
      "(1, 'Hello World', 3.14, True)\n",
      "<class 'tuple'>\n"
     ]
    }
   ],
   "source": [
    "mixed_tuple = (1, \"Hello World\", 3.14, True)\n",
    "print(mixed_tuple)\n",
    "print(type(mixed_tuple))"
   ]
  },
  {
   "cell_type": "code",
   "execution_count": null,
   "metadata": {
    "colab": {
     "base_uri": "https://localhost:8080/"
    },
    "id": "KBTUYxBZ7IAr",
    "outputId": "19d3d49e-7b13-4ac8-e6da-0a68a64b43b9"
   },
   "outputs": [
    {
     "data": {
      "text/plain": [
       "(1, 2, 3, 4, 5, 6)"
      ]
     },
     "execution_count": 49,
     "metadata": {},
     "output_type": "execute_result"
    }
   ],
   "source": [
    "# Accessing Tuple Elements\n",
    "numbers = tuple((1,2,3,4,5,6))\n",
    "numbers"
   ]
  },
  {
   "cell_type": "code",
   "execution_count": null,
   "metadata": {
    "colab": {
     "base_uri": "https://localhost:8080/"
    },
    "id": "lOxlBhSM7nX4",
    "outputId": "0fe0241b-76d0-450a-9ee0-e31cc43a2e2e"
   },
   "outputs": [
    {
     "name": "stdout",
     "output_type": "stream",
     "text": [
      "3\n",
      "6\n"
     ]
    }
   ],
   "source": [
    "print(numbers[2])\n",
    "print(numbers[-1])"
   ]
  },
  {
   "cell_type": "code",
   "execution_count": null,
   "metadata": {
    "colab": {
     "base_uri": "https://localhost:8080/"
    },
    "id": "Qadb51FQ7uMK",
    "outputId": "f2d77982-c826-4dd3-f6ff-4c809ad75e89"
   },
   "outputs": [
    {
     "name": "stdout",
     "output_type": "stream",
     "text": [
      "(2, 3, 4)\n"
     ]
    }
   ],
   "source": [
    "print(numbers[1:4])"
   ]
  },
  {
   "cell_type": "code",
   "execution_count": null,
   "metadata": {
    "colab": {
     "base_uri": "https://localhost:8080/"
    },
    "id": "4rq9GUg-74X0",
    "outputId": "397d9e89-dbe9-4b35-b3bc-f71f5639e1a5"
   },
   "outputs": [
    {
     "name": "stdout",
     "output_type": "stream",
     "text": [
      "(6, 5, 4, 3, 2, 1)\n"
     ]
    }
   ],
   "source": [
    "print(numbers[::-1])"
   ]
  },
  {
   "cell_type": "code",
   "execution_count": null,
   "metadata": {
    "colab": {
     "base_uri": "https://localhost:8080/"
    },
    "id": "ak5lY_r28AWh",
    "outputId": "33d60f65-8658-4213-859b-5a14b2706700"
   },
   "outputs": [
    {
     "name": "stdout",
     "output_type": "stream",
     "text": [
      "(1, 2, 3, 4, 5, 6, 1, 'Hello World', 3.14, True)\n"
     ]
    }
   ],
   "source": [
    "# Tuple Operations\n",
    "\n",
    "concatenate = numbers + mixed_tuple\n",
    "print(concatenate)"
   ]
  },
  {
   "cell_type": "code",
   "execution_count": null,
   "metadata": {
    "colab": {
     "base_uri": "https://localhost:8080/"
    },
    "id": "Dm6JtsBj8VLn",
    "outputId": "de67b8f9-9267-4dd8-ea79-15f5f433bedf"
   },
   "outputs": [
    {
     "data": {
      "text/plain": [
       "(1,\n",
       " 'Hello World',\n",
       " 3.14,\n",
       " True,\n",
       " 1,\n",
       " 'Hello World',\n",
       " 3.14,\n",
       " True,\n",
       " 1,\n",
       " 'Hello World',\n",
       " 3.14,\n",
       " True,\n",
       " 1,\n",
       " 'Hello World',\n",
       " 3.14,\n",
       " True,\n",
       " 1,\n",
       " 'Hello World',\n",
       " 3.14,\n",
       " True)"
      ]
     },
     "execution_count": 57,
     "metadata": {},
     "output_type": "execute_result"
    }
   ],
   "source": [
    "mixed_tuple * 5"
   ]
  },
  {
   "cell_type": "code",
   "execution_count": null,
   "metadata": {
    "colab": {
     "base_uri": "https://localhost:8080/"
    },
    "id": "79eVNx-a8tYE",
    "outputId": "6c5371c8-2d11-4fdc-8468-9f5f6ce38080"
   },
   "outputs": [
    {
     "data": {
      "text/plain": [
       "(1, 2, 3, 4, 5, 6, 1, 2, 3, 4, 5, 6, 1, 2, 3, 4, 5, 6)"
      ]
     },
     "execution_count": 58,
     "metadata": {},
     "output_type": "execute_result"
    }
   ],
   "source": [
    "numbers * 3"
   ]
  },
  {
   "cell_type": "code",
   "execution_count": null,
   "metadata": {
    "colab": {
     "base_uri": "https://localhost:8080/"
    },
    "id": "TOLBG8US85CF",
    "outputId": "7a90c99f-c6f3-4ac7-cd9d-979f82d3c0d3"
   },
   "outputs": [
    {
     "name": "stdout",
     "output_type": "stream",
     "text": [
      "[1, 2, 3, 4, 5]\n",
      "[1, 'Harsh', 3, 4, 5]\n"
     ]
    }
   ],
   "source": [
    "lst = [1,2,3,4,5]\n",
    "print(lst)\n",
    "\n",
    "lst[1] = 'Harsh'\n",
    "print(lst)"
   ]
  },
  {
   "cell_type": "code",
   "execution_count": null,
   "metadata": {
    "colab": {
     "base_uri": "https://localhost:8080/",
     "height": 211
    },
    "id": "4atokTnQ9DEb",
    "outputId": "edbd3ef7-0ef5-40e9-e73a-d79f16c94b18"
   },
   "outputs": [
    {
     "name": "stdout",
     "output_type": "stream",
     "text": [
      "(1, 2, 3, 4, 5)\n"
     ]
    },
    {
     "ename": "TypeError",
     "evalue": "'tuple' object does not support item assignment",
     "output_type": "error",
     "traceback": [
      "\u001b[0;31m---------------------------------------------------------------------------\u001b[0m",
      "\u001b[0;31mTypeError\u001b[0m                                 Traceback (most recent call last)",
      "\u001b[0;32m<ipython-input-63-57338dcffbae>\u001b[0m in \u001b[0;36m<cell line: 7>\u001b[0;34m()\u001b[0m\n\u001b[1;32m      5\u001b[0m \u001b[0mprint\u001b[0m\u001b[0;34m(\u001b[0m\u001b[0mtpl\u001b[0m\u001b[0;34m)\u001b[0m\u001b[0;34m\u001b[0m\u001b[0;34m\u001b[0m\u001b[0m\n\u001b[1;32m      6\u001b[0m \u001b[0;34m\u001b[0m\u001b[0m\n\u001b[0;32m----> 7\u001b[0;31m \u001b[0mtpl\u001b[0m\u001b[0;34m[\u001b[0m\u001b[0;36m1\u001b[0m\u001b[0;34m]\u001b[0m \u001b[0;34m=\u001b[0m \u001b[0;34m'Harsh'\u001b[0m\u001b[0;34m\u001b[0m\u001b[0;34m\u001b[0m\u001b[0m\n\u001b[0m\u001b[1;32m      8\u001b[0m \u001b[0mprint\u001b[0m\u001b[0;34m(\u001b[0m\u001b[0mtpl\u001b[0m\u001b[0;34m)\u001b[0m\u001b[0;34m\u001b[0m\u001b[0;34m\u001b[0m\u001b[0m\n",
      "\u001b[0;31mTypeError\u001b[0m: 'tuple' object does not support item assignment"
     ]
    }
   ],
   "source": [
    "# Immutable Nature of Tuple\n",
    "# Tuples are immutable, meaning their elements cannot be changed once assigned\n",
    "\n",
    "tpl = (1,2,3,4,5)\n",
    "print(tpl)\n",
    "\n",
    "tpl[1] = 'Harsh'\n",
    "print(tpl)"
   ]
  },
  {
   "cell_type": "code",
   "execution_count": null,
   "metadata": {
    "colab": {
     "base_uri": "https://localhost:8080/"
    },
    "id": "V3YNjTrK-C1P",
    "outputId": "fc4879ff-96f7-42a9-9714-558cb08f487d"
   },
   "outputs": [
    {
     "data": {
      "text/plain": [
       "(1, 2, 3, 4, 5, 6)"
      ]
     },
     "execution_count": 64,
     "metadata": {},
     "output_type": "execute_result"
    }
   ],
   "source": [
    "numbers"
   ]
  },
  {
   "cell_type": "code",
   "execution_count": null,
   "metadata": {
    "colab": {
     "base_uri": "https://localhost:8080/"
    },
    "id": "8McFFdMX9PKq",
    "outputId": "3b041e4b-a547-44a2-f53e-c68a17e1e405"
   },
   "outputs": [
    {
     "name": "stdout",
     "output_type": "stream",
     "text": [
      "1\n"
     ]
    }
   ],
   "source": [
    "# Tuple Methods\n",
    "# Count\n",
    "\n",
    "print(numbers.count(1))"
   ]
  },
  {
   "cell_type": "code",
   "execution_count": null,
   "metadata": {
    "colab": {
     "base_uri": "https://localhost:8080/"
    },
    "id": "cJAQLLes-OFg",
    "outputId": "0e10d1a2-3d62-48d9-d44b-6c5e7d3ff4cf"
   },
   "outputs": [
    {
     "name": "stdout",
     "output_type": "stream",
     "text": [
      "2\n"
     ]
    }
   ],
   "source": [
    "# Index\n",
    "print(numbers.index(3))"
   ]
  },
  {
   "cell_type": "code",
   "execution_count": null,
   "metadata": {
    "colab": {
     "base_uri": "https://localhost:8080/"
    },
    "id": "v-oTzzOP-VdX",
    "outputId": "a96ef1cc-2206-4ae8-f328-124ca7e3cd05"
   },
   "outputs": [
    {
     "name": "stdout",
     "output_type": "stream",
     "text": [
      "(1, 'Hello', 3.14)\n",
      "<class 'tuple'>\n"
     ]
    }
   ],
   "source": [
    "# Packing a tuple\n",
    "\n",
    "packed_tuple = 1,\"Hello\",3.14\n",
    "print(packed_tuple)\n",
    "print(type(packed_tuple))"
   ]
  },
  {
   "cell_type": "code",
   "execution_count": null,
   "metadata": {
    "colab": {
     "base_uri": "https://localhost:8080/"
    },
    "id": "8CssIpw2_ARo",
    "outputId": "f0cbaff3-c99a-4fca-fb91-1683e84d8465"
   },
   "outputs": [
    {
     "name": "stdout",
     "output_type": "stream",
     "text": [
      "1\n",
      "Hello\n",
      "3.14\n"
     ]
    }
   ],
   "source": [
    "# Unpacking a tuple\n",
    "\n",
    "a,b,c = packed_tuple\n",
    "\n",
    "print(a)\n",
    "print(b)\n",
    "print(c)"
   ]
  },
  {
   "cell_type": "code",
   "execution_count": null,
   "metadata": {
    "colab": {
     "base_uri": "https://localhost:8080/"
    },
    "id": "D09wedfK_S0i",
    "outputId": "35027baf-0784-4887-fc8a-44d031d99e07"
   },
   "outputs": [
    {
     "name": "stdout",
     "output_type": "stream",
     "text": [
      "1\n",
      "[2, 3, 4, 5]\n",
      "6\n"
     ]
    }
   ],
   "source": [
    "# Unpacking a tuple with *\n",
    "\n",
    "numbers = (1,2,3,4,5,6)\n",
    "\n",
    "first,*middle,last = numbers\n",
    "\n",
    "print(first)\n",
    "print(middle)\n",
    "print(last)\n",
    "# print(type(middle))"
   ]
  },
  {
   "cell_type": "code",
   "execution_count": null,
   "metadata": {
    "colab": {
     "base_uri": "https://localhost:8080/"
    },
    "id": "0fjAxF3cAjuF",
    "outputId": "abb28ea1-19cd-4217-ddaa-ad32ecfa95de"
   },
   "outputs": [
    {
     "name": "stdout",
     "output_type": "stream",
     "text": [
      "<class 'tuple'>\n"
     ]
    }
   ],
   "source": [
    "t = (1,2,3,4,5)\n",
    "print(type(t))"
   ]
  },
  {
   "cell_type": "code",
   "execution_count": null,
   "metadata": {
    "colab": {
     "base_uri": "https://localhost:8080/"
    },
    "id": "9FndMpW5BIgY",
    "outputId": "22c7c218-0b5e-4e66-d8af-d4b9e6c37e1f"
   },
   "outputs": [
    {
     "name": "stdout",
     "output_type": "stream",
     "text": [
      "[1, 2, 3, 4, 5]\n",
      "<class 'list'>\n"
     ]
    }
   ],
   "source": [
    "tpl_to_list = list(t)\n",
    "print(tpl_to_list)\n",
    "print(type(tpl_to_list))"
   ]
  },
  {
   "cell_type": "code",
   "execution_count": null,
   "metadata": {
    "colab": {
     "base_uri": "https://localhost:8080/"
    },
    "id": "GsBKuJKDBhq3",
    "outputId": "4cebe2b7-315b-4b2f-ce1a-dcf11fd56bc6"
   },
   "outputs": [
    {
     "name": "stdout",
     "output_type": "stream",
     "text": [
      "3\n"
     ]
    }
   ],
   "source": [
    "# Nested List\n",
    "\n",
    "lst = [[1,2,3,4,5],[6,7,8,9],[1,\"Hello\",3.14,True]]\n",
    "print(len(lst))"
   ]
  },
  {
   "cell_type": "code",
   "execution_count": null,
   "metadata": {
    "colab": {
     "base_uri": "https://localhost:8080/"
    },
    "id": "LjReNMZvCIUT",
    "outputId": "a326d498-2008-43a7-e4bb-f38f809e53b1"
   },
   "outputs": [
    {
     "name": "stdout",
     "output_type": "stream",
     "text": [
      "4\n"
     ]
    }
   ],
   "source": [
    "print(lst[0][3])"
   ]
  },
  {
   "cell_type": "code",
   "execution_count": null,
   "metadata": {
    "colab": {
     "base_uri": "https://localhost:8080/"
    },
    "id": "NfFTAYkeFGe5",
    "outputId": "90c80dfe-70ad-46ec-c90f-cdafebdb1e6c"
   },
   "outputs": [
    {
     "name": "stdout",
     "output_type": "stream",
     "text": [
      "((1, 2, 3), ('a', 'b', 'c'), (True, False, 3.14))\n",
      "<class 'tuple'>\n"
     ]
    }
   ],
   "source": [
    "# Nested Tuple\n",
    "\n",
    "nested_tuple = ((1,2,3),('a','b','c'),(True, False, 3.14))\n",
    "\n",
    "print(nested_tuple)\n",
    "print(type(nested_tuple))"
   ]
  },
  {
   "cell_type": "code",
   "execution_count": null,
   "metadata": {
    "colab": {
     "base_uri": "https://localhost:8080/"
    },
    "id": "FqkH6AEa1-ux",
    "outputId": "bd2684e4-7d16-40aa-8b3b-e46952ed0d0b"
   },
   "outputs": [
    {
     "name": "stdout",
     "output_type": "stream",
     "text": [
      "([1, 2, 3], ['a', 'b', 'c'], [True, 3.14])\n",
      "<class 'tuple'>\n"
     ]
    }
   ],
   "source": [
    "# List inside a tuple\n",
    "\n",
    "a = ([1,2,3],['a','b','c'],[True,3.14])\n",
    "print(a)\n",
    "print(type(a))"
   ]
  },
  {
   "cell_type": "code",
   "execution_count": null,
   "metadata": {
    "colab": {
     "base_uri": "https://localhost:8080/"
    },
    "id": "WK3Gz7XP2THR",
    "outputId": "d194db7b-c345-4646-9856-e756cc9d4a15"
   },
   "outputs": [
    {
     "name": "stdout",
     "output_type": "stream",
     "text": [
      "[(1, 2, 3), ('a', 'b', 'c'), (True, False, 3.14)]\n",
      "<class 'list'>\n"
     ]
    }
   ],
   "source": [
    "# Tuple inside a list\n",
    "\n",
    "b = [(1,2,3),('a','b','c'),(True, False, 3.14)]\n",
    "print(b)\n",
    "print(type(b))"
   ]
  },
  {
   "cell_type": "code",
   "execution_count": null,
   "metadata": {
    "colab": {
     "base_uri": "https://localhost:8080/"
    },
    "id": "0ztiU_Yx2nDd",
    "outputId": "85273712-7e0b-48a8-8478-9220bb48018c"
   },
   "outputs": [
    {
     "name": "stdout",
     "output_type": "stream",
     "text": [
      "(1, 2, 3)\n",
      "c\n"
     ]
    }
   ],
   "source": [
    "nested_tuple = ((1,2,3),('a','b','c'),(True, False, 3.14))\n",
    "\n",
    "# access the elements inside a tuple\n",
    "print(nested_tuple[0])\n",
    "print(nested_tuple[1][2])"
   ]
  },
  {
   "cell_type": "code",
   "execution_count": null,
   "metadata": {
    "colab": {
     "base_uri": "https://localhost:8080/"
    },
    "id": "XC0htj2Q2079",
    "outputId": "44a0eade-8a90-4790-9a58-a6b7e94c2899"
   },
   "outputs": [
    {
     "name": "stdout",
     "output_type": "stream",
     "text": [
      "1 2 3 \n",
      "a b c \n",
      "True False 3.14 \n"
     ]
    }
   ],
   "source": [
    "# Iterating over nested tuples\n",
    "\n",
    "nested_tuple = ((1,2,3),('a','b','c'),(True, False, 3.14))\n",
    "\n",
    "for i in nested_tuple:\n",
    "  for item in i:\n",
    "    print(item, end = ' ')\n",
    "  print()"
   ]
  },
  {
   "cell_type": "markdown",
   "metadata": {
    "id": "T60nMs9I4tcw"
   },
   "source": [
    "# Sets\n",
    "\n",
    "Sets are a built-in data type in Python used to store collections of unique items. They are unordered, meaning that the elements do not follow a specific order, and they do not allow duplicate elements. Sets are useful for membership tests, eliminating duplicate entries, and performing mathematical set operations like union, intersection, difference, and symmetric difference."
   ]
  },
  {
   "cell_type": "code",
   "execution_count": null,
   "metadata": {
    "colab": {
     "base_uri": "https://localhost:8080/"
    },
    "id": "hUosDNgC33WB",
    "outputId": "1919e12d-b57e-408f-d11b-5a00a9c469ce"
   },
   "outputs": [
    {
     "name": "stdout",
     "output_type": "stream",
     "text": [
      "{1, 2, 3, 4, 5}\n",
      "<class 'set'>\n"
     ]
    }
   ],
   "source": [
    "# Create a set\n",
    "\n",
    "my_set = {1,2,3,4,5}\n",
    "print(my_set)\n",
    "print(type(my_set))"
   ]
  },
  {
   "cell_type": "code",
   "execution_count": null,
   "metadata": {
    "colab": {
     "base_uri": "https://localhost:8080/"
    },
    "id": "NnEcj2vJ5Nmu",
    "outputId": "6c97bf09-62d9-405e-955a-ef4636c2d0e6"
   },
   "outputs": [
    {
     "name": "stdout",
     "output_type": "stream",
     "text": [
      "set()\n",
      "<class 'set'>\n"
     ]
    }
   ],
   "source": [
    "my_empty_set = set()\n",
    "print(my_empty_set)\n",
    "print(type(my_empty_set))"
   ]
  },
  {
   "cell_type": "code",
   "execution_count": null,
   "metadata": {
    "colab": {
     "base_uri": "https://localhost:8080/"
    },
    "id": "7Zj_WJ2S5jN5",
    "outputId": "6056a682-f5d4-4f0c-9bb7-5d92e35a3315"
   },
   "outputs": [
    {
     "name": "stdout",
     "output_type": "stream",
     "text": [
      "{1, 2, 3, 4, 5, 6}\n"
     ]
    }
   ],
   "source": [
    "my_set = set([1,2,3,4,5,6])\n",
    "print(my_set)"
   ]
  },
  {
   "cell_type": "code",
   "execution_count": null,
   "metadata": {
    "colab": {
     "base_uri": "https://localhost:8080/"
    },
    "id": "YBWXBqqX5zDe",
    "outputId": "de54350d-fa33-4d04-8f04-84a61b1ba6a9"
   },
   "outputs": [
    {
     "name": "stdout",
     "output_type": "stream",
     "text": [
      "{1, 2, 3, 4, 5, 6}\n"
     ]
    }
   ],
   "source": [
    "my_empty_set = set([1,2,3,6,5,4,5,6,5,6,6,6]) # Contains unique values\n",
    "print(my_empty_set)"
   ]
  },
  {
   "cell_type": "code",
   "execution_count": null,
   "metadata": {
    "colab": {
     "base_uri": "https://localhost:8080/"
    },
    "id": "cSKV001_5_HJ",
    "outputId": "d1803c2f-9539-4600-b465-aa32b10343c3"
   },
   "outputs": [
    {
     "name": "stdout",
     "output_type": "stream",
     "text": [
      "{1, 2, 3, 4, 5, 6, 7}\n"
     ]
    }
   ],
   "source": [
    "# Basic Set Operations\n",
    "# Add and Remove Elements\n",
    "\n",
    "my_set.add(7)\n",
    "print(my_set)"
   ]
  },
  {
   "cell_type": "code",
   "execution_count": null,
   "metadata": {
    "colab": {
     "base_uri": "https://localhost:8080/"
    },
    "id": "_dpcQR3l6bSh",
    "outputId": "287f90e5-7a06-4e37-b258-c619290f990e"
   },
   "outputs": [
    {
     "name": "stdout",
     "output_type": "stream",
     "text": [
      "{1, 2, 3, 4, 5, 6, 7, 8}\n"
     ]
    }
   ],
   "source": [
    "my_set.add(8)\n",
    "print(my_set)"
   ]
  },
  {
   "cell_type": "code",
   "execution_count": null,
   "metadata": {
    "colab": {
     "base_uri": "https://localhost:8080/"
    },
    "id": "gkSpiq8B6gcx",
    "outputId": "cb9091ac-a4f0-498e-a9fb-c4642b3aee46"
   },
   "outputs": [
    {
     "name": "stdout",
     "output_type": "stream",
     "text": [
      "{1, 2, 3, 4, 5, 6, 7, 8}\n"
     ]
    }
   ],
   "source": [
    "my_set.add(7)\n",
    "print(my_set)"
   ]
  },
  {
   "cell_type": "code",
   "execution_count": null,
   "metadata": {
    "colab": {
     "base_uri": "https://localhost:8080/"
    },
    "id": "ASLODPCm6kZ-",
    "outputId": "ae4bd227-d220-4b87-df5e-4198957389bd"
   },
   "outputs": [
    {
     "name": "stdout",
     "output_type": "stream",
     "text": [
      "{1, 2, 3, 4, 5, 6, 7}\n"
     ]
    }
   ],
   "source": [
    "# Remove the element from the set\n",
    "my_set.remove(8)\n",
    "print(my_set)"
   ]
  },
  {
   "cell_type": "code",
   "execution_count": null,
   "metadata": {
    "colab": {
     "base_uri": "https://localhost:8080/",
     "height": 141
    },
    "id": "YpzNKA2c6zTf",
    "outputId": "dfe47890-8723-4320-95a7-fe4ce45a8c1f"
   },
   "outputs": [
    {
     "ename": "KeyError",
     "evalue": "10",
     "output_type": "error",
     "traceback": [
      "\u001b[0;31m---------------------------------------------------------------------------\u001b[0m",
      "\u001b[0;31mKeyError\u001b[0m                                  Traceback (most recent call last)",
      "\u001b[0;32m<ipython-input-25-aa5e57d43179>\u001b[0m in \u001b[0;36m<cell line: 1>\u001b[0;34m()\u001b[0m\n\u001b[0;32m----> 1\u001b[0;31m \u001b[0mmy_set\u001b[0m\u001b[0;34m.\u001b[0m\u001b[0mremove\u001b[0m\u001b[0;34m(\u001b[0m\u001b[0;36m10\u001b[0m\u001b[0;34m)\u001b[0m\u001b[0;34m\u001b[0m\u001b[0;34m\u001b[0m\u001b[0m\n\u001b[0m",
      "\u001b[0;31mKeyError\u001b[0m: 10"
     ]
    }
   ],
   "source": [
    "my_set.remove(10)"
   ]
  },
  {
   "cell_type": "code",
   "execution_count": null,
   "metadata": {
    "colab": {
     "base_uri": "https://localhost:8080/"
    },
    "id": "U4isQ7el63iy",
    "outputId": "3e83879c-d363-42cc-8151-be0ef04800d4"
   },
   "outputs": [
    {
     "name": "stdout",
     "output_type": "stream",
     "text": [
      "{1, 2, 3, 4, 5, 6, 7}\n"
     ]
    }
   ],
   "source": [
    "# It is used to remove a specific element from a set without raising an error if the element is not found\n",
    "# This is different from the remove method, which raises an error if the element is not found\n",
    "\n",
    "my_set.discard(10)\n",
    "print(my_set)"
   ]
  },
  {
   "cell_type": "code",
   "execution_count": null,
   "metadata": {
    "colab": {
     "base_uri": "https://localhost:8080/"
    },
    "id": "x4_tPzBs7Nll",
    "outputId": "83cf34fa-29ea-4f5b-d6ef-677236db0178"
   },
   "outputs": [
    {
     "name": "stdout",
     "output_type": "stream",
     "text": [
      "3\n",
      "{4, 5, 6, 7}\n"
     ]
    }
   ],
   "source": [
    "# pop method\n",
    "\n",
    "remove_element = my_set.pop()\n",
    "print(remove_element)\n",
    "print(my_set)"
   ]
  },
  {
   "cell_type": "code",
   "execution_count": null,
   "metadata": {
    "colab": {
     "base_uri": "https://localhost:8080/"
    },
    "id": "lWEhgeuy8Myi",
    "outputId": "834a4b30-41aa-4e7e-cb0f-9b3db2f8c29b"
   },
   "outputs": [
    {
     "name": "stdout",
     "output_type": "stream",
     "text": [
      "set()\n"
     ]
    }
   ],
   "source": [
    "# Clear all the elements\n",
    "\n",
    "my_set.clear()\n",
    "print(my_set)"
   ]
  },
  {
   "cell_type": "code",
   "execution_count": null,
   "metadata": {
    "colab": {
     "base_uri": "https://localhost:8080/"
    },
    "id": "OP2euzje8bKL",
    "outputId": "d3336c53-9db0-4f2f-a569-67be88ef4fdf"
   },
   "outputs": [
    {
     "name": "stdout",
     "output_type": "stream",
     "text": [
      "True\n",
      "True\n"
     ]
    }
   ],
   "source": [
    "# Membership Test\n",
    "# In Python, the membership test is used to check if an element is present in a set. You can use in and not in operators\n",
    "\n",
    "my_set = {1,2,3,4,5}\n",
    "print(3 in my_set)\n",
    "print(10 not in my_set)"
   ]
  },
  {
   "cell_type": "code",
   "execution_count": null,
   "metadata": {
    "colab": {
     "base_uri": "https://localhost:8080/"
    },
    "id": "LUTlz0jK8sc7",
    "outputId": "b1564047-ba7b-4850-cd08-e314f7762572"
   },
   "outputs": [
    {
     "name": "stdout",
     "output_type": "stream",
     "text": [
      "{1, 2, 3, 4, 5, 6, 7, 8, 9}\n"
     ]
    }
   ],
   "source": [
    "# Mathematical Operations\n",
    "\n",
    "set1 = {1,2,3,4,5,6}\n",
    "set2 = {4,5,6,7,8,9}\n",
    "\n",
    "# Union\n",
    "union_set = set1.union(set2)\n",
    "print(union_set)"
   ]
  },
  {
   "cell_type": "code",
   "execution_count": null,
   "metadata": {
    "colab": {
     "base_uri": "https://localhost:8080/"
    },
    "id": "2UKLyCxU9-V1",
    "outputId": "fcba1a6c-0965-44cd-af4e-65f9a0ef6468"
   },
   "outputs": [
    {
     "name": "stdout",
     "output_type": "stream",
     "text": [
      "{4, 5, 6}\n"
     ]
    }
   ],
   "source": [
    "# Intersection\n",
    "intersection_set = set1.intersection(set2)\n",
    "print(intersection_set)"
   ]
  },
  {
   "cell_type": "code",
   "execution_count": null,
   "metadata": {
    "colab": {
     "base_uri": "https://localhost:8080/"
    },
    "id": "Z0W48HF_-dbh",
    "outputId": "542f3712-64b8-43a4-c09c-a9661851cb57"
   },
   "outputs": [
    {
     "name": "stdout",
     "output_type": "stream",
     "text": [
      "{1, 2, 3}\n"
     ]
    }
   ],
   "source": [
    "# Difference\n",
    "print(set1.difference(set2))"
   ]
  },
  {
   "cell_type": "code",
   "execution_count": null,
   "metadata": {
    "colab": {
     "base_uri": "https://localhost:8080/"
    },
    "id": "Kc15pUQ1-vaf",
    "outputId": "b8c631da-0bd2-4625-d571-4791ec6d1be9"
   },
   "outputs": [
    {
     "name": "stdout",
     "output_type": "stream",
     "text": [
      "{8, 9, 7}\n"
     ]
    }
   ],
   "source": [
    "print(set2.difference(set1))"
   ]
  },
  {
   "cell_type": "code",
   "execution_count": null,
   "metadata": {
    "colab": {
     "base_uri": "https://localhost:8080/"
    },
    "id": "gChTqhwX_Cmg",
    "outputId": "55e126b1-7aaa-45d7-f66f-79527b4b6e4f"
   },
   "outputs": [
    {
     "data": {
      "text/plain": [
       "{1, 2, 3, 7, 8, 9}"
      ]
     },
     "execution_count": 38,
     "metadata": {},
     "output_type": "execute_result"
    }
   ],
   "source": [
    "# Symmetric Difference\n",
    "# In Python, the Symmetric Difference of 2 sets us the set of elements that are in either of the sets but not in both\n",
    "# In other words, it returns the elements that are unique to each set when compared to other\n",
    "\n",
    "set1.symmetric_difference(set2)"
   ]
  },
  {
   "cell_type": "code",
   "execution_count": null,
   "metadata": {
    "colab": {
     "base_uri": "https://localhost:8080/"
    },
    "id": "NWxA2eVW__6A",
    "outputId": "cf76a786-5439-4996-be54-5aa7a12dae0a"
   },
   "outputs": [
    {
     "name": "stdout",
     "output_type": "stream",
     "text": [
      "{1, 2, 3, 4, 5}\n",
      "<class 'set'>\n"
     ]
    }
   ],
   "source": [
    "lst = [1,2,2,2,2,2,3,3,3,4,5]\n",
    "conv_set = set(lst)\n",
    "print(conv_set)\n",
    "print(type(conv_set))"
   ]
  },
  {
   "cell_type": "code",
   "execution_count": null,
   "metadata": {
    "colab": {
     "base_uri": "https://localhost:8080/"
    },
    "id": "gJr2NVECA2rf",
    "outputId": "2e39695a-2c2d-4766-f082-4ba969a67af7"
   },
   "outputs": [
    {
     "name": "stdout",
     "output_type": "stream",
     "text": [
      "['In', 'this', 'Class', 'we', 'are', 'discussing', 'about', 'set']\n",
      "{'we', 'are', 'In', 'about', 'this', 'set', 'discussing', 'Class'}\n",
      "8\n"
     ]
    }
   ],
   "source": [
    "# Use Cases of set\n",
    "\n",
    "text = \"In this Class we are discussing about set\"\n",
    "words = text.split()\n",
    "print(words)\n",
    "\n",
    "# Convert list of words to set to get unique words\n",
    "\n",
    "unique_words = set(words)\n",
    "print(unique_words)\n",
    "print(len(unique_words))"
   ]
  },
  {
   "cell_type": "markdown",
   "metadata": {
    "id": "R5mCleLxEgsc"
   },
   "source": [
    "# Dictionary\n",
    "Dictionaries are unordered collections of items. They store data in key-value pairs. Keys must be unique and immutable (e.g., strings, numbers, or tuples), while values can be of any type"
   ]
  },
  {
   "cell_type": "code",
   "execution_count": null,
   "metadata": {
    "colab": {
     "base_uri": "https://localhost:8080/"
    },
    "id": "m_n48BmEBdwO",
    "outputId": "1ffe4348-a26c-4681-cc57-a5dcefde4239"
   },
   "outputs": [
    {
     "name": "stdout",
     "output_type": "stream",
     "text": [
      "{}\n",
      "<class 'dict'>\n"
     ]
    }
   ],
   "source": [
    "# Creating a dictionary\n",
    "empty_dict = {}\n",
    "print(empty_dict)\n",
    "print(type(empty_dict))"
   ]
  },
  {
   "cell_type": "code",
   "execution_count": null,
   "metadata": {
    "colab": {
     "base_uri": "https://localhost:8080/"
    },
    "id": "zVpGRNzaFCxr",
    "outputId": "06dde835-798c-463a-a673-e89fec54c171"
   },
   "outputs": [
    {
     "name": "stdout",
     "output_type": "stream",
     "text": [
      "{'Name': 'Harshvardhan', 'age': 28, 'grade': 24}\n",
      "<class 'dict'>\n"
     ]
    }
   ],
   "source": [
    "student = {'Name':\"Harshvardhan\", 'age':28, 'grade':24}\n",
    "print(student)\n",
    "print(type(student))"
   ]
  },
  {
   "cell_type": "code",
   "execution_count": null,
   "metadata": {
    "colab": {
     "base_uri": "https://localhost:8080/"
    },
    "id": "8klf1b8PGXV8",
    "outputId": "c960215c-8a29-4a17-83da-7e853a980ec1"
   },
   "outputs": [
    {
     "name": "stdout",
     "output_type": "stream",
     "text": [
      "{'Name': 'Rohan', 'age': 99}\n"
     ]
    }
   ],
   "source": [
    "# Single Key is always used\n",
    "\n",
    "student = {\"Name\":\"Harshvardhan\", 'age':28, \"Name\":\"Rohan\", 'age':99}\n",
    "print(student)"
   ]
  },
  {
   "cell_type": "code",
   "execution_count": null,
   "metadata": {
    "colab": {
     "base_uri": "https://localhost:8080/"
    },
    "id": "XRhzcXeNGpWH",
    "outputId": "2807b54b-b032-4659-a20e-73a82d6a82aa"
   },
   "outputs": [
    {
     "name": "stdout",
     "output_type": "stream",
     "text": [
      "{'Name': 'Harshvardhan', 'age': 32, 'grade': 'A', 'Address': 'India'}\n"
     ]
    }
   ],
   "source": [
    "students = {\"Name\":\"Harshvardhan\", 'age':32, \"grade\":\"A\", \"Address\":\"India\"}\n",
    "print(students)"
   ]
  },
  {
   "cell_type": "code",
   "execution_count": null,
   "metadata": {
    "colab": {
     "base_uri": "https://localhost:8080/"
    },
    "id": "V9u2XHB8HOzF",
    "outputId": "771cd03e-5716-4331-c174-33fd4b25a819"
   },
   "outputs": [
    {
     "name": "stdout",
     "output_type": "stream",
     "text": [
      "A\n",
      "32\n"
     ]
    }
   ],
   "source": [
    "# Accessing Dictionary Elements\n",
    "print(students['grade'])\n",
    "print(students['age'])"
   ]
  },
  {
   "cell_type": "code",
   "execution_count": null,
   "metadata": {
    "colab": {
     "base_uri": "https://localhost:8080/"
    },
    "id": "M8nHEQpkHcra",
    "outputId": "9e2b3a28-e7d2-4294-ab1a-8810abdaf68c"
   },
   "outputs": [
    {
     "name": "stdout",
     "output_type": "stream",
     "text": [
      "A\n",
      "32\n",
      "None\n",
      "It is not present here\n"
     ]
    }
   ],
   "source": [
    "# Accessing using get() method\n",
    "print(students.get('grade'))\n",
    "print(students.get('age'))\n",
    "print(students.get('last_name'))\n",
    "print(students.get('last_name',\"It is not present here\")) # Providing default value to it"
   ]
  },
  {
   "cell_type": "code",
   "execution_count": null,
   "metadata": {
    "colab": {
     "base_uri": "https://localhost:8080/"
    },
    "id": "MuSoWyqKHxc7",
    "outputId": "8fd8c79e-ac12-41ff-d32b-383a207825ca"
   },
   "outputs": [
    {
     "name": "stdout",
     "output_type": "stream",
     "text": [
      "{'Name': 'Harshvardhan', 'age': 32, 'grade': 'A', 'Address': 'India'}\n"
     ]
    }
   ],
   "source": [
    "# Modifying Dictionary Elements\n",
    "print(students)"
   ]
  },
  {
   "cell_type": "code",
   "execution_count": null,
   "metadata": {
    "colab": {
     "base_uri": "https://localhost:8080/"
    },
    "id": "lVkiYpkpJRcf",
    "outputId": "c19d5e6f-424d-4335-f670-84cc56197260"
   },
   "outputs": [
    {
     "name": "stdout",
     "output_type": "stream",
     "text": [
      "{'Name': 'Harshvardhan', 'age': 32, 'grade': 'B', 'Address': 'USA'}\n",
      "{'Name': 'Harshvardhan', 'age': 32, 'grade': 'B', 'Address': 'USA'}\n",
      "{'Name': 'Harshvardhan', 'age': 32, 'grade': 'B', 'Address': 'USA', 'Phone_Number': 9829389283}\n"
     ]
    }
   ],
   "source": [
    "# Update\n",
    "students['grade'] = 'B' # update\n",
    "print(students)\n",
    "students['Address'] = 'USA' # update\n",
    "print(students)\n",
    "students['Phone_Number'] = 9829389283 # Add a new key and value pairs\n",
    "print(students)"
   ]
  },
  {
   "cell_type": "code",
   "execution_count": null,
   "metadata": {
    "colab": {
     "base_uri": "https://localhost:8080/"
    },
    "id": "wTolZ61AJgUE",
    "outputId": "891a8b85-f131-4ca2-d172-4fd4ec2be20f"
   },
   "outputs": [
    {
     "name": "stdout",
     "output_type": "stream",
     "text": [
      "{'Name': 'Harshvardhan', 'age': 32, 'grade': 'B', 'Phone_Number': 9829389283}\n"
     ]
    }
   ],
   "source": [
    "# Deleting Key and Value pairs\n",
    "\n",
    "del students['Address']\n",
    "print(students)"
   ]
  },
  {
   "cell_type": "code",
   "execution_count": null,
   "metadata": {
    "colab": {
     "base_uri": "https://localhost:8080/"
    },
    "id": "NtxQRNRFKHgk",
    "outputId": "fa6d79a8-1833-4023-aaf5-0309c19fbf44"
   },
   "outputs": [
    {
     "name": "stdout",
     "output_type": "stream",
     "text": [
      "dict_keys(['Name', 'age', 'grade', 'Phone_Number'])\n",
      "dict_values(['Harshvardhan', 32, 'B', 9829389283])\n",
      "dict_items([('Name', 'Harshvardhan'), ('age', 32), ('grade', 'B'), ('Phone_Number', 9829389283)])\n"
     ]
    }
   ],
   "source": [
    "# Dictionary Methods\n",
    "\n",
    "a = students.keys() # Get all the keys\n",
    "print(a)\n",
    "\n",
    "b = students.values() # Get all the values\n",
    "print(b)\n",
    "\n",
    "c = students.items() # Gets all key and value pairs\n",
    "print(c)"
   ]
  },
  {
   "cell_type": "code",
   "execution_count": null,
   "metadata": {
    "colab": {
     "base_uri": "https://localhost:8080/"
    },
    "id": "LavZU283KVE3",
    "outputId": "1f65471b-6d00-4e97-c647-2625d49cf0c5"
   },
   "outputs": [
    {
     "name": "stdout",
     "output_type": "stream",
     "text": [
      "{'Name': 'Harshvardhan', 'age': 32, 'grade': 'A', 'Address': 'India'}\n"
     ]
    }
   ],
   "source": [
    "print(students)"
   ]
  },
  {
   "cell_type": "code",
   "execution_count": null,
   "metadata": {
    "colab": {
     "base_uri": "https://localhost:8080/"
    },
    "id": "wvQJT3xFxZRu",
    "outputId": "c3e0cb45-3fce-4885-9571-18fa76c0b41d"
   },
   "outputs": [
    {
     "name": "stdout",
     "output_type": "stream",
     "text": [
      "{'Name': 'Harshvardhan', 'age': 32, 'grade': 'A', 'Address': 'India'}\n",
      "{'Name': 'Harshvardhan', 'age': 32, 'grade': 'A', 'Address': 'India'}\n"
     ]
    }
   ],
   "source": [
    "student_copy = students\n",
    "\n",
    "print(students)\n",
    "print(student_copy)"
   ]
  },
  {
   "cell_type": "code",
   "execution_count": null,
   "metadata": {
    "colab": {
     "base_uri": "https://localhost:8080/"
    },
    "id": "UJG6ZKtIxxOE",
    "outputId": "761cf8c0-974a-4a96-9003-f4c80089e6e2"
   },
   "outputs": [
    {
     "name": "stdout",
     "output_type": "stream",
     "text": [
      "{'Name': 'Rahul', 'age': 32, 'grade': 'A', 'Address': 'India'}\n",
      "{'Name': 'Rahul', 'age': 32, 'grade': 'A', 'Address': 'India'}\n"
     ]
    }
   ],
   "source": [
    "students['Name'] = 'Rahul'\n",
    "\n",
    "print(students)\n",
    "print(student_copy)"
   ]
  },
  {
   "cell_type": "code",
   "execution_count": null,
   "metadata": {
    "colab": {
     "base_uri": "https://localhost:8080/"
    },
    "id": "KO4DOlsCx-tk",
    "outputId": "ee19b230-1f70-4926-daaa-ffac775246a3"
   },
   "outputs": [
    {
     "name": "stdout",
     "output_type": "stream",
     "text": [
      "{'Name': 'Rahul', 'age': 32, 'grade': 'A', 'Address': 'India'}\n",
      "{'Name': 'Rahul', 'age': 32, 'grade': 'A', 'Address': 'India'}\n"
     ]
    }
   ],
   "source": [
    "student_copy1 = students.copy() # Shallow Copy\n",
    "print(student_copy1)\n",
    "print(students)"
   ]
  },
  {
   "cell_type": "code",
   "execution_count": null,
   "metadata": {
    "colab": {
     "base_uri": "https://localhost:8080/"
    },
    "id": "gXijUOPCyvRH",
    "outputId": "28ab994e-c455-4283-c903-080c8b3994e1"
   },
   "outputs": [
    {
     "name": "stdout",
     "output_type": "stream",
     "text": [
      "{'Name': 'Rahul', 'age': 103, 'grade': 'A', 'Address': 'India'}\n",
      "{'Name': 'Rahul', 'age': 32, 'grade': 'A', 'Address': 'India'}\n"
     ]
    }
   ],
   "source": [
    "students['age'] = 103\n",
    "print(students)\n",
    "print(student_copy1)"
   ]
  },
  {
   "cell_type": "code",
   "execution_count": null,
   "metadata": {
    "colab": {
     "base_uri": "https://localhost:8080/"
    },
    "id": "eerWakf5y6Uf",
    "outputId": "b60786fd-0f41-45b4-9ebe-ad28ef38df92"
   },
   "outputs": [
    {
     "name": "stdout",
     "output_type": "stream",
     "text": [
      "Name\n",
      "age\n",
      "grade\n",
      "Address\n"
     ]
    }
   ],
   "source": [
    "# Iterating over dictionaries\n",
    "\n",
    "# Iterating over keys\n",
    "\n",
    "for keys in students.keys():\n",
    "  print(keys)"
   ]
  },
  {
   "cell_type": "code",
   "execution_count": null,
   "metadata": {
    "colab": {
     "base_uri": "https://localhost:8080/"
    },
    "id": "19qk6_LhzixE",
    "outputId": "78d5bf6b-0c94-463e-d690-f4ce5f61a871"
   },
   "outputs": [
    {
     "name": "stdout",
     "output_type": "stream",
     "text": [
      "Rahul\n",
      "103\n",
      "A\n",
      "India\n"
     ]
    }
   ],
   "source": [
    "# Iterating over values\n",
    "\n",
    "for value in students.values():\n",
    "  print(value)"
   ]
  },
  {
   "cell_type": "code",
   "execution_count": null,
   "metadata": {
    "colab": {
     "base_uri": "https://localhost:8080/"
    },
    "id": "yewGSIqmz2Z8",
    "outputId": "48c2aaeb-adb7-4fd2-e58f-6bcb3cdf4028"
   },
   "outputs": [
    {
     "name": "stdout",
     "output_type": "stream",
     "text": [
      "Name : Rahul\n",
      "age : 103\n",
      "grade : A\n",
      "Address : India\n"
     ]
    }
   ],
   "source": [
    "# Iterate over key value pairs\n",
    "\n",
    "for i,j in students.items():\n",
    "  print(i,':',j)"
   ]
  },
  {
   "cell_type": "code",
   "execution_count": null,
   "metadata": {
    "colab": {
     "base_uri": "https://localhost:8080/"
    },
    "id": "al7J-YOC0TOe",
    "outputId": "e6d3ddfa-f164-40b2-fb6e-867baecf559f"
   },
   "outputs": [
    {
     "name": "stdout",
     "output_type": "stream",
     "text": [
      "('Name', 'Rahul')\n",
      "('age', 103)\n",
      "('grade', 'A')\n",
      "('Address', 'India')\n"
     ]
    }
   ],
   "source": [
    "for item in students.items():\n",
    "  print(item)"
   ]
  },
  {
   "cell_type": "code",
   "execution_count": null,
   "metadata": {
    "colab": {
     "base_uri": "https://localhost:8080/"
    },
    "id": "26K_vyAC0qW0",
    "outputId": "170dda26-befa-45ad-dc33-f86518bc08e4"
   },
   "outputs": [
    {
     "name": "stdout",
     "output_type": "stream",
     "text": [
      "{'student1': {'name': 'Soni', 'age': 20}, 'student2': {'name': 'Harsh', 'age': 25}}\n"
     ]
    }
   ],
   "source": [
    "# Nested Dictionary\n",
    "\n",
    "students = {\n",
    "    'student1': {\"name\":'Soni','age':20},\n",
    "    'student2': {'name' : \"Harsh\", 'age' : 25}\n",
    "}\n",
    "print(students)"
   ]
  },
  {
   "cell_type": "code",
   "execution_count": null,
   "metadata": {
    "colab": {
     "base_uri": "https://localhost:8080/"
    },
    "id": "XQ2EE4I12PEb",
    "outputId": "abced240-1ca3-43a0-ce0a-386380c00ca2"
   },
   "outputs": [
    {
     "name": "stdout",
     "output_type": "stream",
     "text": [
      "Harsh\n",
      "20\n"
     ]
    }
   ],
   "source": [
    "# Access nested Dictionary elements\n",
    "\n",
    "print(students['student2']['name'])\n",
    "print(students['student1']['age'])"
   ]
  },
  {
   "cell_type": "code",
   "execution_count": null,
   "metadata": {
    "colab": {
     "base_uri": "https://localhost:8080/"
    },
    "id": "zxkN1trN2gjt",
    "outputId": "854856c4-0186-45a0-c85d-9aeb398007f1"
   },
   "outputs": [
    {
     "data": {
      "text/plain": [
       "dict_items([('student1', {'name': 'Soni', 'age': 20}), ('student2', {'name': 'Harsh', 'age': 25})])"
      ]
     },
     "execution_count": 22,
     "metadata": {},
     "output_type": "execute_result"
    }
   ],
   "source": [
    "students.items()"
   ]
  },
  {
   "cell_type": "code",
   "execution_count": null,
   "metadata": {
    "colab": {
     "base_uri": "https://localhost:8080/"
    },
    "id": "D7M_mOg-2zFS",
    "outputId": "5645fc15-2834-4422-e3f2-0ea059b05720"
   },
   "outputs": [
    {
     "name": "stdout",
     "output_type": "stream",
     "text": [
      "student1 : {'name': 'Soni', 'age': 20}\n",
      "name : Soni\n",
      "age : 20\n",
      "student2 : {'name': 'Harsh', 'age': 25}\n",
      "name : Harsh\n",
      "age : 25\n"
     ]
    }
   ],
   "source": [
    "# Iterating Over Nested Dictionary\n",
    "\n",
    "for student_id, student_info in students.items():\n",
    "  print(student_id, \":\", student_info)\n",
    "  for key,value in student_info.items():\n",
    "    print(key, ':', value)"
   ]
  },
  {
   "cell_type": "code",
   "execution_count": null,
   "metadata": {
    "colab": {
     "base_uri": "https://localhost:8080/"
    },
    "id": "CSEyyYGr3l7D",
    "outputId": "ec4bc8f2-81a6-43f4-d268-28f0a936ee14"
   },
   "outputs": [
    {
     "name": "stdout",
     "output_type": "stream",
     "text": [
      "{0: 0, 1: 1, 2: 4, 3: 9, 4: 16, 5: 25}\n"
     ]
    }
   ],
   "source": [
    "# Dictionary Comprehension\n",
    "\n",
    "squares = {i:i**2 for i in range(6)}\n",
    "print(squares)"
   ]
  },
  {
   "cell_type": "code",
   "execution_count": null,
   "metadata": {
    "colab": {
     "base_uri": "https://localhost:8080/"
    },
    "id": "KXM4KINB4O9j",
    "outputId": "98fc856a-748f-4427-aefd-9f6f16feae0b"
   },
   "outputs": [
    {
     "name": "stdout",
     "output_type": "stream",
     "text": [
      "{0: 0, 2: 4, 4: 16, 6: 36, 8: 64, 10: 100}\n",
      "<class 'dict'>\n"
     ]
    }
   ],
   "source": [
    "# Conditional Dictionary Comprehension\n",
    "\n",
    "evens = {i:i**2 for i in range(11) if i%2==0}\n",
    "print(evens)\n",
    "print(type(evens))"
   ]
  },
  {
   "cell_type": "markdown",
   "metadata": {
    "id": "7Qgjl73L5Pum"
   },
   "source": [
    "# Questions"
   ]
  },
  {
   "cell_type": "code",
   "execution_count": null,
   "metadata": {
    "colab": {
     "base_uri": "https://localhost:8080/"
    },
    "id": "pRlNkRYW494g",
    "outputId": "d811ff71-072a-4c32-a7d3-0d4a5b22191f"
   },
   "outputs": [
    {
     "name": "stdout",
     "output_type": "stream",
     "text": [
      "{1: 1, 2: 6, 3: 6, 4: 5, 5: 4}\n"
     ]
    }
   ],
   "source": [
    "# Q1) Use a dictionary to count the frequency of elements in list\n",
    "\n",
    "numbers = [1,2,2,2,2,2,2,3,3,3,3,3,3,4,4,4,4,4,5,5,5,5]\n",
    "frequency = {}\n",
    "\n",
    "for i in numbers:\n",
    "  if i in frequency:\n",
    "    frequency[i] += 1\n",
    "  else:\n",
    "    frequency[i] = 1\n",
    "\n",
    "print(frequency)"
   ]
  },
  {
   "cell_type": "markdown",
   "metadata": {
    "id": "e_J_SLmS98e5"
   },
   "source": [
    "#### Question 2\n",
    "You are given a list of integers representing the IDs of students who have signed up for an event, but some students have signed up multiple times by mistake. Your task is to:\n",
    "\n",
    "Remove duplicates to get the unique IDs of students who signed up.\n",
    "Identify students who have both signed up and attended the event (IDs are given in a separate list of attendees).\n",
    "Classify each student as:\n",
    "\"Attended\" if they signed up and attended.\n",
    "\"No-show\" if they signed up but did not attend.\n",
    "Finally, print a summary showing the count of \"Attended\" and \"No-show\" students.\n",
    "Input:\n",
    "\n",
    "A list of integers signups, where each element represents a student ID who signed up for the event. (It may contain duplicates.)\n",
    "A list of integers attendees, where each element represents a student ID who attended the event.\n",
    "Output: Print each unique student ID along with its status (\"Attended\" or \"No-show\") and a summary like the example below."
   ]
  },
  {
   "cell_type": "code",
   "execution_count": null,
   "metadata": {
    "id": "_v5abiE38OAK"
   },
   "outputs": [],
   "source": [
    "# Example Input:\n",
    "\n",
    "signups = [101, 102, 103, 104, 101, 105, 106, 102]\n",
    "attendees = [102, 104, 106, 107]"
   ]
  },
  {
   "cell_type": "code",
   "execution_count": null,
   "metadata": {
    "id": "UgsvfAb4-gxU"
   },
   "outputs": [],
   "source": [
    "# Example Output:\n",
    "\n",
    "101: No-show\n",
    "102: Attended\n",
    "103: No-show\n",
    "104: Attended\n",
    "105: No-show\n",
    "106: Attended\n",
    "\n",
    "Summary:\n",
    "Attended: 3\n",
    "No-show: 3"
   ]
  },
  {
   "cell_type": "code",
   "execution_count": null,
   "metadata": {
    "colab": {
     "base_uri": "https://localhost:8080/"
    },
    "id": "UDIyX0EnCYMh",
    "outputId": "45ac63d4-d2d1-44da-9259-6fb32b81a6e1"
   },
   "outputs": [
    {
     "name": "stdout",
     "output_type": "stream",
     "text": [
      "101 : No-show\n",
      "102 : Attended\n",
      "103 : No-show\n",
      "104 : Attended\n",
      "105 : No-show\n",
      "106 : Attended\n",
      "\n",
      "Summary:\n",
      "Attended: 3\n",
      "No-Show: 3\n"
     ]
    }
   ],
   "source": [
    "# Sol\n",
    "\n",
    "# Input lists\n",
    "signups = [101, 102, 103, 104, 101, 105, 106, 102]\n",
    "attendees = [102, 104, 106, 107]\n",
    "\n",
    "# Remove Duplicates and find Unique ID's\n",
    "unique_signups = set(signups)\n",
    "unique_attendees = set(attendees)\n",
    "\n",
    "# Create counters for attended and no-show students\n",
    "attended_count = 0\n",
    "no_show_count = 0\n",
    "\n",
    "# Classify them\n",
    "for i in unique_signups:\n",
    "  if i in unique_attendees:\n",
    "    print(i,\": Attended\")\n",
    "    attended_count += 1\n",
    "  else:\n",
    "    print(i,': No-show')\n",
    "    no_show_count += 1\n",
    "\n",
    "print()\n",
    "print(\"Summary:\")\n",
    "print(\"Attended:\",attended_count)\n",
    "print(\"No-Show:\",no_show_count)"
   ]
  },
  {
   "cell_type": "markdown",
   "metadata": {
    "id": "ZY1S9p9h32fZ"
   },
   "source": [
    "#### Question\n",
    "You are given two lists of integers. Write a program to:\n",
    "\n",
    "Find the unique common elements between the two lists.\n",
    "Print these common elements in sorted order.\n",
    "If there are no common elements, print \"No common elements\".\n"
   ]
  },
  {
   "cell_type": "code",
   "execution_count": null,
   "metadata": {
    "id": "t7iOtAs9Dt-t"
   },
   "outputs": [],
   "source": [
    "# Example Input:\n",
    "list1 = [1, 2, 3, 4, 5, 6, 7, 2]\n",
    "list2 = [5, 6, 7, 8, 9, 10, 6]"
   ]
  },
  {
   "cell_type": "code",
   "execution_count": null,
   "metadata": {
    "id": "qH4ecrQj4E2G"
   },
   "outputs": [],
   "source": [
    "# Example Output:\n",
    "Common elements: [5, 6, 7]"
   ]
  },
  {
   "cell_type": "code",
   "execution_count": null,
   "metadata": {
    "colab": {
     "base_uri": "https://localhost:8080/"
    },
    "id": "s8OKuKbF4I0z",
    "outputId": "4e1992ca-1221-47dd-d507-651db224be48"
   },
   "outputs": [
    {
     "name": "stdout",
     "output_type": "stream",
     "text": [
      "No Common Elements\n"
     ]
    }
   ],
   "source": [
    "# Sol\n",
    "\n",
    "list1 = [1, 2, 3, 4, 5, 6, 7, 2]\n",
    "list2 = [5, 6, 7, 8, 9, 10, 6]\n",
    "\n",
    "# Converting Lists to set to get unique values\n",
    "set1 = set(list1)\n",
    "set2 = set(list2)\n",
    "\n",
    "# Find common elements\n",
    "common_elements = set1 & set2\n",
    "\n",
    "# Check and print the results\n",
    "if common_elements:\n",
    "  print(\"Common Elements:\", sorted(common_elements))\n",
    "else:\n",
    "  print(\"No Common Elements\")"
   ]
  },
  {
   "cell_type": "markdown",
   "metadata": {
    "id": "wkiBZwYA67BA"
   },
   "source": [
    "#### Question\n",
    "\n",
    "You are given two lists:\n",
    "\n",
    "cart: A list of items purchased by a user (may contain duplicates).\n",
    "inventory: A list of items available in stock.\n",
    "Write a program to:\n",
    "\n",
    "Identify and print items purchased by the user that are not in stock.\n",
    "Count the number of unique items purchased by the user."
   ]
  },
  {
   "cell_type": "code",
   "execution_count": null,
   "metadata": {
    "id": "ltinXHEE6nqQ"
   },
   "outputs": [],
   "source": [
    "# Example input\n",
    "cart = [\"apple\", \"banana\", \"orange\", \"apple\", \"grape\", \"banana\"]\n",
    "inventory = [\"apple\", \"banana\", \"kiwi\", \"grape\"]"
   ]
  },
  {
   "cell_type": "code",
   "execution_count": null,
   "metadata": {
    "id": "YwPB02RM7Fiz"
   },
   "outputs": [],
   "source": [
    "# Example Output\n",
    "Out of stock items: {'orange'}\n",
    "Unique items purchased: 4"
   ]
  },
  {
   "cell_type": "code",
   "execution_count": null,
   "metadata": {
    "colab": {
     "base_uri": "https://localhost:8080/"
    },
    "id": "MRaWlSBu7Id-",
    "outputId": "b3913415-d964-488b-fd73-4f4976d0b366"
   },
   "outputs": [
    {
     "name": "stdout",
     "output_type": "stream",
     "text": [
      "out of stock items: {'orange'}\n",
      "Unqiue items purchased: 4\n"
     ]
    }
   ],
   "source": [
    "# Sol\n",
    "\n",
    "cart = [\"apple\", \"banana\", \"orange\", \"apple\", \"grape\", \"banana\"]\n",
    "inventory = [\"apple\", \"banana\", \"kiwi\", \"grape\"]\n",
    "\n",
    "# Converting to set to get unique values\n",
    "cart_set = set(cart)\n",
    "inventory_set = set(inventory)\n",
    "\n",
    "# Identifying out of stock items\n",
    "out_of_stock = cart_set - inventory_set\n",
    "print(\"out of stock items:\", out_of_stock)\n",
    "\n",
    "# Counting Unique items\n",
    "print(\"Unqiue items purchased:\", len(cart_set))"
   ]
  },
  {
   "cell_type": "markdown",
   "metadata": {
    "id": "XdLKnsJ--TEV"
   },
   "source": [
    "#### Questions\n",
    "You are given a dictionary where the keys are student names and the values are lists of their scores in three subjects. Calculate and print the average score for each student."
   ]
  },
  {
   "cell_type": "code",
   "execution_count": null,
   "metadata": {
    "id": "uiyyzbpJ9YLI"
   },
   "outputs": [],
   "source": [
    "# Example Input:\n",
    "grades = {\n",
    "    \"Alice\": [85, 90, 78],\n",
    "    \"Bob\": [88, 76, 92],\n",
    "    \"Charlie\": [95, 100, 85]\n",
    "}"
   ]
  },
  {
   "cell_type": "code",
   "execution_count": null,
   "metadata": {
    "id": "xfrn9f_E-bln"
   },
   "outputs": [],
   "source": [
    "# Example Output:\n",
    "Alice: 84.33\n",
    "Bob: 85.33\n",
    "Charlie: 93.33"
   ]
  },
  {
   "cell_type": "code",
   "execution_count": null,
   "metadata": {
    "colab": {
     "base_uri": "https://localhost:8080/"
    },
    "id": "foIobO74AGd_",
    "outputId": "70495dbe-4daf-49eb-c85c-84ab12b431cb"
   },
   "outputs": [
    {
     "name": "stdout",
     "output_type": "stream",
     "text": [
      "Alice : 84.33333333333333\n",
      "Bob : 85.33333333333333\n",
      "Charlie : 93.33333333333333\n"
     ]
    }
   ],
   "source": [
    "# Sol\n",
    "grades = {\n",
    "    \"Alice\": [85, 90, 78],\n",
    "    \"Bob\": [88, 76, 92],\n",
    "    \"Charlie\": [95, 100, 85]\n",
    "}\n",
    "\n",
    "# Calculate average scores\n",
    "for i,j in grades.items():\n",
    "  average = sum(j) / len(j)\n",
    "  print(i,\":\",average)"
   ]
  },
  {
   "cell_type": "code",
   "execution_count": null,
   "metadata": {
    "colab": {
     "base_uri": "https://localhost:8080/"
    },
    "id": "BwlizrPAAmPz",
    "outputId": "6eca2839-2ea9-4134-e37b-b01a750f5104"
   },
   "outputs": [
    {
     "name": "stdout",
     "output_type": "stream",
     "text": [
      "Hi Harshvardhan your age is 32\n",
      "Hi Harshvardhan your age is 32\n",
      "Charlie:93.33\n"
     ]
    }
   ],
   "source": [
    "name = \"Harshvardhan\"\n",
    "age = 32\n",
    "\n",
    "print(\"Hi\", name, \"your age is\", age)\n",
    "print(f\"Hi {name} your age is {age}\")\n",
    "print(f\"{i}:{average:.2f}\")"
   ]
  },
  {
   "cell_type": "markdown",
   "metadata": {
    "id": "vuJbkwDACdG9"
   },
   "source": [
    "#### Question\n",
    "\n",
    "Write a program to count the frequency of each character in a given string and store it in a dictionary. Ignore spaces."
   ]
  },
  {
   "cell_type": "code",
   "execution_count": null,
   "metadata": {
    "id": "mFJJrAoQBs7m"
   },
   "outputs": [],
   "source": [
    "# Example Input:\n",
    "text = \"hello world\""
   ]
  },
  {
   "cell_type": "code",
   "execution_count": null,
   "metadata": {
    "colab": {
     "base_uri": "https://localhost:8080/"
    },
    "id": "KVsa5ElaClPW",
    "outputId": "f82985c6-4e99-430c-bd9e-721664f9d264"
   },
   "outputs": [
    {
     "data": {
      "text/plain": [
       "{'h': 1, 'e': 1, 'l': 3, 'o': 2, 'w': 1, 'r': 1, 'd': 1}"
      ]
     },
     "execution_count": 24,
     "metadata": {},
     "output_type": "execute_result"
    }
   ],
   "source": [
    "# Example Output\n",
    "{'h': 1, 'e': 1, 'l': 3, 'o': 2, 'w': 1, 'r': 1, 'd': 1}"
   ]
  },
  {
   "cell_type": "code",
   "execution_count": null,
   "metadata": {
    "colab": {
     "base_uri": "https://localhost:8080/"
    },
    "id": "aFVC9kojCnyG",
    "outputId": "b5ef3c01-91d7-4600-bc9d-3a9be1289f89"
   },
   "outputs": [
    {
     "name": "stdout",
     "output_type": "stream",
     "text": [
      "{'h': 1, 'e': 1, 'l': 3, 'o': 2, 'w': 1, 'r': 1, 'd': 1}\n"
     ]
    }
   ],
   "source": [
    "# Sol\n",
    "text = \"hello world\"\n",
    "\n",
    "# create a dictionary to store character frequencies\n",
    "char_count = {}\n",
    "\n",
    "# Iterate over each character\n",
    "for char in text:\n",
    "  if char != \" \":\n",
    "    if char in char_count:\n",
    "      char_count[char] += 1\n",
    "    else:\n",
    "      char_count[char] = 1\n",
    "\n",
    "print(char_count)"
   ]
  },
  {
   "cell_type": "markdown",
   "metadata": {
    "id": "6fJAezljF_M_"
   },
   "source": [
    "# Functions\n",
    "\n",
    "Definition:\n",
    "\n",
    "A function is a block of code that performs a specific task. Functions help in organizing code, reusing code, and improving readability."
   ]
  },
  {
   "cell_type": "code",
   "execution_count": null,
   "metadata": {
    "id": "5zSZdJdbFUJs"
   },
   "outputs": [],
   "source": [
    "# Syntax\n",
    "\n",
    "def function_name(parameters):\n",
    "  \"\"\" What the function does \"\"\"\n",
    "  # Function body\n",
    "  return expression"
   ]
  },
  {
   "cell_type": "code",
   "execution_count": null,
   "metadata": {
    "colab": {
     "base_uri": "https://localhost:8080/"
    },
    "id": "iu6K04-iGwdL",
    "outputId": "67b50c84-1ee3-4eb3-a987-f4640ea261ce"
   },
   "outputs": [
    {
     "name": "stdout",
     "output_type": "stream",
     "text": [
      "The number is even\n"
     ]
    }
   ],
   "source": [
    "## Why Functions ?\n",
    "\n",
    "num = 24\n",
    "if num%2==0:\n",
    "  print(\"The number is even\")\n",
    "else:\n",
    "  print(\"The number is odd\")"
   ]
  },
  {
   "cell_type": "code",
   "execution_count": null,
   "metadata": {
    "id": "9LpwtXr3HEIq"
   },
   "outputs": [],
   "source": [
    "def even_or_odd(num):\n",
    "  \"\"\" This Function finds even or odd \"\"\"\n",
    "  if num % 2 == 0:\n",
    "    print(\"The number is even\")\n",
    "  else:\n",
    "    print(\"The number is odd\")"
   ]
  },
  {
   "cell_type": "code",
   "execution_count": null,
   "metadata": {
    "colab": {
     "base_uri": "https://localhost:8080/"
    },
    "id": "5ox59nJaHf7d",
    "outputId": "e8bc40d8-6dff-44b9-e547-2a21d4f64a44"
   },
   "outputs": [
    {
     "name": "stdout",
     "output_type": "stream",
     "text": [
      "The number is odd\n"
     ]
    }
   ],
   "source": [
    "# Calling this function\n",
    "even_or_odd(45)"
   ]
  },
  {
   "cell_type": "code",
   "execution_count": null,
   "metadata": {
    "colab": {
     "base_uri": "https://localhost:8080/"
    },
    "id": "EPVqAybcHnlU",
    "outputId": "74f20884-3df3-471c-a404-732d1739930f"
   },
   "outputs": [
    {
     "name": "stdout",
     "output_type": "stream",
     "text": [
      "10\n"
     ]
    }
   ],
   "source": [
    "# Functions with multiple parameters\n",
    "\n",
    "def add(a,b):\n",
    "  return a+b\n",
    "\n",
    "result = add(4,6)\n",
    "print(result)"
   ]
  },
  {
   "cell_type": "code",
   "execution_count": null,
   "metadata": {
    "colab": {
     "base_uri": "https://localhost:8080/"
    },
    "id": "S9XlWeIJIUyR",
    "outputId": "372990d0-3f0d-485c-d42f-1093b904ea7c"
   },
   "outputs": [
    {
     "name": "stdout",
     "output_type": "stream",
     "text": [
      "24\n"
     ]
    }
   ],
   "source": [
    "def mul(a,b):\n",
    "  return a*b\n",
    "\n",
    "result = mul(4,6)\n",
    "print(result)"
   ]
  },
  {
   "cell_type": "code",
   "execution_count": null,
   "metadata": {
    "colab": {
     "base_uri": "https://localhost:8080/"
    },
    "id": "KYPHalMQIeKp",
    "outputId": "b0e93383-4d09-45dc-ec4b-393c19e58932"
   },
   "outputs": [
    {
     "name": "stdout",
     "output_type": "stream",
     "text": [
      "Hello Harsh Welcome to the Class!\n"
     ]
    }
   ],
   "source": [
    "def greet(name):\n",
    "  print(f\"Hello {name} Welcome to the Class!\")\n",
    "\n",
    "greet(\"Harsh\")"
   ]
  },
  {
   "cell_type": "code",
   "execution_count": null,
   "metadata": {
    "colab": {
     "base_uri": "https://localhost:8080/"
    },
    "id": "KG4M6jDtI4vE",
    "outputId": "08e31130-7385-49d6-cea7-195a61ec6127"
   },
   "outputs": [
    {
     "name": "stdout",
     "output_type": "stream",
     "text": [
      "Hello Guest Welcome to the Class!\n"
     ]
    }
   ],
   "source": [
    "# Default Parameters\n",
    "\n",
    "def greet(name = \"Guest\"):\n",
    "  print(f\"Hello {name} Welcome to the Class!\")\n",
    "\n",
    "greet()"
   ]
  },
  {
   "cell_type": "markdown",
   "metadata": {
    "id": "YRZCQfQ0JdUK"
   },
   "source": [
    "### Positional Arguments\n",
    "* Positional arguments are passed to a function based on their position or order.\n",
    "* The function matches the values with the parameters in the order they are provided."
   ]
  },
  {
   "cell_type": "code",
   "execution_count": null,
   "metadata": {
    "colab": {
     "base_uri": "https://localhost:8080/"
    },
    "id": "dstnABv_JH8-",
    "outputId": "401527cf-0ec5-4267-dd60-39a9699b2a5e"
   },
   "outputs": [
    {
     "name": "stdout",
     "output_type": "stream",
     "text": [
      "Hello Alice, you are 25 years old!\n"
     ]
    }
   ],
   "source": [
    "def greet(name, age):\n",
    "  print(f\"Hello {name}, you are {age} years old!\")\n",
    "\n",
    "# Call using positional arguments\n",
    "greet(\"Alice\", 25)"
   ]
  },
  {
   "cell_type": "markdown",
   "metadata": {
    "id": "mjaWTH0OKbWf"
   },
   "source": [
    "#### Keyword Arguments\n",
    "* Keyword arguments are passed to a function by explicitly specifying the parameter name along with its value\n",
    "* The order of arguments does not matter since thet are matched by name"
   ]
  },
  {
   "cell_type": "code",
   "execution_count": null,
   "metadata": {
    "colab": {
     "base_uri": "https://localhost:8080/"
    },
    "id": "-YVq6odGJ0qY",
    "outputId": "03356e0a-c9ea-4cee-e646-74ad679c523e"
   },
   "outputs": [
    {
     "name": "stdout",
     "output_type": "stream",
     "text": [
      "Hello Alice, you are 25 years old!\n"
     ]
    }
   ],
   "source": [
    "def greet(name, age):\n",
    "  print(f\"Hello {name}, you are {age} years old!\")\n",
    "\n",
    "# Call using keyword arguments\n",
    "greet(age = 25, name=\"Alice\")"
   ]
  },
  {
   "cell_type": "code",
   "execution_count": null,
   "metadata": {
    "id": "hzx72_PhLBeA"
   },
   "outputs": [],
   "source": [
    "# Variable Length Arguments\n",
    "\n",
    "def print_numbers(*harsh):\n",
    "  for number in harsh:\n",
    "    print(number)"
   ]
  },
  {
   "cell_type": "code",
   "execution_count": null,
   "metadata": {
    "colab": {
     "base_uri": "https://localhost:8080/"
    },
    "id": "vkp9Cu33L7IU",
    "outputId": "4c67c1f5-350f-480d-a8f0-eea43cd8f4a0"
   },
   "outputs": [
    {
     "name": "stdout",
     "output_type": "stream",
     "text": [
      "1\n",
      "2\n",
      "3\n",
      "4\n",
      "5\n",
      "6\n",
      "7\n",
      "8\n",
      "19\n",
      "123\n",
      "23\n",
      "2\n",
      "42\n",
      "35\n",
      "345\n",
      "23\n",
      "23\n",
      "Hello\n",
      "Harsh\n"
     ]
    }
   ],
   "source": [
    "print_numbers(1,2,3,4,5,6,7,8,19,123,23,2,42,35,345,23,23,\"Hello\",\"Harsh\")"
   ]
  },
  {
   "cell_type": "code",
   "execution_count": null,
   "metadata": {
    "id": "NfpEPb-4MDCh"
   },
   "outputs": [],
   "source": [
    "def print_numbers(*args):\n",
    "  for number in args:\n",
    "    print(number)"
   ]
  },
  {
   "cell_type": "code",
   "execution_count": null,
   "metadata": {
    "id": "enwB0KtaMN9A"
   },
   "outputs": [],
   "source": [
    "# Keyword Arguments\n",
    "\n",
    "def print_details(**kwargs):\n",
    "  for key,value in kwargs.items():\n",
    "    print(f'{key}:{value}')"
   ]
  },
  {
   "cell_type": "code",
   "execution_count": null,
   "metadata": {
    "colab": {
     "base_uri": "https://localhost:8080/"
    },
    "id": "7Rbn657XMkAw",
    "outputId": "405b14a7-a088-4b64-f2e7-8f1d2c18188b"
   },
   "outputs": [
    {
     "name": "stdout",
     "output_type": "stream",
     "text": [
      "name:Harsh\n",
      "age:32\n",
      "country:India\n",
      "phone_number:982398232\n"
     ]
    }
   ],
   "source": [
    "print_details(name=\"Harsh\",age=\"32\", country=\"India\", phone_number = 982398232)"
   ]
  },
  {
   "cell_type": "code",
   "execution_count": null,
   "metadata": {
    "colab": {
     "base_uri": "https://localhost:8080/"
    },
    "id": "j1lL0AypMwLb",
    "outputId": "735fd687-a187-4b1b-bd8f-f98c95c046d4"
   },
   "outputs": [
    {
     "data": {
      "text/plain": [
       "6"
      ]
     },
     "execution_count": 52,
     "metadata": {},
     "output_type": "execute_result"
    }
   ],
   "source": [
    "# Return statements\n",
    "def mul(a,b):\n",
    "  return a*b\n",
    "\n",
    "mul(2,3)"
   ]
  },
  {
   "cell_type": "code",
   "execution_count": null,
   "metadata": {
    "colab": {
     "base_uri": "https://localhost:8080/"
    },
    "id": "phM5vOmcN1pc",
    "outputId": "c95297ff-61a4-4e53-9f7d-559a034a30c3"
   },
   "outputs": [
    {
     "data": {
      "text/plain": [
       "(6, 2, 3)"
      ]
     },
     "execution_count": 54,
     "metadata": {},
     "output_type": "execute_result"
    }
   ],
   "source": [
    "# Return multiple Parameters\n",
    "def mul(a,b):\n",
    "  return a*b,a,b\n",
    "\n",
    "mul(2,3)"
   ]
  },
  {
   "cell_type": "markdown",
   "metadata": {
    "id": "hxggQv8b0K5G"
   },
   "source": [
    "# Data Analysis With Python"
   ]
  },
  {
   "cell_type": "markdown",
   "metadata": {
    "id": "teSSrhZ-0Nr2"
   },
   "source": [
    "## Numpy"
   ]
  },
  {
   "cell_type": "markdown",
   "metadata": {
    "id": "UMnrK35d0pLh"
   },
   "source": [
    "NumPy is a fundamental library for scientific computing in Python. It provides support for arrays and matrices, along with a collection of mathematical functions to operate on these data structures. In this lesson, we will cover the basics of NumPy, focusing on arrays and vectorized operations."
   ]
  },
  {
   "cell_type": "code",
   "execution_count": null,
   "metadata": {
    "colab": {
     "base_uri": "https://localhost:8080/"
    },
    "id": "qTV4iXktOLNn",
    "outputId": "f0247a29-cdfb-4b34-93bc-f6054a7c7787"
   },
   "outputs": [
    {
     "name": "stdout",
     "output_type": "stream",
     "text": [
      "Requirement already satisfied: numpy in /usr/local/lib/python3.10/dist-packages (1.26.4)\n"
     ]
    }
   ],
   "source": [
    "pip install numpy"
   ]
  },
  {
   "cell_type": "code",
   "execution_count": null,
   "metadata": {
    "colab": {
     "base_uri": "https://localhost:8080/"
    },
    "id": "LxP3ksHE1Fvd",
    "outputId": "bbfddc9e-f2b3-4ad4-94ef-74034af37384"
   },
   "outputs": [
    {
     "name": "stdout",
     "output_type": "stream",
     "text": [
      "[1 2 3 4 5]\n",
      "<class 'numpy.ndarray'>\n",
      "(5,)\n"
     ]
    }
   ],
   "source": [
    "import numpy as np\n",
    "\n",
    "# Creating array using Numpy\n",
    "# Creating a 1d array\n",
    "\n",
    "arr1 = np.array([1,2,3,4,5])\n",
    "print(arr1)\n",
    "print(type(arr1))\n",
    "print(arr1.shape)"
   ]
  },
  {
   "cell_type": "code",
   "execution_count": null,
   "metadata": {
    "colab": {
     "base_uri": "https://localhost:8080/"
    },
    "id": "8XL4Jxuc2WlY",
    "outputId": "5b97c677-4222-4cbf-b02c-84799f80a589"
   },
   "outputs": [
    {
     "data": {
      "text/plain": [
       "array([[1, 2, 3, 4, 5]])"
      ]
     },
     "execution_count": 5,
     "metadata": {},
     "output_type": "execute_result"
    }
   ],
   "source": [
    "# 1d Array\n",
    "arr2 = np.array([1,2,3,4,5])\n",
    "arr2.reshape(1,5) # 1 Row and 5 Columns"
   ]
  },
  {
   "cell_type": "code",
   "execution_count": null,
   "metadata": {
    "colab": {
     "base_uri": "https://localhost:8080/"
    },
    "id": "Vr885KRy24EF",
    "outputId": "f906a7f0-a19c-4720-fe55-79067d646b8e"
   },
   "outputs": [
    {
     "data": {
      "text/plain": [
       "(1, 5)"
      ]
     },
     "execution_count": 6,
     "metadata": {},
     "output_type": "execute_result"
    }
   ],
   "source": [
    "arr2 = np.array([[1,2,3,4,5]])\n",
    "arr2.shape"
   ]
  },
  {
   "cell_type": "code",
   "execution_count": null,
   "metadata": {
    "colab": {
     "base_uri": "https://localhost:8080/"
    },
    "id": "wJGBqF_G3NR6",
    "outputId": "c86309a1-b759-4e66-98ad-4432536a85a4"
   },
   "outputs": [
    {
     "name": "stdout",
     "output_type": "stream",
     "text": [
      "[[1 2 3 4 5]\n",
      " [2 3 4 5 6]]\n",
      "(2, 5)\n"
     ]
    }
   ],
   "source": [
    "# 2d array\n",
    "arr2 = np.array([[1,2,3,4,5],[2,3,4,5,6]])\n",
    "print(arr2)\n",
    "print(arr2.shape)"
   ]
  },
  {
   "cell_type": "code",
   "execution_count": null,
   "metadata": {
    "colab": {
     "base_uri": "https://localhost:8080/"
    },
    "id": "Q-QPXa7Y31jS",
    "outputId": "63524825-e355-4936-ebf3-5ad5bbfdc1f3"
   },
   "outputs": [
    {
     "name": "stdout",
     "output_type": "stream",
     "text": [
      "[[0]\n",
      " [2]\n",
      " [4]\n",
      " [6]\n",
      " [8]]\n"
     ]
    }
   ],
   "source": [
    "# numpy arange function\n",
    "\n",
    "arr3 = np.arange(0,10,2).reshape(5,1)\n",
    "print(arr3)\n",
    "# print(arr3.shape)\n"
   ]
  },
  {
   "cell_type": "code",
   "execution_count": null,
   "metadata": {
    "colab": {
     "base_uri": "https://localhost:8080/"
    },
    "id": "Cko-Gv0N4Tke",
    "outputId": "aeec4168-4afe-4b83-9496-17e019f63a80"
   },
   "outputs": [
    {
     "data": {
      "text/plain": [
       "array([[1., 1., 1., 1., 1., 1., 1., 1., 1.],\n",
       "       [1., 1., 1., 1., 1., 1., 1., 1., 1.],\n",
       "       [1., 1., 1., 1., 1., 1., 1., 1., 1.],\n",
       "       [1., 1., 1., 1., 1., 1., 1., 1., 1.],\n",
       "       [1., 1., 1., 1., 1., 1., 1., 1., 1.],\n",
       "       [1., 1., 1., 1., 1., 1., 1., 1., 1.],\n",
       "       [1., 1., 1., 1., 1., 1., 1., 1., 1.],\n",
       "       [1., 1., 1., 1., 1., 1., 1., 1., 1.],\n",
       "       [1., 1., 1., 1., 1., 1., 1., 1., 1.],\n",
       "       [1., 1., 1., 1., 1., 1., 1., 1., 1.]])"
      ]
     },
     "execution_count": 21,
     "metadata": {},
     "output_type": "execute_result"
    }
   ],
   "source": [
    "# numpy ones\n",
    "np.ones((10,9))"
   ]
  },
  {
   "cell_type": "code",
   "execution_count": null,
   "metadata": {
    "colab": {
     "base_uri": "https://localhost:8080/"
    },
    "id": "0JtBcRmN5_kh",
    "outputId": "a9a8f881-5d25-412f-f946-f36c6eb5f7d5"
   },
   "outputs": [
    {
     "data": {
      "text/plain": [
       "array([[1., 0., 0., 0., 0., 0., 0., 0., 0., 0.],\n",
       "       [0., 1., 0., 0., 0., 0., 0., 0., 0., 0.],\n",
       "       [0., 0., 1., 0., 0., 0., 0., 0., 0., 0.],\n",
       "       [0., 0., 0., 1., 0., 0., 0., 0., 0., 0.],\n",
       "       [0., 0., 0., 0., 1., 0., 0., 0., 0., 0.],\n",
       "       [0., 0., 0., 0., 0., 1., 0., 0., 0., 0.],\n",
       "       [0., 0., 0., 0., 0., 0., 1., 0., 0., 0.],\n",
       "       [0., 0., 0., 0., 0., 0., 0., 1., 0., 0.],\n",
       "       [0., 0., 0., 0., 0., 0., 0., 0., 1., 0.],\n",
       "       [0., 0., 0., 0., 0., 0., 0., 0., 0., 1.]])"
      ]
     },
     "execution_count": 30,
     "metadata": {},
     "output_type": "execute_result"
    }
   ],
   "source": [
    "# Identity Matrix\n",
    "np.eye(10)"
   ]
  },
  {
   "cell_type": "code",
   "execution_count": null,
   "metadata": {
    "colab": {
     "base_uri": "https://localhost:8080/"
    },
    "id": "4HX1410e6xjA",
    "outputId": "cd991ba8-7c38-4c61-cf5d-01b8fbdb1bbe"
   },
   "outputs": [
    {
     "name": "stdout",
     "output_type": "stream",
     "text": [
      "Array:\n",
      " [[1 2 3]\n",
      " [4 5 6]]\n",
      "............\n",
      "Shape (2, 3)\n",
      "............\n",
      "Number of Dimensions: 2\n",
      "............\n",
      "Size (number of elements): 6\n",
      "............\n",
      "Data Type: int64\n",
      "............\n",
      "Item size in bytes: 8\n"
     ]
    }
   ],
   "source": [
    "# Attributes of Numpy Array\n",
    "arr = np.array([[1,2,3],[4,5,6]])\n",
    "\n",
    "print(\"Array:\\n\", arr)\n",
    "print(\"............\")\n",
    "print(\"Shape\", arr.shape) # It has 2 rows and 3 Columns\n",
    "print(\"............\")\n",
    "print(\"Number of Dimensions:\", arr.ndim) # Identify the Dimensions\n",
    "print(\"............\")\n",
    "print(\"Size (number of elements):\", arr.size)\n",
    "print(\"............\")\n",
    "print(\"Data Type:\", arr.dtype)\n",
    "print(\"............\")\n",
    "print(\"Item size in bytes:\", arr.itemsize)"
   ]
  },
  {
   "cell_type": "code",
   "execution_count": null,
   "metadata": {
    "colab": {
     "base_uri": "https://localhost:8080/"
    },
    "id": "WYs2Of9z7KfT",
    "outputId": "76ffe0cd-4a38-43c8-ce76-cf213c9c367f"
   },
   "outputs": [
    {
     "name": "stdout",
     "output_type": "stream",
     "text": [
      "Addition: [11 22 33 44 55]\n",
      "Substraction: [ -9 -18 -27 -36 -45]\n",
      "Multiplication: [ 10  40  90 160 250]\n",
      "Division [0.1 0.1 0.1 0.1 0.1]\n"
     ]
    }
   ],
   "source": [
    "## Numpy Vectorized Operations\n",
    "\n",
    "arr1 = np.array([1,2,3,4,5])\n",
    "arr2 = np.array([10,20,30,40,50])\n",
    "\n",
    "### Element wise addition\n",
    "print(\"Addition:\", arr1+arr2)\n",
    "\n",
    "### Element wise Substraction\n",
    "print(\"Substraction:\", arr1-arr2)\n",
    "\n",
    "### Element wise Multiplication\n",
    "print(\"Multiplication:\", arr1 * arr2)\n",
    "\n",
    "### Element wise Division\n",
    "print(\"Division\", arr1/arr2)"
   ]
  },
  {
   "cell_type": "code",
   "execution_count": null,
   "metadata": {
    "colab": {
     "base_uri": "https://localhost:8080/"
    },
    "id": "lW-XJ78f-Sou",
    "outputId": "78147d31-90d8-4985-a26b-c435fc313d28"
   },
   "outputs": [
    {
     "name": "stdout",
     "output_type": "stream",
     "text": [
      "[1.41421356 1.73205081 2.         2.23606798 2.44948974]\n",
      "[  7.3890561   20.08553692  54.59815003 148.4131591  403.42879349]\n",
      "[ 0.90929743  0.14112001 -0.7568025  -0.95892427 -0.2794155 ]\n",
      "[0.69314718 1.09861229 1.38629436 1.60943791 1.79175947]\n"
     ]
    }
   ],
   "source": [
    "### Universal Functions\n",
    "\n",
    "arr = np.array([2,3,4,5,6])\n",
    "\n",
    "# Square root\n",
    "print(np.sqrt(arr))\n",
    "\n",
    "# Exponential\n",
    "print(np.exp(arr))\n",
    "\n",
    "# Sine\n",
    "print(np.sin(arr))\n",
    "\n",
    "# Natural log\n",
    "print(np.log(arr))"
   ]
  },
  {
   "cell_type": "code",
   "execution_count": null,
   "metadata": {
    "colab": {
     "base_uri": "https://localhost:8080/"
    },
    "id": "N4_ZrDdo_bAm",
    "outputId": "7b048052-16ef-4a0a-a984-489da44d4c36"
   },
   "outputs": [
    {
     "name": "stdout",
     "output_type": "stream",
     "text": [
      "Array : \n",
      " [[ 1  2  3  4]\n",
      " [ 5  6  7  8]\n",
      " [ 9 10 11 12]]\n"
     ]
    }
   ],
   "source": [
    "## Array Slicing\n",
    "\n",
    "arr = np.array([[1,2,3,4],[5,6,7,8],[9,10,11,12]])\n",
    "print(\"Array : \\n\", arr)"
   ]
  },
  {
   "cell_type": "markdown",
   "metadata": {
    "id": "C3zuc59LDUUh"
   },
   "source": [
    "Start: stop: step"
   ]
  },
  {
   "cell_type": "code",
   "execution_count": null,
   "metadata": {
    "colab": {
     "base_uri": "https://localhost:8080/"
    },
    "id": "pVaVWGOpA78A",
    "outputId": "29f23123-2891-486f-f07e-b5737d5ae692"
   },
   "outputs": [
    {
     "name": "stdout",
     "output_type": "stream",
     "text": [
      "[[ 6  7]\n",
      " [10 11]]\n"
     ]
    }
   ],
   "source": [
    "print(arr[1:,1:3])"
   ]
  },
  {
   "cell_type": "code",
   "execution_count": null,
   "metadata": {
    "colab": {
     "base_uri": "https://localhost:8080/"
    },
    "id": "dHkr0XNeBPty",
    "outputId": "83b22030-cbec-44f1-ae67-a54ff1717204"
   },
   "outputs": [
    {
     "name": "stdout",
     "output_type": "stream",
     "text": [
      "1\n",
      ".........\n",
      "[[3 4]\n",
      " [7 8]]\n",
      ".........\n",
      "[[ 7  8]\n",
      " [11 12]]\n"
     ]
    }
   ],
   "source": [
    "print(arr[0,0])\n",
    "print('.........')\n",
    "print(arr[0:2,2:])\n",
    "print('.........')\n",
    "print(arr[1:,2:])"
   ]
  },
  {
   "cell_type": "code",
   "execution_count": null,
   "metadata": {
    "colab": {
     "base_uri": "https://localhost:8080/"
    },
    "id": "Uxw4rpl4Cf3p",
    "outputId": "556e2924-f119-463e-f22e-edb4659d1db2"
   },
   "outputs": [
    {
     "name": "stdout",
     "output_type": "stream",
     "text": [
      "[[ 1  2  3  4]\n",
      " [ 5  6  7  8]\n",
      " [ 9 10 11 12]]\n"
     ]
    }
   ],
   "source": [
    "print(arr)"
   ]
  },
  {
   "cell_type": "code",
   "execution_count": null,
   "metadata": {
    "colab": {
     "base_uri": "https://localhost:8080/"
    },
    "id": "19SfsATVFzTO",
    "outputId": "a8050698-d5e5-4ab7-9887-1fc7d19f9eb4"
   },
   "outputs": [
    {
     "name": "stdout",
     "output_type": "stream",
     "text": [
      "[[100   2   3   4]\n",
      " [  5   6   7   8]\n",
      " [  9  10  11  12]]\n"
     ]
    }
   ],
   "source": [
    "## Modifying array elements\n",
    "arr[0,0] = 100\n",
    "print(arr)"
   ]
  },
  {
   "cell_type": "code",
   "execution_count": null,
   "metadata": {
    "colab": {
     "base_uri": "https://localhost:8080/"
    },
    "id": "eg3AOzCkF9T0",
    "outputId": "3e6b5c7e-a5a8-4407-8c04-87df2bdd604b"
   },
   "outputs": [
    {
     "name": "stdout",
     "output_type": "stream",
     "text": [
      "[[100   2   3   4]\n",
      " [  5 100 100   8]\n",
      " [  9 100 100  12]]\n"
     ]
    }
   ],
   "source": [
    "arr[1:,1:3] = 100\n",
    "print(arr)"
   ]
  },
  {
   "cell_type": "code",
   "execution_count": null,
   "metadata": {
    "colab": {
     "base_uri": "https://localhost:8080/"
    },
    "id": "-XQGPRx8HPgg",
    "outputId": "3b0e7676-d564-4312-88f0-eb1729a56fc2"
   },
   "outputs": [
    {
     "name": "stdout",
     "output_type": "stream",
     "text": [
      "Mean: 5.5\n",
      "...............\n",
      "Median: 5.5\n",
      "...............\n",
      "Standard Deviation: 2.8722813232690143\n",
      "...............\n",
      "Variance 8.25\n"
     ]
    }
   ],
   "source": [
    "data = np.array([1,2,3,4,5,6,7,8,9,10])\n",
    "\n",
    "# Mean\n",
    "mean = np.mean(data)\n",
    "print(\"Mean:\",mean)\n",
    "print('...............')\n",
    "\n",
    "# Median\n",
    "median = np.median(data)\n",
    "print(\"Median:\",median)\n",
    "print('...............')\n",
    "\n",
    "# Standard Deviation\n",
    "std_dev = np.std(data)\n",
    "print(\"Standard Deviation:\", std_dev)\n",
    "print('...............')\n",
    "\n",
    "# Variance\n",
    "variance = np.var(data)\n",
    "print(\"Variance\",variance)"
   ]
  },
  {
   "cell_type": "code",
   "execution_count": null,
   "metadata": {
    "colab": {
     "base_uri": "https://localhost:8080/"
    },
    "id": "EDddYwzMHkqw",
    "outputId": "007d5062-bb66-4d04-ba62-83cb82b6425a"
   },
   "outputs": [
    {
     "data": {
      "text/plain": [
       "array([6, 7, 8])"
      ]
     },
     "execution_count": 80,
     "metadata": {},
     "output_type": "execute_result"
    }
   ],
   "source": [
    "# Logical Operations\n",
    "\n",
    "data = np.array([1,2,3,4,5,6,7,8,9,10])\n",
    "\n",
    "data[(data>5)& (data<=8)]"
   ]
  },
  {
   "cell_type": "markdown",
   "metadata": {
    "id": "R6N5CuMUJ51D"
   },
   "source": [
    "# Pandas- DataFrame and Series"
   ]
  },
  {
   "cell_type": "markdown",
   "metadata": {
    "id": "ki91jYIX9sA9"
   },
   "source": [
    "Pandas is a powerful data manipulation library in Python, widely used for data analysis and data cleaning. It provides two primary data structures: Series and DataFrame. A Series is a one-dimensional array-like object, while a DataFrame is a two-dimensional, size-mutable, and potentially heterogeneous tabular data structure with labeled axes (rows and columns)."
   ]
  },
  {
   "cell_type": "code",
   "execution_count": null,
   "metadata": {
    "id": "hQymIkBXJx0k"
   },
   "outputs": [],
   "source": [
    "import pandas as pd"
   ]
  },
  {
   "cell_type": "code",
   "execution_count": null,
   "metadata": {
    "colab": {
     "base_uri": "https://localhost:8080/"
    },
    "id": "4dVLwFGD-gUp",
    "outputId": "b98d0d0e-9f58-406f-d0b3-919d678f5df1"
   },
   "outputs": [
    {
     "name": "stdout",
     "output_type": "stream",
     "text": [
      "Series is \n",
      " 0     5\n",
      "1     6\n",
      "2     7\n",
      "3     8\n",
      "4     9\n",
      "5    10\n",
      "6    11\n",
      "7    12\n",
      "dtype: int64\n",
      "<class 'pandas.core.series.Series'>\n"
     ]
    }
   ],
   "source": [
    "# Series\n",
    "# Series is a 1d array like object. It is similar to a column in a table\n",
    "\n",
    "import pandas as pd\n",
    "data = [5,6,7,8,9,10,11,12]\n",
    "series = pd.Series(data)\n",
    "print(\"Series is \\n\",series)\n",
    "print(type(series))"
   ]
  },
  {
   "cell_type": "code",
   "execution_count": null,
   "metadata": {
    "colab": {
     "base_uri": "https://localhost:8080/"
    },
    "id": "JqfcbXgk_Pk9",
    "outputId": "da96cb79-0eb1-416c-cbed-cc0348d14e7b"
   },
   "outputs": [
    {
     "name": "stdout",
     "output_type": "stream",
     "text": [
      "a    1\n",
      "b    2\n",
      "c    3\n",
      "d    4\n",
      "e    5\n",
      "dtype: int64\n"
     ]
    }
   ],
   "source": [
    "## Creating a Series from a dictionary\n",
    "data = {'a':1, 'b':2, 'c':3, 'd':4, 'e':5}\n",
    "series_dict = pd.Series(data)\n",
    "print(series_dict)"
   ]
  },
  {
   "cell_type": "code",
   "execution_count": null,
   "metadata": {
    "colab": {
     "base_uri": "https://localhost:8080/"
    },
    "id": "-_VSAp1h_9kJ",
    "outputId": "d1df7d47-f057-444c-e02c-a5b50c7393a6"
   },
   "outputs": [
    {
     "name": "stdout",
     "output_type": "stream",
     "text": [
      "a    10\n",
      "b    20\n",
      "c    30\n",
      "d    40\n",
      "e    50\n",
      "dtype: int64\n",
      "<class 'pandas.core.series.Series'>\n"
     ]
    }
   ],
   "source": [
    "data = [10,20,30,40,50]\n",
    "indexes = ['a','b','c','d','e']\n",
    "ser = pd.Series(data,index=indexes)\n",
    "print(ser)\n",
    "print(type(ser))"
   ]
  },
  {
   "cell_type": "code",
   "execution_count": null,
   "metadata": {
    "colab": {
     "base_uri": "https://localhost:8080/"
    },
    "id": "vdoTanDLAd44",
    "outputId": "d485f38b-9d85-401c-d3a4-a7af925e3fcd"
   },
   "outputs": [
    {
     "name": "stdout",
     "output_type": "stream",
     "text": [
      "           Name  Age       City\n",
      "0  Harshvardhan   24      Noida\n",
      "1          Jack   26  Bangalore\n",
      "2          John   30   New York\n",
      "3          Adam   32    Florida\n",
      "<class 'pandas.core.frame.DataFrame'>\n"
     ]
    }
   ],
   "source": [
    "## DataFrame\n",
    "## Create a DataFrame from a dictionary of list\n",
    "\n",
    "data = {\n",
    "    \"Name\":['Harshvardhan','Jack','John','Adam'],\n",
    "    \"Age\":[24,26,30,32],\n",
    "    \"City\":[\"Noida\",\"Bangalore\",\"New York\",\"Florida\"]\n",
    "}\n",
    "\n",
    "df = pd.DataFrame(data)\n",
    "print(df)\n",
    "print(type(df))"
   ]
  },
  {
   "cell_type": "code",
   "execution_count": null,
   "metadata": {
    "colab": {
     "base_uri": "https://localhost:8080/"
    },
    "id": "ZpzprH-eCOIb",
    "outputId": "e176ff50-ef31-4f82-fef6-4d1ddba53e8e"
   },
   "outputs": [
    {
     "name": "stdout",
     "output_type": "stream",
     "text": [
      "    Name  Age       City\n",
      "0  Harsh   24      Noida\n",
      "1   Jack   27  Bangalore\n",
      "2  Rahul   22    Florida\n",
      "3  Divya   30        USA\n",
      "<class 'pandas.core.frame.DataFrame'>\n"
     ]
    }
   ],
   "source": [
    "## Create a DataFrame From a list of Dictionaries\n",
    "\n",
    "data = [\n",
    "    {\"Name\":\"Harsh\",\"Age\":24,\"City\":'Noida'},\n",
    "    {\"Name\":\"Jack\",\"Age\":27,\"City\":'Bangalore'},\n",
    "    {\"Name\":\"Rahul\",\"Age\":22,\"City\":'Florida'},\n",
    "    {\"Name\":\"Divya\",\"Age\":30,\"City\":'USA'},\n",
    "]\n",
    "\n",
    "df = pd.DataFrame(data)\n",
    "print(df)\n",
    "print(type(df))"
   ]
  },
  {
   "cell_type": "code",
   "execution_count": null,
   "metadata": {
    "colab": {
     "base_uri": "https://localhost:8080/",
     "height": 175
    },
    "id": "JnnJiwLdDuw1",
    "outputId": "c59d6942-70f5-4322-cf33-d8b56ad3c475"
   },
   "outputs": [
    {
     "data": {
      "application/vnd.google.colaboratory.intrinsic+json": {
       "summary": "{\n  \"name\": \"df\",\n  \"rows\": 4,\n  \"fields\": [\n    {\n      \"column\": \"Name\",\n      \"properties\": {\n        \"dtype\": \"string\",\n        \"num_unique_values\": 4,\n        \"samples\": [\n          \"Jack\",\n          \"Divya\",\n          \"Harsh\"\n        ],\n        \"semantic_type\": \"\",\n        \"description\": \"\"\n      }\n    },\n    {\n      \"column\": \"Age\",\n      \"properties\": {\n        \"dtype\": \"number\",\n        \"std\": 3,\n        \"min\": 22,\n        \"max\": 30,\n        \"num_unique_values\": 4,\n        \"samples\": [\n          27,\n          30,\n          24\n        ],\n        \"semantic_type\": \"\",\n        \"description\": \"\"\n      }\n    },\n    {\n      \"column\": \"City\",\n      \"properties\": {\n        \"dtype\": \"string\",\n        \"num_unique_values\": 4,\n        \"samples\": [\n          \"Bangalore\",\n          \"USA\",\n          \"Noida\"\n        ],\n        \"semantic_type\": \"\",\n        \"description\": \"\"\n      }\n    }\n  ]\n}",
       "type": "dataframe",
       "variable_name": "df"
      },
      "text/html": [
       "\n",
       "  <div id=\"df-6e8ea5fd-78cf-43d4-a836-ec624f0dbfd7\" class=\"colab-df-container\">\n",
       "    <div>\n",
       "<style scoped>\n",
       "    .dataframe tbody tr th:only-of-type {\n",
       "        vertical-align: middle;\n",
       "    }\n",
       "\n",
       "    .dataframe tbody tr th {\n",
       "        vertical-align: top;\n",
       "    }\n",
       "\n",
       "    .dataframe thead th {\n",
       "        text-align: right;\n",
       "    }\n",
       "</style>\n",
       "<table border=\"1\" class=\"dataframe\">\n",
       "  <thead>\n",
       "    <tr style=\"text-align: right;\">\n",
       "      <th></th>\n",
       "      <th>Name</th>\n",
       "      <th>Age</th>\n",
       "      <th>City</th>\n",
       "    </tr>\n",
       "  </thead>\n",
       "  <tbody>\n",
       "    <tr>\n",
       "      <th>0</th>\n",
       "      <td>Harsh</td>\n",
       "      <td>24</td>\n",
       "      <td>Noida</td>\n",
       "    </tr>\n",
       "    <tr>\n",
       "      <th>1</th>\n",
       "      <td>Jack</td>\n",
       "      <td>27</td>\n",
       "      <td>Bangalore</td>\n",
       "    </tr>\n",
       "    <tr>\n",
       "      <th>2</th>\n",
       "      <td>Rahul</td>\n",
       "      <td>22</td>\n",
       "      <td>Florida</td>\n",
       "    </tr>\n",
       "    <tr>\n",
       "      <th>3</th>\n",
       "      <td>Divya</td>\n",
       "      <td>30</td>\n",
       "      <td>USA</td>\n",
       "    </tr>\n",
       "  </tbody>\n",
       "</table>\n",
       "</div>\n",
       "    <div class=\"colab-df-buttons\">\n",
       "\n",
       "  <div class=\"colab-df-container\">\n",
       "    <button class=\"colab-df-convert\" onclick=\"convertToInteractive('df-6e8ea5fd-78cf-43d4-a836-ec624f0dbfd7')\"\n",
       "            title=\"Convert this dataframe to an interactive table.\"\n",
       "            style=\"display:none;\">\n",
       "\n",
       "  <svg xmlns=\"http://www.w3.org/2000/svg\" height=\"24px\" viewBox=\"0 -960 960 960\">\n",
       "    <path d=\"M120-120v-720h720v720H120Zm60-500h600v-160H180v160Zm220 220h160v-160H400v160Zm0 220h160v-160H400v160ZM180-400h160v-160H180v160Zm440 0h160v-160H620v160ZM180-180h160v-160H180v160Zm440 0h160v-160H620v160Z\"/>\n",
       "  </svg>\n",
       "    </button>\n",
       "\n",
       "  <style>\n",
       "    .colab-df-container {\n",
       "      display:flex;\n",
       "      gap: 12px;\n",
       "    }\n",
       "\n",
       "    .colab-df-convert {\n",
       "      background-color: #E8F0FE;\n",
       "      border: none;\n",
       "      border-radius: 50%;\n",
       "      cursor: pointer;\n",
       "      display: none;\n",
       "      fill: #1967D2;\n",
       "      height: 32px;\n",
       "      padding: 0 0 0 0;\n",
       "      width: 32px;\n",
       "    }\n",
       "\n",
       "    .colab-df-convert:hover {\n",
       "      background-color: #E2EBFA;\n",
       "      box-shadow: 0px 1px 2px rgba(60, 64, 67, 0.3), 0px 1px 3px 1px rgba(60, 64, 67, 0.15);\n",
       "      fill: #174EA6;\n",
       "    }\n",
       "\n",
       "    .colab-df-buttons div {\n",
       "      margin-bottom: 4px;\n",
       "    }\n",
       "\n",
       "    [theme=dark] .colab-df-convert {\n",
       "      background-color: #3B4455;\n",
       "      fill: #D2E3FC;\n",
       "    }\n",
       "\n",
       "    [theme=dark] .colab-df-convert:hover {\n",
       "      background-color: #434B5C;\n",
       "      box-shadow: 0px 1px 3px 1px rgba(0, 0, 0, 0.15);\n",
       "      filter: drop-shadow(0px 1px 2px rgba(0, 0, 0, 0.3));\n",
       "      fill: #FFFFFF;\n",
       "    }\n",
       "  </style>\n",
       "\n",
       "    <script>\n",
       "      const buttonEl =\n",
       "        document.querySelector('#df-6e8ea5fd-78cf-43d4-a836-ec624f0dbfd7 button.colab-df-convert');\n",
       "      buttonEl.style.display =\n",
       "        google.colab.kernel.accessAllowed ? 'block' : 'none';\n",
       "\n",
       "      async function convertToInteractive(key) {\n",
       "        const element = document.querySelector('#df-6e8ea5fd-78cf-43d4-a836-ec624f0dbfd7');\n",
       "        const dataTable =\n",
       "          await google.colab.kernel.invokeFunction('convertToInteractive',\n",
       "                                                    [key], {});\n",
       "        if (!dataTable) return;\n",
       "\n",
       "        const docLinkHtml = 'Like what you see? Visit the ' +\n",
       "          '<a target=\"_blank\" href=https://colab.research.google.com/notebooks/data_table.ipynb>data table notebook</a>'\n",
       "          + ' to learn more about interactive tables.';\n",
       "        element.innerHTML = '';\n",
       "        dataTable['output_type'] = 'display_data';\n",
       "        await google.colab.output.renderOutput(dataTable, element);\n",
       "        const docLink = document.createElement('div');\n",
       "        docLink.innerHTML = docLinkHtml;\n",
       "        element.appendChild(docLink);\n",
       "      }\n",
       "    </script>\n",
       "  </div>\n",
       "\n",
       "\n",
       "<div id=\"df-54e8d66d-1ba1-46ba-93da-d106d8ba1015\">\n",
       "  <button class=\"colab-df-quickchart\" onclick=\"quickchart('df-54e8d66d-1ba1-46ba-93da-d106d8ba1015')\"\n",
       "            title=\"Suggest charts\"\n",
       "            style=\"display:none;\">\n",
       "\n",
       "<svg xmlns=\"http://www.w3.org/2000/svg\" height=\"24px\"viewBox=\"0 0 24 24\"\n",
       "     width=\"24px\">\n",
       "    <g>\n",
       "        <path d=\"M19 3H5c-1.1 0-2 .9-2 2v14c0 1.1.9 2 2 2h14c1.1 0 2-.9 2-2V5c0-1.1-.9-2-2-2zM9 17H7v-7h2v7zm4 0h-2V7h2v10zm4 0h-2v-4h2v4z\"/>\n",
       "    </g>\n",
       "</svg>\n",
       "  </button>\n",
       "\n",
       "<style>\n",
       "  .colab-df-quickchart {\n",
       "      --bg-color: #E8F0FE;\n",
       "      --fill-color: #1967D2;\n",
       "      --hover-bg-color: #E2EBFA;\n",
       "      --hover-fill-color: #174EA6;\n",
       "      --disabled-fill-color: #AAA;\n",
       "      --disabled-bg-color: #DDD;\n",
       "  }\n",
       "\n",
       "  [theme=dark] .colab-df-quickchart {\n",
       "      --bg-color: #3B4455;\n",
       "      --fill-color: #D2E3FC;\n",
       "      --hover-bg-color: #434B5C;\n",
       "      --hover-fill-color: #FFFFFF;\n",
       "      --disabled-bg-color: #3B4455;\n",
       "      --disabled-fill-color: #666;\n",
       "  }\n",
       "\n",
       "  .colab-df-quickchart {\n",
       "    background-color: var(--bg-color);\n",
       "    border: none;\n",
       "    border-radius: 50%;\n",
       "    cursor: pointer;\n",
       "    display: none;\n",
       "    fill: var(--fill-color);\n",
       "    height: 32px;\n",
       "    padding: 0;\n",
       "    width: 32px;\n",
       "  }\n",
       "\n",
       "  .colab-df-quickchart:hover {\n",
       "    background-color: var(--hover-bg-color);\n",
       "    box-shadow: 0 1px 2px rgba(60, 64, 67, 0.3), 0 1px 3px 1px rgba(60, 64, 67, 0.15);\n",
       "    fill: var(--button-hover-fill-color);\n",
       "  }\n",
       "\n",
       "  .colab-df-quickchart-complete:disabled,\n",
       "  .colab-df-quickchart-complete:disabled:hover {\n",
       "    background-color: var(--disabled-bg-color);\n",
       "    fill: var(--disabled-fill-color);\n",
       "    box-shadow: none;\n",
       "  }\n",
       "\n",
       "  .colab-df-spinner {\n",
       "    border: 2px solid var(--fill-color);\n",
       "    border-color: transparent;\n",
       "    border-bottom-color: var(--fill-color);\n",
       "    animation:\n",
       "      spin 1s steps(1) infinite;\n",
       "  }\n",
       "\n",
       "  @keyframes spin {\n",
       "    0% {\n",
       "      border-color: transparent;\n",
       "      border-bottom-color: var(--fill-color);\n",
       "      border-left-color: var(--fill-color);\n",
       "    }\n",
       "    20% {\n",
       "      border-color: transparent;\n",
       "      border-left-color: var(--fill-color);\n",
       "      border-top-color: var(--fill-color);\n",
       "    }\n",
       "    30% {\n",
       "      border-color: transparent;\n",
       "      border-left-color: var(--fill-color);\n",
       "      border-top-color: var(--fill-color);\n",
       "      border-right-color: var(--fill-color);\n",
       "    }\n",
       "    40% {\n",
       "      border-color: transparent;\n",
       "      border-right-color: var(--fill-color);\n",
       "      border-top-color: var(--fill-color);\n",
       "    }\n",
       "    60% {\n",
       "      border-color: transparent;\n",
       "      border-right-color: var(--fill-color);\n",
       "    }\n",
       "    80% {\n",
       "      border-color: transparent;\n",
       "      border-right-color: var(--fill-color);\n",
       "      border-bottom-color: var(--fill-color);\n",
       "    }\n",
       "    90% {\n",
       "      border-color: transparent;\n",
       "      border-bottom-color: var(--fill-color);\n",
       "    }\n",
       "  }\n",
       "</style>\n",
       "\n",
       "  <script>\n",
       "    async function quickchart(key) {\n",
       "      const quickchartButtonEl =\n",
       "        document.querySelector('#' + key + ' button');\n",
       "      quickchartButtonEl.disabled = true;  // To prevent multiple clicks.\n",
       "      quickchartButtonEl.classList.add('colab-df-spinner');\n",
       "      try {\n",
       "        const charts = await google.colab.kernel.invokeFunction(\n",
       "            'suggestCharts', [key], {});\n",
       "      } catch (error) {\n",
       "        console.error('Error during call to suggestCharts:', error);\n",
       "      }\n",
       "      quickchartButtonEl.classList.remove('colab-df-spinner');\n",
       "      quickchartButtonEl.classList.add('colab-df-quickchart-complete');\n",
       "    }\n",
       "    (() => {\n",
       "      let quickchartButtonEl =\n",
       "        document.querySelector('#df-54e8d66d-1ba1-46ba-93da-d106d8ba1015 button');\n",
       "      quickchartButtonEl.style.display =\n",
       "        google.colab.kernel.accessAllowed ? 'block' : 'none';\n",
       "    })();\n",
       "  </script>\n",
       "</div>\n",
       "\n",
       "  <div id=\"id_a1f3d5c3-0c05-4c97-8e35-1581877908f3\">\n",
       "    <style>\n",
       "      .colab-df-generate {\n",
       "        background-color: #E8F0FE;\n",
       "        border: none;\n",
       "        border-radius: 50%;\n",
       "        cursor: pointer;\n",
       "        display: none;\n",
       "        fill: #1967D2;\n",
       "        height: 32px;\n",
       "        padding: 0 0 0 0;\n",
       "        width: 32px;\n",
       "      }\n",
       "\n",
       "      .colab-df-generate:hover {\n",
       "        background-color: #E2EBFA;\n",
       "        box-shadow: 0px 1px 2px rgba(60, 64, 67, 0.3), 0px 1px 3px 1px rgba(60, 64, 67, 0.15);\n",
       "        fill: #174EA6;\n",
       "      }\n",
       "\n",
       "      [theme=dark] .colab-df-generate {\n",
       "        background-color: #3B4455;\n",
       "        fill: #D2E3FC;\n",
       "      }\n",
       "\n",
       "      [theme=dark] .colab-df-generate:hover {\n",
       "        background-color: #434B5C;\n",
       "        box-shadow: 0px 1px 3px 1px rgba(0, 0, 0, 0.15);\n",
       "        filter: drop-shadow(0px 1px 2px rgba(0, 0, 0, 0.3));\n",
       "        fill: #FFFFFF;\n",
       "      }\n",
       "    </style>\n",
       "    <button class=\"colab-df-generate\" onclick=\"generateWithVariable('df')\"\n",
       "            title=\"Generate code using this dataframe.\"\n",
       "            style=\"display:none;\">\n",
       "\n",
       "  <svg xmlns=\"http://www.w3.org/2000/svg\" height=\"24px\"viewBox=\"0 0 24 24\"\n",
       "       width=\"24px\">\n",
       "    <path d=\"M7,19H8.4L18.45,9,17,7.55,7,17.6ZM5,21V16.75L18.45,3.32a2,2,0,0,1,2.83,0l1.4,1.43a1.91,1.91,0,0,1,.58,1.4,1.91,1.91,0,0,1-.58,1.4L9.25,21ZM18.45,9,17,7.55Zm-12,3A5.31,5.31,0,0,0,4.9,8.1,5.31,5.31,0,0,0,1,6.5,5.31,5.31,0,0,0,4.9,4.9,5.31,5.31,0,0,0,6.5,1,5.31,5.31,0,0,0,8.1,4.9,5.31,5.31,0,0,0,12,6.5,5.46,5.46,0,0,0,6.5,12Z\"/>\n",
       "  </svg>\n",
       "    </button>\n",
       "    <script>\n",
       "      (() => {\n",
       "      const buttonEl =\n",
       "        document.querySelector('#id_a1f3d5c3-0c05-4c97-8e35-1581877908f3 button.colab-df-generate');\n",
       "      buttonEl.style.display =\n",
       "        google.colab.kernel.accessAllowed ? 'block' : 'none';\n",
       "\n",
       "      buttonEl.onclick = () => {\n",
       "        google.colab.notebook.generateWithVariable('df');\n",
       "      }\n",
       "      })();\n",
       "    </script>\n",
       "  </div>\n",
       "\n",
       "    </div>\n",
       "  </div>\n"
      ],
      "text/plain": [
       "    Name  Age       City\n",
       "0  Harsh   24      Noida\n",
       "1   Jack   27  Bangalore\n",
       "2  Rahul   22    Florida\n",
       "3  Divya   30        USA"
      ]
     },
     "execution_count": 24,
     "metadata": {},
     "output_type": "execute_result"
    }
   ],
   "source": [
    "df"
   ]
  },
  {
   "cell_type": "code",
   "execution_count": null,
   "metadata": {
    "colab": {
     "base_uri": "https://localhost:8080/",
     "height": 736
    },
    "id": "alFBE3JzEcsQ",
    "outputId": "0c051e31-0cdd-47c2-8baa-ca8e48f0da6d"
   },
   "outputs": [
    {
     "data": {
      "application/vnd.google.colaboratory.intrinsic+json": {
       "summary": "{\n  \"name\": \"df\",\n  \"rows\": 240,\n  \"fields\": [\n    {\n      \"column\": \"Transaction ID\",\n      \"properties\": {\n        \"dtype\": \"number\",\n        \"std\": 69,\n        \"min\": 10001,\n        \"max\": 10240,\n        \"num_unique_values\": 240,\n        \"samples\": [\n          10025,\n          10007,\n          10094\n        ],\n        \"semantic_type\": \"\",\n        \"description\": \"\"\n      }\n    },\n    {\n      \"column\": \"Date\",\n      \"properties\": {\n        \"dtype\": \"object\",\n        \"num_unique_values\": 240,\n        \"samples\": [\n          \"2024-01-25\",\n          \"2024-01-07\",\n          \"2024-04-03\"\n        ],\n        \"semantic_type\": \"\",\n        \"description\": \"\"\n      }\n    },\n    {\n      \"column\": \"Product Category\",\n      \"properties\": {\n        \"dtype\": \"category\",\n        \"num_unique_values\": 6,\n        \"samples\": [\n          \"Electronics\",\n          \"Home Appliances\",\n          \"Sports\"\n        ],\n        \"semantic_type\": \"\",\n        \"description\": \"\"\n      }\n    },\n    {\n      \"column\": \"Product Name\",\n      \"properties\": {\n        \"dtype\": \"string\",\n        \"num_unique_values\": 232,\n        \"samples\": [\n          \"The Ordinary Caffeine Solution 5% + EGCG\",\n          \"Samsung QLED 4K TV\",\n          \"Dune by Frank Herbert\"\n        ],\n        \"semantic_type\": \"\",\n        \"description\": \"\"\n      }\n    },\n    {\n      \"column\": \"Units Sold\",\n      \"properties\": {\n        \"dtype\": \"number\",\n        \"std\": 1,\n        \"min\": 1,\n        \"max\": 10,\n        \"num_unique_values\": 7,\n        \"samples\": [\n          2,\n          1,\n          6\n        ],\n        \"semantic_type\": \"\",\n        \"description\": \"\"\n      }\n    },\n    {\n      \"column\": \"Unit Price\",\n      \"properties\": {\n        \"dtype\": \"number\",\n        \"std\": 429.4466949104776,\n        \"min\": 6.5,\n        \"max\": 3899.99,\n        \"num_unique_values\": 117,\n        \"samples\": [\n          219.99,\n          89.99,\n          79.99\n        ],\n        \"semantic_type\": \"\",\n        \"description\": \"\"\n      }\n    },\n    {\n      \"column\": \"Total Revenue\",\n      \"properties\": {\n        \"dtype\": \"number\",\n        \"std\": 485.80446856513214,\n        \"min\": 6.5,\n        \"max\": 3899.99,\n        \"num_unique_values\": 173,\n        \"samples\": [\n          6.7,\n          130.0,\n          15.0\n        ],\n        \"semantic_type\": \"\",\n        \"description\": \"\"\n      }\n    },\n    {\n      \"column\": \"Region\",\n      \"properties\": {\n        \"dtype\": \"category\",\n        \"num_unique_values\": 3,\n        \"samples\": [\n          \"North America\",\n          \"Europe\",\n          \"Asia\"\n        ],\n        \"semantic_type\": \"\",\n        \"description\": \"\"\n      }\n    },\n    {\n      \"column\": \"Payment Method\",\n      \"properties\": {\n        \"dtype\": \"category\",\n        \"num_unique_values\": 3,\n        \"samples\": [\n          \"Credit Card\",\n          \"PayPal\",\n          \"Debit Card\"\n        ],\n        \"semantic_type\": \"\",\n        \"description\": \"\"\n      }\n    }\n  ]\n}",
       "type": "dataframe",
       "variable_name": "df"
      },
      "text/html": [
       "\n",
       "  <div id=\"df-70e48d31-cff6-4671-8179-a6c730a025c6\" class=\"colab-df-container\">\n",
       "    <div>\n",
       "<style scoped>\n",
       "    .dataframe tbody tr th:only-of-type {\n",
       "        vertical-align: middle;\n",
       "    }\n",
       "\n",
       "    .dataframe tbody tr th {\n",
       "        vertical-align: top;\n",
       "    }\n",
       "\n",
       "    .dataframe thead th {\n",
       "        text-align: right;\n",
       "    }\n",
       "</style>\n",
       "<table border=\"1\" class=\"dataframe\">\n",
       "  <thead>\n",
       "    <tr style=\"text-align: right;\">\n",
       "      <th></th>\n",
       "      <th>Transaction ID</th>\n",
       "      <th>Date</th>\n",
       "      <th>Product Category</th>\n",
       "      <th>Product Name</th>\n",
       "      <th>Units Sold</th>\n",
       "      <th>Unit Price</th>\n",
       "      <th>Total Revenue</th>\n",
       "      <th>Region</th>\n",
       "      <th>Payment Method</th>\n",
       "    </tr>\n",
       "  </thead>\n",
       "  <tbody>\n",
       "    <tr>\n",
       "      <th>0</th>\n",
       "      <td>10001</td>\n",
       "      <td>2024-01-01</td>\n",
       "      <td>Electronics</td>\n",
       "      <td>iPhone 14 Pro</td>\n",
       "      <td>2</td>\n",
       "      <td>999.99</td>\n",
       "      <td>1999.98</td>\n",
       "      <td>North America</td>\n",
       "      <td>Credit Card</td>\n",
       "    </tr>\n",
       "    <tr>\n",
       "      <th>1</th>\n",
       "      <td>10002</td>\n",
       "      <td>2024-01-02</td>\n",
       "      <td>Home Appliances</td>\n",
       "      <td>Dyson V11 Vacuum</td>\n",
       "      <td>1</td>\n",
       "      <td>499.99</td>\n",
       "      <td>499.99</td>\n",
       "      <td>Europe</td>\n",
       "      <td>PayPal</td>\n",
       "    </tr>\n",
       "    <tr>\n",
       "      <th>2</th>\n",
       "      <td>10003</td>\n",
       "      <td>2024-01-03</td>\n",
       "      <td>Clothing</td>\n",
       "      <td>Levi's 501 Jeans</td>\n",
       "      <td>3</td>\n",
       "      <td>69.99</td>\n",
       "      <td>209.97</td>\n",
       "      <td>Asia</td>\n",
       "      <td>Debit Card</td>\n",
       "    </tr>\n",
       "    <tr>\n",
       "      <th>3</th>\n",
       "      <td>10004</td>\n",
       "      <td>2024-01-04</td>\n",
       "      <td>Books</td>\n",
       "      <td>The Da Vinci Code</td>\n",
       "      <td>4</td>\n",
       "      <td>15.99</td>\n",
       "      <td>63.96</td>\n",
       "      <td>North America</td>\n",
       "      <td>Credit Card</td>\n",
       "    </tr>\n",
       "    <tr>\n",
       "      <th>4</th>\n",
       "      <td>10005</td>\n",
       "      <td>2024-01-05</td>\n",
       "      <td>Beauty Products</td>\n",
       "      <td>Neutrogena Skincare Set</td>\n",
       "      <td>1</td>\n",
       "      <td>89.99</td>\n",
       "      <td>89.99</td>\n",
       "      <td>Europe</td>\n",
       "      <td>PayPal</td>\n",
       "    </tr>\n",
       "    <tr>\n",
       "      <th>...</th>\n",
       "      <td>...</td>\n",
       "      <td>...</td>\n",
       "      <td>...</td>\n",
       "      <td>...</td>\n",
       "      <td>...</td>\n",
       "      <td>...</td>\n",
       "      <td>...</td>\n",
       "      <td>...</td>\n",
       "      <td>...</td>\n",
       "    </tr>\n",
       "    <tr>\n",
       "      <th>235</th>\n",
       "      <td>10236</td>\n",
       "      <td>2024-08-23</td>\n",
       "      <td>Home Appliances</td>\n",
       "      <td>Nespresso Vertuo Next Coffee and Espresso Maker</td>\n",
       "      <td>1</td>\n",
       "      <td>159.99</td>\n",
       "      <td>159.99</td>\n",
       "      <td>Europe</td>\n",
       "      <td>PayPal</td>\n",
       "    </tr>\n",
       "    <tr>\n",
       "      <th>236</th>\n",
       "      <td>10237</td>\n",
       "      <td>2024-08-24</td>\n",
       "      <td>Clothing</td>\n",
       "      <td>Nike Air Force 1 Sneakers</td>\n",
       "      <td>3</td>\n",
       "      <td>90.00</td>\n",
       "      <td>270.00</td>\n",
       "      <td>Asia</td>\n",
       "      <td>Debit Card</td>\n",
       "    </tr>\n",
       "    <tr>\n",
       "      <th>237</th>\n",
       "      <td>10238</td>\n",
       "      <td>2024-08-25</td>\n",
       "      <td>Books</td>\n",
       "      <td>The Handmaid's Tale by Margaret Atwood</td>\n",
       "      <td>3</td>\n",
       "      <td>10.99</td>\n",
       "      <td>32.97</td>\n",
       "      <td>North America</td>\n",
       "      <td>Credit Card</td>\n",
       "    </tr>\n",
       "    <tr>\n",
       "      <th>238</th>\n",
       "      <td>10239</td>\n",
       "      <td>2024-08-26</td>\n",
       "      <td>Beauty Products</td>\n",
       "      <td>Sunday Riley Luna Sleeping Night Oil</td>\n",
       "      <td>1</td>\n",
       "      <td>55.00</td>\n",
       "      <td>55.00</td>\n",
       "      <td>Europe</td>\n",
       "      <td>PayPal</td>\n",
       "    </tr>\n",
       "    <tr>\n",
       "      <th>239</th>\n",
       "      <td>10240</td>\n",
       "      <td>2024-08-27</td>\n",
       "      <td>Sports</td>\n",
       "      <td>Yeti Rambler 20 oz Tumbler</td>\n",
       "      <td>2</td>\n",
       "      <td>29.99</td>\n",
       "      <td>59.98</td>\n",
       "      <td>Asia</td>\n",
       "      <td>Credit Card</td>\n",
       "    </tr>\n",
       "  </tbody>\n",
       "</table>\n",
       "<p>240 rows × 9 columns</p>\n",
       "</div>\n",
       "    <div class=\"colab-df-buttons\">\n",
       "\n",
       "  <div class=\"colab-df-container\">\n",
       "    <button class=\"colab-df-convert\" onclick=\"convertToInteractive('df-70e48d31-cff6-4671-8179-a6c730a025c6')\"\n",
       "            title=\"Convert this dataframe to an interactive table.\"\n",
       "            style=\"display:none;\">\n",
       "\n",
       "  <svg xmlns=\"http://www.w3.org/2000/svg\" height=\"24px\" viewBox=\"0 -960 960 960\">\n",
       "    <path d=\"M120-120v-720h720v720H120Zm60-500h600v-160H180v160Zm220 220h160v-160H400v160Zm0 220h160v-160H400v160ZM180-400h160v-160H180v160Zm440 0h160v-160H620v160ZM180-180h160v-160H180v160Zm440 0h160v-160H620v160Z\"/>\n",
       "  </svg>\n",
       "    </button>\n",
       "\n",
       "  <style>\n",
       "    .colab-df-container {\n",
       "      display:flex;\n",
       "      gap: 12px;\n",
       "    }\n",
       "\n",
       "    .colab-df-convert {\n",
       "      background-color: #E8F0FE;\n",
       "      border: none;\n",
       "      border-radius: 50%;\n",
       "      cursor: pointer;\n",
       "      display: none;\n",
       "      fill: #1967D2;\n",
       "      height: 32px;\n",
       "      padding: 0 0 0 0;\n",
       "      width: 32px;\n",
       "    }\n",
       "\n",
       "    .colab-df-convert:hover {\n",
       "      background-color: #E2EBFA;\n",
       "      box-shadow: 0px 1px 2px rgba(60, 64, 67, 0.3), 0px 1px 3px 1px rgba(60, 64, 67, 0.15);\n",
       "      fill: #174EA6;\n",
       "    }\n",
       "\n",
       "    .colab-df-buttons div {\n",
       "      margin-bottom: 4px;\n",
       "    }\n",
       "\n",
       "    [theme=dark] .colab-df-convert {\n",
       "      background-color: #3B4455;\n",
       "      fill: #D2E3FC;\n",
       "    }\n",
       "\n",
       "    [theme=dark] .colab-df-convert:hover {\n",
       "      background-color: #434B5C;\n",
       "      box-shadow: 0px 1px 3px 1px rgba(0, 0, 0, 0.15);\n",
       "      filter: drop-shadow(0px 1px 2px rgba(0, 0, 0, 0.3));\n",
       "      fill: #FFFFFF;\n",
       "    }\n",
       "  </style>\n",
       "\n",
       "    <script>\n",
       "      const buttonEl =\n",
       "        document.querySelector('#df-70e48d31-cff6-4671-8179-a6c730a025c6 button.colab-df-convert');\n",
       "      buttonEl.style.display =\n",
       "        google.colab.kernel.accessAllowed ? 'block' : 'none';\n",
       "\n",
       "      async function convertToInteractive(key) {\n",
       "        const element = document.querySelector('#df-70e48d31-cff6-4671-8179-a6c730a025c6');\n",
       "        const dataTable =\n",
       "          await google.colab.kernel.invokeFunction('convertToInteractive',\n",
       "                                                    [key], {});\n",
       "        if (!dataTable) return;\n",
       "\n",
       "        const docLinkHtml = 'Like what you see? Visit the ' +\n",
       "          '<a target=\"_blank\" href=https://colab.research.google.com/notebooks/data_table.ipynb>data table notebook</a>'\n",
       "          + ' to learn more about interactive tables.';\n",
       "        element.innerHTML = '';\n",
       "        dataTable['output_type'] = 'display_data';\n",
       "        await google.colab.output.renderOutput(dataTable, element);\n",
       "        const docLink = document.createElement('div');\n",
       "        docLink.innerHTML = docLinkHtml;\n",
       "        element.appendChild(docLink);\n",
       "      }\n",
       "    </script>\n",
       "  </div>\n",
       "\n",
       "\n",
       "<div id=\"df-15775af4-8b20-4dad-95f8-f2d68da3391f\">\n",
       "  <button class=\"colab-df-quickchart\" onclick=\"quickchart('df-15775af4-8b20-4dad-95f8-f2d68da3391f')\"\n",
       "            title=\"Suggest charts\"\n",
       "            style=\"display:none;\">\n",
       "\n",
       "<svg xmlns=\"http://www.w3.org/2000/svg\" height=\"24px\"viewBox=\"0 0 24 24\"\n",
       "     width=\"24px\">\n",
       "    <g>\n",
       "        <path d=\"M19 3H5c-1.1 0-2 .9-2 2v14c0 1.1.9 2 2 2h14c1.1 0 2-.9 2-2V5c0-1.1-.9-2-2-2zM9 17H7v-7h2v7zm4 0h-2V7h2v10zm4 0h-2v-4h2v4z\"/>\n",
       "    </g>\n",
       "</svg>\n",
       "  </button>\n",
       "\n",
       "<style>\n",
       "  .colab-df-quickchart {\n",
       "      --bg-color: #E8F0FE;\n",
       "      --fill-color: #1967D2;\n",
       "      --hover-bg-color: #E2EBFA;\n",
       "      --hover-fill-color: #174EA6;\n",
       "      --disabled-fill-color: #AAA;\n",
       "      --disabled-bg-color: #DDD;\n",
       "  }\n",
       "\n",
       "  [theme=dark] .colab-df-quickchart {\n",
       "      --bg-color: #3B4455;\n",
       "      --fill-color: #D2E3FC;\n",
       "      --hover-bg-color: #434B5C;\n",
       "      --hover-fill-color: #FFFFFF;\n",
       "      --disabled-bg-color: #3B4455;\n",
       "      --disabled-fill-color: #666;\n",
       "  }\n",
       "\n",
       "  .colab-df-quickchart {\n",
       "    background-color: var(--bg-color);\n",
       "    border: none;\n",
       "    border-radius: 50%;\n",
       "    cursor: pointer;\n",
       "    display: none;\n",
       "    fill: var(--fill-color);\n",
       "    height: 32px;\n",
       "    padding: 0;\n",
       "    width: 32px;\n",
       "  }\n",
       "\n",
       "  .colab-df-quickchart:hover {\n",
       "    background-color: var(--hover-bg-color);\n",
       "    box-shadow: 0 1px 2px rgba(60, 64, 67, 0.3), 0 1px 3px 1px rgba(60, 64, 67, 0.15);\n",
       "    fill: var(--button-hover-fill-color);\n",
       "  }\n",
       "\n",
       "  .colab-df-quickchart-complete:disabled,\n",
       "  .colab-df-quickchart-complete:disabled:hover {\n",
       "    background-color: var(--disabled-bg-color);\n",
       "    fill: var(--disabled-fill-color);\n",
       "    box-shadow: none;\n",
       "  }\n",
       "\n",
       "  .colab-df-spinner {\n",
       "    border: 2px solid var(--fill-color);\n",
       "    border-color: transparent;\n",
       "    border-bottom-color: var(--fill-color);\n",
       "    animation:\n",
       "      spin 1s steps(1) infinite;\n",
       "  }\n",
       "\n",
       "  @keyframes spin {\n",
       "    0% {\n",
       "      border-color: transparent;\n",
       "      border-bottom-color: var(--fill-color);\n",
       "      border-left-color: var(--fill-color);\n",
       "    }\n",
       "    20% {\n",
       "      border-color: transparent;\n",
       "      border-left-color: var(--fill-color);\n",
       "      border-top-color: var(--fill-color);\n",
       "    }\n",
       "    30% {\n",
       "      border-color: transparent;\n",
       "      border-left-color: var(--fill-color);\n",
       "      border-top-color: var(--fill-color);\n",
       "      border-right-color: var(--fill-color);\n",
       "    }\n",
       "    40% {\n",
       "      border-color: transparent;\n",
       "      border-right-color: var(--fill-color);\n",
       "      border-top-color: var(--fill-color);\n",
       "    }\n",
       "    60% {\n",
       "      border-color: transparent;\n",
       "      border-right-color: var(--fill-color);\n",
       "    }\n",
       "    80% {\n",
       "      border-color: transparent;\n",
       "      border-right-color: var(--fill-color);\n",
       "      border-bottom-color: var(--fill-color);\n",
       "    }\n",
       "    90% {\n",
       "      border-color: transparent;\n",
       "      border-bottom-color: var(--fill-color);\n",
       "    }\n",
       "  }\n",
       "</style>\n",
       "\n",
       "  <script>\n",
       "    async function quickchart(key) {\n",
       "      const quickchartButtonEl =\n",
       "        document.querySelector('#' + key + ' button');\n",
       "      quickchartButtonEl.disabled = true;  // To prevent multiple clicks.\n",
       "      quickchartButtonEl.classList.add('colab-df-spinner');\n",
       "      try {\n",
       "        const charts = await google.colab.kernel.invokeFunction(\n",
       "            'suggestCharts', [key], {});\n",
       "      } catch (error) {\n",
       "        console.error('Error during call to suggestCharts:', error);\n",
       "      }\n",
       "      quickchartButtonEl.classList.remove('colab-df-spinner');\n",
       "      quickchartButtonEl.classList.add('colab-df-quickchart-complete');\n",
       "    }\n",
       "    (() => {\n",
       "      let quickchartButtonEl =\n",
       "        document.querySelector('#df-15775af4-8b20-4dad-95f8-f2d68da3391f button');\n",
       "      quickchartButtonEl.style.display =\n",
       "        google.colab.kernel.accessAllowed ? 'block' : 'none';\n",
       "    })();\n",
       "  </script>\n",
       "</div>\n",
       "\n",
       "  <div id=\"id_79a035aa-9970-46a6-8dc2-7647fbe11c63\">\n",
       "    <style>\n",
       "      .colab-df-generate {\n",
       "        background-color: #E8F0FE;\n",
       "        border: none;\n",
       "        border-radius: 50%;\n",
       "        cursor: pointer;\n",
       "        display: none;\n",
       "        fill: #1967D2;\n",
       "        height: 32px;\n",
       "        padding: 0 0 0 0;\n",
       "        width: 32px;\n",
       "      }\n",
       "\n",
       "      .colab-df-generate:hover {\n",
       "        background-color: #E2EBFA;\n",
       "        box-shadow: 0px 1px 2px rgba(60, 64, 67, 0.3), 0px 1px 3px 1px rgba(60, 64, 67, 0.15);\n",
       "        fill: #174EA6;\n",
       "      }\n",
       "\n",
       "      [theme=dark] .colab-df-generate {\n",
       "        background-color: #3B4455;\n",
       "        fill: #D2E3FC;\n",
       "      }\n",
       "\n",
       "      [theme=dark] .colab-df-generate:hover {\n",
       "        background-color: #434B5C;\n",
       "        box-shadow: 0px 1px 3px 1px rgba(0, 0, 0, 0.15);\n",
       "        filter: drop-shadow(0px 1px 2px rgba(0, 0, 0, 0.3));\n",
       "        fill: #FFFFFF;\n",
       "      }\n",
       "    </style>\n",
       "    <button class=\"colab-df-generate\" onclick=\"generateWithVariable('df')\"\n",
       "            title=\"Generate code using this dataframe.\"\n",
       "            style=\"display:none;\">\n",
       "\n",
       "  <svg xmlns=\"http://www.w3.org/2000/svg\" height=\"24px\"viewBox=\"0 0 24 24\"\n",
       "       width=\"24px\">\n",
       "    <path d=\"M7,19H8.4L18.45,9,17,7.55,7,17.6ZM5,21V16.75L18.45,3.32a2,2,0,0,1,2.83,0l1.4,1.43a1.91,1.91,0,0,1,.58,1.4,1.91,1.91,0,0,1-.58,1.4L9.25,21ZM18.45,9,17,7.55Zm-12,3A5.31,5.31,0,0,0,4.9,8.1,5.31,5.31,0,0,0,1,6.5,5.31,5.31,0,0,0,4.9,4.9,5.31,5.31,0,0,0,6.5,1,5.31,5.31,0,0,0,8.1,4.9,5.31,5.31,0,0,0,12,6.5,5.46,5.46,0,0,0,6.5,12Z\"/>\n",
       "  </svg>\n",
       "    </button>\n",
       "    <script>\n",
       "      (() => {\n",
       "      const buttonEl =\n",
       "        document.querySelector('#id_79a035aa-9970-46a6-8dc2-7647fbe11c63 button.colab-df-generate');\n",
       "      buttonEl.style.display =\n",
       "        google.colab.kernel.accessAllowed ? 'block' : 'none';\n",
       "\n",
       "      buttonEl.onclick = () => {\n",
       "        google.colab.notebook.generateWithVariable('df');\n",
       "      }\n",
       "      })();\n",
       "    </script>\n",
       "  </div>\n",
       "\n",
       "    </div>\n",
       "  </div>\n"
      ],
      "text/plain": [
       "     Transaction ID        Date Product Category  \\\n",
       "0             10001  2024-01-01      Electronics   \n",
       "1             10002  2024-01-02  Home Appliances   \n",
       "2             10003  2024-01-03         Clothing   \n",
       "3             10004  2024-01-04            Books   \n",
       "4             10005  2024-01-05  Beauty Products   \n",
       "..              ...         ...              ...   \n",
       "235           10236  2024-08-23  Home Appliances   \n",
       "236           10237  2024-08-24         Clothing   \n",
       "237           10238  2024-08-25            Books   \n",
       "238           10239  2024-08-26  Beauty Products   \n",
       "239           10240  2024-08-27           Sports   \n",
       "\n",
       "                                        Product Name  Units Sold  Unit Price  \\\n",
       "0                                      iPhone 14 Pro           2      999.99   \n",
       "1                                   Dyson V11 Vacuum           1      499.99   \n",
       "2                                   Levi's 501 Jeans           3       69.99   \n",
       "3                                  The Da Vinci Code           4       15.99   \n",
       "4                            Neutrogena Skincare Set           1       89.99   \n",
       "..                                               ...         ...         ...   \n",
       "235  Nespresso Vertuo Next Coffee and Espresso Maker           1      159.99   \n",
       "236                        Nike Air Force 1 Sneakers           3       90.00   \n",
       "237           The Handmaid's Tale by Margaret Atwood           3       10.99   \n",
       "238             Sunday Riley Luna Sleeping Night Oil           1       55.00   \n",
       "239                       Yeti Rambler 20 oz Tumbler           2       29.99   \n",
       "\n",
       "     Total Revenue         Region Payment Method  \n",
       "0          1999.98  North America    Credit Card  \n",
       "1           499.99         Europe         PayPal  \n",
       "2           209.97           Asia     Debit Card  \n",
       "3            63.96  North America    Credit Card  \n",
       "4            89.99         Europe         PayPal  \n",
       "..             ...            ...            ...  \n",
       "235         159.99         Europe         PayPal  \n",
       "236         270.00           Asia     Debit Card  \n",
       "237          32.97  North America    Credit Card  \n",
       "238          55.00         Europe         PayPal  \n",
       "239          59.98           Asia    Credit Card  \n",
       "\n",
       "[240 rows x 9 columns]"
      ]
     },
     "execution_count": 25,
     "metadata": {},
     "output_type": "execute_result"
    }
   ],
   "source": [
    "df = pd.read_csv('/content/sales_data.csv')\n",
    "df"
   ]
  },
  {
   "cell_type": "code",
   "execution_count": null,
   "metadata": {
    "colab": {
     "base_uri": "https://localhost:8080/",
     "height": 310
    },
    "id": "Su4JoF-mFHmA",
    "outputId": "50ea9651-a6cd-4f16-c1a7-d5e1d72e10e6"
   },
   "outputs": [
    {
     "data": {
      "application/vnd.google.colaboratory.intrinsic+json": {
       "summary": "{\n  \"name\": \"df\",\n  \"rows\": 240,\n  \"fields\": [\n    {\n      \"column\": \"Transaction ID\",\n      \"properties\": {\n        \"dtype\": \"number\",\n        \"std\": 69,\n        \"min\": 10001,\n        \"max\": 10240,\n        \"num_unique_values\": 240,\n        \"samples\": [\n          10025,\n          10007,\n          10094\n        ],\n        \"semantic_type\": \"\",\n        \"description\": \"\"\n      }\n    },\n    {\n      \"column\": \"Date\",\n      \"properties\": {\n        \"dtype\": \"object\",\n        \"num_unique_values\": 240,\n        \"samples\": [\n          \"2024-01-25\",\n          \"2024-01-07\",\n          \"2024-04-03\"\n        ],\n        \"semantic_type\": \"\",\n        \"description\": \"\"\n      }\n    },\n    {\n      \"column\": \"Product Category\",\n      \"properties\": {\n        \"dtype\": \"category\",\n        \"num_unique_values\": 6,\n        \"samples\": [\n          \"Electronics\",\n          \"Home Appliances\",\n          \"Sports\"\n        ],\n        \"semantic_type\": \"\",\n        \"description\": \"\"\n      }\n    },\n    {\n      \"column\": \"Product Name\",\n      \"properties\": {\n        \"dtype\": \"string\",\n        \"num_unique_values\": 232,\n        \"samples\": [\n          \"The Ordinary Caffeine Solution 5% + EGCG\",\n          \"Samsung QLED 4K TV\",\n          \"Dune by Frank Herbert\"\n        ],\n        \"semantic_type\": \"\",\n        \"description\": \"\"\n      }\n    },\n    {\n      \"column\": \"Units Sold\",\n      \"properties\": {\n        \"dtype\": \"number\",\n        \"std\": 1,\n        \"min\": 1,\n        \"max\": 10,\n        \"num_unique_values\": 7,\n        \"samples\": [\n          2,\n          1,\n          6\n        ],\n        \"semantic_type\": \"\",\n        \"description\": \"\"\n      }\n    },\n    {\n      \"column\": \"Unit Price\",\n      \"properties\": {\n        \"dtype\": \"number\",\n        \"std\": 429.4466949104776,\n        \"min\": 6.5,\n        \"max\": 3899.99,\n        \"num_unique_values\": 117,\n        \"samples\": [\n          219.99,\n          89.99,\n          79.99\n        ],\n        \"semantic_type\": \"\",\n        \"description\": \"\"\n      }\n    },\n    {\n      \"column\": \"Total Revenue\",\n      \"properties\": {\n        \"dtype\": \"number\",\n        \"std\": 485.80446856513214,\n        \"min\": 6.5,\n        \"max\": 3899.99,\n        \"num_unique_values\": 173,\n        \"samples\": [\n          6.7,\n          130.0,\n          15.0\n        ],\n        \"semantic_type\": \"\",\n        \"description\": \"\"\n      }\n    },\n    {\n      \"column\": \"Region\",\n      \"properties\": {\n        \"dtype\": \"category\",\n        \"num_unique_values\": 3,\n        \"samples\": [\n          \"North America\",\n          \"Europe\",\n          \"Asia\"\n        ],\n        \"semantic_type\": \"\",\n        \"description\": \"\"\n      }\n    },\n    {\n      \"column\": \"Payment Method\",\n      \"properties\": {\n        \"dtype\": \"category\",\n        \"num_unique_values\": 3,\n        \"samples\": [\n          \"Credit Card\",\n          \"PayPal\",\n          \"Debit Card\"\n        ],\n        \"semantic_type\": \"\",\n        \"description\": \"\"\n      }\n    }\n  ]\n}",
       "type": "dataframe",
       "variable_name": "df"
      },
      "text/html": [
       "\n",
       "  <div id=\"df-854e825c-3bda-47fa-8016-26d374c60ae6\" class=\"colab-df-container\">\n",
       "    <div>\n",
       "<style scoped>\n",
       "    .dataframe tbody tr th:only-of-type {\n",
       "        vertical-align: middle;\n",
       "    }\n",
       "\n",
       "    .dataframe tbody tr th {\n",
       "        vertical-align: top;\n",
       "    }\n",
       "\n",
       "    .dataframe thead th {\n",
       "        text-align: right;\n",
       "    }\n",
       "</style>\n",
       "<table border=\"1\" class=\"dataframe\">\n",
       "  <thead>\n",
       "    <tr style=\"text-align: right;\">\n",
       "      <th></th>\n",
       "      <th>Transaction ID</th>\n",
       "      <th>Date</th>\n",
       "      <th>Product Category</th>\n",
       "      <th>Product Name</th>\n",
       "      <th>Units Sold</th>\n",
       "      <th>Unit Price</th>\n",
       "      <th>Total Revenue</th>\n",
       "      <th>Region</th>\n",
       "      <th>Payment Method</th>\n",
       "    </tr>\n",
       "  </thead>\n",
       "  <tbody>\n",
       "    <tr>\n",
       "      <th>0</th>\n",
       "      <td>10001</td>\n",
       "      <td>2024-01-01</td>\n",
       "      <td>Electronics</td>\n",
       "      <td>iPhone 14 Pro</td>\n",
       "      <td>2</td>\n",
       "      <td>999.99</td>\n",
       "      <td>1999.98</td>\n",
       "      <td>North America</td>\n",
       "      <td>Credit Card</td>\n",
       "    </tr>\n",
       "    <tr>\n",
       "      <th>1</th>\n",
       "      <td>10002</td>\n",
       "      <td>2024-01-02</td>\n",
       "      <td>Home Appliances</td>\n",
       "      <td>Dyson V11 Vacuum</td>\n",
       "      <td>1</td>\n",
       "      <td>499.99</td>\n",
       "      <td>499.99</td>\n",
       "      <td>Europe</td>\n",
       "      <td>PayPal</td>\n",
       "    </tr>\n",
       "    <tr>\n",
       "      <th>2</th>\n",
       "      <td>10003</td>\n",
       "      <td>2024-01-03</td>\n",
       "      <td>Clothing</td>\n",
       "      <td>Levi's 501 Jeans</td>\n",
       "      <td>3</td>\n",
       "      <td>69.99</td>\n",
       "      <td>209.97</td>\n",
       "      <td>Asia</td>\n",
       "      <td>Debit Card</td>\n",
       "    </tr>\n",
       "    <tr>\n",
       "      <th>3</th>\n",
       "      <td>10004</td>\n",
       "      <td>2024-01-04</td>\n",
       "      <td>Books</td>\n",
       "      <td>The Da Vinci Code</td>\n",
       "      <td>4</td>\n",
       "      <td>15.99</td>\n",
       "      <td>63.96</td>\n",
       "      <td>North America</td>\n",
       "      <td>Credit Card</td>\n",
       "    </tr>\n",
       "    <tr>\n",
       "      <th>4</th>\n",
       "      <td>10005</td>\n",
       "      <td>2024-01-05</td>\n",
       "      <td>Beauty Products</td>\n",
       "      <td>Neutrogena Skincare Set</td>\n",
       "      <td>1</td>\n",
       "      <td>89.99</td>\n",
       "      <td>89.99</td>\n",
       "      <td>Europe</td>\n",
       "      <td>PayPal</td>\n",
       "    </tr>\n",
       "  </tbody>\n",
       "</table>\n",
       "</div>\n",
       "    <div class=\"colab-df-buttons\">\n",
       "\n",
       "  <div class=\"colab-df-container\">\n",
       "    <button class=\"colab-df-convert\" onclick=\"convertToInteractive('df-854e825c-3bda-47fa-8016-26d374c60ae6')\"\n",
       "            title=\"Convert this dataframe to an interactive table.\"\n",
       "            style=\"display:none;\">\n",
       "\n",
       "  <svg xmlns=\"http://www.w3.org/2000/svg\" height=\"24px\" viewBox=\"0 -960 960 960\">\n",
       "    <path d=\"M120-120v-720h720v720H120Zm60-500h600v-160H180v160Zm220 220h160v-160H400v160Zm0 220h160v-160H400v160ZM180-400h160v-160H180v160Zm440 0h160v-160H620v160ZM180-180h160v-160H180v160Zm440 0h160v-160H620v160Z\"/>\n",
       "  </svg>\n",
       "    </button>\n",
       "\n",
       "  <style>\n",
       "    .colab-df-container {\n",
       "      display:flex;\n",
       "      gap: 12px;\n",
       "    }\n",
       "\n",
       "    .colab-df-convert {\n",
       "      background-color: #E8F0FE;\n",
       "      border: none;\n",
       "      border-radius: 50%;\n",
       "      cursor: pointer;\n",
       "      display: none;\n",
       "      fill: #1967D2;\n",
       "      height: 32px;\n",
       "      padding: 0 0 0 0;\n",
       "      width: 32px;\n",
       "    }\n",
       "\n",
       "    .colab-df-convert:hover {\n",
       "      background-color: #E2EBFA;\n",
       "      box-shadow: 0px 1px 2px rgba(60, 64, 67, 0.3), 0px 1px 3px 1px rgba(60, 64, 67, 0.15);\n",
       "      fill: #174EA6;\n",
       "    }\n",
       "\n",
       "    .colab-df-buttons div {\n",
       "      margin-bottom: 4px;\n",
       "    }\n",
       "\n",
       "    [theme=dark] .colab-df-convert {\n",
       "      background-color: #3B4455;\n",
       "      fill: #D2E3FC;\n",
       "    }\n",
       "\n",
       "    [theme=dark] .colab-df-convert:hover {\n",
       "      background-color: #434B5C;\n",
       "      box-shadow: 0px 1px 3px 1px rgba(0, 0, 0, 0.15);\n",
       "      filter: drop-shadow(0px 1px 2px rgba(0, 0, 0, 0.3));\n",
       "      fill: #FFFFFF;\n",
       "    }\n",
       "  </style>\n",
       "\n",
       "    <script>\n",
       "      const buttonEl =\n",
       "        document.querySelector('#df-854e825c-3bda-47fa-8016-26d374c60ae6 button.colab-df-convert');\n",
       "      buttonEl.style.display =\n",
       "        google.colab.kernel.accessAllowed ? 'block' : 'none';\n",
       "\n",
       "      async function convertToInteractive(key) {\n",
       "        const element = document.querySelector('#df-854e825c-3bda-47fa-8016-26d374c60ae6');\n",
       "        const dataTable =\n",
       "          await google.colab.kernel.invokeFunction('convertToInteractive',\n",
       "                                                    [key], {});\n",
       "        if (!dataTable) return;\n",
       "\n",
       "        const docLinkHtml = 'Like what you see? Visit the ' +\n",
       "          '<a target=\"_blank\" href=https://colab.research.google.com/notebooks/data_table.ipynb>data table notebook</a>'\n",
       "          + ' to learn more about interactive tables.';\n",
       "        element.innerHTML = '';\n",
       "        dataTable['output_type'] = 'display_data';\n",
       "        await google.colab.output.renderOutput(dataTable, element);\n",
       "        const docLink = document.createElement('div');\n",
       "        docLink.innerHTML = docLinkHtml;\n",
       "        element.appendChild(docLink);\n",
       "      }\n",
       "    </script>\n",
       "  </div>\n",
       "\n",
       "\n",
       "<div id=\"df-a6c7e397-f166-4155-baa9-091e5b7c57b3\">\n",
       "  <button class=\"colab-df-quickchart\" onclick=\"quickchart('df-a6c7e397-f166-4155-baa9-091e5b7c57b3')\"\n",
       "            title=\"Suggest charts\"\n",
       "            style=\"display:none;\">\n",
       "\n",
       "<svg xmlns=\"http://www.w3.org/2000/svg\" height=\"24px\"viewBox=\"0 0 24 24\"\n",
       "     width=\"24px\">\n",
       "    <g>\n",
       "        <path d=\"M19 3H5c-1.1 0-2 .9-2 2v14c0 1.1.9 2 2 2h14c1.1 0 2-.9 2-2V5c0-1.1-.9-2-2-2zM9 17H7v-7h2v7zm4 0h-2V7h2v10zm4 0h-2v-4h2v4z\"/>\n",
       "    </g>\n",
       "</svg>\n",
       "  </button>\n",
       "\n",
       "<style>\n",
       "  .colab-df-quickchart {\n",
       "      --bg-color: #E8F0FE;\n",
       "      --fill-color: #1967D2;\n",
       "      --hover-bg-color: #E2EBFA;\n",
       "      --hover-fill-color: #174EA6;\n",
       "      --disabled-fill-color: #AAA;\n",
       "      --disabled-bg-color: #DDD;\n",
       "  }\n",
       "\n",
       "  [theme=dark] .colab-df-quickchart {\n",
       "      --bg-color: #3B4455;\n",
       "      --fill-color: #D2E3FC;\n",
       "      --hover-bg-color: #434B5C;\n",
       "      --hover-fill-color: #FFFFFF;\n",
       "      --disabled-bg-color: #3B4455;\n",
       "      --disabled-fill-color: #666;\n",
       "  }\n",
       "\n",
       "  .colab-df-quickchart {\n",
       "    background-color: var(--bg-color);\n",
       "    border: none;\n",
       "    border-radius: 50%;\n",
       "    cursor: pointer;\n",
       "    display: none;\n",
       "    fill: var(--fill-color);\n",
       "    height: 32px;\n",
       "    padding: 0;\n",
       "    width: 32px;\n",
       "  }\n",
       "\n",
       "  .colab-df-quickchart:hover {\n",
       "    background-color: var(--hover-bg-color);\n",
       "    box-shadow: 0 1px 2px rgba(60, 64, 67, 0.3), 0 1px 3px 1px rgba(60, 64, 67, 0.15);\n",
       "    fill: var(--button-hover-fill-color);\n",
       "  }\n",
       "\n",
       "  .colab-df-quickchart-complete:disabled,\n",
       "  .colab-df-quickchart-complete:disabled:hover {\n",
       "    background-color: var(--disabled-bg-color);\n",
       "    fill: var(--disabled-fill-color);\n",
       "    box-shadow: none;\n",
       "  }\n",
       "\n",
       "  .colab-df-spinner {\n",
       "    border: 2px solid var(--fill-color);\n",
       "    border-color: transparent;\n",
       "    border-bottom-color: var(--fill-color);\n",
       "    animation:\n",
       "      spin 1s steps(1) infinite;\n",
       "  }\n",
       "\n",
       "  @keyframes spin {\n",
       "    0% {\n",
       "      border-color: transparent;\n",
       "      border-bottom-color: var(--fill-color);\n",
       "      border-left-color: var(--fill-color);\n",
       "    }\n",
       "    20% {\n",
       "      border-color: transparent;\n",
       "      border-left-color: var(--fill-color);\n",
       "      border-top-color: var(--fill-color);\n",
       "    }\n",
       "    30% {\n",
       "      border-color: transparent;\n",
       "      border-left-color: var(--fill-color);\n",
       "      border-top-color: var(--fill-color);\n",
       "      border-right-color: var(--fill-color);\n",
       "    }\n",
       "    40% {\n",
       "      border-color: transparent;\n",
       "      border-right-color: var(--fill-color);\n",
       "      border-top-color: var(--fill-color);\n",
       "    }\n",
       "    60% {\n",
       "      border-color: transparent;\n",
       "      border-right-color: var(--fill-color);\n",
       "    }\n",
       "    80% {\n",
       "      border-color: transparent;\n",
       "      border-right-color: var(--fill-color);\n",
       "      border-bottom-color: var(--fill-color);\n",
       "    }\n",
       "    90% {\n",
       "      border-color: transparent;\n",
       "      border-bottom-color: var(--fill-color);\n",
       "    }\n",
       "  }\n",
       "</style>\n",
       "\n",
       "  <script>\n",
       "    async function quickchart(key) {\n",
       "      const quickchartButtonEl =\n",
       "        document.querySelector('#' + key + ' button');\n",
       "      quickchartButtonEl.disabled = true;  // To prevent multiple clicks.\n",
       "      quickchartButtonEl.classList.add('colab-df-spinner');\n",
       "      try {\n",
       "        const charts = await google.colab.kernel.invokeFunction(\n",
       "            'suggestCharts', [key], {});\n",
       "      } catch (error) {\n",
       "        console.error('Error during call to suggestCharts:', error);\n",
       "      }\n",
       "      quickchartButtonEl.classList.remove('colab-df-spinner');\n",
       "      quickchartButtonEl.classList.add('colab-df-quickchart-complete');\n",
       "    }\n",
       "    (() => {\n",
       "      let quickchartButtonEl =\n",
       "        document.querySelector('#df-a6c7e397-f166-4155-baa9-091e5b7c57b3 button');\n",
       "      quickchartButtonEl.style.display =\n",
       "        google.colab.kernel.accessAllowed ? 'block' : 'none';\n",
       "    })();\n",
       "  </script>\n",
       "</div>\n",
       "\n",
       "    </div>\n",
       "  </div>\n"
      ],
      "text/plain": [
       "   Transaction ID        Date Product Category             Product Name  \\\n",
       "0           10001  2024-01-01      Electronics            iPhone 14 Pro   \n",
       "1           10002  2024-01-02  Home Appliances         Dyson V11 Vacuum   \n",
       "2           10003  2024-01-03         Clothing         Levi's 501 Jeans   \n",
       "3           10004  2024-01-04            Books        The Da Vinci Code   \n",
       "4           10005  2024-01-05  Beauty Products  Neutrogena Skincare Set   \n",
       "\n",
       "   Units Sold  Unit Price  Total Revenue         Region Payment Method  \n",
       "0           2      999.99        1999.98  North America    Credit Card  \n",
       "1           1      499.99         499.99         Europe         PayPal  \n",
       "2           3       69.99         209.97           Asia     Debit Card  \n",
       "3           4       15.99          63.96  North America    Credit Card  \n",
       "4           1       89.99          89.99         Europe         PayPal  "
      ]
     },
     "execution_count": 26,
     "metadata": {},
     "output_type": "execute_result"
    }
   ],
   "source": [
    "df.head(5)"
   ]
  },
  {
   "cell_type": "code",
   "execution_count": null,
   "metadata": {
    "colab": {
     "base_uri": "https://localhost:8080/",
     "height": 432
    },
    "id": "uFdF1Q5-FReT",
    "outputId": "45b931a6-f61f-4e28-a507-c6c60486eb5e"
   },
   "outputs": [
    {
     "data": {
      "application/vnd.google.colaboratory.intrinsic+json": {
       "repr_error": "0",
       "type": "dataframe"
      },
      "text/html": [
       "\n",
       "  <div id=\"df-6331a543-4d5e-4f06-a871-0214ed7fb249\" class=\"colab-df-container\">\n",
       "    <div>\n",
       "<style scoped>\n",
       "    .dataframe tbody tr th:only-of-type {\n",
       "        vertical-align: middle;\n",
       "    }\n",
       "\n",
       "    .dataframe tbody tr th {\n",
       "        vertical-align: top;\n",
       "    }\n",
       "\n",
       "    .dataframe thead th {\n",
       "        text-align: right;\n",
       "    }\n",
       "</style>\n",
       "<table border=\"1\" class=\"dataframe\">\n",
       "  <thead>\n",
       "    <tr style=\"text-align: right;\">\n",
       "      <th></th>\n",
       "      <th>Transaction ID</th>\n",
       "      <th>Date</th>\n",
       "      <th>Product Category</th>\n",
       "      <th>Product Name</th>\n",
       "      <th>Units Sold</th>\n",
       "      <th>Unit Price</th>\n",
       "      <th>Total Revenue</th>\n",
       "      <th>Region</th>\n",
       "      <th>Payment Method</th>\n",
       "    </tr>\n",
       "  </thead>\n",
       "  <tbody>\n",
       "    <tr>\n",
       "      <th>235</th>\n",
       "      <td>10236</td>\n",
       "      <td>2024-08-23</td>\n",
       "      <td>Home Appliances</td>\n",
       "      <td>Nespresso Vertuo Next Coffee and Espresso Maker</td>\n",
       "      <td>1</td>\n",
       "      <td>159.99</td>\n",
       "      <td>159.99</td>\n",
       "      <td>Europe</td>\n",
       "      <td>PayPal</td>\n",
       "    </tr>\n",
       "    <tr>\n",
       "      <th>236</th>\n",
       "      <td>10237</td>\n",
       "      <td>2024-08-24</td>\n",
       "      <td>Clothing</td>\n",
       "      <td>Nike Air Force 1 Sneakers</td>\n",
       "      <td>3</td>\n",
       "      <td>90.00</td>\n",
       "      <td>270.00</td>\n",
       "      <td>Asia</td>\n",
       "      <td>Debit Card</td>\n",
       "    </tr>\n",
       "    <tr>\n",
       "      <th>237</th>\n",
       "      <td>10238</td>\n",
       "      <td>2024-08-25</td>\n",
       "      <td>Books</td>\n",
       "      <td>The Handmaid's Tale by Margaret Atwood</td>\n",
       "      <td>3</td>\n",
       "      <td>10.99</td>\n",
       "      <td>32.97</td>\n",
       "      <td>North America</td>\n",
       "      <td>Credit Card</td>\n",
       "    </tr>\n",
       "    <tr>\n",
       "      <th>238</th>\n",
       "      <td>10239</td>\n",
       "      <td>2024-08-26</td>\n",
       "      <td>Beauty Products</td>\n",
       "      <td>Sunday Riley Luna Sleeping Night Oil</td>\n",
       "      <td>1</td>\n",
       "      <td>55.00</td>\n",
       "      <td>55.00</td>\n",
       "      <td>Europe</td>\n",
       "      <td>PayPal</td>\n",
       "    </tr>\n",
       "    <tr>\n",
       "      <th>239</th>\n",
       "      <td>10240</td>\n",
       "      <td>2024-08-27</td>\n",
       "      <td>Sports</td>\n",
       "      <td>Yeti Rambler 20 oz Tumbler</td>\n",
       "      <td>2</td>\n",
       "      <td>29.99</td>\n",
       "      <td>59.98</td>\n",
       "      <td>Asia</td>\n",
       "      <td>Credit Card</td>\n",
       "    </tr>\n",
       "  </tbody>\n",
       "</table>\n",
       "</div>\n",
       "    <div class=\"colab-df-buttons\">\n",
       "\n",
       "  <div class=\"colab-df-container\">\n",
       "    <button class=\"colab-df-convert\" onclick=\"convertToInteractive('df-6331a543-4d5e-4f06-a871-0214ed7fb249')\"\n",
       "            title=\"Convert this dataframe to an interactive table.\"\n",
       "            style=\"display:none;\">\n",
       "\n",
       "  <svg xmlns=\"http://www.w3.org/2000/svg\" height=\"24px\" viewBox=\"0 -960 960 960\">\n",
       "    <path d=\"M120-120v-720h720v720H120Zm60-500h600v-160H180v160Zm220 220h160v-160H400v160Zm0 220h160v-160H400v160ZM180-400h160v-160H180v160Zm440 0h160v-160H620v160ZM180-180h160v-160H180v160Zm440 0h160v-160H620v160Z\"/>\n",
       "  </svg>\n",
       "    </button>\n",
       "\n",
       "  <style>\n",
       "    .colab-df-container {\n",
       "      display:flex;\n",
       "      gap: 12px;\n",
       "    }\n",
       "\n",
       "    .colab-df-convert {\n",
       "      background-color: #E8F0FE;\n",
       "      border: none;\n",
       "      border-radius: 50%;\n",
       "      cursor: pointer;\n",
       "      display: none;\n",
       "      fill: #1967D2;\n",
       "      height: 32px;\n",
       "      padding: 0 0 0 0;\n",
       "      width: 32px;\n",
       "    }\n",
       "\n",
       "    .colab-df-convert:hover {\n",
       "      background-color: #E2EBFA;\n",
       "      box-shadow: 0px 1px 2px rgba(60, 64, 67, 0.3), 0px 1px 3px 1px rgba(60, 64, 67, 0.15);\n",
       "      fill: #174EA6;\n",
       "    }\n",
       "\n",
       "    .colab-df-buttons div {\n",
       "      margin-bottom: 4px;\n",
       "    }\n",
       "\n",
       "    [theme=dark] .colab-df-convert {\n",
       "      background-color: #3B4455;\n",
       "      fill: #D2E3FC;\n",
       "    }\n",
       "\n",
       "    [theme=dark] .colab-df-convert:hover {\n",
       "      background-color: #434B5C;\n",
       "      box-shadow: 0px 1px 3px 1px rgba(0, 0, 0, 0.15);\n",
       "      filter: drop-shadow(0px 1px 2px rgba(0, 0, 0, 0.3));\n",
       "      fill: #FFFFFF;\n",
       "    }\n",
       "  </style>\n",
       "\n",
       "    <script>\n",
       "      const buttonEl =\n",
       "        document.querySelector('#df-6331a543-4d5e-4f06-a871-0214ed7fb249 button.colab-df-convert');\n",
       "      buttonEl.style.display =\n",
       "        google.colab.kernel.accessAllowed ? 'block' : 'none';\n",
       "\n",
       "      async function convertToInteractive(key) {\n",
       "        const element = document.querySelector('#df-6331a543-4d5e-4f06-a871-0214ed7fb249');\n",
       "        const dataTable =\n",
       "          await google.colab.kernel.invokeFunction('convertToInteractive',\n",
       "                                                    [key], {});\n",
       "        if (!dataTable) return;\n",
       "\n",
       "        const docLinkHtml = 'Like what you see? Visit the ' +\n",
       "          '<a target=\"_blank\" href=https://colab.research.google.com/notebooks/data_table.ipynb>data table notebook</a>'\n",
       "          + ' to learn more about interactive tables.';\n",
       "        element.innerHTML = '';\n",
       "        dataTable['output_type'] = 'display_data';\n",
       "        await google.colab.output.renderOutput(dataTable, element);\n",
       "        const docLink = document.createElement('div');\n",
       "        docLink.innerHTML = docLinkHtml;\n",
       "        element.appendChild(docLink);\n",
       "      }\n",
       "    </script>\n",
       "  </div>\n",
       "\n",
       "\n",
       "<div id=\"df-89ac29f5-8608-462a-9671-f7686a86d81d\">\n",
       "  <button class=\"colab-df-quickchart\" onclick=\"quickchart('df-89ac29f5-8608-462a-9671-f7686a86d81d')\"\n",
       "            title=\"Suggest charts\"\n",
       "            style=\"display:none;\">\n",
       "\n",
       "<svg xmlns=\"http://www.w3.org/2000/svg\" height=\"24px\"viewBox=\"0 0 24 24\"\n",
       "     width=\"24px\">\n",
       "    <g>\n",
       "        <path d=\"M19 3H5c-1.1 0-2 .9-2 2v14c0 1.1.9 2 2 2h14c1.1 0 2-.9 2-2V5c0-1.1-.9-2-2-2zM9 17H7v-7h2v7zm4 0h-2V7h2v10zm4 0h-2v-4h2v4z\"/>\n",
       "    </g>\n",
       "</svg>\n",
       "  </button>\n",
       "\n",
       "<style>\n",
       "  .colab-df-quickchart {\n",
       "      --bg-color: #E8F0FE;\n",
       "      --fill-color: #1967D2;\n",
       "      --hover-bg-color: #E2EBFA;\n",
       "      --hover-fill-color: #174EA6;\n",
       "      --disabled-fill-color: #AAA;\n",
       "      --disabled-bg-color: #DDD;\n",
       "  }\n",
       "\n",
       "  [theme=dark] .colab-df-quickchart {\n",
       "      --bg-color: #3B4455;\n",
       "      --fill-color: #D2E3FC;\n",
       "      --hover-bg-color: #434B5C;\n",
       "      --hover-fill-color: #FFFFFF;\n",
       "      --disabled-bg-color: #3B4455;\n",
       "      --disabled-fill-color: #666;\n",
       "  }\n",
       "\n",
       "  .colab-df-quickchart {\n",
       "    background-color: var(--bg-color);\n",
       "    border: none;\n",
       "    border-radius: 50%;\n",
       "    cursor: pointer;\n",
       "    display: none;\n",
       "    fill: var(--fill-color);\n",
       "    height: 32px;\n",
       "    padding: 0;\n",
       "    width: 32px;\n",
       "  }\n",
       "\n",
       "  .colab-df-quickchart:hover {\n",
       "    background-color: var(--hover-bg-color);\n",
       "    box-shadow: 0 1px 2px rgba(60, 64, 67, 0.3), 0 1px 3px 1px rgba(60, 64, 67, 0.15);\n",
       "    fill: var(--button-hover-fill-color);\n",
       "  }\n",
       "\n",
       "  .colab-df-quickchart-complete:disabled,\n",
       "  .colab-df-quickchart-complete:disabled:hover {\n",
       "    background-color: var(--disabled-bg-color);\n",
       "    fill: var(--disabled-fill-color);\n",
       "    box-shadow: none;\n",
       "  }\n",
       "\n",
       "  .colab-df-spinner {\n",
       "    border: 2px solid var(--fill-color);\n",
       "    border-color: transparent;\n",
       "    border-bottom-color: var(--fill-color);\n",
       "    animation:\n",
       "      spin 1s steps(1) infinite;\n",
       "  }\n",
       "\n",
       "  @keyframes spin {\n",
       "    0% {\n",
       "      border-color: transparent;\n",
       "      border-bottom-color: var(--fill-color);\n",
       "      border-left-color: var(--fill-color);\n",
       "    }\n",
       "    20% {\n",
       "      border-color: transparent;\n",
       "      border-left-color: var(--fill-color);\n",
       "      border-top-color: var(--fill-color);\n",
       "    }\n",
       "    30% {\n",
       "      border-color: transparent;\n",
       "      border-left-color: var(--fill-color);\n",
       "      border-top-color: var(--fill-color);\n",
       "      border-right-color: var(--fill-color);\n",
       "    }\n",
       "    40% {\n",
       "      border-color: transparent;\n",
       "      border-right-color: var(--fill-color);\n",
       "      border-top-color: var(--fill-color);\n",
       "    }\n",
       "    60% {\n",
       "      border-color: transparent;\n",
       "      border-right-color: var(--fill-color);\n",
       "    }\n",
       "    80% {\n",
       "      border-color: transparent;\n",
       "      border-right-color: var(--fill-color);\n",
       "      border-bottom-color: var(--fill-color);\n",
       "    }\n",
       "    90% {\n",
       "      border-color: transparent;\n",
       "      border-bottom-color: var(--fill-color);\n",
       "    }\n",
       "  }\n",
       "</style>\n",
       "\n",
       "  <script>\n",
       "    async function quickchart(key) {\n",
       "      const quickchartButtonEl =\n",
       "        document.querySelector('#' + key + ' button');\n",
       "      quickchartButtonEl.disabled = true;  // To prevent multiple clicks.\n",
       "      quickchartButtonEl.classList.add('colab-df-spinner');\n",
       "      try {\n",
       "        const charts = await google.colab.kernel.invokeFunction(\n",
       "            'suggestCharts', [key], {});\n",
       "      } catch (error) {\n",
       "        console.error('Error during call to suggestCharts:', error);\n",
       "      }\n",
       "      quickchartButtonEl.classList.remove('colab-df-spinner');\n",
       "      quickchartButtonEl.classList.add('colab-df-quickchart-complete');\n",
       "    }\n",
       "    (() => {\n",
       "      let quickchartButtonEl =\n",
       "        document.querySelector('#df-89ac29f5-8608-462a-9671-f7686a86d81d button');\n",
       "      quickchartButtonEl.style.display =\n",
       "        google.colab.kernel.accessAllowed ? 'block' : 'none';\n",
       "    })();\n",
       "  </script>\n",
       "</div>\n",
       "\n",
       "    </div>\n",
       "  </div>\n"
      ],
      "text/plain": [
       "     Transaction ID        Date Product Category  \\\n",
       "235           10236  2024-08-23  Home Appliances   \n",
       "236           10237  2024-08-24         Clothing   \n",
       "237           10238  2024-08-25            Books   \n",
       "238           10239  2024-08-26  Beauty Products   \n",
       "239           10240  2024-08-27           Sports   \n",
       "\n",
       "                                        Product Name  Units Sold  Unit Price  \\\n",
       "235  Nespresso Vertuo Next Coffee and Espresso Maker           1      159.99   \n",
       "236                        Nike Air Force 1 Sneakers           3       90.00   \n",
       "237           The Handmaid's Tale by Margaret Atwood           3       10.99   \n",
       "238             Sunday Riley Luna Sleeping Night Oil           1       55.00   \n",
       "239                       Yeti Rambler 20 oz Tumbler           2       29.99   \n",
       "\n",
       "     Total Revenue         Region Payment Method  \n",
       "235         159.99         Europe         PayPal  \n",
       "236         270.00           Asia     Debit Card  \n",
       "237          32.97  North America    Credit Card  \n",
       "238          55.00         Europe         PayPal  \n",
       "239          59.98           Asia    Credit Card  "
      ]
     },
     "execution_count": 27,
     "metadata": {},
     "output_type": "execute_result"
    }
   ],
   "source": [
    "df.tail(5)"
   ]
  },
  {
   "cell_type": "code",
   "execution_count": null,
   "metadata": {
    "colab": {
     "base_uri": "https://localhost:8080/",
     "height": 380
    },
    "id": "tUOVYfuKFZwF",
    "outputId": "c46e2934-f562-40d1-ecb3-a857dfbd5cc7"
   },
   "outputs": [
    {
     "data": {
      "application/vnd.google.colaboratory.intrinsic+json": {
       "repr_error": "0",
       "type": "dataframe"
      },
      "text/html": [
       "\n",
       "  <div id=\"df-dff4c15f-697c-4d5d-9ed1-0da8fb53477a\" class=\"colab-df-container\">\n",
       "    <div>\n",
       "<style scoped>\n",
       "    .dataframe tbody tr th:only-of-type {\n",
       "        vertical-align: middle;\n",
       "    }\n",
       "\n",
       "    .dataframe tbody tr th {\n",
       "        vertical-align: top;\n",
       "    }\n",
       "\n",
       "    .dataframe thead th {\n",
       "        text-align: right;\n",
       "    }\n",
       "</style>\n",
       "<table border=\"1\" class=\"dataframe\">\n",
       "  <thead>\n",
       "    <tr style=\"text-align: right;\">\n",
       "      <th></th>\n",
       "      <th>Transaction ID</th>\n",
       "      <th>Date</th>\n",
       "      <th>Product Category</th>\n",
       "      <th>Product Name</th>\n",
       "      <th>Units Sold</th>\n",
       "      <th>Unit Price</th>\n",
       "      <th>Total Revenue</th>\n",
       "      <th>Region</th>\n",
       "      <th>Payment Method</th>\n",
       "    </tr>\n",
       "  </thead>\n",
       "  <tbody>\n",
       "    <tr>\n",
       "      <th>106</th>\n",
       "      <td>10107</td>\n",
       "      <td>2024-04-16</td>\n",
       "      <td>Beauty Products</td>\n",
       "      <td>The Ordinary Niacinamide Serum</td>\n",
       "      <td>1</td>\n",
       "      <td>6.50</td>\n",
       "      <td>6.50</td>\n",
       "      <td>Europe</td>\n",
       "      <td>PayPal</td>\n",
       "    </tr>\n",
       "    <tr>\n",
       "      <th>137</th>\n",
       "      <td>10138</td>\n",
       "      <td>2024-05-17</td>\n",
       "      <td>Sports</td>\n",
       "      <td>Fitbit Inspire 2</td>\n",
       "      <td>2</td>\n",
       "      <td>99.95</td>\n",
       "      <td>199.90</td>\n",
       "      <td>Asia</td>\n",
       "      <td>Credit Card</td>\n",
       "    </tr>\n",
       "    <tr>\n",
       "      <th>101</th>\n",
       "      <td>10102</td>\n",
       "      <td>2024-04-11</td>\n",
       "      <td>Sports</td>\n",
       "      <td>Under Armour HOVR Sonic 4 Shoes</td>\n",
       "      <td>2</td>\n",
       "      <td>109.99</td>\n",
       "      <td>219.98</td>\n",
       "      <td>Asia</td>\n",
       "      <td>Credit Card</td>\n",
       "    </tr>\n",
       "    <tr>\n",
       "      <th>194</th>\n",
       "      <td>10195</td>\n",
       "      <td>2024-07-13</td>\n",
       "      <td>Clothing</td>\n",
       "      <td>Adidas Ultraboost Running Shoes</td>\n",
       "      <td>2</td>\n",
       "      <td>179.99</td>\n",
       "      <td>359.98</td>\n",
       "      <td>Asia</td>\n",
       "      <td>Debit Card</td>\n",
       "    </tr>\n",
       "    <tr>\n",
       "      <th>164</th>\n",
       "      <td>10165</td>\n",
       "      <td>2024-06-13</td>\n",
       "      <td>Clothing</td>\n",
       "      <td>Adidas 3-Stripes Shorts</td>\n",
       "      <td>5</td>\n",
       "      <td>29.99</td>\n",
       "      <td>149.95</td>\n",
       "      <td>Asia</td>\n",
       "      <td>Debit Card</td>\n",
       "    </tr>\n",
       "  </tbody>\n",
       "</table>\n",
       "</div>\n",
       "    <div class=\"colab-df-buttons\">\n",
       "\n",
       "  <div class=\"colab-df-container\">\n",
       "    <button class=\"colab-df-convert\" onclick=\"convertToInteractive('df-dff4c15f-697c-4d5d-9ed1-0da8fb53477a')\"\n",
       "            title=\"Convert this dataframe to an interactive table.\"\n",
       "            style=\"display:none;\">\n",
       "\n",
       "  <svg xmlns=\"http://www.w3.org/2000/svg\" height=\"24px\" viewBox=\"0 -960 960 960\">\n",
       "    <path d=\"M120-120v-720h720v720H120Zm60-500h600v-160H180v160Zm220 220h160v-160H400v160Zm0 220h160v-160H400v160ZM180-400h160v-160H180v160Zm440 0h160v-160H620v160ZM180-180h160v-160H180v160Zm440 0h160v-160H620v160Z\"/>\n",
       "  </svg>\n",
       "    </button>\n",
       "\n",
       "  <style>\n",
       "    .colab-df-container {\n",
       "      display:flex;\n",
       "      gap: 12px;\n",
       "    }\n",
       "\n",
       "    .colab-df-convert {\n",
       "      background-color: #E8F0FE;\n",
       "      border: none;\n",
       "      border-radius: 50%;\n",
       "      cursor: pointer;\n",
       "      display: none;\n",
       "      fill: #1967D2;\n",
       "      height: 32px;\n",
       "      padding: 0 0 0 0;\n",
       "      width: 32px;\n",
       "    }\n",
       "\n",
       "    .colab-df-convert:hover {\n",
       "      background-color: #E2EBFA;\n",
       "      box-shadow: 0px 1px 2px rgba(60, 64, 67, 0.3), 0px 1px 3px 1px rgba(60, 64, 67, 0.15);\n",
       "      fill: #174EA6;\n",
       "    }\n",
       "\n",
       "    .colab-df-buttons div {\n",
       "      margin-bottom: 4px;\n",
       "    }\n",
       "\n",
       "    [theme=dark] .colab-df-convert {\n",
       "      background-color: #3B4455;\n",
       "      fill: #D2E3FC;\n",
       "    }\n",
       "\n",
       "    [theme=dark] .colab-df-convert:hover {\n",
       "      background-color: #434B5C;\n",
       "      box-shadow: 0px 1px 3px 1px rgba(0, 0, 0, 0.15);\n",
       "      filter: drop-shadow(0px 1px 2px rgba(0, 0, 0, 0.3));\n",
       "      fill: #FFFFFF;\n",
       "    }\n",
       "  </style>\n",
       "\n",
       "    <script>\n",
       "      const buttonEl =\n",
       "        document.querySelector('#df-dff4c15f-697c-4d5d-9ed1-0da8fb53477a button.colab-df-convert');\n",
       "      buttonEl.style.display =\n",
       "        google.colab.kernel.accessAllowed ? 'block' : 'none';\n",
       "\n",
       "      async function convertToInteractive(key) {\n",
       "        const element = document.querySelector('#df-dff4c15f-697c-4d5d-9ed1-0da8fb53477a');\n",
       "        const dataTable =\n",
       "          await google.colab.kernel.invokeFunction('convertToInteractive',\n",
       "                                                    [key], {});\n",
       "        if (!dataTable) return;\n",
       "\n",
       "        const docLinkHtml = 'Like what you see? Visit the ' +\n",
       "          '<a target=\"_blank\" href=https://colab.research.google.com/notebooks/data_table.ipynb>data table notebook</a>'\n",
       "          + ' to learn more about interactive tables.';\n",
       "        element.innerHTML = '';\n",
       "        dataTable['output_type'] = 'display_data';\n",
       "        await google.colab.output.renderOutput(dataTable, element);\n",
       "        const docLink = document.createElement('div');\n",
       "        docLink.innerHTML = docLinkHtml;\n",
       "        element.appendChild(docLink);\n",
       "      }\n",
       "    </script>\n",
       "  </div>\n",
       "\n",
       "\n",
       "<div id=\"df-cbb0bc84-ba81-4690-91cd-beeb3d7687ed\">\n",
       "  <button class=\"colab-df-quickchart\" onclick=\"quickchart('df-cbb0bc84-ba81-4690-91cd-beeb3d7687ed')\"\n",
       "            title=\"Suggest charts\"\n",
       "            style=\"display:none;\">\n",
       "\n",
       "<svg xmlns=\"http://www.w3.org/2000/svg\" height=\"24px\"viewBox=\"0 0 24 24\"\n",
       "     width=\"24px\">\n",
       "    <g>\n",
       "        <path d=\"M19 3H5c-1.1 0-2 .9-2 2v14c0 1.1.9 2 2 2h14c1.1 0 2-.9 2-2V5c0-1.1-.9-2-2-2zM9 17H7v-7h2v7zm4 0h-2V7h2v10zm4 0h-2v-4h2v4z\"/>\n",
       "    </g>\n",
       "</svg>\n",
       "  </button>\n",
       "\n",
       "<style>\n",
       "  .colab-df-quickchart {\n",
       "      --bg-color: #E8F0FE;\n",
       "      --fill-color: #1967D2;\n",
       "      --hover-bg-color: #E2EBFA;\n",
       "      --hover-fill-color: #174EA6;\n",
       "      --disabled-fill-color: #AAA;\n",
       "      --disabled-bg-color: #DDD;\n",
       "  }\n",
       "\n",
       "  [theme=dark] .colab-df-quickchart {\n",
       "      --bg-color: #3B4455;\n",
       "      --fill-color: #D2E3FC;\n",
       "      --hover-bg-color: #434B5C;\n",
       "      --hover-fill-color: #FFFFFF;\n",
       "      --disabled-bg-color: #3B4455;\n",
       "      --disabled-fill-color: #666;\n",
       "  }\n",
       "\n",
       "  .colab-df-quickchart {\n",
       "    background-color: var(--bg-color);\n",
       "    border: none;\n",
       "    border-radius: 50%;\n",
       "    cursor: pointer;\n",
       "    display: none;\n",
       "    fill: var(--fill-color);\n",
       "    height: 32px;\n",
       "    padding: 0;\n",
       "    width: 32px;\n",
       "  }\n",
       "\n",
       "  .colab-df-quickchart:hover {\n",
       "    background-color: var(--hover-bg-color);\n",
       "    box-shadow: 0 1px 2px rgba(60, 64, 67, 0.3), 0 1px 3px 1px rgba(60, 64, 67, 0.15);\n",
       "    fill: var(--button-hover-fill-color);\n",
       "  }\n",
       "\n",
       "  .colab-df-quickchart-complete:disabled,\n",
       "  .colab-df-quickchart-complete:disabled:hover {\n",
       "    background-color: var(--disabled-bg-color);\n",
       "    fill: var(--disabled-fill-color);\n",
       "    box-shadow: none;\n",
       "  }\n",
       "\n",
       "  .colab-df-spinner {\n",
       "    border: 2px solid var(--fill-color);\n",
       "    border-color: transparent;\n",
       "    border-bottom-color: var(--fill-color);\n",
       "    animation:\n",
       "      spin 1s steps(1) infinite;\n",
       "  }\n",
       "\n",
       "  @keyframes spin {\n",
       "    0% {\n",
       "      border-color: transparent;\n",
       "      border-bottom-color: var(--fill-color);\n",
       "      border-left-color: var(--fill-color);\n",
       "    }\n",
       "    20% {\n",
       "      border-color: transparent;\n",
       "      border-left-color: var(--fill-color);\n",
       "      border-top-color: var(--fill-color);\n",
       "    }\n",
       "    30% {\n",
       "      border-color: transparent;\n",
       "      border-left-color: var(--fill-color);\n",
       "      border-top-color: var(--fill-color);\n",
       "      border-right-color: var(--fill-color);\n",
       "    }\n",
       "    40% {\n",
       "      border-color: transparent;\n",
       "      border-right-color: var(--fill-color);\n",
       "      border-top-color: var(--fill-color);\n",
       "    }\n",
       "    60% {\n",
       "      border-color: transparent;\n",
       "      border-right-color: var(--fill-color);\n",
       "    }\n",
       "    80% {\n",
       "      border-color: transparent;\n",
       "      border-right-color: var(--fill-color);\n",
       "      border-bottom-color: var(--fill-color);\n",
       "    }\n",
       "    90% {\n",
       "      border-color: transparent;\n",
       "      border-bottom-color: var(--fill-color);\n",
       "    }\n",
       "  }\n",
       "</style>\n",
       "\n",
       "  <script>\n",
       "    async function quickchart(key) {\n",
       "      const quickchartButtonEl =\n",
       "        document.querySelector('#' + key + ' button');\n",
       "      quickchartButtonEl.disabled = true;  // To prevent multiple clicks.\n",
       "      quickchartButtonEl.classList.add('colab-df-spinner');\n",
       "      try {\n",
       "        const charts = await google.colab.kernel.invokeFunction(\n",
       "            'suggestCharts', [key], {});\n",
       "      } catch (error) {\n",
       "        console.error('Error during call to suggestCharts:', error);\n",
       "      }\n",
       "      quickchartButtonEl.classList.remove('colab-df-spinner');\n",
       "      quickchartButtonEl.classList.add('colab-df-quickchart-complete');\n",
       "    }\n",
       "    (() => {\n",
       "      let quickchartButtonEl =\n",
       "        document.querySelector('#df-cbb0bc84-ba81-4690-91cd-beeb3d7687ed button');\n",
       "      quickchartButtonEl.style.display =\n",
       "        google.colab.kernel.accessAllowed ? 'block' : 'none';\n",
       "    })();\n",
       "  </script>\n",
       "</div>\n",
       "\n",
       "    </div>\n",
       "  </div>\n"
      ],
      "text/plain": [
       "     Transaction ID        Date Product Category  \\\n",
       "106           10107  2024-04-16  Beauty Products   \n",
       "137           10138  2024-05-17           Sports   \n",
       "101           10102  2024-04-11           Sports   \n",
       "194           10195  2024-07-13         Clothing   \n",
       "164           10165  2024-06-13         Clothing   \n",
       "\n",
       "                        Product Name  Units Sold  Unit Price  Total Revenue  \\\n",
       "106   The Ordinary Niacinamide Serum           1        6.50           6.50   \n",
       "137                 Fitbit Inspire 2           2       99.95         199.90   \n",
       "101  Under Armour HOVR Sonic 4 Shoes           2      109.99         219.98   \n",
       "194  Adidas Ultraboost Running Shoes           2      179.99         359.98   \n",
       "164          Adidas 3-Stripes Shorts           5       29.99         149.95   \n",
       "\n",
       "     Region Payment Method  \n",
       "106  Europe         PayPal  \n",
       "137    Asia    Credit Card  \n",
       "101    Asia    Credit Card  \n",
       "194    Asia     Debit Card  \n",
       "164    Asia     Debit Card  "
      ]
     },
     "execution_count": 30,
     "metadata": {},
     "output_type": "execute_result"
    }
   ],
   "source": [
    "df.sample(5)"
   ]
  },
  {
   "cell_type": "code",
   "execution_count": null,
   "metadata": {
    "colab": {
     "base_uri": "https://localhost:8080/",
     "height": 175
    },
    "id": "0HMsXZUpFjB_",
    "outputId": "99b3cf81-669c-43a7-911c-f4bf6eec696e"
   },
   "outputs": [
    {
     "data": {
      "application/vnd.google.colaboratory.intrinsic+json": {
       "summary": "{\n  \"name\": \"df\",\n  \"rows\": 4,\n  \"fields\": [\n    {\n      \"column\": \"Name\",\n      \"properties\": {\n        \"dtype\": \"string\",\n        \"num_unique_values\": 4,\n        \"samples\": [\n          \"Jack\",\n          \"Divya\",\n          \"Harsh\"\n        ],\n        \"semantic_type\": \"\",\n        \"description\": \"\"\n      }\n    },\n    {\n      \"column\": \"Age\",\n      \"properties\": {\n        \"dtype\": \"number\",\n        \"std\": 3,\n        \"min\": 22,\n        \"max\": 30,\n        \"num_unique_values\": 4,\n        \"samples\": [\n          27,\n          30,\n          24\n        ],\n        \"semantic_type\": \"\",\n        \"description\": \"\"\n      }\n    },\n    {\n      \"column\": \"City\",\n      \"properties\": {\n        \"dtype\": \"string\",\n        \"num_unique_values\": 4,\n        \"samples\": [\n          \"Bangalore\",\n          \"USA\",\n          \"Noida\"\n        ],\n        \"semantic_type\": \"\",\n        \"description\": \"\"\n      }\n    }\n  ]\n}",
       "type": "dataframe",
       "variable_name": "df"
      },
      "text/html": [
       "\n",
       "  <div id=\"df-79499f8f-907f-416d-87e4-80b6ff8ab4e4\" class=\"colab-df-container\">\n",
       "    <div>\n",
       "<style scoped>\n",
       "    .dataframe tbody tr th:only-of-type {\n",
       "        vertical-align: middle;\n",
       "    }\n",
       "\n",
       "    .dataframe tbody tr th {\n",
       "        vertical-align: top;\n",
       "    }\n",
       "\n",
       "    .dataframe thead th {\n",
       "        text-align: right;\n",
       "    }\n",
       "</style>\n",
       "<table border=\"1\" class=\"dataframe\">\n",
       "  <thead>\n",
       "    <tr style=\"text-align: right;\">\n",
       "      <th></th>\n",
       "      <th>Name</th>\n",
       "      <th>Age</th>\n",
       "      <th>City</th>\n",
       "    </tr>\n",
       "  </thead>\n",
       "  <tbody>\n",
       "    <tr>\n",
       "      <th>0</th>\n",
       "      <td>Harsh</td>\n",
       "      <td>24</td>\n",
       "      <td>Noida</td>\n",
       "    </tr>\n",
       "    <tr>\n",
       "      <th>1</th>\n",
       "      <td>Jack</td>\n",
       "      <td>27</td>\n",
       "      <td>Bangalore</td>\n",
       "    </tr>\n",
       "    <tr>\n",
       "      <th>2</th>\n",
       "      <td>Rahul</td>\n",
       "      <td>22</td>\n",
       "      <td>Florida</td>\n",
       "    </tr>\n",
       "    <tr>\n",
       "      <th>3</th>\n",
       "      <td>Divya</td>\n",
       "      <td>30</td>\n",
       "      <td>USA</td>\n",
       "    </tr>\n",
       "  </tbody>\n",
       "</table>\n",
       "</div>\n",
       "    <div class=\"colab-df-buttons\">\n",
       "\n",
       "  <div class=\"colab-df-container\">\n",
       "    <button class=\"colab-df-convert\" onclick=\"convertToInteractive('df-79499f8f-907f-416d-87e4-80b6ff8ab4e4')\"\n",
       "            title=\"Convert this dataframe to an interactive table.\"\n",
       "            style=\"display:none;\">\n",
       "\n",
       "  <svg xmlns=\"http://www.w3.org/2000/svg\" height=\"24px\" viewBox=\"0 -960 960 960\">\n",
       "    <path d=\"M120-120v-720h720v720H120Zm60-500h600v-160H180v160Zm220 220h160v-160H400v160Zm0 220h160v-160H400v160ZM180-400h160v-160H180v160Zm440 0h160v-160H620v160ZM180-180h160v-160H180v160Zm440 0h160v-160H620v160Z\"/>\n",
       "  </svg>\n",
       "    </button>\n",
       "\n",
       "  <style>\n",
       "    .colab-df-container {\n",
       "      display:flex;\n",
       "      gap: 12px;\n",
       "    }\n",
       "\n",
       "    .colab-df-convert {\n",
       "      background-color: #E8F0FE;\n",
       "      border: none;\n",
       "      border-radius: 50%;\n",
       "      cursor: pointer;\n",
       "      display: none;\n",
       "      fill: #1967D2;\n",
       "      height: 32px;\n",
       "      padding: 0 0 0 0;\n",
       "      width: 32px;\n",
       "    }\n",
       "\n",
       "    .colab-df-convert:hover {\n",
       "      background-color: #E2EBFA;\n",
       "      box-shadow: 0px 1px 2px rgba(60, 64, 67, 0.3), 0px 1px 3px 1px rgba(60, 64, 67, 0.15);\n",
       "      fill: #174EA6;\n",
       "    }\n",
       "\n",
       "    .colab-df-buttons div {\n",
       "      margin-bottom: 4px;\n",
       "    }\n",
       "\n",
       "    [theme=dark] .colab-df-convert {\n",
       "      background-color: #3B4455;\n",
       "      fill: #D2E3FC;\n",
       "    }\n",
       "\n",
       "    [theme=dark] .colab-df-convert:hover {\n",
       "      background-color: #434B5C;\n",
       "      box-shadow: 0px 1px 3px 1px rgba(0, 0, 0, 0.15);\n",
       "      filter: drop-shadow(0px 1px 2px rgba(0, 0, 0, 0.3));\n",
       "      fill: #FFFFFF;\n",
       "    }\n",
       "  </style>\n",
       "\n",
       "    <script>\n",
       "      const buttonEl =\n",
       "        document.querySelector('#df-79499f8f-907f-416d-87e4-80b6ff8ab4e4 button.colab-df-convert');\n",
       "      buttonEl.style.display =\n",
       "        google.colab.kernel.accessAllowed ? 'block' : 'none';\n",
       "\n",
       "      async function convertToInteractive(key) {\n",
       "        const element = document.querySelector('#df-79499f8f-907f-416d-87e4-80b6ff8ab4e4');\n",
       "        const dataTable =\n",
       "          await google.colab.kernel.invokeFunction('convertToInteractive',\n",
       "                                                    [key], {});\n",
       "        if (!dataTable) return;\n",
       "\n",
       "        const docLinkHtml = 'Like what you see? Visit the ' +\n",
       "          '<a target=\"_blank\" href=https://colab.research.google.com/notebooks/data_table.ipynb>data table notebook</a>'\n",
       "          + ' to learn more about interactive tables.';\n",
       "        element.innerHTML = '';\n",
       "        dataTable['output_type'] = 'display_data';\n",
       "        await google.colab.output.renderOutput(dataTable, element);\n",
       "        const docLink = document.createElement('div');\n",
       "        docLink.innerHTML = docLinkHtml;\n",
       "        element.appendChild(docLink);\n",
       "      }\n",
       "    </script>\n",
       "  </div>\n",
       "\n",
       "\n",
       "<div id=\"df-e76b0a26-2523-43c9-bf84-433f7006dadd\">\n",
       "  <button class=\"colab-df-quickchart\" onclick=\"quickchart('df-e76b0a26-2523-43c9-bf84-433f7006dadd')\"\n",
       "            title=\"Suggest charts\"\n",
       "            style=\"display:none;\">\n",
       "\n",
       "<svg xmlns=\"http://www.w3.org/2000/svg\" height=\"24px\"viewBox=\"0 0 24 24\"\n",
       "     width=\"24px\">\n",
       "    <g>\n",
       "        <path d=\"M19 3H5c-1.1 0-2 .9-2 2v14c0 1.1.9 2 2 2h14c1.1 0 2-.9 2-2V5c0-1.1-.9-2-2-2zM9 17H7v-7h2v7zm4 0h-2V7h2v10zm4 0h-2v-4h2v4z\"/>\n",
       "    </g>\n",
       "</svg>\n",
       "  </button>\n",
       "\n",
       "<style>\n",
       "  .colab-df-quickchart {\n",
       "      --bg-color: #E8F0FE;\n",
       "      --fill-color: #1967D2;\n",
       "      --hover-bg-color: #E2EBFA;\n",
       "      --hover-fill-color: #174EA6;\n",
       "      --disabled-fill-color: #AAA;\n",
       "      --disabled-bg-color: #DDD;\n",
       "  }\n",
       "\n",
       "  [theme=dark] .colab-df-quickchart {\n",
       "      --bg-color: #3B4455;\n",
       "      --fill-color: #D2E3FC;\n",
       "      --hover-bg-color: #434B5C;\n",
       "      --hover-fill-color: #FFFFFF;\n",
       "      --disabled-bg-color: #3B4455;\n",
       "      --disabled-fill-color: #666;\n",
       "  }\n",
       "\n",
       "  .colab-df-quickchart {\n",
       "    background-color: var(--bg-color);\n",
       "    border: none;\n",
       "    border-radius: 50%;\n",
       "    cursor: pointer;\n",
       "    display: none;\n",
       "    fill: var(--fill-color);\n",
       "    height: 32px;\n",
       "    padding: 0;\n",
       "    width: 32px;\n",
       "  }\n",
       "\n",
       "  .colab-df-quickchart:hover {\n",
       "    background-color: var(--hover-bg-color);\n",
       "    box-shadow: 0 1px 2px rgba(60, 64, 67, 0.3), 0 1px 3px 1px rgba(60, 64, 67, 0.15);\n",
       "    fill: var(--button-hover-fill-color);\n",
       "  }\n",
       "\n",
       "  .colab-df-quickchart-complete:disabled,\n",
       "  .colab-df-quickchart-complete:disabled:hover {\n",
       "    background-color: var(--disabled-bg-color);\n",
       "    fill: var(--disabled-fill-color);\n",
       "    box-shadow: none;\n",
       "  }\n",
       "\n",
       "  .colab-df-spinner {\n",
       "    border: 2px solid var(--fill-color);\n",
       "    border-color: transparent;\n",
       "    border-bottom-color: var(--fill-color);\n",
       "    animation:\n",
       "      spin 1s steps(1) infinite;\n",
       "  }\n",
       "\n",
       "  @keyframes spin {\n",
       "    0% {\n",
       "      border-color: transparent;\n",
       "      border-bottom-color: var(--fill-color);\n",
       "      border-left-color: var(--fill-color);\n",
       "    }\n",
       "    20% {\n",
       "      border-color: transparent;\n",
       "      border-left-color: var(--fill-color);\n",
       "      border-top-color: var(--fill-color);\n",
       "    }\n",
       "    30% {\n",
       "      border-color: transparent;\n",
       "      border-left-color: var(--fill-color);\n",
       "      border-top-color: var(--fill-color);\n",
       "      border-right-color: var(--fill-color);\n",
       "    }\n",
       "    40% {\n",
       "      border-color: transparent;\n",
       "      border-right-color: var(--fill-color);\n",
       "      border-top-color: var(--fill-color);\n",
       "    }\n",
       "    60% {\n",
       "      border-color: transparent;\n",
       "      border-right-color: var(--fill-color);\n",
       "    }\n",
       "    80% {\n",
       "      border-color: transparent;\n",
       "      border-right-color: var(--fill-color);\n",
       "      border-bottom-color: var(--fill-color);\n",
       "    }\n",
       "    90% {\n",
       "      border-color: transparent;\n",
       "      border-bottom-color: var(--fill-color);\n",
       "    }\n",
       "  }\n",
       "</style>\n",
       "\n",
       "  <script>\n",
       "    async function quickchart(key) {\n",
       "      const quickchartButtonEl =\n",
       "        document.querySelector('#' + key + ' button');\n",
       "      quickchartButtonEl.disabled = true;  // To prevent multiple clicks.\n",
       "      quickchartButtonEl.classList.add('colab-df-spinner');\n",
       "      try {\n",
       "        const charts = await google.colab.kernel.invokeFunction(\n",
       "            'suggestCharts', [key], {});\n",
       "      } catch (error) {\n",
       "        console.error('Error during call to suggestCharts:', error);\n",
       "      }\n",
       "      quickchartButtonEl.classList.remove('colab-df-spinner');\n",
       "      quickchartButtonEl.classList.add('colab-df-quickchart-complete');\n",
       "    }\n",
       "    (() => {\n",
       "      let quickchartButtonEl =\n",
       "        document.querySelector('#df-e76b0a26-2523-43c9-bf84-433f7006dadd button');\n",
       "      quickchartButtonEl.style.display =\n",
       "        google.colab.kernel.accessAllowed ? 'block' : 'none';\n",
       "    })();\n",
       "  </script>\n",
       "</div>\n",
       "\n",
       "  <div id=\"id_c16fafa0-f2e7-4623-a440-c39ee0a6acf5\">\n",
       "    <style>\n",
       "      .colab-df-generate {\n",
       "        background-color: #E8F0FE;\n",
       "        border: none;\n",
       "        border-radius: 50%;\n",
       "        cursor: pointer;\n",
       "        display: none;\n",
       "        fill: #1967D2;\n",
       "        height: 32px;\n",
       "        padding: 0 0 0 0;\n",
       "        width: 32px;\n",
       "      }\n",
       "\n",
       "      .colab-df-generate:hover {\n",
       "        background-color: #E2EBFA;\n",
       "        box-shadow: 0px 1px 2px rgba(60, 64, 67, 0.3), 0px 1px 3px 1px rgba(60, 64, 67, 0.15);\n",
       "        fill: #174EA6;\n",
       "      }\n",
       "\n",
       "      [theme=dark] .colab-df-generate {\n",
       "        background-color: #3B4455;\n",
       "        fill: #D2E3FC;\n",
       "      }\n",
       "\n",
       "      [theme=dark] .colab-df-generate:hover {\n",
       "        background-color: #434B5C;\n",
       "        box-shadow: 0px 1px 3px 1px rgba(0, 0, 0, 0.15);\n",
       "        filter: drop-shadow(0px 1px 2px rgba(0, 0, 0, 0.3));\n",
       "        fill: #FFFFFF;\n",
       "      }\n",
       "    </style>\n",
       "    <button class=\"colab-df-generate\" onclick=\"generateWithVariable('df')\"\n",
       "            title=\"Generate code using this dataframe.\"\n",
       "            style=\"display:none;\">\n",
       "\n",
       "  <svg xmlns=\"http://www.w3.org/2000/svg\" height=\"24px\"viewBox=\"0 0 24 24\"\n",
       "       width=\"24px\">\n",
       "    <path d=\"M7,19H8.4L18.45,9,17,7.55,7,17.6ZM5,21V16.75L18.45,3.32a2,2,0,0,1,2.83,0l1.4,1.43a1.91,1.91,0,0,1,.58,1.4,1.91,1.91,0,0,1-.58,1.4L9.25,21ZM18.45,9,17,7.55Zm-12,3A5.31,5.31,0,0,0,4.9,8.1,5.31,5.31,0,0,0,1,6.5,5.31,5.31,0,0,0,4.9,4.9,5.31,5.31,0,0,0,6.5,1,5.31,5.31,0,0,0,8.1,4.9,5.31,5.31,0,0,0,12,6.5,5.46,5.46,0,0,0,6.5,12Z\"/>\n",
       "  </svg>\n",
       "    </button>\n",
       "    <script>\n",
       "      (() => {\n",
       "      const buttonEl =\n",
       "        document.querySelector('#id_c16fafa0-f2e7-4623-a440-c39ee0a6acf5 button.colab-df-generate');\n",
       "      buttonEl.style.display =\n",
       "        google.colab.kernel.accessAllowed ? 'block' : 'none';\n",
       "\n",
       "      buttonEl.onclick = () => {\n",
       "        google.colab.notebook.generateWithVariable('df');\n",
       "      }\n",
       "      })();\n",
       "    </script>\n",
       "  </div>\n",
       "\n",
       "    </div>\n",
       "  </div>\n"
      ],
      "text/plain": [
       "    Name  Age       City\n",
       "0  Harsh   24      Noida\n",
       "1   Jack   27  Bangalore\n",
       "2  Rahul   22    Florida\n",
       "3  Divya   30        USA"
      ]
     },
     "execution_count": 32,
     "metadata": {},
     "output_type": "execute_result"
    }
   ],
   "source": [
    "df"
   ]
  },
  {
   "cell_type": "code",
   "execution_count": null,
   "metadata": {
    "colab": {
     "base_uri": "https://localhost:8080/",
     "height": 175
    },
    "id": "Qq55kmhMF-um",
    "outputId": "0189c598-70d8-40a1-9592-b669c2d3898f"
   },
   "outputs": [
    {
     "data": {
      "application/vnd.google.colaboratory.intrinsic+json": {
       "summary": "{\n  \"name\": \"df\",\n  \"rows\": 4,\n  \"fields\": [\n    {\n      \"column\": \"Name\",\n      \"properties\": {\n        \"dtype\": \"string\",\n        \"num_unique_values\": 4,\n        \"samples\": [\n          \"Jack\",\n          \"Divya\",\n          \"Harsh\"\n        ],\n        \"semantic_type\": \"\",\n        \"description\": \"\"\n      }\n    },\n    {\n      \"column\": \"Age\",\n      \"properties\": {\n        \"dtype\": \"number\",\n        \"std\": 3,\n        \"min\": 22,\n        \"max\": 30,\n        \"num_unique_values\": 4,\n        \"samples\": [\n          27,\n          30,\n          24\n        ],\n        \"semantic_type\": \"\",\n        \"description\": \"\"\n      }\n    },\n    {\n      \"column\": \"City\",\n      \"properties\": {\n        \"dtype\": \"string\",\n        \"num_unique_values\": 4,\n        \"samples\": [\n          \"Bangalore\",\n          \"USA\",\n          \"Noida\"\n        ],\n        \"semantic_type\": \"\",\n        \"description\": \"\"\n      }\n    }\n  ]\n}",
       "type": "dataframe",
       "variable_name": "df"
      },
      "text/html": [
       "\n",
       "  <div id=\"df-bb472567-e6e0-4fd5-9b8e-ce22af33175b\" class=\"colab-df-container\">\n",
       "    <div>\n",
       "<style scoped>\n",
       "    .dataframe tbody tr th:only-of-type {\n",
       "        vertical-align: middle;\n",
       "    }\n",
       "\n",
       "    .dataframe tbody tr th {\n",
       "        vertical-align: top;\n",
       "    }\n",
       "\n",
       "    .dataframe thead th {\n",
       "        text-align: right;\n",
       "    }\n",
       "</style>\n",
       "<table border=\"1\" class=\"dataframe\">\n",
       "  <thead>\n",
       "    <tr style=\"text-align: right;\">\n",
       "      <th></th>\n",
       "      <th>Name</th>\n",
       "      <th>Age</th>\n",
       "      <th>City</th>\n",
       "    </tr>\n",
       "  </thead>\n",
       "  <tbody>\n",
       "    <tr>\n",
       "      <th>0</th>\n",
       "      <td>Harsh</td>\n",
       "      <td>24</td>\n",
       "      <td>Noida</td>\n",
       "    </tr>\n",
       "    <tr>\n",
       "      <th>1</th>\n",
       "      <td>Jack</td>\n",
       "      <td>27</td>\n",
       "      <td>Bangalore</td>\n",
       "    </tr>\n",
       "    <tr>\n",
       "      <th>2</th>\n",
       "      <td>Rahul</td>\n",
       "      <td>22</td>\n",
       "      <td>Florida</td>\n",
       "    </tr>\n",
       "    <tr>\n",
       "      <th>3</th>\n",
       "      <td>Divya</td>\n",
       "      <td>30</td>\n",
       "      <td>USA</td>\n",
       "    </tr>\n",
       "  </tbody>\n",
       "</table>\n",
       "</div>\n",
       "    <div class=\"colab-df-buttons\">\n",
       "\n",
       "  <div class=\"colab-df-container\">\n",
       "    <button class=\"colab-df-convert\" onclick=\"convertToInteractive('df-bb472567-e6e0-4fd5-9b8e-ce22af33175b')\"\n",
       "            title=\"Convert this dataframe to an interactive table.\"\n",
       "            style=\"display:none;\">\n",
       "\n",
       "  <svg xmlns=\"http://www.w3.org/2000/svg\" height=\"24px\" viewBox=\"0 -960 960 960\">\n",
       "    <path d=\"M120-120v-720h720v720H120Zm60-500h600v-160H180v160Zm220 220h160v-160H400v160Zm0 220h160v-160H400v160ZM180-400h160v-160H180v160Zm440 0h160v-160H620v160ZM180-180h160v-160H180v160Zm440 0h160v-160H620v160Z\"/>\n",
       "  </svg>\n",
       "    </button>\n",
       "\n",
       "  <style>\n",
       "    .colab-df-container {\n",
       "      display:flex;\n",
       "      gap: 12px;\n",
       "    }\n",
       "\n",
       "    .colab-df-convert {\n",
       "      background-color: #E8F0FE;\n",
       "      border: none;\n",
       "      border-radius: 50%;\n",
       "      cursor: pointer;\n",
       "      display: none;\n",
       "      fill: #1967D2;\n",
       "      height: 32px;\n",
       "      padding: 0 0 0 0;\n",
       "      width: 32px;\n",
       "    }\n",
       "\n",
       "    .colab-df-convert:hover {\n",
       "      background-color: #E2EBFA;\n",
       "      box-shadow: 0px 1px 2px rgba(60, 64, 67, 0.3), 0px 1px 3px 1px rgba(60, 64, 67, 0.15);\n",
       "      fill: #174EA6;\n",
       "    }\n",
       "\n",
       "    .colab-df-buttons div {\n",
       "      margin-bottom: 4px;\n",
       "    }\n",
       "\n",
       "    [theme=dark] .colab-df-convert {\n",
       "      background-color: #3B4455;\n",
       "      fill: #D2E3FC;\n",
       "    }\n",
       "\n",
       "    [theme=dark] .colab-df-convert:hover {\n",
       "      background-color: #434B5C;\n",
       "      box-shadow: 0px 1px 3px 1px rgba(0, 0, 0, 0.15);\n",
       "      filter: drop-shadow(0px 1px 2px rgba(0, 0, 0, 0.3));\n",
       "      fill: #FFFFFF;\n",
       "    }\n",
       "  </style>\n",
       "\n",
       "    <script>\n",
       "      const buttonEl =\n",
       "        document.querySelector('#df-bb472567-e6e0-4fd5-9b8e-ce22af33175b button.colab-df-convert');\n",
       "      buttonEl.style.display =\n",
       "        google.colab.kernel.accessAllowed ? 'block' : 'none';\n",
       "\n",
       "      async function convertToInteractive(key) {\n",
       "        const element = document.querySelector('#df-bb472567-e6e0-4fd5-9b8e-ce22af33175b');\n",
       "        const dataTable =\n",
       "          await google.colab.kernel.invokeFunction('convertToInteractive',\n",
       "                                                    [key], {});\n",
       "        if (!dataTable) return;\n",
       "\n",
       "        const docLinkHtml = 'Like what you see? Visit the ' +\n",
       "          '<a target=\"_blank\" href=https://colab.research.google.com/notebooks/data_table.ipynb>data table notebook</a>'\n",
       "          + ' to learn more about interactive tables.';\n",
       "        element.innerHTML = '';\n",
       "        dataTable['output_type'] = 'display_data';\n",
       "        await google.colab.output.renderOutput(dataTable, element);\n",
       "        const docLink = document.createElement('div');\n",
       "        docLink.innerHTML = docLinkHtml;\n",
       "        element.appendChild(docLink);\n",
       "      }\n",
       "    </script>\n",
       "  </div>\n",
       "\n",
       "\n",
       "<div id=\"df-0c917645-37cc-4b70-8758-b51d9c825740\">\n",
       "  <button class=\"colab-df-quickchart\" onclick=\"quickchart('df-0c917645-37cc-4b70-8758-b51d9c825740')\"\n",
       "            title=\"Suggest charts\"\n",
       "            style=\"display:none;\">\n",
       "\n",
       "<svg xmlns=\"http://www.w3.org/2000/svg\" height=\"24px\"viewBox=\"0 0 24 24\"\n",
       "     width=\"24px\">\n",
       "    <g>\n",
       "        <path d=\"M19 3H5c-1.1 0-2 .9-2 2v14c0 1.1.9 2 2 2h14c1.1 0 2-.9 2-2V5c0-1.1-.9-2-2-2zM9 17H7v-7h2v7zm4 0h-2V7h2v10zm4 0h-2v-4h2v4z\"/>\n",
       "    </g>\n",
       "</svg>\n",
       "  </button>\n",
       "\n",
       "<style>\n",
       "  .colab-df-quickchart {\n",
       "      --bg-color: #E8F0FE;\n",
       "      --fill-color: #1967D2;\n",
       "      --hover-bg-color: #E2EBFA;\n",
       "      --hover-fill-color: #174EA6;\n",
       "      --disabled-fill-color: #AAA;\n",
       "      --disabled-bg-color: #DDD;\n",
       "  }\n",
       "\n",
       "  [theme=dark] .colab-df-quickchart {\n",
       "      --bg-color: #3B4455;\n",
       "      --fill-color: #D2E3FC;\n",
       "      --hover-bg-color: #434B5C;\n",
       "      --hover-fill-color: #FFFFFF;\n",
       "      --disabled-bg-color: #3B4455;\n",
       "      --disabled-fill-color: #666;\n",
       "  }\n",
       "\n",
       "  .colab-df-quickchart {\n",
       "    background-color: var(--bg-color);\n",
       "    border: none;\n",
       "    border-radius: 50%;\n",
       "    cursor: pointer;\n",
       "    display: none;\n",
       "    fill: var(--fill-color);\n",
       "    height: 32px;\n",
       "    padding: 0;\n",
       "    width: 32px;\n",
       "  }\n",
       "\n",
       "  .colab-df-quickchart:hover {\n",
       "    background-color: var(--hover-bg-color);\n",
       "    box-shadow: 0 1px 2px rgba(60, 64, 67, 0.3), 0 1px 3px 1px rgba(60, 64, 67, 0.15);\n",
       "    fill: var(--button-hover-fill-color);\n",
       "  }\n",
       "\n",
       "  .colab-df-quickchart-complete:disabled,\n",
       "  .colab-df-quickchart-complete:disabled:hover {\n",
       "    background-color: var(--disabled-bg-color);\n",
       "    fill: var(--disabled-fill-color);\n",
       "    box-shadow: none;\n",
       "  }\n",
       "\n",
       "  .colab-df-spinner {\n",
       "    border: 2px solid var(--fill-color);\n",
       "    border-color: transparent;\n",
       "    border-bottom-color: var(--fill-color);\n",
       "    animation:\n",
       "      spin 1s steps(1) infinite;\n",
       "  }\n",
       "\n",
       "  @keyframes spin {\n",
       "    0% {\n",
       "      border-color: transparent;\n",
       "      border-bottom-color: var(--fill-color);\n",
       "      border-left-color: var(--fill-color);\n",
       "    }\n",
       "    20% {\n",
       "      border-color: transparent;\n",
       "      border-left-color: var(--fill-color);\n",
       "      border-top-color: var(--fill-color);\n",
       "    }\n",
       "    30% {\n",
       "      border-color: transparent;\n",
       "      border-left-color: var(--fill-color);\n",
       "      border-top-color: var(--fill-color);\n",
       "      border-right-color: var(--fill-color);\n",
       "    }\n",
       "    40% {\n",
       "      border-color: transparent;\n",
       "      border-right-color: var(--fill-color);\n",
       "      border-top-color: var(--fill-color);\n",
       "    }\n",
       "    60% {\n",
       "      border-color: transparent;\n",
       "      border-right-color: var(--fill-color);\n",
       "    }\n",
       "    80% {\n",
       "      border-color: transparent;\n",
       "      border-right-color: var(--fill-color);\n",
       "      border-bottom-color: var(--fill-color);\n",
       "    }\n",
       "    90% {\n",
       "      border-color: transparent;\n",
       "      border-bottom-color: var(--fill-color);\n",
       "    }\n",
       "  }\n",
       "</style>\n",
       "\n",
       "  <script>\n",
       "    async function quickchart(key) {\n",
       "      const quickchartButtonEl =\n",
       "        document.querySelector('#' + key + ' button');\n",
       "      quickchartButtonEl.disabled = true;  // To prevent multiple clicks.\n",
       "      quickchartButtonEl.classList.add('colab-df-spinner');\n",
       "      try {\n",
       "        const charts = await google.colab.kernel.invokeFunction(\n",
       "            'suggestCharts', [key], {});\n",
       "      } catch (error) {\n",
       "        console.error('Error during call to suggestCharts:', error);\n",
       "      }\n",
       "      quickchartButtonEl.classList.remove('colab-df-spinner');\n",
       "      quickchartButtonEl.classList.add('colab-df-quickchart-complete');\n",
       "    }\n",
       "    (() => {\n",
       "      let quickchartButtonEl =\n",
       "        document.querySelector('#df-0c917645-37cc-4b70-8758-b51d9c825740 button');\n",
       "      quickchartButtonEl.style.display =\n",
       "        google.colab.kernel.accessAllowed ? 'block' : 'none';\n",
       "    })();\n",
       "  </script>\n",
       "</div>\n",
       "\n",
       "  <div id=\"id_ba2b1e87-2622-421e-8423-37a5a33b1359\">\n",
       "    <style>\n",
       "      .colab-df-generate {\n",
       "        background-color: #E8F0FE;\n",
       "        border: none;\n",
       "        border-radius: 50%;\n",
       "        cursor: pointer;\n",
       "        display: none;\n",
       "        fill: #1967D2;\n",
       "        height: 32px;\n",
       "        padding: 0 0 0 0;\n",
       "        width: 32px;\n",
       "      }\n",
       "\n",
       "      .colab-df-generate:hover {\n",
       "        background-color: #E2EBFA;\n",
       "        box-shadow: 0px 1px 2px rgba(60, 64, 67, 0.3), 0px 1px 3px 1px rgba(60, 64, 67, 0.15);\n",
       "        fill: #174EA6;\n",
       "      }\n",
       "\n",
       "      [theme=dark] .colab-df-generate {\n",
       "        background-color: #3B4455;\n",
       "        fill: #D2E3FC;\n",
       "      }\n",
       "\n",
       "      [theme=dark] .colab-df-generate:hover {\n",
       "        background-color: #434B5C;\n",
       "        box-shadow: 0px 1px 3px 1px rgba(0, 0, 0, 0.15);\n",
       "        filter: drop-shadow(0px 1px 2px rgba(0, 0, 0, 0.3));\n",
       "        fill: #FFFFFF;\n",
       "      }\n",
       "    </style>\n",
       "    <button class=\"colab-df-generate\" onclick=\"generateWithVariable('df')\"\n",
       "            title=\"Generate code using this dataframe.\"\n",
       "            style=\"display:none;\">\n",
       "\n",
       "  <svg xmlns=\"http://www.w3.org/2000/svg\" height=\"24px\"viewBox=\"0 0 24 24\"\n",
       "       width=\"24px\">\n",
       "    <path d=\"M7,19H8.4L18.45,9,17,7.55,7,17.6ZM5,21V16.75L18.45,3.32a2,2,0,0,1,2.83,0l1.4,1.43a1.91,1.91,0,0,1,.58,1.4,1.91,1.91,0,0,1-.58,1.4L9.25,21ZM18.45,9,17,7.55Zm-12,3A5.31,5.31,0,0,0,4.9,8.1,5.31,5.31,0,0,0,1,6.5,5.31,5.31,0,0,0,4.9,4.9,5.31,5.31,0,0,0,6.5,1,5.31,5.31,0,0,0,8.1,4.9,5.31,5.31,0,0,0,12,6.5,5.46,5.46,0,0,0,6.5,12Z\"/>\n",
       "  </svg>\n",
       "    </button>\n",
       "    <script>\n",
       "      (() => {\n",
       "      const buttonEl =\n",
       "        document.querySelector('#id_ba2b1e87-2622-421e-8423-37a5a33b1359 button.colab-df-generate');\n",
       "      buttonEl.style.display =\n",
       "        google.colab.kernel.accessAllowed ? 'block' : 'none';\n",
       "\n",
       "      buttonEl.onclick = () => {\n",
       "        google.colab.notebook.generateWithVariable('df');\n",
       "      }\n",
       "      })();\n",
       "    </script>\n",
       "  </div>\n",
       "\n",
       "    </div>\n",
       "  </div>\n"
      ],
      "text/plain": [
       "    Name  Age       City\n",
       "0  Harsh   24      Noida\n",
       "1   Jack   27  Bangalore\n",
       "2  Rahul   22    Florida\n",
       "3  Divya   30        USA"
      ]
     },
     "execution_count": 33,
     "metadata": {},
     "output_type": "execute_result"
    }
   ],
   "source": [
    "## Accessing Data From DataFrame\n",
    "df"
   ]
  },
  {
   "cell_type": "code",
   "execution_count": null,
   "metadata": {
    "colab": {
     "base_uri": "https://localhost:8080/"
    },
    "id": "TLxy7SyfGP2q",
    "outputId": "3c1706f5-c64f-49ff-8dc7-2481c239c173"
   },
   "outputs": [
    {
     "name": "stdout",
     "output_type": "stream",
     "text": [
      "0    Harsh\n",
      "1     Jack\n",
      "2    Rahul\n",
      "3    Divya\n",
      "Name: Name, dtype: object\n",
      "<class 'pandas.core.series.Series'>\n"
     ]
    }
   ],
   "source": [
    "a = df[\"Name\"]\n",
    "print(a)\n",
    "print(type(a))"
   ]
  },
  {
   "cell_type": "code",
   "execution_count": null,
   "metadata": {
    "colab": {
     "base_uri": "https://localhost:8080/",
     "height": 210
    },
    "id": "nsQS7Q1bGTA1",
    "outputId": "81318d1c-7140-47a3-8dd2-4a604dd82173"
   },
   "outputs": [
    {
     "data": {
      "text/html": [
       "<div>\n",
       "<style scoped>\n",
       "    .dataframe tbody tr th:only-of-type {\n",
       "        vertical-align: middle;\n",
       "    }\n",
       "\n",
       "    .dataframe tbody tr th {\n",
       "        vertical-align: top;\n",
       "    }\n",
       "\n",
       "    .dataframe thead th {\n",
       "        text-align: right;\n",
       "    }\n",
       "</style>\n",
       "<table border=\"1\" class=\"dataframe\">\n",
       "  <thead>\n",
       "    <tr style=\"text-align: right;\">\n",
       "      <th></th>\n",
       "      <th>Age</th>\n",
       "    </tr>\n",
       "  </thead>\n",
       "  <tbody>\n",
       "    <tr>\n",
       "      <th>0</th>\n",
       "      <td>24</td>\n",
       "    </tr>\n",
       "    <tr>\n",
       "      <th>1</th>\n",
       "      <td>27</td>\n",
       "    </tr>\n",
       "    <tr>\n",
       "      <th>2</th>\n",
       "      <td>22</td>\n",
       "    </tr>\n",
       "    <tr>\n",
       "      <th>3</th>\n",
       "      <td>30</td>\n",
       "    </tr>\n",
       "  </tbody>\n",
       "</table>\n",
       "</div><br><label><b>dtype:</b> int64</label>"
      ],
      "text/plain": [
       "0    24\n",
       "1    27\n",
       "2    22\n",
       "3    30\n",
       "Name: Age, dtype: int64"
      ]
     },
     "execution_count": 37,
     "metadata": {},
     "output_type": "execute_result"
    }
   ],
   "source": [
    "df['Age']"
   ]
  },
  {
   "cell_type": "code",
   "execution_count": null,
   "metadata": {
    "colab": {
     "base_uri": "https://localhost:8080/",
     "height": 178
    },
    "id": "ZZXOv3aGGgST",
    "outputId": "2b6417e0-b406-43ea-9c74-0584ff539756"
   },
   "outputs": [
    {
     "data": {
      "text/html": [
       "<div>\n",
       "<style scoped>\n",
       "    .dataframe tbody tr th:only-of-type {\n",
       "        vertical-align: middle;\n",
       "    }\n",
       "\n",
       "    .dataframe tbody tr th {\n",
       "        vertical-align: top;\n",
       "    }\n",
       "\n",
       "    .dataframe thead th {\n",
       "        text-align: right;\n",
       "    }\n",
       "</style>\n",
       "<table border=\"1\" class=\"dataframe\">\n",
       "  <thead>\n",
       "    <tr style=\"text-align: right;\">\n",
       "      <th></th>\n",
       "      <th>0</th>\n",
       "    </tr>\n",
       "  </thead>\n",
       "  <tbody>\n",
       "    <tr>\n",
       "      <th>Name</th>\n",
       "      <td>Harsh</td>\n",
       "    </tr>\n",
       "    <tr>\n",
       "      <th>Age</th>\n",
       "      <td>24</td>\n",
       "    </tr>\n",
       "    <tr>\n",
       "      <th>City</th>\n",
       "      <td>Noida</td>\n",
       "    </tr>\n",
       "  </tbody>\n",
       "</table>\n",
       "</div><br><label><b>dtype:</b> object</label>"
      ],
      "text/plain": [
       "Name    Harsh\n",
       "Age        24\n",
       "City    Noida\n",
       "Name: 0, dtype: object"
      ]
     },
     "execution_count": 43,
     "metadata": {},
     "output_type": "execute_result"
    }
   ],
   "source": [
    "df.loc[0] # Row Index"
   ]
  },
  {
   "cell_type": "code",
   "execution_count": null,
   "metadata": {
    "colab": {
     "base_uri": "https://localhost:8080/",
     "height": 178
    },
    "id": "58z3zWWBGpuC",
    "outputId": "39a2bc5f-6752-4ad0-e204-6891c7b08bba"
   },
   "outputs": [
    {
     "data": {
      "text/html": [
       "<div>\n",
       "<style scoped>\n",
       "    .dataframe tbody tr th:only-of-type {\n",
       "        vertical-align: middle;\n",
       "    }\n",
       "\n",
       "    .dataframe tbody tr th {\n",
       "        vertical-align: top;\n",
       "    }\n",
       "\n",
       "    .dataframe thead th {\n",
       "        text-align: right;\n",
       "    }\n",
       "</style>\n",
       "<table border=\"1\" class=\"dataframe\">\n",
       "  <thead>\n",
       "    <tr style=\"text-align: right;\">\n",
       "      <th></th>\n",
       "      <th>0</th>\n",
       "    </tr>\n",
       "  </thead>\n",
       "  <tbody>\n",
       "    <tr>\n",
       "      <th>Name</th>\n",
       "      <td>Harsh</td>\n",
       "    </tr>\n",
       "    <tr>\n",
       "      <th>Age</th>\n",
       "      <td>24</td>\n",
       "    </tr>\n",
       "    <tr>\n",
       "      <th>City</th>\n",
       "      <td>Noida</td>\n",
       "    </tr>\n",
       "  </tbody>\n",
       "</table>\n",
       "</div><br><label><b>dtype:</b> object</label>"
      ],
      "text/plain": [
       "Name    Harsh\n",
       "Age        24\n",
       "City    Noida\n",
       "Name: 0, dtype: object"
      ]
     },
     "execution_count": 40,
     "metadata": {},
     "output_type": "execute_result"
    }
   ],
   "source": [
    "df.iloc[0] # Index"
   ]
  },
  {
   "cell_type": "code",
   "execution_count": null,
   "metadata": {
    "colab": {
     "base_uri": "https://localhost:8080/",
     "height": 175
    },
    "id": "tNHRBIK0G2u4",
    "outputId": "f2a55dec-b88f-45bb-b5d6-2cbe1f4daa81"
   },
   "outputs": [
    {
     "data": {
      "application/vnd.google.colaboratory.intrinsic+json": {
       "summary": "{\n  \"name\": \"df\",\n  \"rows\": 4,\n  \"fields\": [\n    {\n      \"column\": \"Name\",\n      \"properties\": {\n        \"dtype\": \"string\",\n        \"num_unique_values\": 4,\n        \"samples\": [\n          \"Jack\",\n          \"Divya\",\n          \"Harsh\"\n        ],\n        \"semantic_type\": \"\",\n        \"description\": \"\"\n      }\n    },\n    {\n      \"column\": \"Age\",\n      \"properties\": {\n        \"dtype\": \"number\",\n        \"std\": 3,\n        \"min\": 22,\n        \"max\": 30,\n        \"num_unique_values\": 4,\n        \"samples\": [\n          27,\n          30,\n          24\n        ],\n        \"semantic_type\": \"\",\n        \"description\": \"\"\n      }\n    },\n    {\n      \"column\": \"City\",\n      \"properties\": {\n        \"dtype\": \"string\",\n        \"num_unique_values\": 4,\n        \"samples\": [\n          \"Bangalore\",\n          \"USA\",\n          \"Noida\"\n        ],\n        \"semantic_type\": \"\",\n        \"description\": \"\"\n      }\n    }\n  ]\n}",
       "type": "dataframe",
       "variable_name": "df"
      },
      "text/html": [
       "\n",
       "  <div id=\"df-689b3384-c84e-400c-8957-1d552d5ce502\" class=\"colab-df-container\">\n",
       "    <div>\n",
       "<style scoped>\n",
       "    .dataframe tbody tr th:only-of-type {\n",
       "        vertical-align: middle;\n",
       "    }\n",
       "\n",
       "    .dataframe tbody tr th {\n",
       "        vertical-align: top;\n",
       "    }\n",
       "\n",
       "    .dataframe thead th {\n",
       "        text-align: right;\n",
       "    }\n",
       "</style>\n",
       "<table border=\"1\" class=\"dataframe\">\n",
       "  <thead>\n",
       "    <tr style=\"text-align: right;\">\n",
       "      <th></th>\n",
       "      <th>Name</th>\n",
       "      <th>Age</th>\n",
       "      <th>City</th>\n",
       "    </tr>\n",
       "  </thead>\n",
       "  <tbody>\n",
       "    <tr>\n",
       "      <th>0</th>\n",
       "      <td>Harsh</td>\n",
       "      <td>24</td>\n",
       "      <td>Noida</td>\n",
       "    </tr>\n",
       "    <tr>\n",
       "      <th>1</th>\n",
       "      <td>Jack</td>\n",
       "      <td>27</td>\n",
       "      <td>Bangalore</td>\n",
       "    </tr>\n",
       "    <tr>\n",
       "      <th>2</th>\n",
       "      <td>Rahul</td>\n",
       "      <td>22</td>\n",
       "      <td>Florida</td>\n",
       "    </tr>\n",
       "    <tr>\n",
       "      <th>3</th>\n",
       "      <td>Divya</td>\n",
       "      <td>30</td>\n",
       "      <td>USA</td>\n",
       "    </tr>\n",
       "  </tbody>\n",
       "</table>\n",
       "</div>\n",
       "    <div class=\"colab-df-buttons\">\n",
       "\n",
       "  <div class=\"colab-df-container\">\n",
       "    <button class=\"colab-df-convert\" onclick=\"convertToInteractive('df-689b3384-c84e-400c-8957-1d552d5ce502')\"\n",
       "            title=\"Convert this dataframe to an interactive table.\"\n",
       "            style=\"display:none;\">\n",
       "\n",
       "  <svg xmlns=\"http://www.w3.org/2000/svg\" height=\"24px\" viewBox=\"0 -960 960 960\">\n",
       "    <path d=\"M120-120v-720h720v720H120Zm60-500h600v-160H180v160Zm220 220h160v-160H400v160Zm0 220h160v-160H400v160ZM180-400h160v-160H180v160Zm440 0h160v-160H620v160ZM180-180h160v-160H180v160Zm440 0h160v-160H620v160Z\"/>\n",
       "  </svg>\n",
       "    </button>\n",
       "\n",
       "  <style>\n",
       "    .colab-df-container {\n",
       "      display:flex;\n",
       "      gap: 12px;\n",
       "    }\n",
       "\n",
       "    .colab-df-convert {\n",
       "      background-color: #E8F0FE;\n",
       "      border: none;\n",
       "      border-radius: 50%;\n",
       "      cursor: pointer;\n",
       "      display: none;\n",
       "      fill: #1967D2;\n",
       "      height: 32px;\n",
       "      padding: 0 0 0 0;\n",
       "      width: 32px;\n",
       "    }\n",
       "\n",
       "    .colab-df-convert:hover {\n",
       "      background-color: #E2EBFA;\n",
       "      box-shadow: 0px 1px 2px rgba(60, 64, 67, 0.3), 0px 1px 3px 1px rgba(60, 64, 67, 0.15);\n",
       "      fill: #174EA6;\n",
       "    }\n",
       "\n",
       "    .colab-df-buttons div {\n",
       "      margin-bottom: 4px;\n",
       "    }\n",
       "\n",
       "    [theme=dark] .colab-df-convert {\n",
       "      background-color: #3B4455;\n",
       "      fill: #D2E3FC;\n",
       "    }\n",
       "\n",
       "    [theme=dark] .colab-df-convert:hover {\n",
       "      background-color: #434B5C;\n",
       "      box-shadow: 0px 1px 3px 1px rgba(0, 0, 0, 0.15);\n",
       "      filter: drop-shadow(0px 1px 2px rgba(0, 0, 0, 0.3));\n",
       "      fill: #FFFFFF;\n",
       "    }\n",
       "  </style>\n",
       "\n",
       "    <script>\n",
       "      const buttonEl =\n",
       "        document.querySelector('#df-689b3384-c84e-400c-8957-1d552d5ce502 button.colab-df-convert');\n",
       "      buttonEl.style.display =\n",
       "        google.colab.kernel.accessAllowed ? 'block' : 'none';\n",
       "\n",
       "      async function convertToInteractive(key) {\n",
       "        const element = document.querySelector('#df-689b3384-c84e-400c-8957-1d552d5ce502');\n",
       "        const dataTable =\n",
       "          await google.colab.kernel.invokeFunction('convertToInteractive',\n",
       "                                                    [key], {});\n",
       "        if (!dataTable) return;\n",
       "\n",
       "        const docLinkHtml = 'Like what you see? Visit the ' +\n",
       "          '<a target=\"_blank\" href=https://colab.research.google.com/notebooks/data_table.ipynb>data table notebook</a>'\n",
       "          + ' to learn more about interactive tables.';\n",
       "        element.innerHTML = '';\n",
       "        dataTable['output_type'] = 'display_data';\n",
       "        await google.colab.output.renderOutput(dataTable, element);\n",
       "        const docLink = document.createElement('div');\n",
       "        docLink.innerHTML = docLinkHtml;\n",
       "        element.appendChild(docLink);\n",
       "      }\n",
       "    </script>\n",
       "  </div>\n",
       "\n",
       "\n",
       "<div id=\"df-245f6215-ab05-4d5e-a10c-62c4713d734a\">\n",
       "  <button class=\"colab-df-quickchart\" onclick=\"quickchart('df-245f6215-ab05-4d5e-a10c-62c4713d734a')\"\n",
       "            title=\"Suggest charts\"\n",
       "            style=\"display:none;\">\n",
       "\n",
       "<svg xmlns=\"http://www.w3.org/2000/svg\" height=\"24px\"viewBox=\"0 0 24 24\"\n",
       "     width=\"24px\">\n",
       "    <g>\n",
       "        <path d=\"M19 3H5c-1.1 0-2 .9-2 2v14c0 1.1.9 2 2 2h14c1.1 0 2-.9 2-2V5c0-1.1-.9-2-2-2zM9 17H7v-7h2v7zm4 0h-2V7h2v10zm4 0h-2v-4h2v4z\"/>\n",
       "    </g>\n",
       "</svg>\n",
       "  </button>\n",
       "\n",
       "<style>\n",
       "  .colab-df-quickchart {\n",
       "      --bg-color: #E8F0FE;\n",
       "      --fill-color: #1967D2;\n",
       "      --hover-bg-color: #E2EBFA;\n",
       "      --hover-fill-color: #174EA6;\n",
       "      --disabled-fill-color: #AAA;\n",
       "      --disabled-bg-color: #DDD;\n",
       "  }\n",
       "\n",
       "  [theme=dark] .colab-df-quickchart {\n",
       "      --bg-color: #3B4455;\n",
       "      --fill-color: #D2E3FC;\n",
       "      --hover-bg-color: #434B5C;\n",
       "      --hover-fill-color: #FFFFFF;\n",
       "      --disabled-bg-color: #3B4455;\n",
       "      --disabled-fill-color: #666;\n",
       "  }\n",
       "\n",
       "  .colab-df-quickchart {\n",
       "    background-color: var(--bg-color);\n",
       "    border: none;\n",
       "    border-radius: 50%;\n",
       "    cursor: pointer;\n",
       "    display: none;\n",
       "    fill: var(--fill-color);\n",
       "    height: 32px;\n",
       "    padding: 0;\n",
       "    width: 32px;\n",
       "  }\n",
       "\n",
       "  .colab-df-quickchart:hover {\n",
       "    background-color: var(--hover-bg-color);\n",
       "    box-shadow: 0 1px 2px rgba(60, 64, 67, 0.3), 0 1px 3px 1px rgba(60, 64, 67, 0.15);\n",
       "    fill: var(--button-hover-fill-color);\n",
       "  }\n",
       "\n",
       "  .colab-df-quickchart-complete:disabled,\n",
       "  .colab-df-quickchart-complete:disabled:hover {\n",
       "    background-color: var(--disabled-bg-color);\n",
       "    fill: var(--disabled-fill-color);\n",
       "    box-shadow: none;\n",
       "  }\n",
       "\n",
       "  .colab-df-spinner {\n",
       "    border: 2px solid var(--fill-color);\n",
       "    border-color: transparent;\n",
       "    border-bottom-color: var(--fill-color);\n",
       "    animation:\n",
       "      spin 1s steps(1) infinite;\n",
       "  }\n",
       "\n",
       "  @keyframes spin {\n",
       "    0% {\n",
       "      border-color: transparent;\n",
       "      border-bottom-color: var(--fill-color);\n",
       "      border-left-color: var(--fill-color);\n",
       "    }\n",
       "    20% {\n",
       "      border-color: transparent;\n",
       "      border-left-color: var(--fill-color);\n",
       "      border-top-color: var(--fill-color);\n",
       "    }\n",
       "    30% {\n",
       "      border-color: transparent;\n",
       "      border-left-color: var(--fill-color);\n",
       "      border-top-color: var(--fill-color);\n",
       "      border-right-color: var(--fill-color);\n",
       "    }\n",
       "    40% {\n",
       "      border-color: transparent;\n",
       "      border-right-color: var(--fill-color);\n",
       "      border-top-color: var(--fill-color);\n",
       "    }\n",
       "    60% {\n",
       "      border-color: transparent;\n",
       "      border-right-color: var(--fill-color);\n",
       "    }\n",
       "    80% {\n",
       "      border-color: transparent;\n",
       "      border-right-color: var(--fill-color);\n",
       "      border-bottom-color: var(--fill-color);\n",
       "    }\n",
       "    90% {\n",
       "      border-color: transparent;\n",
       "      border-bottom-color: var(--fill-color);\n",
       "    }\n",
       "  }\n",
       "</style>\n",
       "\n",
       "  <script>\n",
       "    async function quickchart(key) {\n",
       "      const quickchartButtonEl =\n",
       "        document.querySelector('#' + key + ' button');\n",
       "      quickchartButtonEl.disabled = true;  // To prevent multiple clicks.\n",
       "      quickchartButtonEl.classList.add('colab-df-spinner');\n",
       "      try {\n",
       "        const charts = await google.colab.kernel.invokeFunction(\n",
       "            'suggestCharts', [key], {});\n",
       "      } catch (error) {\n",
       "        console.error('Error during call to suggestCharts:', error);\n",
       "      }\n",
       "      quickchartButtonEl.classList.remove('colab-df-spinner');\n",
       "      quickchartButtonEl.classList.add('colab-df-quickchart-complete');\n",
       "    }\n",
       "    (() => {\n",
       "      let quickchartButtonEl =\n",
       "        document.querySelector('#df-245f6215-ab05-4d5e-a10c-62c4713d734a button');\n",
       "      quickchartButtonEl.style.display =\n",
       "        google.colab.kernel.accessAllowed ? 'block' : 'none';\n",
       "    })();\n",
       "  </script>\n",
       "</div>\n",
       "\n",
       "  <div id=\"id_aea5f4ac-032d-42b7-a14c-97ac303837fc\">\n",
       "    <style>\n",
       "      .colab-df-generate {\n",
       "        background-color: #E8F0FE;\n",
       "        border: none;\n",
       "        border-radius: 50%;\n",
       "        cursor: pointer;\n",
       "        display: none;\n",
       "        fill: #1967D2;\n",
       "        height: 32px;\n",
       "        padding: 0 0 0 0;\n",
       "        width: 32px;\n",
       "      }\n",
       "\n",
       "      .colab-df-generate:hover {\n",
       "        background-color: #E2EBFA;\n",
       "        box-shadow: 0px 1px 2px rgba(60, 64, 67, 0.3), 0px 1px 3px 1px rgba(60, 64, 67, 0.15);\n",
       "        fill: #174EA6;\n",
       "      }\n",
       "\n",
       "      [theme=dark] .colab-df-generate {\n",
       "        background-color: #3B4455;\n",
       "        fill: #D2E3FC;\n",
       "      }\n",
       "\n",
       "      [theme=dark] .colab-df-generate:hover {\n",
       "        background-color: #434B5C;\n",
       "        box-shadow: 0px 1px 3px 1px rgba(0, 0, 0, 0.15);\n",
       "        filter: drop-shadow(0px 1px 2px rgba(0, 0, 0, 0.3));\n",
       "        fill: #FFFFFF;\n",
       "      }\n",
       "    </style>\n",
       "    <button class=\"colab-df-generate\" onclick=\"generateWithVariable('df')\"\n",
       "            title=\"Generate code using this dataframe.\"\n",
       "            style=\"display:none;\">\n",
       "\n",
       "  <svg xmlns=\"http://www.w3.org/2000/svg\" height=\"24px\"viewBox=\"0 0 24 24\"\n",
       "       width=\"24px\">\n",
       "    <path d=\"M7,19H8.4L18.45,9,17,7.55,7,17.6ZM5,21V16.75L18.45,3.32a2,2,0,0,1,2.83,0l1.4,1.43a1.91,1.91,0,0,1,.58,1.4,1.91,1.91,0,0,1-.58,1.4L9.25,21ZM18.45,9,17,7.55Zm-12,3A5.31,5.31,0,0,0,4.9,8.1,5.31,5.31,0,0,0,1,6.5,5.31,5.31,0,0,0,4.9,4.9,5.31,5.31,0,0,0,6.5,1,5.31,5.31,0,0,0,8.1,4.9,5.31,5.31,0,0,0,12,6.5,5.46,5.46,0,0,0,6.5,12Z\"/>\n",
       "  </svg>\n",
       "    </button>\n",
       "    <script>\n",
       "      (() => {\n",
       "      const buttonEl =\n",
       "        document.querySelector('#id_aea5f4ac-032d-42b7-a14c-97ac303837fc button.colab-df-generate');\n",
       "      buttonEl.style.display =\n",
       "        google.colab.kernel.accessAllowed ? 'block' : 'none';\n",
       "\n",
       "      buttonEl.onclick = () => {\n",
       "        google.colab.notebook.generateWithVariable('df');\n",
       "      }\n",
       "      })();\n",
       "    </script>\n",
       "  </div>\n",
       "\n",
       "    </div>\n",
       "  </div>\n"
      ],
      "text/plain": [
       "    Name  Age       City\n",
       "0  Harsh   24      Noida\n",
       "1   Jack   27  Bangalore\n",
       "2  Rahul   22    Florida\n",
       "3  Divya   30        USA"
      ]
     },
     "execution_count": 44,
     "metadata": {},
     "output_type": "execute_result"
    }
   ],
   "source": [
    "df"
   ]
  },
  {
   "cell_type": "code",
   "execution_count": null,
   "metadata": {
    "colab": {
     "base_uri": "https://localhost:8080/",
     "height": 36
    },
    "id": "3VBOSA0nIJUU",
    "outputId": "595bdba9-7a76-45a6-a654-ec2f9bbe28b2"
   },
   "outputs": [
    {
     "data": {
      "application/vnd.google.colaboratory.intrinsic+json": {
       "type": "string"
      },
      "text/plain": [
       "'Florida'"
      ]
     },
     "execution_count": 45,
     "metadata": {},
     "output_type": "execute_result"
    }
   ],
   "source": [
    "## Accessing a specified element\n",
    "df.at[2,'City']"
   ]
  },
  {
   "cell_type": "code",
   "execution_count": null,
   "metadata": {
    "colab": {
     "base_uri": "https://localhost:8080/",
     "height": 36
    },
    "id": "y0J92h49Igjz",
    "outputId": "08d86e23-93b3-41b0-fb3b-c6dde5ef94ba"
   },
   "outputs": [
    {
     "data": {
      "application/vnd.google.colaboratory.intrinsic+json": {
       "type": "string"
      },
      "text/plain": [
       "'Jack'"
      ]
     },
     "execution_count": 46,
     "metadata": {},
     "output_type": "execute_result"
    }
   ],
   "source": [
    "df.at[1,'Name']"
   ]
  },
  {
   "cell_type": "code",
   "execution_count": null,
   "metadata": {
    "colab": {
     "base_uri": "https://localhost:8080/"
    },
    "id": "KWGp0OCXIok3",
    "outputId": "422cb6db-6de0-4f4d-ef6e-b9c200f369df"
   },
   "outputs": [
    {
     "data": {
      "text/plain": [
       "30"
      ]
     },
     "execution_count": 47,
     "metadata": {},
     "output_type": "execute_result"
    }
   ],
   "source": [
    "df.at[3,'Age']"
   ]
  },
  {
   "cell_type": "code",
   "execution_count": null,
   "metadata": {
    "colab": {
     "base_uri": "https://localhost:8080/",
     "height": 175
    },
    "id": "cBf8qqQaIt52",
    "outputId": "edfe35c2-ba5f-4fd1-caea-88bb85ead5a3"
   },
   "outputs": [
    {
     "data": {
      "application/vnd.google.colaboratory.intrinsic+json": {
       "summary": "{\n  \"name\": \"df\",\n  \"rows\": 4,\n  \"fields\": [\n    {\n      \"column\": \"Name\",\n      \"properties\": {\n        \"dtype\": \"string\",\n        \"num_unique_values\": 4,\n        \"samples\": [\n          \"Jack\",\n          \"Divya\",\n          \"Harsh\"\n        ],\n        \"semantic_type\": \"\",\n        \"description\": \"\"\n      }\n    },\n    {\n      \"column\": \"Age\",\n      \"properties\": {\n        \"dtype\": \"number\",\n        \"std\": 3,\n        \"min\": 22,\n        \"max\": 30,\n        \"num_unique_values\": 4,\n        \"samples\": [\n          27,\n          30,\n          24\n        ],\n        \"semantic_type\": \"\",\n        \"description\": \"\"\n      }\n    },\n    {\n      \"column\": \"City\",\n      \"properties\": {\n        \"dtype\": \"string\",\n        \"num_unique_values\": 4,\n        \"samples\": [\n          \"Bangalore\",\n          \"USA\",\n          \"Noida\"\n        ],\n        \"semantic_type\": \"\",\n        \"description\": \"\"\n      }\n    }\n  ]\n}",
       "type": "dataframe",
       "variable_name": "df"
      },
      "text/html": [
       "\n",
       "  <div id=\"df-8477ccf6-68ef-47f0-b972-222bda0f5508\" class=\"colab-df-container\">\n",
       "    <div>\n",
       "<style scoped>\n",
       "    .dataframe tbody tr th:only-of-type {\n",
       "        vertical-align: middle;\n",
       "    }\n",
       "\n",
       "    .dataframe tbody tr th {\n",
       "        vertical-align: top;\n",
       "    }\n",
       "\n",
       "    .dataframe thead th {\n",
       "        text-align: right;\n",
       "    }\n",
       "</style>\n",
       "<table border=\"1\" class=\"dataframe\">\n",
       "  <thead>\n",
       "    <tr style=\"text-align: right;\">\n",
       "      <th></th>\n",
       "      <th>Name</th>\n",
       "      <th>Age</th>\n",
       "      <th>City</th>\n",
       "    </tr>\n",
       "  </thead>\n",
       "  <tbody>\n",
       "    <tr>\n",
       "      <th>0</th>\n",
       "      <td>Harsh</td>\n",
       "      <td>24</td>\n",
       "      <td>Noida</td>\n",
       "    </tr>\n",
       "    <tr>\n",
       "      <th>1</th>\n",
       "      <td>Jack</td>\n",
       "      <td>27</td>\n",
       "      <td>Bangalore</td>\n",
       "    </tr>\n",
       "    <tr>\n",
       "      <th>2</th>\n",
       "      <td>Rahul</td>\n",
       "      <td>22</td>\n",
       "      <td>Florida</td>\n",
       "    </tr>\n",
       "    <tr>\n",
       "      <th>3</th>\n",
       "      <td>Divya</td>\n",
       "      <td>30</td>\n",
       "      <td>USA</td>\n",
       "    </tr>\n",
       "  </tbody>\n",
       "</table>\n",
       "</div>\n",
       "    <div class=\"colab-df-buttons\">\n",
       "\n",
       "  <div class=\"colab-df-container\">\n",
       "    <button class=\"colab-df-convert\" onclick=\"convertToInteractive('df-8477ccf6-68ef-47f0-b972-222bda0f5508')\"\n",
       "            title=\"Convert this dataframe to an interactive table.\"\n",
       "            style=\"display:none;\">\n",
       "\n",
       "  <svg xmlns=\"http://www.w3.org/2000/svg\" height=\"24px\" viewBox=\"0 -960 960 960\">\n",
       "    <path d=\"M120-120v-720h720v720H120Zm60-500h600v-160H180v160Zm220 220h160v-160H400v160Zm0 220h160v-160H400v160ZM180-400h160v-160H180v160Zm440 0h160v-160H620v160ZM180-180h160v-160H180v160Zm440 0h160v-160H620v160Z\"/>\n",
       "  </svg>\n",
       "    </button>\n",
       "\n",
       "  <style>\n",
       "    .colab-df-container {\n",
       "      display:flex;\n",
       "      gap: 12px;\n",
       "    }\n",
       "\n",
       "    .colab-df-convert {\n",
       "      background-color: #E8F0FE;\n",
       "      border: none;\n",
       "      border-radius: 50%;\n",
       "      cursor: pointer;\n",
       "      display: none;\n",
       "      fill: #1967D2;\n",
       "      height: 32px;\n",
       "      padding: 0 0 0 0;\n",
       "      width: 32px;\n",
       "    }\n",
       "\n",
       "    .colab-df-convert:hover {\n",
       "      background-color: #E2EBFA;\n",
       "      box-shadow: 0px 1px 2px rgba(60, 64, 67, 0.3), 0px 1px 3px 1px rgba(60, 64, 67, 0.15);\n",
       "      fill: #174EA6;\n",
       "    }\n",
       "\n",
       "    .colab-df-buttons div {\n",
       "      margin-bottom: 4px;\n",
       "    }\n",
       "\n",
       "    [theme=dark] .colab-df-convert {\n",
       "      background-color: #3B4455;\n",
       "      fill: #D2E3FC;\n",
       "    }\n",
       "\n",
       "    [theme=dark] .colab-df-convert:hover {\n",
       "      background-color: #434B5C;\n",
       "      box-shadow: 0px 1px 3px 1px rgba(0, 0, 0, 0.15);\n",
       "      filter: drop-shadow(0px 1px 2px rgba(0, 0, 0, 0.3));\n",
       "      fill: #FFFFFF;\n",
       "    }\n",
       "  </style>\n",
       "\n",
       "    <script>\n",
       "      const buttonEl =\n",
       "        document.querySelector('#df-8477ccf6-68ef-47f0-b972-222bda0f5508 button.colab-df-convert');\n",
       "      buttonEl.style.display =\n",
       "        google.colab.kernel.accessAllowed ? 'block' : 'none';\n",
       "\n",
       "      async function convertToInteractive(key) {\n",
       "        const element = document.querySelector('#df-8477ccf6-68ef-47f0-b972-222bda0f5508');\n",
       "        const dataTable =\n",
       "          await google.colab.kernel.invokeFunction('convertToInteractive',\n",
       "                                                    [key], {});\n",
       "        if (!dataTable) return;\n",
       "\n",
       "        const docLinkHtml = 'Like what you see? Visit the ' +\n",
       "          '<a target=\"_blank\" href=https://colab.research.google.com/notebooks/data_table.ipynb>data table notebook</a>'\n",
       "          + ' to learn more about interactive tables.';\n",
       "        element.innerHTML = '';\n",
       "        dataTable['output_type'] = 'display_data';\n",
       "        await google.colab.output.renderOutput(dataTable, element);\n",
       "        const docLink = document.createElement('div');\n",
       "        docLink.innerHTML = docLinkHtml;\n",
       "        element.appendChild(docLink);\n",
       "      }\n",
       "    </script>\n",
       "  </div>\n",
       "\n",
       "\n",
       "<div id=\"df-0a4a2fda-1d07-467e-9d73-9b644377f5e3\">\n",
       "  <button class=\"colab-df-quickchart\" onclick=\"quickchart('df-0a4a2fda-1d07-467e-9d73-9b644377f5e3')\"\n",
       "            title=\"Suggest charts\"\n",
       "            style=\"display:none;\">\n",
       "\n",
       "<svg xmlns=\"http://www.w3.org/2000/svg\" height=\"24px\"viewBox=\"0 0 24 24\"\n",
       "     width=\"24px\">\n",
       "    <g>\n",
       "        <path d=\"M19 3H5c-1.1 0-2 .9-2 2v14c0 1.1.9 2 2 2h14c1.1 0 2-.9 2-2V5c0-1.1-.9-2-2-2zM9 17H7v-7h2v7zm4 0h-2V7h2v10zm4 0h-2v-4h2v4z\"/>\n",
       "    </g>\n",
       "</svg>\n",
       "  </button>\n",
       "\n",
       "<style>\n",
       "  .colab-df-quickchart {\n",
       "      --bg-color: #E8F0FE;\n",
       "      --fill-color: #1967D2;\n",
       "      --hover-bg-color: #E2EBFA;\n",
       "      --hover-fill-color: #174EA6;\n",
       "      --disabled-fill-color: #AAA;\n",
       "      --disabled-bg-color: #DDD;\n",
       "  }\n",
       "\n",
       "  [theme=dark] .colab-df-quickchart {\n",
       "      --bg-color: #3B4455;\n",
       "      --fill-color: #D2E3FC;\n",
       "      --hover-bg-color: #434B5C;\n",
       "      --hover-fill-color: #FFFFFF;\n",
       "      --disabled-bg-color: #3B4455;\n",
       "      --disabled-fill-color: #666;\n",
       "  }\n",
       "\n",
       "  .colab-df-quickchart {\n",
       "    background-color: var(--bg-color);\n",
       "    border: none;\n",
       "    border-radius: 50%;\n",
       "    cursor: pointer;\n",
       "    display: none;\n",
       "    fill: var(--fill-color);\n",
       "    height: 32px;\n",
       "    padding: 0;\n",
       "    width: 32px;\n",
       "  }\n",
       "\n",
       "  .colab-df-quickchart:hover {\n",
       "    background-color: var(--hover-bg-color);\n",
       "    box-shadow: 0 1px 2px rgba(60, 64, 67, 0.3), 0 1px 3px 1px rgba(60, 64, 67, 0.15);\n",
       "    fill: var(--button-hover-fill-color);\n",
       "  }\n",
       "\n",
       "  .colab-df-quickchart-complete:disabled,\n",
       "  .colab-df-quickchart-complete:disabled:hover {\n",
       "    background-color: var(--disabled-bg-color);\n",
       "    fill: var(--disabled-fill-color);\n",
       "    box-shadow: none;\n",
       "  }\n",
       "\n",
       "  .colab-df-spinner {\n",
       "    border: 2px solid var(--fill-color);\n",
       "    border-color: transparent;\n",
       "    border-bottom-color: var(--fill-color);\n",
       "    animation:\n",
       "      spin 1s steps(1) infinite;\n",
       "  }\n",
       "\n",
       "  @keyframes spin {\n",
       "    0% {\n",
       "      border-color: transparent;\n",
       "      border-bottom-color: var(--fill-color);\n",
       "      border-left-color: var(--fill-color);\n",
       "    }\n",
       "    20% {\n",
       "      border-color: transparent;\n",
       "      border-left-color: var(--fill-color);\n",
       "      border-top-color: var(--fill-color);\n",
       "    }\n",
       "    30% {\n",
       "      border-color: transparent;\n",
       "      border-left-color: var(--fill-color);\n",
       "      border-top-color: var(--fill-color);\n",
       "      border-right-color: var(--fill-color);\n",
       "    }\n",
       "    40% {\n",
       "      border-color: transparent;\n",
       "      border-right-color: var(--fill-color);\n",
       "      border-top-color: var(--fill-color);\n",
       "    }\n",
       "    60% {\n",
       "      border-color: transparent;\n",
       "      border-right-color: var(--fill-color);\n",
       "    }\n",
       "    80% {\n",
       "      border-color: transparent;\n",
       "      border-right-color: var(--fill-color);\n",
       "      border-bottom-color: var(--fill-color);\n",
       "    }\n",
       "    90% {\n",
       "      border-color: transparent;\n",
       "      border-bottom-color: var(--fill-color);\n",
       "    }\n",
       "  }\n",
       "</style>\n",
       "\n",
       "  <script>\n",
       "    async function quickchart(key) {\n",
       "      const quickchartButtonEl =\n",
       "        document.querySelector('#' + key + ' button');\n",
       "      quickchartButtonEl.disabled = true;  // To prevent multiple clicks.\n",
       "      quickchartButtonEl.classList.add('colab-df-spinner');\n",
       "      try {\n",
       "        const charts = await google.colab.kernel.invokeFunction(\n",
       "            'suggestCharts', [key], {});\n",
       "      } catch (error) {\n",
       "        console.error('Error during call to suggestCharts:', error);\n",
       "      }\n",
       "      quickchartButtonEl.classList.remove('colab-df-spinner');\n",
       "      quickchartButtonEl.classList.add('colab-df-quickchart-complete');\n",
       "    }\n",
       "    (() => {\n",
       "      let quickchartButtonEl =\n",
       "        document.querySelector('#df-0a4a2fda-1d07-467e-9d73-9b644377f5e3 button');\n",
       "      quickchartButtonEl.style.display =\n",
       "        google.colab.kernel.accessAllowed ? 'block' : 'none';\n",
       "    })();\n",
       "  </script>\n",
       "</div>\n",
       "\n",
       "  <div id=\"id_574d4ba0-7fb8-4437-8fde-5300db23798f\">\n",
       "    <style>\n",
       "      .colab-df-generate {\n",
       "        background-color: #E8F0FE;\n",
       "        border: none;\n",
       "        border-radius: 50%;\n",
       "        cursor: pointer;\n",
       "        display: none;\n",
       "        fill: #1967D2;\n",
       "        height: 32px;\n",
       "        padding: 0 0 0 0;\n",
       "        width: 32px;\n",
       "      }\n",
       "\n",
       "      .colab-df-generate:hover {\n",
       "        background-color: #E2EBFA;\n",
       "        box-shadow: 0px 1px 2px rgba(60, 64, 67, 0.3), 0px 1px 3px 1px rgba(60, 64, 67, 0.15);\n",
       "        fill: #174EA6;\n",
       "      }\n",
       "\n",
       "      [theme=dark] .colab-df-generate {\n",
       "        background-color: #3B4455;\n",
       "        fill: #D2E3FC;\n",
       "      }\n",
       "\n",
       "      [theme=dark] .colab-df-generate:hover {\n",
       "        background-color: #434B5C;\n",
       "        box-shadow: 0px 1px 3px 1px rgba(0, 0, 0, 0.15);\n",
       "        filter: drop-shadow(0px 1px 2px rgba(0, 0, 0, 0.3));\n",
       "        fill: #FFFFFF;\n",
       "      }\n",
       "    </style>\n",
       "    <button class=\"colab-df-generate\" onclick=\"generateWithVariable('df')\"\n",
       "            title=\"Generate code using this dataframe.\"\n",
       "            style=\"display:none;\">\n",
       "\n",
       "  <svg xmlns=\"http://www.w3.org/2000/svg\" height=\"24px\"viewBox=\"0 0 24 24\"\n",
       "       width=\"24px\">\n",
       "    <path d=\"M7,19H8.4L18.45,9,17,7.55,7,17.6ZM5,21V16.75L18.45,3.32a2,2,0,0,1,2.83,0l1.4,1.43a1.91,1.91,0,0,1,.58,1.4,1.91,1.91,0,0,1-.58,1.4L9.25,21ZM18.45,9,17,7.55Zm-12,3A5.31,5.31,0,0,0,4.9,8.1,5.31,5.31,0,0,0,1,6.5,5.31,5.31,0,0,0,4.9,4.9,5.31,5.31,0,0,0,6.5,1,5.31,5.31,0,0,0,8.1,4.9,5.31,5.31,0,0,0,12,6.5,5.46,5.46,0,0,0,6.5,12Z\"/>\n",
       "  </svg>\n",
       "    </button>\n",
       "    <script>\n",
       "      (() => {\n",
       "      const buttonEl =\n",
       "        document.querySelector('#id_574d4ba0-7fb8-4437-8fde-5300db23798f button.colab-df-generate');\n",
       "      buttonEl.style.display =\n",
       "        google.colab.kernel.accessAllowed ? 'block' : 'none';\n",
       "\n",
       "      buttonEl.onclick = () => {\n",
       "        google.colab.notebook.generateWithVariable('df');\n",
       "      }\n",
       "      })();\n",
       "    </script>\n",
       "  </div>\n",
       "\n",
       "    </div>\n",
       "  </div>\n"
      ],
      "text/plain": [
       "    Name  Age       City\n",
       "0  Harsh   24      Noida\n",
       "1   Jack   27  Bangalore\n",
       "2  Rahul   22    Florida\n",
       "3  Divya   30        USA"
      ]
     },
     "execution_count": 48,
     "metadata": {},
     "output_type": "execute_result"
    }
   ],
   "source": [
    "df"
   ]
  },
  {
   "cell_type": "code",
   "execution_count": null,
   "metadata": {
    "colab": {
     "base_uri": "https://localhost:8080/",
     "height": 36
    },
    "id": "B-3Yvn8kIvXM",
    "outputId": "79efbe84-5877-419f-ab26-da50ca507666"
   },
   "outputs": [
    {
     "data": {
      "application/vnd.google.colaboratory.intrinsic+json": {
       "type": "string"
      },
      "text/plain": [
       "'Florida'"
      ]
     },
     "execution_count": 49,
     "metadata": {},
     "output_type": "execute_result"
    }
   ],
   "source": [
    "## Accessing a specified element using iat\n",
    "df.iat[2,2] # 2nd Index Row and 2nd Index Column"
   ]
  },
  {
   "cell_type": "code",
   "execution_count": null,
   "metadata": {
    "colab": {
     "base_uri": "https://localhost:8080/",
     "height": 36
    },
    "id": "ieptdRioJALx",
    "outputId": "6177b82c-d61b-4d5f-ec7a-101ec23316f6"
   },
   "outputs": [
    {
     "data": {
      "application/vnd.google.colaboratory.intrinsic+json": {
       "type": "string"
      },
      "text/plain": [
       "'Jack'"
      ]
     },
     "execution_count": 50,
     "metadata": {},
     "output_type": "execute_result"
    }
   ],
   "source": [
    "df.iat[1,0]"
   ]
  },
  {
   "cell_type": "code",
   "execution_count": null,
   "metadata": {
    "colab": {
     "base_uri": "https://localhost:8080/"
    },
    "id": "mVAaus4lKAav",
    "outputId": "b12d57df-a240-4be1-cec4-d13cace5ce60"
   },
   "outputs": [
    {
     "data": {
      "text/plain": [
       "30"
      ]
     },
     "execution_count": 51,
     "metadata": {},
     "output_type": "execute_result"
    }
   ],
   "source": [
    "df.iat[3,1]"
   ]
  },
  {
   "cell_type": "code",
   "execution_count": null,
   "metadata": {
    "colab": {
     "base_uri": "https://localhost:8080/",
     "height": 175
    },
    "id": "5iVUGNDlKFEj",
    "outputId": "7eb8d45a-b1a4-4647-8f46-9a16781054d6"
   },
   "outputs": [
    {
     "data": {
      "application/vnd.google.colaboratory.intrinsic+json": {
       "summary": "{\n  \"name\": \"df\",\n  \"rows\": 4,\n  \"fields\": [\n    {\n      \"column\": \"Name\",\n      \"properties\": {\n        \"dtype\": \"string\",\n        \"num_unique_values\": 4,\n        \"samples\": [\n          \"Jack\",\n          \"Divya\",\n          \"Harsh\"\n        ],\n        \"semantic_type\": \"\",\n        \"description\": \"\"\n      }\n    },\n    {\n      \"column\": \"Age\",\n      \"properties\": {\n        \"dtype\": \"number\",\n        \"std\": 3,\n        \"min\": 22,\n        \"max\": 30,\n        \"num_unique_values\": 4,\n        \"samples\": [\n          27,\n          30,\n          24\n        ],\n        \"semantic_type\": \"\",\n        \"description\": \"\"\n      }\n    },\n    {\n      \"column\": \"City\",\n      \"properties\": {\n        \"dtype\": \"string\",\n        \"num_unique_values\": 4,\n        \"samples\": [\n          \"Bangalore\",\n          \"USA\",\n          \"Noida\"\n        ],\n        \"semantic_type\": \"\",\n        \"description\": \"\"\n      }\n    }\n  ]\n}",
       "type": "dataframe",
       "variable_name": "df"
      },
      "text/html": [
       "\n",
       "  <div id=\"df-87bf51f2-c8e1-433c-9365-994c163828a4\" class=\"colab-df-container\">\n",
       "    <div>\n",
       "<style scoped>\n",
       "    .dataframe tbody tr th:only-of-type {\n",
       "        vertical-align: middle;\n",
       "    }\n",
       "\n",
       "    .dataframe tbody tr th {\n",
       "        vertical-align: top;\n",
       "    }\n",
       "\n",
       "    .dataframe thead th {\n",
       "        text-align: right;\n",
       "    }\n",
       "</style>\n",
       "<table border=\"1\" class=\"dataframe\">\n",
       "  <thead>\n",
       "    <tr style=\"text-align: right;\">\n",
       "      <th></th>\n",
       "      <th>Name</th>\n",
       "      <th>Age</th>\n",
       "      <th>City</th>\n",
       "    </tr>\n",
       "  </thead>\n",
       "  <tbody>\n",
       "    <tr>\n",
       "      <th>0</th>\n",
       "      <td>Harsh</td>\n",
       "      <td>24</td>\n",
       "      <td>Noida</td>\n",
       "    </tr>\n",
       "    <tr>\n",
       "      <th>1</th>\n",
       "      <td>Jack</td>\n",
       "      <td>27</td>\n",
       "      <td>Bangalore</td>\n",
       "    </tr>\n",
       "    <tr>\n",
       "      <th>2</th>\n",
       "      <td>Rahul</td>\n",
       "      <td>22</td>\n",
       "      <td>Florida</td>\n",
       "    </tr>\n",
       "    <tr>\n",
       "      <th>3</th>\n",
       "      <td>Divya</td>\n",
       "      <td>30</td>\n",
       "      <td>USA</td>\n",
       "    </tr>\n",
       "  </tbody>\n",
       "</table>\n",
       "</div>\n",
       "    <div class=\"colab-df-buttons\">\n",
       "\n",
       "  <div class=\"colab-df-container\">\n",
       "    <button class=\"colab-df-convert\" onclick=\"convertToInteractive('df-87bf51f2-c8e1-433c-9365-994c163828a4')\"\n",
       "            title=\"Convert this dataframe to an interactive table.\"\n",
       "            style=\"display:none;\">\n",
       "\n",
       "  <svg xmlns=\"http://www.w3.org/2000/svg\" height=\"24px\" viewBox=\"0 -960 960 960\">\n",
       "    <path d=\"M120-120v-720h720v720H120Zm60-500h600v-160H180v160Zm220 220h160v-160H400v160Zm0 220h160v-160H400v160ZM180-400h160v-160H180v160Zm440 0h160v-160H620v160ZM180-180h160v-160H180v160Zm440 0h160v-160H620v160Z\"/>\n",
       "  </svg>\n",
       "    </button>\n",
       "\n",
       "  <style>\n",
       "    .colab-df-container {\n",
       "      display:flex;\n",
       "      gap: 12px;\n",
       "    }\n",
       "\n",
       "    .colab-df-convert {\n",
       "      background-color: #E8F0FE;\n",
       "      border: none;\n",
       "      border-radius: 50%;\n",
       "      cursor: pointer;\n",
       "      display: none;\n",
       "      fill: #1967D2;\n",
       "      height: 32px;\n",
       "      padding: 0 0 0 0;\n",
       "      width: 32px;\n",
       "    }\n",
       "\n",
       "    .colab-df-convert:hover {\n",
       "      background-color: #E2EBFA;\n",
       "      box-shadow: 0px 1px 2px rgba(60, 64, 67, 0.3), 0px 1px 3px 1px rgba(60, 64, 67, 0.15);\n",
       "      fill: #174EA6;\n",
       "    }\n",
       "\n",
       "    .colab-df-buttons div {\n",
       "      margin-bottom: 4px;\n",
       "    }\n",
       "\n",
       "    [theme=dark] .colab-df-convert {\n",
       "      background-color: #3B4455;\n",
       "      fill: #D2E3FC;\n",
       "    }\n",
       "\n",
       "    [theme=dark] .colab-df-convert:hover {\n",
       "      background-color: #434B5C;\n",
       "      box-shadow: 0px 1px 3px 1px rgba(0, 0, 0, 0.15);\n",
       "      filter: drop-shadow(0px 1px 2px rgba(0, 0, 0, 0.3));\n",
       "      fill: #FFFFFF;\n",
       "    }\n",
       "  </style>\n",
       "\n",
       "    <script>\n",
       "      const buttonEl =\n",
       "        document.querySelector('#df-87bf51f2-c8e1-433c-9365-994c163828a4 button.colab-df-convert');\n",
       "      buttonEl.style.display =\n",
       "        google.colab.kernel.accessAllowed ? 'block' : 'none';\n",
       "\n",
       "      async function convertToInteractive(key) {\n",
       "        const element = document.querySelector('#df-87bf51f2-c8e1-433c-9365-994c163828a4');\n",
       "        const dataTable =\n",
       "          await google.colab.kernel.invokeFunction('convertToInteractive',\n",
       "                                                    [key], {});\n",
       "        if (!dataTable) return;\n",
       "\n",
       "        const docLinkHtml = 'Like what you see? Visit the ' +\n",
       "          '<a target=\"_blank\" href=https://colab.research.google.com/notebooks/data_table.ipynb>data table notebook</a>'\n",
       "          + ' to learn more about interactive tables.';\n",
       "        element.innerHTML = '';\n",
       "        dataTable['output_type'] = 'display_data';\n",
       "        await google.colab.output.renderOutput(dataTable, element);\n",
       "        const docLink = document.createElement('div');\n",
       "        docLink.innerHTML = docLinkHtml;\n",
       "        element.appendChild(docLink);\n",
       "      }\n",
       "    </script>\n",
       "  </div>\n",
       "\n",
       "\n",
       "<div id=\"df-81d2f061-40c2-4063-b662-d6f64f646bfa\">\n",
       "  <button class=\"colab-df-quickchart\" onclick=\"quickchart('df-81d2f061-40c2-4063-b662-d6f64f646bfa')\"\n",
       "            title=\"Suggest charts\"\n",
       "            style=\"display:none;\">\n",
       "\n",
       "<svg xmlns=\"http://www.w3.org/2000/svg\" height=\"24px\"viewBox=\"0 0 24 24\"\n",
       "     width=\"24px\">\n",
       "    <g>\n",
       "        <path d=\"M19 3H5c-1.1 0-2 .9-2 2v14c0 1.1.9 2 2 2h14c1.1 0 2-.9 2-2V5c0-1.1-.9-2-2-2zM9 17H7v-7h2v7zm4 0h-2V7h2v10zm4 0h-2v-4h2v4z\"/>\n",
       "    </g>\n",
       "</svg>\n",
       "  </button>\n",
       "\n",
       "<style>\n",
       "  .colab-df-quickchart {\n",
       "      --bg-color: #E8F0FE;\n",
       "      --fill-color: #1967D2;\n",
       "      --hover-bg-color: #E2EBFA;\n",
       "      --hover-fill-color: #174EA6;\n",
       "      --disabled-fill-color: #AAA;\n",
       "      --disabled-bg-color: #DDD;\n",
       "  }\n",
       "\n",
       "  [theme=dark] .colab-df-quickchart {\n",
       "      --bg-color: #3B4455;\n",
       "      --fill-color: #D2E3FC;\n",
       "      --hover-bg-color: #434B5C;\n",
       "      --hover-fill-color: #FFFFFF;\n",
       "      --disabled-bg-color: #3B4455;\n",
       "      --disabled-fill-color: #666;\n",
       "  }\n",
       "\n",
       "  .colab-df-quickchart {\n",
       "    background-color: var(--bg-color);\n",
       "    border: none;\n",
       "    border-radius: 50%;\n",
       "    cursor: pointer;\n",
       "    display: none;\n",
       "    fill: var(--fill-color);\n",
       "    height: 32px;\n",
       "    padding: 0;\n",
       "    width: 32px;\n",
       "  }\n",
       "\n",
       "  .colab-df-quickchart:hover {\n",
       "    background-color: var(--hover-bg-color);\n",
       "    box-shadow: 0 1px 2px rgba(60, 64, 67, 0.3), 0 1px 3px 1px rgba(60, 64, 67, 0.15);\n",
       "    fill: var(--button-hover-fill-color);\n",
       "  }\n",
       "\n",
       "  .colab-df-quickchart-complete:disabled,\n",
       "  .colab-df-quickchart-complete:disabled:hover {\n",
       "    background-color: var(--disabled-bg-color);\n",
       "    fill: var(--disabled-fill-color);\n",
       "    box-shadow: none;\n",
       "  }\n",
       "\n",
       "  .colab-df-spinner {\n",
       "    border: 2px solid var(--fill-color);\n",
       "    border-color: transparent;\n",
       "    border-bottom-color: var(--fill-color);\n",
       "    animation:\n",
       "      spin 1s steps(1) infinite;\n",
       "  }\n",
       "\n",
       "  @keyframes spin {\n",
       "    0% {\n",
       "      border-color: transparent;\n",
       "      border-bottom-color: var(--fill-color);\n",
       "      border-left-color: var(--fill-color);\n",
       "    }\n",
       "    20% {\n",
       "      border-color: transparent;\n",
       "      border-left-color: var(--fill-color);\n",
       "      border-top-color: var(--fill-color);\n",
       "    }\n",
       "    30% {\n",
       "      border-color: transparent;\n",
       "      border-left-color: var(--fill-color);\n",
       "      border-top-color: var(--fill-color);\n",
       "      border-right-color: var(--fill-color);\n",
       "    }\n",
       "    40% {\n",
       "      border-color: transparent;\n",
       "      border-right-color: var(--fill-color);\n",
       "      border-top-color: var(--fill-color);\n",
       "    }\n",
       "    60% {\n",
       "      border-color: transparent;\n",
       "      border-right-color: var(--fill-color);\n",
       "    }\n",
       "    80% {\n",
       "      border-color: transparent;\n",
       "      border-right-color: var(--fill-color);\n",
       "      border-bottom-color: var(--fill-color);\n",
       "    }\n",
       "    90% {\n",
       "      border-color: transparent;\n",
       "      border-bottom-color: var(--fill-color);\n",
       "    }\n",
       "  }\n",
       "</style>\n",
       "\n",
       "  <script>\n",
       "    async function quickchart(key) {\n",
       "      const quickchartButtonEl =\n",
       "        document.querySelector('#' + key + ' button');\n",
       "      quickchartButtonEl.disabled = true;  // To prevent multiple clicks.\n",
       "      quickchartButtonEl.classList.add('colab-df-spinner');\n",
       "      try {\n",
       "        const charts = await google.colab.kernel.invokeFunction(\n",
       "            'suggestCharts', [key], {});\n",
       "      } catch (error) {\n",
       "        console.error('Error during call to suggestCharts:', error);\n",
       "      }\n",
       "      quickchartButtonEl.classList.remove('colab-df-spinner');\n",
       "      quickchartButtonEl.classList.add('colab-df-quickchart-complete');\n",
       "    }\n",
       "    (() => {\n",
       "      let quickchartButtonEl =\n",
       "        document.querySelector('#df-81d2f061-40c2-4063-b662-d6f64f646bfa button');\n",
       "      quickchartButtonEl.style.display =\n",
       "        google.colab.kernel.accessAllowed ? 'block' : 'none';\n",
       "    })();\n",
       "  </script>\n",
       "</div>\n",
       "\n",
       "  <div id=\"id_006abcb6-da45-459e-a82d-593d0e4512b7\">\n",
       "    <style>\n",
       "      .colab-df-generate {\n",
       "        background-color: #E8F0FE;\n",
       "        border: none;\n",
       "        border-radius: 50%;\n",
       "        cursor: pointer;\n",
       "        display: none;\n",
       "        fill: #1967D2;\n",
       "        height: 32px;\n",
       "        padding: 0 0 0 0;\n",
       "        width: 32px;\n",
       "      }\n",
       "\n",
       "      .colab-df-generate:hover {\n",
       "        background-color: #E2EBFA;\n",
       "        box-shadow: 0px 1px 2px rgba(60, 64, 67, 0.3), 0px 1px 3px 1px rgba(60, 64, 67, 0.15);\n",
       "        fill: #174EA6;\n",
       "      }\n",
       "\n",
       "      [theme=dark] .colab-df-generate {\n",
       "        background-color: #3B4455;\n",
       "        fill: #D2E3FC;\n",
       "      }\n",
       "\n",
       "      [theme=dark] .colab-df-generate:hover {\n",
       "        background-color: #434B5C;\n",
       "        box-shadow: 0px 1px 3px 1px rgba(0, 0, 0, 0.15);\n",
       "        filter: drop-shadow(0px 1px 2px rgba(0, 0, 0, 0.3));\n",
       "        fill: #FFFFFF;\n",
       "      }\n",
       "    </style>\n",
       "    <button class=\"colab-df-generate\" onclick=\"generateWithVariable('df')\"\n",
       "            title=\"Generate code using this dataframe.\"\n",
       "            style=\"display:none;\">\n",
       "\n",
       "  <svg xmlns=\"http://www.w3.org/2000/svg\" height=\"24px\"viewBox=\"0 0 24 24\"\n",
       "       width=\"24px\">\n",
       "    <path d=\"M7,19H8.4L18.45,9,17,7.55,7,17.6ZM5,21V16.75L18.45,3.32a2,2,0,0,1,2.83,0l1.4,1.43a1.91,1.91,0,0,1,.58,1.4,1.91,1.91,0,0,1-.58,1.4L9.25,21ZM18.45,9,17,7.55Zm-12,3A5.31,5.31,0,0,0,4.9,8.1,5.31,5.31,0,0,0,1,6.5,5.31,5.31,0,0,0,4.9,4.9,5.31,5.31,0,0,0,6.5,1,5.31,5.31,0,0,0,8.1,4.9,5.31,5.31,0,0,0,12,6.5,5.46,5.46,0,0,0,6.5,12Z\"/>\n",
       "  </svg>\n",
       "    </button>\n",
       "    <script>\n",
       "      (() => {\n",
       "      const buttonEl =\n",
       "        document.querySelector('#id_006abcb6-da45-459e-a82d-593d0e4512b7 button.colab-df-generate');\n",
       "      buttonEl.style.display =\n",
       "        google.colab.kernel.accessAllowed ? 'block' : 'none';\n",
       "\n",
       "      buttonEl.onclick = () => {\n",
       "        google.colab.notebook.generateWithVariable('df');\n",
       "      }\n",
       "      })();\n",
       "    </script>\n",
       "  </div>\n",
       "\n",
       "    </div>\n",
       "  </div>\n"
      ],
      "text/plain": [
       "    Name  Age       City\n",
       "0  Harsh   24      Noida\n",
       "1   Jack   27  Bangalore\n",
       "2  Rahul   22    Florida\n",
       "3  Divya   30        USA"
      ]
     },
     "execution_count": 52,
     "metadata": {},
     "output_type": "execute_result"
    }
   ],
   "source": [
    "## Data Manipulation with DataFrames\n",
    "df"
   ]
  },
  {
   "cell_type": "code",
   "execution_count": null,
   "metadata": {
    "colab": {
     "base_uri": "https://localhost:8080/",
     "height": 175
    },
    "id": "g_zSxXpwKOas",
    "outputId": "dd4e6e46-0cbc-471e-f342-18678350b475"
   },
   "outputs": [
    {
     "data": {
      "application/vnd.google.colaboratory.intrinsic+json": {
       "summary": "{\n  \"name\": \"df\",\n  \"rows\": 4,\n  \"fields\": [\n    {\n      \"column\": \"Name\",\n      \"properties\": {\n        \"dtype\": \"string\",\n        \"num_unique_values\": 4,\n        \"samples\": [\n          \"Jack\",\n          \"Divya\",\n          \"Harsh\"\n        ],\n        \"semantic_type\": \"\",\n        \"description\": \"\"\n      }\n    },\n    {\n      \"column\": \"Age\",\n      \"properties\": {\n        \"dtype\": \"number\",\n        \"std\": 3,\n        \"min\": 22,\n        \"max\": 30,\n        \"num_unique_values\": 4,\n        \"samples\": [\n          27,\n          30,\n          24\n        ],\n        \"semantic_type\": \"\",\n        \"description\": \"\"\n      }\n    },\n    {\n      \"column\": \"City\",\n      \"properties\": {\n        \"dtype\": \"string\",\n        \"num_unique_values\": 4,\n        \"samples\": [\n          \"Bangalore\",\n          \"USA\",\n          \"Noida\"\n        ],\n        \"semantic_type\": \"\",\n        \"description\": \"\"\n      }\n    },\n    {\n      \"column\": \"Salary\",\n      \"properties\": {\n        \"dtype\": \"number\",\n        \"std\": 17078,\n        \"min\": 30000,\n        \"max\": 70000,\n        \"num_unique_values\": 4,\n        \"samples\": [\n          70000,\n          50000,\n          60000\n        ],\n        \"semantic_type\": \"\",\n        \"description\": \"\"\n      }\n    }\n  ]\n}",
       "type": "dataframe",
       "variable_name": "df"
      },
      "text/html": [
       "\n",
       "  <div id=\"df-fba386d2-db44-4871-9447-b0650c9f6b82\" class=\"colab-df-container\">\n",
       "    <div>\n",
       "<style scoped>\n",
       "    .dataframe tbody tr th:only-of-type {\n",
       "        vertical-align: middle;\n",
       "    }\n",
       "\n",
       "    .dataframe tbody tr th {\n",
       "        vertical-align: top;\n",
       "    }\n",
       "\n",
       "    .dataframe thead th {\n",
       "        text-align: right;\n",
       "    }\n",
       "</style>\n",
       "<table border=\"1\" class=\"dataframe\">\n",
       "  <thead>\n",
       "    <tr style=\"text-align: right;\">\n",
       "      <th></th>\n",
       "      <th>Name</th>\n",
       "      <th>Age</th>\n",
       "      <th>City</th>\n",
       "      <th>Salary</th>\n",
       "    </tr>\n",
       "  </thead>\n",
       "  <tbody>\n",
       "    <tr>\n",
       "      <th>0</th>\n",
       "      <td>Harsh</td>\n",
       "      <td>24</td>\n",
       "      <td>Noida</td>\n",
       "      <td>60000</td>\n",
       "    </tr>\n",
       "    <tr>\n",
       "      <th>1</th>\n",
       "      <td>Jack</td>\n",
       "      <td>27</td>\n",
       "      <td>Bangalore</td>\n",
       "      <td>70000</td>\n",
       "    </tr>\n",
       "    <tr>\n",
       "      <th>2</th>\n",
       "      <td>Rahul</td>\n",
       "      <td>22</td>\n",
       "      <td>Florida</td>\n",
       "      <td>30000</td>\n",
       "    </tr>\n",
       "    <tr>\n",
       "      <th>3</th>\n",
       "      <td>Divya</td>\n",
       "      <td>30</td>\n",
       "      <td>USA</td>\n",
       "      <td>50000</td>\n",
       "    </tr>\n",
       "  </tbody>\n",
       "</table>\n",
       "</div>\n",
       "    <div class=\"colab-df-buttons\">\n",
       "\n",
       "  <div class=\"colab-df-container\">\n",
       "    <button class=\"colab-df-convert\" onclick=\"convertToInteractive('df-fba386d2-db44-4871-9447-b0650c9f6b82')\"\n",
       "            title=\"Convert this dataframe to an interactive table.\"\n",
       "            style=\"display:none;\">\n",
       "\n",
       "  <svg xmlns=\"http://www.w3.org/2000/svg\" height=\"24px\" viewBox=\"0 -960 960 960\">\n",
       "    <path d=\"M120-120v-720h720v720H120Zm60-500h600v-160H180v160Zm220 220h160v-160H400v160Zm0 220h160v-160H400v160ZM180-400h160v-160H180v160Zm440 0h160v-160H620v160ZM180-180h160v-160H180v160Zm440 0h160v-160H620v160Z\"/>\n",
       "  </svg>\n",
       "    </button>\n",
       "\n",
       "  <style>\n",
       "    .colab-df-container {\n",
       "      display:flex;\n",
       "      gap: 12px;\n",
       "    }\n",
       "\n",
       "    .colab-df-convert {\n",
       "      background-color: #E8F0FE;\n",
       "      border: none;\n",
       "      border-radius: 50%;\n",
       "      cursor: pointer;\n",
       "      display: none;\n",
       "      fill: #1967D2;\n",
       "      height: 32px;\n",
       "      padding: 0 0 0 0;\n",
       "      width: 32px;\n",
       "    }\n",
       "\n",
       "    .colab-df-convert:hover {\n",
       "      background-color: #E2EBFA;\n",
       "      box-shadow: 0px 1px 2px rgba(60, 64, 67, 0.3), 0px 1px 3px 1px rgba(60, 64, 67, 0.15);\n",
       "      fill: #174EA6;\n",
       "    }\n",
       "\n",
       "    .colab-df-buttons div {\n",
       "      margin-bottom: 4px;\n",
       "    }\n",
       "\n",
       "    [theme=dark] .colab-df-convert {\n",
       "      background-color: #3B4455;\n",
       "      fill: #D2E3FC;\n",
       "    }\n",
       "\n",
       "    [theme=dark] .colab-df-convert:hover {\n",
       "      background-color: #434B5C;\n",
       "      box-shadow: 0px 1px 3px 1px rgba(0, 0, 0, 0.15);\n",
       "      filter: drop-shadow(0px 1px 2px rgba(0, 0, 0, 0.3));\n",
       "      fill: #FFFFFF;\n",
       "    }\n",
       "  </style>\n",
       "\n",
       "    <script>\n",
       "      const buttonEl =\n",
       "        document.querySelector('#df-fba386d2-db44-4871-9447-b0650c9f6b82 button.colab-df-convert');\n",
       "      buttonEl.style.display =\n",
       "        google.colab.kernel.accessAllowed ? 'block' : 'none';\n",
       "\n",
       "      async function convertToInteractive(key) {\n",
       "        const element = document.querySelector('#df-fba386d2-db44-4871-9447-b0650c9f6b82');\n",
       "        const dataTable =\n",
       "          await google.colab.kernel.invokeFunction('convertToInteractive',\n",
       "                                                    [key], {});\n",
       "        if (!dataTable) return;\n",
       "\n",
       "        const docLinkHtml = 'Like what you see? Visit the ' +\n",
       "          '<a target=\"_blank\" href=https://colab.research.google.com/notebooks/data_table.ipynb>data table notebook</a>'\n",
       "          + ' to learn more about interactive tables.';\n",
       "        element.innerHTML = '';\n",
       "        dataTable['output_type'] = 'display_data';\n",
       "        await google.colab.output.renderOutput(dataTable, element);\n",
       "        const docLink = document.createElement('div');\n",
       "        docLink.innerHTML = docLinkHtml;\n",
       "        element.appendChild(docLink);\n",
       "      }\n",
       "    </script>\n",
       "  </div>\n",
       "\n",
       "\n",
       "<div id=\"df-5b1ef5ed-649a-42f2-a0df-be5a9d95a9a6\">\n",
       "  <button class=\"colab-df-quickchart\" onclick=\"quickchart('df-5b1ef5ed-649a-42f2-a0df-be5a9d95a9a6')\"\n",
       "            title=\"Suggest charts\"\n",
       "            style=\"display:none;\">\n",
       "\n",
       "<svg xmlns=\"http://www.w3.org/2000/svg\" height=\"24px\"viewBox=\"0 0 24 24\"\n",
       "     width=\"24px\">\n",
       "    <g>\n",
       "        <path d=\"M19 3H5c-1.1 0-2 .9-2 2v14c0 1.1.9 2 2 2h14c1.1 0 2-.9 2-2V5c0-1.1-.9-2-2-2zM9 17H7v-7h2v7zm4 0h-2V7h2v10zm4 0h-2v-4h2v4z\"/>\n",
       "    </g>\n",
       "</svg>\n",
       "  </button>\n",
       "\n",
       "<style>\n",
       "  .colab-df-quickchart {\n",
       "      --bg-color: #E8F0FE;\n",
       "      --fill-color: #1967D2;\n",
       "      --hover-bg-color: #E2EBFA;\n",
       "      --hover-fill-color: #174EA6;\n",
       "      --disabled-fill-color: #AAA;\n",
       "      --disabled-bg-color: #DDD;\n",
       "  }\n",
       "\n",
       "  [theme=dark] .colab-df-quickchart {\n",
       "      --bg-color: #3B4455;\n",
       "      --fill-color: #D2E3FC;\n",
       "      --hover-bg-color: #434B5C;\n",
       "      --hover-fill-color: #FFFFFF;\n",
       "      --disabled-bg-color: #3B4455;\n",
       "      --disabled-fill-color: #666;\n",
       "  }\n",
       "\n",
       "  .colab-df-quickchart {\n",
       "    background-color: var(--bg-color);\n",
       "    border: none;\n",
       "    border-radius: 50%;\n",
       "    cursor: pointer;\n",
       "    display: none;\n",
       "    fill: var(--fill-color);\n",
       "    height: 32px;\n",
       "    padding: 0;\n",
       "    width: 32px;\n",
       "  }\n",
       "\n",
       "  .colab-df-quickchart:hover {\n",
       "    background-color: var(--hover-bg-color);\n",
       "    box-shadow: 0 1px 2px rgba(60, 64, 67, 0.3), 0 1px 3px 1px rgba(60, 64, 67, 0.15);\n",
       "    fill: var(--button-hover-fill-color);\n",
       "  }\n",
       "\n",
       "  .colab-df-quickchart-complete:disabled,\n",
       "  .colab-df-quickchart-complete:disabled:hover {\n",
       "    background-color: var(--disabled-bg-color);\n",
       "    fill: var(--disabled-fill-color);\n",
       "    box-shadow: none;\n",
       "  }\n",
       "\n",
       "  .colab-df-spinner {\n",
       "    border: 2px solid var(--fill-color);\n",
       "    border-color: transparent;\n",
       "    border-bottom-color: var(--fill-color);\n",
       "    animation:\n",
       "      spin 1s steps(1) infinite;\n",
       "  }\n",
       "\n",
       "  @keyframes spin {\n",
       "    0% {\n",
       "      border-color: transparent;\n",
       "      border-bottom-color: var(--fill-color);\n",
       "      border-left-color: var(--fill-color);\n",
       "    }\n",
       "    20% {\n",
       "      border-color: transparent;\n",
       "      border-left-color: var(--fill-color);\n",
       "      border-top-color: var(--fill-color);\n",
       "    }\n",
       "    30% {\n",
       "      border-color: transparent;\n",
       "      border-left-color: var(--fill-color);\n",
       "      border-top-color: var(--fill-color);\n",
       "      border-right-color: var(--fill-color);\n",
       "    }\n",
       "    40% {\n",
       "      border-color: transparent;\n",
       "      border-right-color: var(--fill-color);\n",
       "      border-top-color: var(--fill-color);\n",
       "    }\n",
       "    60% {\n",
       "      border-color: transparent;\n",
       "      border-right-color: var(--fill-color);\n",
       "    }\n",
       "    80% {\n",
       "      border-color: transparent;\n",
       "      border-right-color: var(--fill-color);\n",
       "      border-bottom-color: var(--fill-color);\n",
       "    }\n",
       "    90% {\n",
       "      border-color: transparent;\n",
       "      border-bottom-color: var(--fill-color);\n",
       "    }\n",
       "  }\n",
       "</style>\n",
       "\n",
       "  <script>\n",
       "    async function quickchart(key) {\n",
       "      const quickchartButtonEl =\n",
       "        document.querySelector('#' + key + ' button');\n",
       "      quickchartButtonEl.disabled = true;  // To prevent multiple clicks.\n",
       "      quickchartButtonEl.classList.add('colab-df-spinner');\n",
       "      try {\n",
       "        const charts = await google.colab.kernel.invokeFunction(\n",
       "            'suggestCharts', [key], {});\n",
       "      } catch (error) {\n",
       "        console.error('Error during call to suggestCharts:', error);\n",
       "      }\n",
       "      quickchartButtonEl.classList.remove('colab-df-spinner');\n",
       "      quickchartButtonEl.classList.add('colab-df-quickchart-complete');\n",
       "    }\n",
       "    (() => {\n",
       "      let quickchartButtonEl =\n",
       "        document.querySelector('#df-5b1ef5ed-649a-42f2-a0df-be5a9d95a9a6 button');\n",
       "      quickchartButtonEl.style.display =\n",
       "        google.colab.kernel.accessAllowed ? 'block' : 'none';\n",
       "    })();\n",
       "  </script>\n",
       "</div>\n",
       "\n",
       "  <div id=\"id_64f64be4-378c-406b-8469-b414ca86fe2f\">\n",
       "    <style>\n",
       "      .colab-df-generate {\n",
       "        background-color: #E8F0FE;\n",
       "        border: none;\n",
       "        border-radius: 50%;\n",
       "        cursor: pointer;\n",
       "        display: none;\n",
       "        fill: #1967D2;\n",
       "        height: 32px;\n",
       "        padding: 0 0 0 0;\n",
       "        width: 32px;\n",
       "      }\n",
       "\n",
       "      .colab-df-generate:hover {\n",
       "        background-color: #E2EBFA;\n",
       "        box-shadow: 0px 1px 2px rgba(60, 64, 67, 0.3), 0px 1px 3px 1px rgba(60, 64, 67, 0.15);\n",
       "        fill: #174EA6;\n",
       "      }\n",
       "\n",
       "      [theme=dark] .colab-df-generate {\n",
       "        background-color: #3B4455;\n",
       "        fill: #D2E3FC;\n",
       "      }\n",
       "\n",
       "      [theme=dark] .colab-df-generate:hover {\n",
       "        background-color: #434B5C;\n",
       "        box-shadow: 0px 1px 3px 1px rgba(0, 0, 0, 0.15);\n",
       "        filter: drop-shadow(0px 1px 2px rgba(0, 0, 0, 0.3));\n",
       "        fill: #FFFFFF;\n",
       "      }\n",
       "    </style>\n",
       "    <button class=\"colab-df-generate\" onclick=\"generateWithVariable('df')\"\n",
       "            title=\"Generate code using this dataframe.\"\n",
       "            style=\"display:none;\">\n",
       "\n",
       "  <svg xmlns=\"http://www.w3.org/2000/svg\" height=\"24px\"viewBox=\"0 0 24 24\"\n",
       "       width=\"24px\">\n",
       "    <path d=\"M7,19H8.4L18.45,9,17,7.55,7,17.6ZM5,21V16.75L18.45,3.32a2,2,0,0,1,2.83,0l1.4,1.43a1.91,1.91,0,0,1,.58,1.4,1.91,1.91,0,0,1-.58,1.4L9.25,21ZM18.45,9,17,7.55Zm-12,3A5.31,5.31,0,0,0,4.9,8.1,5.31,5.31,0,0,0,1,6.5,5.31,5.31,0,0,0,4.9,4.9,5.31,5.31,0,0,0,6.5,1,5.31,5.31,0,0,0,8.1,4.9,5.31,5.31,0,0,0,12,6.5,5.46,5.46,0,0,0,6.5,12Z\"/>\n",
       "  </svg>\n",
       "    </button>\n",
       "    <script>\n",
       "      (() => {\n",
       "      const buttonEl =\n",
       "        document.querySelector('#id_64f64be4-378c-406b-8469-b414ca86fe2f button.colab-df-generate');\n",
       "      buttonEl.style.display =\n",
       "        google.colab.kernel.accessAllowed ? 'block' : 'none';\n",
       "\n",
       "      buttonEl.onclick = () => {\n",
       "        google.colab.notebook.generateWithVariable('df');\n",
       "      }\n",
       "      })();\n",
       "    </script>\n",
       "  </div>\n",
       "\n",
       "    </div>\n",
       "  </div>\n"
      ],
      "text/plain": [
       "    Name  Age       City  Salary\n",
       "0  Harsh   24      Noida   60000\n",
       "1   Jack   27  Bangalore   70000\n",
       "2  Rahul   22    Florida   30000\n",
       "3  Divya   30        USA   50000"
      ]
     },
     "execution_count": 53,
     "metadata": {},
     "output_type": "execute_result"
    }
   ],
   "source": [
    "## Adding a Column\n",
    "df['Salary']=[60000,70000,30000,50000]\n",
    "df"
   ]
  },
  {
   "cell_type": "code",
   "execution_count": null,
   "metadata": {
    "colab": {
     "base_uri": "https://localhost:8080/",
     "height": 175
    },
    "id": "L7Wi3G-yKbCU",
    "outputId": "0e1f3bc5-32af-4524-84ce-7acd21688610"
   },
   "outputs": [
    {
     "data": {
      "application/vnd.google.colaboratory.intrinsic+json": {
       "summary": "{\n  \"name\": \"df\",\n  \"rows\": 4,\n  \"fields\": [\n    {\n      \"column\": \"Name\",\n      \"properties\": {\n        \"dtype\": \"string\",\n        \"num_unique_values\": 4,\n        \"samples\": [\n          \"Jack\",\n          \"Divya\",\n          \"Harsh\"\n        ],\n        \"semantic_type\": \"\",\n        \"description\": \"\"\n      }\n    },\n    {\n      \"column\": \"Age\",\n      \"properties\": {\n        \"dtype\": \"number\",\n        \"std\": 3,\n        \"min\": 22,\n        \"max\": 30,\n        \"num_unique_values\": 4,\n        \"samples\": [\n          27,\n          30,\n          24\n        ],\n        \"semantic_type\": \"\",\n        \"description\": \"\"\n      }\n    },\n    {\n      \"column\": \"City\",\n      \"properties\": {\n        \"dtype\": \"string\",\n        \"num_unique_values\": 4,\n        \"samples\": [\n          \"Bangalore\",\n          \"USA\",\n          \"Noida\"\n        ],\n        \"semantic_type\": \"\",\n        \"description\": \"\"\n      }\n    },\n    {\n      \"column\": \"Salary\",\n      \"properties\": {\n        \"dtype\": \"number\",\n        \"std\": 17078,\n        \"min\": 30000,\n        \"max\": 70000,\n        \"num_unique_values\": 4,\n        \"samples\": [\n          70000,\n          50000,\n          60000\n        ],\n        \"semantic_type\": \"\",\n        \"description\": \"\"\n      }\n    },\n    {\n      \"column\": \"Country\",\n      \"properties\": {\n        \"dtype\": \"string\",\n        \"num_unique_values\": 4,\n        \"samples\": [\n          \"India\",\n          \"Argentina\",\n          \"USA\"\n        ],\n        \"semantic_type\": \"\",\n        \"description\": \"\"\n      }\n    }\n  ]\n}",
       "type": "dataframe",
       "variable_name": "df"
      },
      "text/html": [
       "\n",
       "  <div id=\"df-ce630014-329a-42f1-a35d-37f7d0d773d8\" class=\"colab-df-container\">\n",
       "    <div>\n",
       "<style scoped>\n",
       "    .dataframe tbody tr th:only-of-type {\n",
       "        vertical-align: middle;\n",
       "    }\n",
       "\n",
       "    .dataframe tbody tr th {\n",
       "        vertical-align: top;\n",
       "    }\n",
       "\n",
       "    .dataframe thead th {\n",
       "        text-align: right;\n",
       "    }\n",
       "</style>\n",
       "<table border=\"1\" class=\"dataframe\">\n",
       "  <thead>\n",
       "    <tr style=\"text-align: right;\">\n",
       "      <th></th>\n",
       "      <th>Name</th>\n",
       "      <th>Age</th>\n",
       "      <th>City</th>\n",
       "      <th>Salary</th>\n",
       "      <th>Country</th>\n",
       "    </tr>\n",
       "  </thead>\n",
       "  <tbody>\n",
       "    <tr>\n",
       "      <th>0</th>\n",
       "      <td>Harsh</td>\n",
       "      <td>24</td>\n",
       "      <td>Noida</td>\n",
       "      <td>60000</td>\n",
       "      <td>USA</td>\n",
       "    </tr>\n",
       "    <tr>\n",
       "      <th>1</th>\n",
       "      <td>Jack</td>\n",
       "      <td>27</td>\n",
       "      <td>Bangalore</td>\n",
       "      <td>70000</td>\n",
       "      <td>India</td>\n",
       "    </tr>\n",
       "    <tr>\n",
       "      <th>2</th>\n",
       "      <td>Rahul</td>\n",
       "      <td>22</td>\n",
       "      <td>Florida</td>\n",
       "      <td>30000</td>\n",
       "      <td>UK</td>\n",
       "    </tr>\n",
       "    <tr>\n",
       "      <th>3</th>\n",
       "      <td>Divya</td>\n",
       "      <td>30</td>\n",
       "      <td>USA</td>\n",
       "      <td>50000</td>\n",
       "      <td>Argentina</td>\n",
       "    </tr>\n",
       "  </tbody>\n",
       "</table>\n",
       "</div>\n",
       "    <div class=\"colab-df-buttons\">\n",
       "\n",
       "  <div class=\"colab-df-container\">\n",
       "    <button class=\"colab-df-convert\" onclick=\"convertToInteractive('df-ce630014-329a-42f1-a35d-37f7d0d773d8')\"\n",
       "            title=\"Convert this dataframe to an interactive table.\"\n",
       "            style=\"display:none;\">\n",
       "\n",
       "  <svg xmlns=\"http://www.w3.org/2000/svg\" height=\"24px\" viewBox=\"0 -960 960 960\">\n",
       "    <path d=\"M120-120v-720h720v720H120Zm60-500h600v-160H180v160Zm220 220h160v-160H400v160Zm0 220h160v-160H400v160ZM180-400h160v-160H180v160Zm440 0h160v-160H620v160ZM180-180h160v-160H180v160Zm440 0h160v-160H620v160Z\"/>\n",
       "  </svg>\n",
       "    </button>\n",
       "\n",
       "  <style>\n",
       "    .colab-df-container {\n",
       "      display:flex;\n",
       "      gap: 12px;\n",
       "    }\n",
       "\n",
       "    .colab-df-convert {\n",
       "      background-color: #E8F0FE;\n",
       "      border: none;\n",
       "      border-radius: 50%;\n",
       "      cursor: pointer;\n",
       "      display: none;\n",
       "      fill: #1967D2;\n",
       "      height: 32px;\n",
       "      padding: 0 0 0 0;\n",
       "      width: 32px;\n",
       "    }\n",
       "\n",
       "    .colab-df-convert:hover {\n",
       "      background-color: #E2EBFA;\n",
       "      box-shadow: 0px 1px 2px rgba(60, 64, 67, 0.3), 0px 1px 3px 1px rgba(60, 64, 67, 0.15);\n",
       "      fill: #174EA6;\n",
       "    }\n",
       "\n",
       "    .colab-df-buttons div {\n",
       "      margin-bottom: 4px;\n",
       "    }\n",
       "\n",
       "    [theme=dark] .colab-df-convert {\n",
       "      background-color: #3B4455;\n",
       "      fill: #D2E3FC;\n",
       "    }\n",
       "\n",
       "    [theme=dark] .colab-df-convert:hover {\n",
       "      background-color: #434B5C;\n",
       "      box-shadow: 0px 1px 3px 1px rgba(0, 0, 0, 0.15);\n",
       "      filter: drop-shadow(0px 1px 2px rgba(0, 0, 0, 0.3));\n",
       "      fill: #FFFFFF;\n",
       "    }\n",
       "  </style>\n",
       "\n",
       "    <script>\n",
       "      const buttonEl =\n",
       "        document.querySelector('#df-ce630014-329a-42f1-a35d-37f7d0d773d8 button.colab-df-convert');\n",
       "      buttonEl.style.display =\n",
       "        google.colab.kernel.accessAllowed ? 'block' : 'none';\n",
       "\n",
       "      async function convertToInteractive(key) {\n",
       "        const element = document.querySelector('#df-ce630014-329a-42f1-a35d-37f7d0d773d8');\n",
       "        const dataTable =\n",
       "          await google.colab.kernel.invokeFunction('convertToInteractive',\n",
       "                                                    [key], {});\n",
       "        if (!dataTable) return;\n",
       "\n",
       "        const docLinkHtml = 'Like what you see? Visit the ' +\n",
       "          '<a target=\"_blank\" href=https://colab.research.google.com/notebooks/data_table.ipynb>data table notebook</a>'\n",
       "          + ' to learn more about interactive tables.';\n",
       "        element.innerHTML = '';\n",
       "        dataTable['output_type'] = 'display_data';\n",
       "        await google.colab.output.renderOutput(dataTable, element);\n",
       "        const docLink = document.createElement('div');\n",
       "        docLink.innerHTML = docLinkHtml;\n",
       "        element.appendChild(docLink);\n",
       "      }\n",
       "    </script>\n",
       "  </div>\n",
       "\n",
       "\n",
       "<div id=\"df-4cb0c63c-8aac-422f-8ec5-6c646e7a1f2f\">\n",
       "  <button class=\"colab-df-quickchart\" onclick=\"quickchart('df-4cb0c63c-8aac-422f-8ec5-6c646e7a1f2f')\"\n",
       "            title=\"Suggest charts\"\n",
       "            style=\"display:none;\">\n",
       "\n",
       "<svg xmlns=\"http://www.w3.org/2000/svg\" height=\"24px\"viewBox=\"0 0 24 24\"\n",
       "     width=\"24px\">\n",
       "    <g>\n",
       "        <path d=\"M19 3H5c-1.1 0-2 .9-2 2v14c0 1.1.9 2 2 2h14c1.1 0 2-.9 2-2V5c0-1.1-.9-2-2-2zM9 17H7v-7h2v7zm4 0h-2V7h2v10zm4 0h-2v-4h2v4z\"/>\n",
       "    </g>\n",
       "</svg>\n",
       "  </button>\n",
       "\n",
       "<style>\n",
       "  .colab-df-quickchart {\n",
       "      --bg-color: #E8F0FE;\n",
       "      --fill-color: #1967D2;\n",
       "      --hover-bg-color: #E2EBFA;\n",
       "      --hover-fill-color: #174EA6;\n",
       "      --disabled-fill-color: #AAA;\n",
       "      --disabled-bg-color: #DDD;\n",
       "  }\n",
       "\n",
       "  [theme=dark] .colab-df-quickchart {\n",
       "      --bg-color: #3B4455;\n",
       "      --fill-color: #D2E3FC;\n",
       "      --hover-bg-color: #434B5C;\n",
       "      --hover-fill-color: #FFFFFF;\n",
       "      --disabled-bg-color: #3B4455;\n",
       "      --disabled-fill-color: #666;\n",
       "  }\n",
       "\n",
       "  .colab-df-quickchart {\n",
       "    background-color: var(--bg-color);\n",
       "    border: none;\n",
       "    border-radius: 50%;\n",
       "    cursor: pointer;\n",
       "    display: none;\n",
       "    fill: var(--fill-color);\n",
       "    height: 32px;\n",
       "    padding: 0;\n",
       "    width: 32px;\n",
       "  }\n",
       "\n",
       "  .colab-df-quickchart:hover {\n",
       "    background-color: var(--hover-bg-color);\n",
       "    box-shadow: 0 1px 2px rgba(60, 64, 67, 0.3), 0 1px 3px 1px rgba(60, 64, 67, 0.15);\n",
       "    fill: var(--button-hover-fill-color);\n",
       "  }\n",
       "\n",
       "  .colab-df-quickchart-complete:disabled,\n",
       "  .colab-df-quickchart-complete:disabled:hover {\n",
       "    background-color: var(--disabled-bg-color);\n",
       "    fill: var(--disabled-fill-color);\n",
       "    box-shadow: none;\n",
       "  }\n",
       "\n",
       "  .colab-df-spinner {\n",
       "    border: 2px solid var(--fill-color);\n",
       "    border-color: transparent;\n",
       "    border-bottom-color: var(--fill-color);\n",
       "    animation:\n",
       "      spin 1s steps(1) infinite;\n",
       "  }\n",
       "\n",
       "  @keyframes spin {\n",
       "    0% {\n",
       "      border-color: transparent;\n",
       "      border-bottom-color: var(--fill-color);\n",
       "      border-left-color: var(--fill-color);\n",
       "    }\n",
       "    20% {\n",
       "      border-color: transparent;\n",
       "      border-left-color: var(--fill-color);\n",
       "      border-top-color: var(--fill-color);\n",
       "    }\n",
       "    30% {\n",
       "      border-color: transparent;\n",
       "      border-left-color: var(--fill-color);\n",
       "      border-top-color: var(--fill-color);\n",
       "      border-right-color: var(--fill-color);\n",
       "    }\n",
       "    40% {\n",
       "      border-color: transparent;\n",
       "      border-right-color: var(--fill-color);\n",
       "      border-top-color: var(--fill-color);\n",
       "    }\n",
       "    60% {\n",
       "      border-color: transparent;\n",
       "      border-right-color: var(--fill-color);\n",
       "    }\n",
       "    80% {\n",
       "      border-color: transparent;\n",
       "      border-right-color: var(--fill-color);\n",
       "      border-bottom-color: var(--fill-color);\n",
       "    }\n",
       "    90% {\n",
       "      border-color: transparent;\n",
       "      border-bottom-color: var(--fill-color);\n",
       "    }\n",
       "  }\n",
       "</style>\n",
       "\n",
       "  <script>\n",
       "    async function quickchart(key) {\n",
       "      const quickchartButtonEl =\n",
       "        document.querySelector('#' + key + ' button');\n",
       "      quickchartButtonEl.disabled = true;  // To prevent multiple clicks.\n",
       "      quickchartButtonEl.classList.add('colab-df-spinner');\n",
       "      try {\n",
       "        const charts = await google.colab.kernel.invokeFunction(\n",
       "            'suggestCharts', [key], {});\n",
       "      } catch (error) {\n",
       "        console.error('Error during call to suggestCharts:', error);\n",
       "      }\n",
       "      quickchartButtonEl.classList.remove('colab-df-spinner');\n",
       "      quickchartButtonEl.classList.add('colab-df-quickchart-complete');\n",
       "    }\n",
       "    (() => {\n",
       "      let quickchartButtonEl =\n",
       "        document.querySelector('#df-4cb0c63c-8aac-422f-8ec5-6c646e7a1f2f button');\n",
       "      quickchartButtonEl.style.display =\n",
       "        google.colab.kernel.accessAllowed ? 'block' : 'none';\n",
       "    })();\n",
       "  </script>\n",
       "</div>\n",
       "\n",
       "  <div id=\"id_9a87bfb6-fea6-43c7-90a5-90d7baa81225\">\n",
       "    <style>\n",
       "      .colab-df-generate {\n",
       "        background-color: #E8F0FE;\n",
       "        border: none;\n",
       "        border-radius: 50%;\n",
       "        cursor: pointer;\n",
       "        display: none;\n",
       "        fill: #1967D2;\n",
       "        height: 32px;\n",
       "        padding: 0 0 0 0;\n",
       "        width: 32px;\n",
       "      }\n",
       "\n",
       "      .colab-df-generate:hover {\n",
       "        background-color: #E2EBFA;\n",
       "        box-shadow: 0px 1px 2px rgba(60, 64, 67, 0.3), 0px 1px 3px 1px rgba(60, 64, 67, 0.15);\n",
       "        fill: #174EA6;\n",
       "      }\n",
       "\n",
       "      [theme=dark] .colab-df-generate {\n",
       "        background-color: #3B4455;\n",
       "        fill: #D2E3FC;\n",
       "      }\n",
       "\n",
       "      [theme=dark] .colab-df-generate:hover {\n",
       "        background-color: #434B5C;\n",
       "        box-shadow: 0px 1px 3px 1px rgba(0, 0, 0, 0.15);\n",
       "        filter: drop-shadow(0px 1px 2px rgba(0, 0, 0, 0.3));\n",
       "        fill: #FFFFFF;\n",
       "      }\n",
       "    </style>\n",
       "    <button class=\"colab-df-generate\" onclick=\"generateWithVariable('df')\"\n",
       "            title=\"Generate code using this dataframe.\"\n",
       "            style=\"display:none;\">\n",
       "\n",
       "  <svg xmlns=\"http://www.w3.org/2000/svg\" height=\"24px\"viewBox=\"0 0 24 24\"\n",
       "       width=\"24px\">\n",
       "    <path d=\"M7,19H8.4L18.45,9,17,7.55,7,17.6ZM5,21V16.75L18.45,3.32a2,2,0,0,1,2.83,0l1.4,1.43a1.91,1.91,0,0,1,.58,1.4,1.91,1.91,0,0,1-.58,1.4L9.25,21ZM18.45,9,17,7.55Zm-12,3A5.31,5.31,0,0,0,4.9,8.1,5.31,5.31,0,0,0,1,6.5,5.31,5.31,0,0,0,4.9,4.9,5.31,5.31,0,0,0,6.5,1,5.31,5.31,0,0,0,8.1,4.9,5.31,5.31,0,0,0,12,6.5,5.46,5.46,0,0,0,6.5,12Z\"/>\n",
       "  </svg>\n",
       "    </button>\n",
       "    <script>\n",
       "      (() => {\n",
       "      const buttonEl =\n",
       "        document.querySelector('#id_9a87bfb6-fea6-43c7-90a5-90d7baa81225 button.colab-df-generate');\n",
       "      buttonEl.style.display =\n",
       "        google.colab.kernel.accessAllowed ? 'block' : 'none';\n",
       "\n",
       "      buttonEl.onclick = () => {\n",
       "        google.colab.notebook.generateWithVariable('df');\n",
       "      }\n",
       "      })();\n",
       "    </script>\n",
       "  </div>\n",
       "\n",
       "    </div>\n",
       "  </div>\n"
      ],
      "text/plain": [
       "    Name  Age       City  Salary    Country\n",
       "0  Harsh   24      Noida   60000        USA\n",
       "1   Jack   27  Bangalore   70000      India\n",
       "2  Rahul   22    Florida   30000         UK\n",
       "3  Divya   30        USA   50000  Argentina"
      ]
     },
     "execution_count": 54,
     "metadata": {},
     "output_type": "execute_result"
    }
   ],
   "source": [
    "df['Country'] = ['USA',\"India\",\"UK\",'Argentina']\n",
    "df"
   ]
  },
  {
   "cell_type": "code",
   "execution_count": null,
   "metadata": {
    "id": "bMI9GORqKtKh"
   },
   "outputs": [],
   "source": [
    "## Remove a Column\n",
    "df.drop('Salary', axis=1, inplace=True)"
   ]
  },
  {
   "cell_type": "code",
   "execution_count": null,
   "metadata": {
    "colab": {
     "base_uri": "https://localhost:8080/",
     "height": 175
    },
    "id": "m5nxl7zqK24B",
    "outputId": "27680d60-1b45-45a9-8ba7-8186ba6dcf3d"
   },
   "outputs": [
    {
     "data": {
      "application/vnd.google.colaboratory.intrinsic+json": {
       "summary": "{\n  \"name\": \"df\",\n  \"rows\": 4,\n  \"fields\": [\n    {\n      \"column\": \"Name\",\n      \"properties\": {\n        \"dtype\": \"string\",\n        \"num_unique_values\": 4,\n        \"samples\": [\n          \"Jack\",\n          \"Divya\",\n          \"Harsh\"\n        ],\n        \"semantic_type\": \"\",\n        \"description\": \"\"\n      }\n    },\n    {\n      \"column\": \"Age\",\n      \"properties\": {\n        \"dtype\": \"number\",\n        \"std\": 3,\n        \"min\": 22,\n        \"max\": 30,\n        \"num_unique_values\": 4,\n        \"samples\": [\n          27,\n          30,\n          24\n        ],\n        \"semantic_type\": \"\",\n        \"description\": \"\"\n      }\n    },\n    {\n      \"column\": \"City\",\n      \"properties\": {\n        \"dtype\": \"string\",\n        \"num_unique_values\": 4,\n        \"samples\": [\n          \"Bangalore\",\n          \"USA\",\n          \"Noida\"\n        ],\n        \"semantic_type\": \"\",\n        \"description\": \"\"\n      }\n    },\n    {\n      \"column\": \"Country\",\n      \"properties\": {\n        \"dtype\": \"string\",\n        \"num_unique_values\": 4,\n        \"samples\": [\n          \"India\",\n          \"Argentina\",\n          \"USA\"\n        ],\n        \"semantic_type\": \"\",\n        \"description\": \"\"\n      }\n    }\n  ]\n}",
       "type": "dataframe",
       "variable_name": "df"
      },
      "text/html": [
       "\n",
       "  <div id=\"df-f49388bb-c4a1-416d-84f6-18e9a138745a\" class=\"colab-df-container\">\n",
       "    <div>\n",
       "<style scoped>\n",
       "    .dataframe tbody tr th:only-of-type {\n",
       "        vertical-align: middle;\n",
       "    }\n",
       "\n",
       "    .dataframe tbody tr th {\n",
       "        vertical-align: top;\n",
       "    }\n",
       "\n",
       "    .dataframe thead th {\n",
       "        text-align: right;\n",
       "    }\n",
       "</style>\n",
       "<table border=\"1\" class=\"dataframe\">\n",
       "  <thead>\n",
       "    <tr style=\"text-align: right;\">\n",
       "      <th></th>\n",
       "      <th>Name</th>\n",
       "      <th>Age</th>\n",
       "      <th>City</th>\n",
       "      <th>Country</th>\n",
       "    </tr>\n",
       "  </thead>\n",
       "  <tbody>\n",
       "    <tr>\n",
       "      <th>0</th>\n",
       "      <td>Harsh</td>\n",
       "      <td>24</td>\n",
       "      <td>Noida</td>\n",
       "      <td>USA</td>\n",
       "    </tr>\n",
       "    <tr>\n",
       "      <th>1</th>\n",
       "      <td>Jack</td>\n",
       "      <td>27</td>\n",
       "      <td>Bangalore</td>\n",
       "      <td>India</td>\n",
       "    </tr>\n",
       "    <tr>\n",
       "      <th>2</th>\n",
       "      <td>Rahul</td>\n",
       "      <td>22</td>\n",
       "      <td>Florida</td>\n",
       "      <td>UK</td>\n",
       "    </tr>\n",
       "    <tr>\n",
       "      <th>3</th>\n",
       "      <td>Divya</td>\n",
       "      <td>30</td>\n",
       "      <td>USA</td>\n",
       "      <td>Argentina</td>\n",
       "    </tr>\n",
       "  </tbody>\n",
       "</table>\n",
       "</div>\n",
       "    <div class=\"colab-df-buttons\">\n",
       "\n",
       "  <div class=\"colab-df-container\">\n",
       "    <button class=\"colab-df-convert\" onclick=\"convertToInteractive('df-f49388bb-c4a1-416d-84f6-18e9a138745a')\"\n",
       "            title=\"Convert this dataframe to an interactive table.\"\n",
       "            style=\"display:none;\">\n",
       "\n",
       "  <svg xmlns=\"http://www.w3.org/2000/svg\" height=\"24px\" viewBox=\"0 -960 960 960\">\n",
       "    <path d=\"M120-120v-720h720v720H120Zm60-500h600v-160H180v160Zm220 220h160v-160H400v160Zm0 220h160v-160H400v160ZM180-400h160v-160H180v160Zm440 0h160v-160H620v160ZM180-180h160v-160H180v160Zm440 0h160v-160H620v160Z\"/>\n",
       "  </svg>\n",
       "    </button>\n",
       "\n",
       "  <style>\n",
       "    .colab-df-container {\n",
       "      display:flex;\n",
       "      gap: 12px;\n",
       "    }\n",
       "\n",
       "    .colab-df-convert {\n",
       "      background-color: #E8F0FE;\n",
       "      border: none;\n",
       "      border-radius: 50%;\n",
       "      cursor: pointer;\n",
       "      display: none;\n",
       "      fill: #1967D2;\n",
       "      height: 32px;\n",
       "      padding: 0 0 0 0;\n",
       "      width: 32px;\n",
       "    }\n",
       "\n",
       "    .colab-df-convert:hover {\n",
       "      background-color: #E2EBFA;\n",
       "      box-shadow: 0px 1px 2px rgba(60, 64, 67, 0.3), 0px 1px 3px 1px rgba(60, 64, 67, 0.15);\n",
       "      fill: #174EA6;\n",
       "    }\n",
       "\n",
       "    .colab-df-buttons div {\n",
       "      margin-bottom: 4px;\n",
       "    }\n",
       "\n",
       "    [theme=dark] .colab-df-convert {\n",
       "      background-color: #3B4455;\n",
       "      fill: #D2E3FC;\n",
       "    }\n",
       "\n",
       "    [theme=dark] .colab-df-convert:hover {\n",
       "      background-color: #434B5C;\n",
       "      box-shadow: 0px 1px 3px 1px rgba(0, 0, 0, 0.15);\n",
       "      filter: drop-shadow(0px 1px 2px rgba(0, 0, 0, 0.3));\n",
       "      fill: #FFFFFF;\n",
       "    }\n",
       "  </style>\n",
       "\n",
       "    <script>\n",
       "      const buttonEl =\n",
       "        document.querySelector('#df-f49388bb-c4a1-416d-84f6-18e9a138745a button.colab-df-convert');\n",
       "      buttonEl.style.display =\n",
       "        google.colab.kernel.accessAllowed ? 'block' : 'none';\n",
       "\n",
       "      async function convertToInteractive(key) {\n",
       "        const element = document.querySelector('#df-f49388bb-c4a1-416d-84f6-18e9a138745a');\n",
       "        const dataTable =\n",
       "          await google.colab.kernel.invokeFunction('convertToInteractive',\n",
       "                                                    [key], {});\n",
       "        if (!dataTable) return;\n",
       "\n",
       "        const docLinkHtml = 'Like what you see? Visit the ' +\n",
       "          '<a target=\"_blank\" href=https://colab.research.google.com/notebooks/data_table.ipynb>data table notebook</a>'\n",
       "          + ' to learn more about interactive tables.';\n",
       "        element.innerHTML = '';\n",
       "        dataTable['output_type'] = 'display_data';\n",
       "        await google.colab.output.renderOutput(dataTable, element);\n",
       "        const docLink = document.createElement('div');\n",
       "        docLink.innerHTML = docLinkHtml;\n",
       "        element.appendChild(docLink);\n",
       "      }\n",
       "    </script>\n",
       "  </div>\n",
       "\n",
       "\n",
       "<div id=\"df-7f455952-171c-43b0-8d63-d386103e4b9f\">\n",
       "  <button class=\"colab-df-quickchart\" onclick=\"quickchart('df-7f455952-171c-43b0-8d63-d386103e4b9f')\"\n",
       "            title=\"Suggest charts\"\n",
       "            style=\"display:none;\">\n",
       "\n",
       "<svg xmlns=\"http://www.w3.org/2000/svg\" height=\"24px\"viewBox=\"0 0 24 24\"\n",
       "     width=\"24px\">\n",
       "    <g>\n",
       "        <path d=\"M19 3H5c-1.1 0-2 .9-2 2v14c0 1.1.9 2 2 2h14c1.1 0 2-.9 2-2V5c0-1.1-.9-2-2-2zM9 17H7v-7h2v7zm4 0h-2V7h2v10zm4 0h-2v-4h2v4z\"/>\n",
       "    </g>\n",
       "</svg>\n",
       "  </button>\n",
       "\n",
       "<style>\n",
       "  .colab-df-quickchart {\n",
       "      --bg-color: #E8F0FE;\n",
       "      --fill-color: #1967D2;\n",
       "      --hover-bg-color: #E2EBFA;\n",
       "      --hover-fill-color: #174EA6;\n",
       "      --disabled-fill-color: #AAA;\n",
       "      --disabled-bg-color: #DDD;\n",
       "  }\n",
       "\n",
       "  [theme=dark] .colab-df-quickchart {\n",
       "      --bg-color: #3B4455;\n",
       "      --fill-color: #D2E3FC;\n",
       "      --hover-bg-color: #434B5C;\n",
       "      --hover-fill-color: #FFFFFF;\n",
       "      --disabled-bg-color: #3B4455;\n",
       "      --disabled-fill-color: #666;\n",
       "  }\n",
       "\n",
       "  .colab-df-quickchart {\n",
       "    background-color: var(--bg-color);\n",
       "    border: none;\n",
       "    border-radius: 50%;\n",
       "    cursor: pointer;\n",
       "    display: none;\n",
       "    fill: var(--fill-color);\n",
       "    height: 32px;\n",
       "    padding: 0;\n",
       "    width: 32px;\n",
       "  }\n",
       "\n",
       "  .colab-df-quickchart:hover {\n",
       "    background-color: var(--hover-bg-color);\n",
       "    box-shadow: 0 1px 2px rgba(60, 64, 67, 0.3), 0 1px 3px 1px rgba(60, 64, 67, 0.15);\n",
       "    fill: var(--button-hover-fill-color);\n",
       "  }\n",
       "\n",
       "  .colab-df-quickchart-complete:disabled,\n",
       "  .colab-df-quickchart-complete:disabled:hover {\n",
       "    background-color: var(--disabled-bg-color);\n",
       "    fill: var(--disabled-fill-color);\n",
       "    box-shadow: none;\n",
       "  }\n",
       "\n",
       "  .colab-df-spinner {\n",
       "    border: 2px solid var(--fill-color);\n",
       "    border-color: transparent;\n",
       "    border-bottom-color: var(--fill-color);\n",
       "    animation:\n",
       "      spin 1s steps(1) infinite;\n",
       "  }\n",
       "\n",
       "  @keyframes spin {\n",
       "    0% {\n",
       "      border-color: transparent;\n",
       "      border-bottom-color: var(--fill-color);\n",
       "      border-left-color: var(--fill-color);\n",
       "    }\n",
       "    20% {\n",
       "      border-color: transparent;\n",
       "      border-left-color: var(--fill-color);\n",
       "      border-top-color: var(--fill-color);\n",
       "    }\n",
       "    30% {\n",
       "      border-color: transparent;\n",
       "      border-left-color: var(--fill-color);\n",
       "      border-top-color: var(--fill-color);\n",
       "      border-right-color: var(--fill-color);\n",
       "    }\n",
       "    40% {\n",
       "      border-color: transparent;\n",
       "      border-right-color: var(--fill-color);\n",
       "      border-top-color: var(--fill-color);\n",
       "    }\n",
       "    60% {\n",
       "      border-color: transparent;\n",
       "      border-right-color: var(--fill-color);\n",
       "    }\n",
       "    80% {\n",
       "      border-color: transparent;\n",
       "      border-right-color: var(--fill-color);\n",
       "      border-bottom-color: var(--fill-color);\n",
       "    }\n",
       "    90% {\n",
       "      border-color: transparent;\n",
       "      border-bottom-color: var(--fill-color);\n",
       "    }\n",
       "  }\n",
       "</style>\n",
       "\n",
       "  <script>\n",
       "    async function quickchart(key) {\n",
       "      const quickchartButtonEl =\n",
       "        document.querySelector('#' + key + ' button');\n",
       "      quickchartButtonEl.disabled = true;  // To prevent multiple clicks.\n",
       "      quickchartButtonEl.classList.add('colab-df-spinner');\n",
       "      try {\n",
       "        const charts = await google.colab.kernel.invokeFunction(\n",
       "            'suggestCharts', [key], {});\n",
       "      } catch (error) {\n",
       "        console.error('Error during call to suggestCharts:', error);\n",
       "      }\n",
       "      quickchartButtonEl.classList.remove('colab-df-spinner');\n",
       "      quickchartButtonEl.classList.add('colab-df-quickchart-complete');\n",
       "    }\n",
       "    (() => {\n",
       "      let quickchartButtonEl =\n",
       "        document.querySelector('#df-7f455952-171c-43b0-8d63-d386103e4b9f button');\n",
       "      quickchartButtonEl.style.display =\n",
       "        google.colab.kernel.accessAllowed ? 'block' : 'none';\n",
       "    })();\n",
       "  </script>\n",
       "</div>\n",
       "\n",
       "  <div id=\"id_7cc60137-0d5f-4f98-8dae-aa9190c68682\">\n",
       "    <style>\n",
       "      .colab-df-generate {\n",
       "        background-color: #E8F0FE;\n",
       "        border: none;\n",
       "        border-radius: 50%;\n",
       "        cursor: pointer;\n",
       "        display: none;\n",
       "        fill: #1967D2;\n",
       "        height: 32px;\n",
       "        padding: 0 0 0 0;\n",
       "        width: 32px;\n",
       "      }\n",
       "\n",
       "      .colab-df-generate:hover {\n",
       "        background-color: #E2EBFA;\n",
       "        box-shadow: 0px 1px 2px rgba(60, 64, 67, 0.3), 0px 1px 3px 1px rgba(60, 64, 67, 0.15);\n",
       "        fill: #174EA6;\n",
       "      }\n",
       "\n",
       "      [theme=dark] .colab-df-generate {\n",
       "        background-color: #3B4455;\n",
       "        fill: #D2E3FC;\n",
       "      }\n",
       "\n",
       "      [theme=dark] .colab-df-generate:hover {\n",
       "        background-color: #434B5C;\n",
       "        box-shadow: 0px 1px 3px 1px rgba(0, 0, 0, 0.15);\n",
       "        filter: drop-shadow(0px 1px 2px rgba(0, 0, 0, 0.3));\n",
       "        fill: #FFFFFF;\n",
       "      }\n",
       "    </style>\n",
       "    <button class=\"colab-df-generate\" onclick=\"generateWithVariable('df')\"\n",
       "            title=\"Generate code using this dataframe.\"\n",
       "            style=\"display:none;\">\n",
       "\n",
       "  <svg xmlns=\"http://www.w3.org/2000/svg\" height=\"24px\"viewBox=\"0 0 24 24\"\n",
       "       width=\"24px\">\n",
       "    <path d=\"M7,19H8.4L18.45,9,17,7.55,7,17.6ZM5,21V16.75L18.45,3.32a2,2,0,0,1,2.83,0l1.4,1.43a1.91,1.91,0,0,1,.58,1.4,1.91,1.91,0,0,1-.58,1.4L9.25,21ZM18.45,9,17,7.55Zm-12,3A5.31,5.31,0,0,0,4.9,8.1,5.31,5.31,0,0,0,1,6.5,5.31,5.31,0,0,0,4.9,4.9,5.31,5.31,0,0,0,6.5,1,5.31,5.31,0,0,0,8.1,4.9,5.31,5.31,0,0,0,12,6.5,5.46,5.46,0,0,0,6.5,12Z\"/>\n",
       "  </svg>\n",
       "    </button>\n",
       "    <script>\n",
       "      (() => {\n",
       "      const buttonEl =\n",
       "        document.querySelector('#id_7cc60137-0d5f-4f98-8dae-aa9190c68682 button.colab-df-generate');\n",
       "      buttonEl.style.display =\n",
       "        google.colab.kernel.accessAllowed ? 'block' : 'none';\n",
       "\n",
       "      buttonEl.onclick = () => {\n",
       "        google.colab.notebook.generateWithVariable('df');\n",
       "      }\n",
       "      })();\n",
       "    </script>\n",
       "  </div>\n",
       "\n",
       "    </div>\n",
       "  </div>\n"
      ],
      "text/plain": [
       "    Name  Age       City    Country\n",
       "0  Harsh   24      Noida        USA\n",
       "1   Jack   27  Bangalore      India\n",
       "2  Rahul   22    Florida         UK\n",
       "3  Divya   30        USA  Argentina"
      ]
     },
     "execution_count": 60,
     "metadata": {},
     "output_type": "execute_result"
    }
   ],
   "source": [
    "df"
   ]
  },
  {
   "cell_type": "code",
   "execution_count": null,
   "metadata": {
    "id": "QOgjuPreLQ4F"
   },
   "outputs": [],
   "source": [
    "df.drop('Country',axis=1,inplace=True)"
   ]
  },
  {
   "cell_type": "code",
   "execution_count": null,
   "metadata": {
    "colab": {
     "base_uri": "https://localhost:8080/",
     "height": 175
    },
    "id": "LwLZ6AQJLhdm",
    "outputId": "0cde97de-91b7-49ff-f009-a015552801bf"
   },
   "outputs": [
    {
     "data": {
      "application/vnd.google.colaboratory.intrinsic+json": {
       "summary": "{\n  \"name\": \"df\",\n  \"rows\": 4,\n  \"fields\": [\n    {\n      \"column\": \"Name\",\n      \"properties\": {\n        \"dtype\": \"string\",\n        \"num_unique_values\": 4,\n        \"samples\": [\n          \"Jack\",\n          \"Divya\",\n          \"Harsh\"\n        ],\n        \"semantic_type\": \"\",\n        \"description\": \"\"\n      }\n    },\n    {\n      \"column\": \"Age\",\n      \"properties\": {\n        \"dtype\": \"number\",\n        \"std\": 3,\n        \"min\": 22,\n        \"max\": 30,\n        \"num_unique_values\": 4,\n        \"samples\": [\n          27,\n          30,\n          24\n        ],\n        \"semantic_type\": \"\",\n        \"description\": \"\"\n      }\n    },\n    {\n      \"column\": \"City\",\n      \"properties\": {\n        \"dtype\": \"string\",\n        \"num_unique_values\": 4,\n        \"samples\": [\n          \"Bangalore\",\n          \"USA\",\n          \"Noida\"\n        ],\n        \"semantic_type\": \"\",\n        \"description\": \"\"\n      }\n    }\n  ]\n}",
       "type": "dataframe",
       "variable_name": "df"
      },
      "text/html": [
       "\n",
       "  <div id=\"df-828ce8f6-ae0d-4c67-9ba6-fd7875d2e3f2\" class=\"colab-df-container\">\n",
       "    <div>\n",
       "<style scoped>\n",
       "    .dataframe tbody tr th:only-of-type {\n",
       "        vertical-align: middle;\n",
       "    }\n",
       "\n",
       "    .dataframe tbody tr th {\n",
       "        vertical-align: top;\n",
       "    }\n",
       "\n",
       "    .dataframe thead th {\n",
       "        text-align: right;\n",
       "    }\n",
       "</style>\n",
       "<table border=\"1\" class=\"dataframe\">\n",
       "  <thead>\n",
       "    <tr style=\"text-align: right;\">\n",
       "      <th></th>\n",
       "      <th>Name</th>\n",
       "      <th>Age</th>\n",
       "      <th>City</th>\n",
       "    </tr>\n",
       "  </thead>\n",
       "  <tbody>\n",
       "    <tr>\n",
       "      <th>0</th>\n",
       "      <td>Harsh</td>\n",
       "      <td>24</td>\n",
       "      <td>Noida</td>\n",
       "    </tr>\n",
       "    <tr>\n",
       "      <th>1</th>\n",
       "      <td>Jack</td>\n",
       "      <td>27</td>\n",
       "      <td>Bangalore</td>\n",
       "    </tr>\n",
       "    <tr>\n",
       "      <th>2</th>\n",
       "      <td>Rahul</td>\n",
       "      <td>22</td>\n",
       "      <td>Florida</td>\n",
       "    </tr>\n",
       "    <tr>\n",
       "      <th>3</th>\n",
       "      <td>Divya</td>\n",
       "      <td>30</td>\n",
       "      <td>USA</td>\n",
       "    </tr>\n",
       "  </tbody>\n",
       "</table>\n",
       "</div>\n",
       "    <div class=\"colab-df-buttons\">\n",
       "\n",
       "  <div class=\"colab-df-container\">\n",
       "    <button class=\"colab-df-convert\" onclick=\"convertToInteractive('df-828ce8f6-ae0d-4c67-9ba6-fd7875d2e3f2')\"\n",
       "            title=\"Convert this dataframe to an interactive table.\"\n",
       "            style=\"display:none;\">\n",
       "\n",
       "  <svg xmlns=\"http://www.w3.org/2000/svg\" height=\"24px\" viewBox=\"0 -960 960 960\">\n",
       "    <path d=\"M120-120v-720h720v720H120Zm60-500h600v-160H180v160Zm220 220h160v-160H400v160Zm0 220h160v-160H400v160ZM180-400h160v-160H180v160Zm440 0h160v-160H620v160ZM180-180h160v-160H180v160Zm440 0h160v-160H620v160Z\"/>\n",
       "  </svg>\n",
       "    </button>\n",
       "\n",
       "  <style>\n",
       "    .colab-df-container {\n",
       "      display:flex;\n",
       "      gap: 12px;\n",
       "    }\n",
       "\n",
       "    .colab-df-convert {\n",
       "      background-color: #E8F0FE;\n",
       "      border: none;\n",
       "      border-radius: 50%;\n",
       "      cursor: pointer;\n",
       "      display: none;\n",
       "      fill: #1967D2;\n",
       "      height: 32px;\n",
       "      padding: 0 0 0 0;\n",
       "      width: 32px;\n",
       "    }\n",
       "\n",
       "    .colab-df-convert:hover {\n",
       "      background-color: #E2EBFA;\n",
       "      box-shadow: 0px 1px 2px rgba(60, 64, 67, 0.3), 0px 1px 3px 1px rgba(60, 64, 67, 0.15);\n",
       "      fill: #174EA6;\n",
       "    }\n",
       "\n",
       "    .colab-df-buttons div {\n",
       "      margin-bottom: 4px;\n",
       "    }\n",
       "\n",
       "    [theme=dark] .colab-df-convert {\n",
       "      background-color: #3B4455;\n",
       "      fill: #D2E3FC;\n",
       "    }\n",
       "\n",
       "    [theme=dark] .colab-df-convert:hover {\n",
       "      background-color: #434B5C;\n",
       "      box-shadow: 0px 1px 3px 1px rgba(0, 0, 0, 0.15);\n",
       "      filter: drop-shadow(0px 1px 2px rgba(0, 0, 0, 0.3));\n",
       "      fill: #FFFFFF;\n",
       "    }\n",
       "  </style>\n",
       "\n",
       "    <script>\n",
       "      const buttonEl =\n",
       "        document.querySelector('#df-828ce8f6-ae0d-4c67-9ba6-fd7875d2e3f2 button.colab-df-convert');\n",
       "      buttonEl.style.display =\n",
       "        google.colab.kernel.accessAllowed ? 'block' : 'none';\n",
       "\n",
       "      async function convertToInteractive(key) {\n",
       "        const element = document.querySelector('#df-828ce8f6-ae0d-4c67-9ba6-fd7875d2e3f2');\n",
       "        const dataTable =\n",
       "          await google.colab.kernel.invokeFunction('convertToInteractive',\n",
       "                                                    [key], {});\n",
       "        if (!dataTable) return;\n",
       "\n",
       "        const docLinkHtml = 'Like what you see? Visit the ' +\n",
       "          '<a target=\"_blank\" href=https://colab.research.google.com/notebooks/data_table.ipynb>data table notebook</a>'\n",
       "          + ' to learn more about interactive tables.';\n",
       "        element.innerHTML = '';\n",
       "        dataTable['output_type'] = 'display_data';\n",
       "        await google.colab.output.renderOutput(dataTable, element);\n",
       "        const docLink = document.createElement('div');\n",
       "        docLink.innerHTML = docLinkHtml;\n",
       "        element.appendChild(docLink);\n",
       "      }\n",
       "    </script>\n",
       "  </div>\n",
       "\n",
       "\n",
       "<div id=\"df-b36cb0d3-685c-471b-84d4-b9ad58e1982c\">\n",
       "  <button class=\"colab-df-quickchart\" onclick=\"quickchart('df-b36cb0d3-685c-471b-84d4-b9ad58e1982c')\"\n",
       "            title=\"Suggest charts\"\n",
       "            style=\"display:none;\">\n",
       "\n",
       "<svg xmlns=\"http://www.w3.org/2000/svg\" height=\"24px\"viewBox=\"0 0 24 24\"\n",
       "     width=\"24px\">\n",
       "    <g>\n",
       "        <path d=\"M19 3H5c-1.1 0-2 .9-2 2v14c0 1.1.9 2 2 2h14c1.1 0 2-.9 2-2V5c0-1.1-.9-2-2-2zM9 17H7v-7h2v7zm4 0h-2V7h2v10zm4 0h-2v-4h2v4z\"/>\n",
       "    </g>\n",
       "</svg>\n",
       "  </button>\n",
       "\n",
       "<style>\n",
       "  .colab-df-quickchart {\n",
       "      --bg-color: #E8F0FE;\n",
       "      --fill-color: #1967D2;\n",
       "      --hover-bg-color: #E2EBFA;\n",
       "      --hover-fill-color: #174EA6;\n",
       "      --disabled-fill-color: #AAA;\n",
       "      --disabled-bg-color: #DDD;\n",
       "  }\n",
       "\n",
       "  [theme=dark] .colab-df-quickchart {\n",
       "      --bg-color: #3B4455;\n",
       "      --fill-color: #D2E3FC;\n",
       "      --hover-bg-color: #434B5C;\n",
       "      --hover-fill-color: #FFFFFF;\n",
       "      --disabled-bg-color: #3B4455;\n",
       "      --disabled-fill-color: #666;\n",
       "  }\n",
       "\n",
       "  .colab-df-quickchart {\n",
       "    background-color: var(--bg-color);\n",
       "    border: none;\n",
       "    border-radius: 50%;\n",
       "    cursor: pointer;\n",
       "    display: none;\n",
       "    fill: var(--fill-color);\n",
       "    height: 32px;\n",
       "    padding: 0;\n",
       "    width: 32px;\n",
       "  }\n",
       "\n",
       "  .colab-df-quickchart:hover {\n",
       "    background-color: var(--hover-bg-color);\n",
       "    box-shadow: 0 1px 2px rgba(60, 64, 67, 0.3), 0 1px 3px 1px rgba(60, 64, 67, 0.15);\n",
       "    fill: var(--button-hover-fill-color);\n",
       "  }\n",
       "\n",
       "  .colab-df-quickchart-complete:disabled,\n",
       "  .colab-df-quickchart-complete:disabled:hover {\n",
       "    background-color: var(--disabled-bg-color);\n",
       "    fill: var(--disabled-fill-color);\n",
       "    box-shadow: none;\n",
       "  }\n",
       "\n",
       "  .colab-df-spinner {\n",
       "    border: 2px solid var(--fill-color);\n",
       "    border-color: transparent;\n",
       "    border-bottom-color: var(--fill-color);\n",
       "    animation:\n",
       "      spin 1s steps(1) infinite;\n",
       "  }\n",
       "\n",
       "  @keyframes spin {\n",
       "    0% {\n",
       "      border-color: transparent;\n",
       "      border-bottom-color: var(--fill-color);\n",
       "      border-left-color: var(--fill-color);\n",
       "    }\n",
       "    20% {\n",
       "      border-color: transparent;\n",
       "      border-left-color: var(--fill-color);\n",
       "      border-top-color: var(--fill-color);\n",
       "    }\n",
       "    30% {\n",
       "      border-color: transparent;\n",
       "      border-left-color: var(--fill-color);\n",
       "      border-top-color: var(--fill-color);\n",
       "      border-right-color: var(--fill-color);\n",
       "    }\n",
       "    40% {\n",
       "      border-color: transparent;\n",
       "      border-right-color: var(--fill-color);\n",
       "      border-top-color: var(--fill-color);\n",
       "    }\n",
       "    60% {\n",
       "      border-color: transparent;\n",
       "      border-right-color: var(--fill-color);\n",
       "    }\n",
       "    80% {\n",
       "      border-color: transparent;\n",
       "      border-right-color: var(--fill-color);\n",
       "      border-bottom-color: var(--fill-color);\n",
       "    }\n",
       "    90% {\n",
       "      border-color: transparent;\n",
       "      border-bottom-color: var(--fill-color);\n",
       "    }\n",
       "  }\n",
       "</style>\n",
       "\n",
       "  <script>\n",
       "    async function quickchart(key) {\n",
       "      const quickchartButtonEl =\n",
       "        document.querySelector('#' + key + ' button');\n",
       "      quickchartButtonEl.disabled = true;  // To prevent multiple clicks.\n",
       "      quickchartButtonEl.classList.add('colab-df-spinner');\n",
       "      try {\n",
       "        const charts = await google.colab.kernel.invokeFunction(\n",
       "            'suggestCharts', [key], {});\n",
       "      } catch (error) {\n",
       "        console.error('Error during call to suggestCharts:', error);\n",
       "      }\n",
       "      quickchartButtonEl.classList.remove('colab-df-spinner');\n",
       "      quickchartButtonEl.classList.add('colab-df-quickchart-complete');\n",
       "    }\n",
       "    (() => {\n",
       "      let quickchartButtonEl =\n",
       "        document.querySelector('#df-b36cb0d3-685c-471b-84d4-b9ad58e1982c button');\n",
       "      quickchartButtonEl.style.display =\n",
       "        google.colab.kernel.accessAllowed ? 'block' : 'none';\n",
       "    })();\n",
       "  </script>\n",
       "</div>\n",
       "\n",
       "  <div id=\"id_67c8d5b5-813d-45fc-becc-9a147602530c\">\n",
       "    <style>\n",
       "      .colab-df-generate {\n",
       "        background-color: #E8F0FE;\n",
       "        border: none;\n",
       "        border-radius: 50%;\n",
       "        cursor: pointer;\n",
       "        display: none;\n",
       "        fill: #1967D2;\n",
       "        height: 32px;\n",
       "        padding: 0 0 0 0;\n",
       "        width: 32px;\n",
       "      }\n",
       "\n",
       "      .colab-df-generate:hover {\n",
       "        background-color: #E2EBFA;\n",
       "        box-shadow: 0px 1px 2px rgba(60, 64, 67, 0.3), 0px 1px 3px 1px rgba(60, 64, 67, 0.15);\n",
       "        fill: #174EA6;\n",
       "      }\n",
       "\n",
       "      [theme=dark] .colab-df-generate {\n",
       "        background-color: #3B4455;\n",
       "        fill: #D2E3FC;\n",
       "      }\n",
       "\n",
       "      [theme=dark] .colab-df-generate:hover {\n",
       "        background-color: #434B5C;\n",
       "        box-shadow: 0px 1px 3px 1px rgba(0, 0, 0, 0.15);\n",
       "        filter: drop-shadow(0px 1px 2px rgba(0, 0, 0, 0.3));\n",
       "        fill: #FFFFFF;\n",
       "      }\n",
       "    </style>\n",
       "    <button class=\"colab-df-generate\" onclick=\"generateWithVariable('df')\"\n",
       "            title=\"Generate code using this dataframe.\"\n",
       "            style=\"display:none;\">\n",
       "\n",
       "  <svg xmlns=\"http://www.w3.org/2000/svg\" height=\"24px\"viewBox=\"0 0 24 24\"\n",
       "       width=\"24px\">\n",
       "    <path d=\"M7,19H8.4L18.45,9,17,7.55,7,17.6ZM5,21V16.75L18.45,3.32a2,2,0,0,1,2.83,0l1.4,1.43a1.91,1.91,0,0,1,.58,1.4,1.91,1.91,0,0,1-.58,1.4L9.25,21ZM18.45,9,17,7.55Zm-12,3A5.31,5.31,0,0,0,4.9,8.1,5.31,5.31,0,0,0,1,6.5,5.31,5.31,0,0,0,4.9,4.9,5.31,5.31,0,0,0,6.5,1,5.31,5.31,0,0,0,8.1,4.9,5.31,5.31,0,0,0,12,6.5,5.46,5.46,0,0,0,6.5,12Z\"/>\n",
       "  </svg>\n",
       "    </button>\n",
       "    <script>\n",
       "      (() => {\n",
       "      const buttonEl =\n",
       "        document.querySelector('#id_67c8d5b5-813d-45fc-becc-9a147602530c button.colab-df-generate');\n",
       "      buttonEl.style.display =\n",
       "        google.colab.kernel.accessAllowed ? 'block' : 'none';\n",
       "\n",
       "      buttonEl.onclick = () => {\n",
       "        google.colab.notebook.generateWithVariable('df');\n",
       "      }\n",
       "      })();\n",
       "    </script>\n",
       "  </div>\n",
       "\n",
       "    </div>\n",
       "  </div>\n"
      ],
      "text/plain": [
       "    Name  Age       City\n",
       "0  Harsh   24      Noida\n",
       "1   Jack   27  Bangalore\n",
       "2  Rahul   22    Florida\n",
       "3  Divya   30        USA"
      ]
     },
     "execution_count": 62,
     "metadata": {},
     "output_type": "execute_result"
    }
   ],
   "source": [
    "df"
   ]
  },
  {
   "cell_type": "code",
   "execution_count": null,
   "metadata": {
    "colab": {
     "base_uri": "https://localhost:8080/",
     "height": 175
    },
    "id": "DVX__SeWLh9G",
    "outputId": "190b74f2-5929-42f8-dee5-d6219bbc3bde"
   },
   "outputs": [
    {
     "data": {
      "application/vnd.google.colaboratory.intrinsic+json": {
       "summary": "{\n  \"name\": \"df\",\n  \"rows\": 4,\n  \"fields\": [\n    {\n      \"column\": \"Name\",\n      \"properties\": {\n        \"dtype\": \"string\",\n        \"num_unique_values\": 4,\n        \"samples\": [\n          \"Jack\",\n          \"Divya\",\n          \"Harsh\"\n        ],\n        \"semantic_type\": \"\",\n        \"description\": \"\"\n      }\n    },\n    {\n      \"column\": \"Age\",\n      \"properties\": {\n        \"dtype\": \"number\",\n        \"std\": 3,\n        \"min\": 23,\n        \"max\": 31,\n        \"num_unique_values\": 4,\n        \"samples\": [\n          28,\n          31,\n          25\n        ],\n        \"semantic_type\": \"\",\n        \"description\": \"\"\n      }\n    },\n    {\n      \"column\": \"City\",\n      \"properties\": {\n        \"dtype\": \"string\",\n        \"num_unique_values\": 4,\n        \"samples\": [\n          \"Bangalore\",\n          \"USA\",\n          \"Noida\"\n        ],\n        \"semantic_type\": \"\",\n        \"description\": \"\"\n      }\n    }\n  ]\n}",
       "type": "dataframe",
       "variable_name": "df"
      },
      "text/html": [
       "\n",
       "  <div id=\"df-1fab6d4c-aaa6-4493-9d47-4dfb3594b812\" class=\"colab-df-container\">\n",
       "    <div>\n",
       "<style scoped>\n",
       "    .dataframe tbody tr th:only-of-type {\n",
       "        vertical-align: middle;\n",
       "    }\n",
       "\n",
       "    .dataframe tbody tr th {\n",
       "        vertical-align: top;\n",
       "    }\n",
       "\n",
       "    .dataframe thead th {\n",
       "        text-align: right;\n",
       "    }\n",
       "</style>\n",
       "<table border=\"1\" class=\"dataframe\">\n",
       "  <thead>\n",
       "    <tr style=\"text-align: right;\">\n",
       "      <th></th>\n",
       "      <th>Name</th>\n",
       "      <th>Age</th>\n",
       "      <th>City</th>\n",
       "    </tr>\n",
       "  </thead>\n",
       "  <tbody>\n",
       "    <tr>\n",
       "      <th>0</th>\n",
       "      <td>Harsh</td>\n",
       "      <td>25</td>\n",
       "      <td>Noida</td>\n",
       "    </tr>\n",
       "    <tr>\n",
       "      <th>1</th>\n",
       "      <td>Jack</td>\n",
       "      <td>28</td>\n",
       "      <td>Bangalore</td>\n",
       "    </tr>\n",
       "    <tr>\n",
       "      <th>2</th>\n",
       "      <td>Rahul</td>\n",
       "      <td>23</td>\n",
       "      <td>Florida</td>\n",
       "    </tr>\n",
       "    <tr>\n",
       "      <th>3</th>\n",
       "      <td>Divya</td>\n",
       "      <td>31</td>\n",
       "      <td>USA</td>\n",
       "    </tr>\n",
       "  </tbody>\n",
       "</table>\n",
       "</div>\n",
       "    <div class=\"colab-df-buttons\">\n",
       "\n",
       "  <div class=\"colab-df-container\">\n",
       "    <button class=\"colab-df-convert\" onclick=\"convertToInteractive('df-1fab6d4c-aaa6-4493-9d47-4dfb3594b812')\"\n",
       "            title=\"Convert this dataframe to an interactive table.\"\n",
       "            style=\"display:none;\">\n",
       "\n",
       "  <svg xmlns=\"http://www.w3.org/2000/svg\" height=\"24px\" viewBox=\"0 -960 960 960\">\n",
       "    <path d=\"M120-120v-720h720v720H120Zm60-500h600v-160H180v160Zm220 220h160v-160H400v160Zm0 220h160v-160H400v160ZM180-400h160v-160H180v160Zm440 0h160v-160H620v160ZM180-180h160v-160H180v160Zm440 0h160v-160H620v160Z\"/>\n",
       "  </svg>\n",
       "    </button>\n",
       "\n",
       "  <style>\n",
       "    .colab-df-container {\n",
       "      display:flex;\n",
       "      gap: 12px;\n",
       "    }\n",
       "\n",
       "    .colab-df-convert {\n",
       "      background-color: #E8F0FE;\n",
       "      border: none;\n",
       "      border-radius: 50%;\n",
       "      cursor: pointer;\n",
       "      display: none;\n",
       "      fill: #1967D2;\n",
       "      height: 32px;\n",
       "      padding: 0 0 0 0;\n",
       "      width: 32px;\n",
       "    }\n",
       "\n",
       "    .colab-df-convert:hover {\n",
       "      background-color: #E2EBFA;\n",
       "      box-shadow: 0px 1px 2px rgba(60, 64, 67, 0.3), 0px 1px 3px 1px rgba(60, 64, 67, 0.15);\n",
       "      fill: #174EA6;\n",
       "    }\n",
       "\n",
       "    .colab-df-buttons div {\n",
       "      margin-bottom: 4px;\n",
       "    }\n",
       "\n",
       "    [theme=dark] .colab-df-convert {\n",
       "      background-color: #3B4455;\n",
       "      fill: #D2E3FC;\n",
       "    }\n",
       "\n",
       "    [theme=dark] .colab-df-convert:hover {\n",
       "      background-color: #434B5C;\n",
       "      box-shadow: 0px 1px 3px 1px rgba(0, 0, 0, 0.15);\n",
       "      filter: drop-shadow(0px 1px 2px rgba(0, 0, 0, 0.3));\n",
       "      fill: #FFFFFF;\n",
       "    }\n",
       "  </style>\n",
       "\n",
       "    <script>\n",
       "      const buttonEl =\n",
       "        document.querySelector('#df-1fab6d4c-aaa6-4493-9d47-4dfb3594b812 button.colab-df-convert');\n",
       "      buttonEl.style.display =\n",
       "        google.colab.kernel.accessAllowed ? 'block' : 'none';\n",
       "\n",
       "      async function convertToInteractive(key) {\n",
       "        const element = document.querySelector('#df-1fab6d4c-aaa6-4493-9d47-4dfb3594b812');\n",
       "        const dataTable =\n",
       "          await google.colab.kernel.invokeFunction('convertToInteractive',\n",
       "                                                    [key], {});\n",
       "        if (!dataTable) return;\n",
       "\n",
       "        const docLinkHtml = 'Like what you see? Visit the ' +\n",
       "          '<a target=\"_blank\" href=https://colab.research.google.com/notebooks/data_table.ipynb>data table notebook</a>'\n",
       "          + ' to learn more about interactive tables.';\n",
       "        element.innerHTML = '';\n",
       "        dataTable['output_type'] = 'display_data';\n",
       "        await google.colab.output.renderOutput(dataTable, element);\n",
       "        const docLink = document.createElement('div');\n",
       "        docLink.innerHTML = docLinkHtml;\n",
       "        element.appendChild(docLink);\n",
       "      }\n",
       "    </script>\n",
       "  </div>\n",
       "\n",
       "\n",
       "<div id=\"df-5e315dfd-45d7-40a4-ac2d-1010c45ff3a2\">\n",
       "  <button class=\"colab-df-quickchart\" onclick=\"quickchart('df-5e315dfd-45d7-40a4-ac2d-1010c45ff3a2')\"\n",
       "            title=\"Suggest charts\"\n",
       "            style=\"display:none;\">\n",
       "\n",
       "<svg xmlns=\"http://www.w3.org/2000/svg\" height=\"24px\"viewBox=\"0 0 24 24\"\n",
       "     width=\"24px\">\n",
       "    <g>\n",
       "        <path d=\"M19 3H5c-1.1 0-2 .9-2 2v14c0 1.1.9 2 2 2h14c1.1 0 2-.9 2-2V5c0-1.1-.9-2-2-2zM9 17H7v-7h2v7zm4 0h-2V7h2v10zm4 0h-2v-4h2v4z\"/>\n",
       "    </g>\n",
       "</svg>\n",
       "  </button>\n",
       "\n",
       "<style>\n",
       "  .colab-df-quickchart {\n",
       "      --bg-color: #E8F0FE;\n",
       "      --fill-color: #1967D2;\n",
       "      --hover-bg-color: #E2EBFA;\n",
       "      --hover-fill-color: #174EA6;\n",
       "      --disabled-fill-color: #AAA;\n",
       "      --disabled-bg-color: #DDD;\n",
       "  }\n",
       "\n",
       "  [theme=dark] .colab-df-quickchart {\n",
       "      --bg-color: #3B4455;\n",
       "      --fill-color: #D2E3FC;\n",
       "      --hover-bg-color: #434B5C;\n",
       "      --hover-fill-color: #FFFFFF;\n",
       "      --disabled-bg-color: #3B4455;\n",
       "      --disabled-fill-color: #666;\n",
       "  }\n",
       "\n",
       "  .colab-df-quickchart {\n",
       "    background-color: var(--bg-color);\n",
       "    border: none;\n",
       "    border-radius: 50%;\n",
       "    cursor: pointer;\n",
       "    display: none;\n",
       "    fill: var(--fill-color);\n",
       "    height: 32px;\n",
       "    padding: 0;\n",
       "    width: 32px;\n",
       "  }\n",
       "\n",
       "  .colab-df-quickchart:hover {\n",
       "    background-color: var(--hover-bg-color);\n",
       "    box-shadow: 0 1px 2px rgba(60, 64, 67, 0.3), 0 1px 3px 1px rgba(60, 64, 67, 0.15);\n",
       "    fill: var(--button-hover-fill-color);\n",
       "  }\n",
       "\n",
       "  .colab-df-quickchart-complete:disabled,\n",
       "  .colab-df-quickchart-complete:disabled:hover {\n",
       "    background-color: var(--disabled-bg-color);\n",
       "    fill: var(--disabled-fill-color);\n",
       "    box-shadow: none;\n",
       "  }\n",
       "\n",
       "  .colab-df-spinner {\n",
       "    border: 2px solid var(--fill-color);\n",
       "    border-color: transparent;\n",
       "    border-bottom-color: var(--fill-color);\n",
       "    animation:\n",
       "      spin 1s steps(1) infinite;\n",
       "  }\n",
       "\n",
       "  @keyframes spin {\n",
       "    0% {\n",
       "      border-color: transparent;\n",
       "      border-bottom-color: var(--fill-color);\n",
       "      border-left-color: var(--fill-color);\n",
       "    }\n",
       "    20% {\n",
       "      border-color: transparent;\n",
       "      border-left-color: var(--fill-color);\n",
       "      border-top-color: var(--fill-color);\n",
       "    }\n",
       "    30% {\n",
       "      border-color: transparent;\n",
       "      border-left-color: var(--fill-color);\n",
       "      border-top-color: var(--fill-color);\n",
       "      border-right-color: var(--fill-color);\n",
       "    }\n",
       "    40% {\n",
       "      border-color: transparent;\n",
       "      border-right-color: var(--fill-color);\n",
       "      border-top-color: var(--fill-color);\n",
       "    }\n",
       "    60% {\n",
       "      border-color: transparent;\n",
       "      border-right-color: var(--fill-color);\n",
       "    }\n",
       "    80% {\n",
       "      border-color: transparent;\n",
       "      border-right-color: var(--fill-color);\n",
       "      border-bottom-color: var(--fill-color);\n",
       "    }\n",
       "    90% {\n",
       "      border-color: transparent;\n",
       "      border-bottom-color: var(--fill-color);\n",
       "    }\n",
       "  }\n",
       "</style>\n",
       "\n",
       "  <script>\n",
       "    async function quickchart(key) {\n",
       "      const quickchartButtonEl =\n",
       "        document.querySelector('#' + key + ' button');\n",
       "      quickchartButtonEl.disabled = true;  // To prevent multiple clicks.\n",
       "      quickchartButtonEl.classList.add('colab-df-spinner');\n",
       "      try {\n",
       "        const charts = await google.colab.kernel.invokeFunction(\n",
       "            'suggestCharts', [key], {});\n",
       "      } catch (error) {\n",
       "        console.error('Error during call to suggestCharts:', error);\n",
       "      }\n",
       "      quickchartButtonEl.classList.remove('colab-df-spinner');\n",
       "      quickchartButtonEl.classList.add('colab-df-quickchart-complete');\n",
       "    }\n",
       "    (() => {\n",
       "      let quickchartButtonEl =\n",
       "        document.querySelector('#df-5e315dfd-45d7-40a4-ac2d-1010c45ff3a2 button');\n",
       "      quickchartButtonEl.style.display =\n",
       "        google.colab.kernel.accessAllowed ? 'block' : 'none';\n",
       "    })();\n",
       "  </script>\n",
       "</div>\n",
       "\n",
       "  <div id=\"id_9dab5d23-e27d-41c1-b28c-43818e4c1de0\">\n",
       "    <style>\n",
       "      .colab-df-generate {\n",
       "        background-color: #E8F0FE;\n",
       "        border: none;\n",
       "        border-radius: 50%;\n",
       "        cursor: pointer;\n",
       "        display: none;\n",
       "        fill: #1967D2;\n",
       "        height: 32px;\n",
       "        padding: 0 0 0 0;\n",
       "        width: 32px;\n",
       "      }\n",
       "\n",
       "      .colab-df-generate:hover {\n",
       "        background-color: #E2EBFA;\n",
       "        box-shadow: 0px 1px 2px rgba(60, 64, 67, 0.3), 0px 1px 3px 1px rgba(60, 64, 67, 0.15);\n",
       "        fill: #174EA6;\n",
       "      }\n",
       "\n",
       "      [theme=dark] .colab-df-generate {\n",
       "        background-color: #3B4455;\n",
       "        fill: #D2E3FC;\n",
       "      }\n",
       "\n",
       "      [theme=dark] .colab-df-generate:hover {\n",
       "        background-color: #434B5C;\n",
       "        box-shadow: 0px 1px 3px 1px rgba(0, 0, 0, 0.15);\n",
       "        filter: drop-shadow(0px 1px 2px rgba(0, 0, 0, 0.3));\n",
       "        fill: #FFFFFF;\n",
       "      }\n",
       "    </style>\n",
       "    <button class=\"colab-df-generate\" onclick=\"generateWithVariable('df')\"\n",
       "            title=\"Generate code using this dataframe.\"\n",
       "            style=\"display:none;\">\n",
       "\n",
       "  <svg xmlns=\"http://www.w3.org/2000/svg\" height=\"24px\"viewBox=\"0 0 24 24\"\n",
       "       width=\"24px\">\n",
       "    <path d=\"M7,19H8.4L18.45,9,17,7.55,7,17.6ZM5,21V16.75L18.45,3.32a2,2,0,0,1,2.83,0l1.4,1.43a1.91,1.91,0,0,1,.58,1.4,1.91,1.91,0,0,1-.58,1.4L9.25,21ZM18.45,9,17,7.55Zm-12,3A5.31,5.31,0,0,0,4.9,8.1,5.31,5.31,0,0,0,1,6.5,5.31,5.31,0,0,0,4.9,4.9,5.31,5.31,0,0,0,6.5,1,5.31,5.31,0,0,0,8.1,4.9,5.31,5.31,0,0,0,12,6.5,5.46,5.46,0,0,0,6.5,12Z\"/>\n",
       "  </svg>\n",
       "    </button>\n",
       "    <script>\n",
       "      (() => {\n",
       "      const buttonEl =\n",
       "        document.querySelector('#id_9dab5d23-e27d-41c1-b28c-43818e4c1de0 button.colab-df-generate');\n",
       "      buttonEl.style.display =\n",
       "        google.colab.kernel.accessAllowed ? 'block' : 'none';\n",
       "\n",
       "      buttonEl.onclick = () => {\n",
       "        google.colab.notebook.generateWithVariable('df');\n",
       "      }\n",
       "      })();\n",
       "    </script>\n",
       "  </div>\n",
       "\n",
       "    </div>\n",
       "  </div>\n"
      ],
      "text/plain": [
       "    Name  Age       City\n",
       "0  Harsh   25      Noida\n",
       "1   Jack   28  Bangalore\n",
       "2  Rahul   23    Florida\n",
       "3  Divya   31        USA"
      ]
     },
     "execution_count": 64,
     "metadata": {},
     "output_type": "execute_result"
    }
   ],
   "source": [
    "df['Age'] = df['Age']+1\n",
    "df"
   ]
  },
  {
   "cell_type": "code",
   "execution_count": null,
   "metadata": {
    "id": "TaauJ9DcLomr"
   },
   "outputs": [],
   "source": [
    "df.drop(1,inplace=True)"
   ]
  },
  {
   "cell_type": "code",
   "execution_count": null,
   "metadata": {
    "colab": {
     "base_uri": "https://localhost:8080/",
     "height": 143
    },
    "id": "zWVu_kXWMD5M",
    "outputId": "812443e8-3f81-4eb7-c8dd-98b99c1d55f1"
   },
   "outputs": [
    {
     "data": {
      "application/vnd.google.colaboratory.intrinsic+json": {
       "summary": "{\n  \"name\": \"df\",\n  \"rows\": 3,\n  \"fields\": [\n    {\n      \"column\": \"Name\",\n      \"properties\": {\n        \"dtype\": \"string\",\n        \"num_unique_values\": 3,\n        \"samples\": [\n          \"Harsh\",\n          \"Rahul\",\n          \"Divya\"\n        ],\n        \"semantic_type\": \"\",\n        \"description\": \"\"\n      }\n    },\n    {\n      \"column\": \"Age\",\n      \"properties\": {\n        \"dtype\": \"number\",\n        \"std\": 4,\n        \"min\": 23,\n        \"max\": 31,\n        \"num_unique_values\": 3,\n        \"samples\": [\n          25,\n          23,\n          31\n        ],\n        \"semantic_type\": \"\",\n        \"description\": \"\"\n      }\n    },\n    {\n      \"column\": \"City\",\n      \"properties\": {\n        \"dtype\": \"string\",\n        \"num_unique_values\": 3,\n        \"samples\": [\n          \"Noida\",\n          \"Florida\",\n          \"USA\"\n        ],\n        \"semantic_type\": \"\",\n        \"description\": \"\"\n      }\n    }\n  ]\n}",
       "type": "dataframe",
       "variable_name": "df"
      },
      "text/html": [
       "\n",
       "  <div id=\"df-fb6659d9-20e3-4576-82c3-8723b0b3b29c\" class=\"colab-df-container\">\n",
       "    <div>\n",
       "<style scoped>\n",
       "    .dataframe tbody tr th:only-of-type {\n",
       "        vertical-align: middle;\n",
       "    }\n",
       "\n",
       "    .dataframe tbody tr th {\n",
       "        vertical-align: top;\n",
       "    }\n",
       "\n",
       "    .dataframe thead th {\n",
       "        text-align: right;\n",
       "    }\n",
       "</style>\n",
       "<table border=\"1\" class=\"dataframe\">\n",
       "  <thead>\n",
       "    <tr style=\"text-align: right;\">\n",
       "      <th></th>\n",
       "      <th>Name</th>\n",
       "      <th>Age</th>\n",
       "      <th>City</th>\n",
       "    </tr>\n",
       "  </thead>\n",
       "  <tbody>\n",
       "    <tr>\n",
       "      <th>0</th>\n",
       "      <td>Harsh</td>\n",
       "      <td>25</td>\n",
       "      <td>Noida</td>\n",
       "    </tr>\n",
       "    <tr>\n",
       "      <th>2</th>\n",
       "      <td>Rahul</td>\n",
       "      <td>23</td>\n",
       "      <td>Florida</td>\n",
       "    </tr>\n",
       "    <tr>\n",
       "      <th>3</th>\n",
       "      <td>Divya</td>\n",
       "      <td>31</td>\n",
       "      <td>USA</td>\n",
       "    </tr>\n",
       "  </tbody>\n",
       "</table>\n",
       "</div>\n",
       "    <div class=\"colab-df-buttons\">\n",
       "\n",
       "  <div class=\"colab-df-container\">\n",
       "    <button class=\"colab-df-convert\" onclick=\"convertToInteractive('df-fb6659d9-20e3-4576-82c3-8723b0b3b29c')\"\n",
       "            title=\"Convert this dataframe to an interactive table.\"\n",
       "            style=\"display:none;\">\n",
       "\n",
       "  <svg xmlns=\"http://www.w3.org/2000/svg\" height=\"24px\" viewBox=\"0 -960 960 960\">\n",
       "    <path d=\"M120-120v-720h720v720H120Zm60-500h600v-160H180v160Zm220 220h160v-160H400v160Zm0 220h160v-160H400v160ZM180-400h160v-160H180v160Zm440 0h160v-160H620v160ZM180-180h160v-160H180v160Zm440 0h160v-160H620v160Z\"/>\n",
       "  </svg>\n",
       "    </button>\n",
       "\n",
       "  <style>\n",
       "    .colab-df-container {\n",
       "      display:flex;\n",
       "      gap: 12px;\n",
       "    }\n",
       "\n",
       "    .colab-df-convert {\n",
       "      background-color: #E8F0FE;\n",
       "      border: none;\n",
       "      border-radius: 50%;\n",
       "      cursor: pointer;\n",
       "      display: none;\n",
       "      fill: #1967D2;\n",
       "      height: 32px;\n",
       "      padding: 0 0 0 0;\n",
       "      width: 32px;\n",
       "    }\n",
       "\n",
       "    .colab-df-convert:hover {\n",
       "      background-color: #E2EBFA;\n",
       "      box-shadow: 0px 1px 2px rgba(60, 64, 67, 0.3), 0px 1px 3px 1px rgba(60, 64, 67, 0.15);\n",
       "      fill: #174EA6;\n",
       "    }\n",
       "\n",
       "    .colab-df-buttons div {\n",
       "      margin-bottom: 4px;\n",
       "    }\n",
       "\n",
       "    [theme=dark] .colab-df-convert {\n",
       "      background-color: #3B4455;\n",
       "      fill: #D2E3FC;\n",
       "    }\n",
       "\n",
       "    [theme=dark] .colab-df-convert:hover {\n",
       "      background-color: #434B5C;\n",
       "      box-shadow: 0px 1px 3px 1px rgba(0, 0, 0, 0.15);\n",
       "      filter: drop-shadow(0px 1px 2px rgba(0, 0, 0, 0.3));\n",
       "      fill: #FFFFFF;\n",
       "    }\n",
       "  </style>\n",
       "\n",
       "    <script>\n",
       "      const buttonEl =\n",
       "        document.querySelector('#df-fb6659d9-20e3-4576-82c3-8723b0b3b29c button.colab-df-convert');\n",
       "      buttonEl.style.display =\n",
       "        google.colab.kernel.accessAllowed ? 'block' : 'none';\n",
       "\n",
       "      async function convertToInteractive(key) {\n",
       "        const element = document.querySelector('#df-fb6659d9-20e3-4576-82c3-8723b0b3b29c');\n",
       "        const dataTable =\n",
       "          await google.colab.kernel.invokeFunction('convertToInteractive',\n",
       "                                                    [key], {});\n",
       "        if (!dataTable) return;\n",
       "\n",
       "        const docLinkHtml = 'Like what you see? Visit the ' +\n",
       "          '<a target=\"_blank\" href=https://colab.research.google.com/notebooks/data_table.ipynb>data table notebook</a>'\n",
       "          + ' to learn more about interactive tables.';\n",
       "        element.innerHTML = '';\n",
       "        dataTable['output_type'] = 'display_data';\n",
       "        await google.colab.output.renderOutput(dataTable, element);\n",
       "        const docLink = document.createElement('div');\n",
       "        docLink.innerHTML = docLinkHtml;\n",
       "        element.appendChild(docLink);\n",
       "      }\n",
       "    </script>\n",
       "  </div>\n",
       "\n",
       "\n",
       "<div id=\"df-02bc85cb-5393-47eb-9e34-1f601df07312\">\n",
       "  <button class=\"colab-df-quickchart\" onclick=\"quickchart('df-02bc85cb-5393-47eb-9e34-1f601df07312')\"\n",
       "            title=\"Suggest charts\"\n",
       "            style=\"display:none;\">\n",
       "\n",
       "<svg xmlns=\"http://www.w3.org/2000/svg\" height=\"24px\"viewBox=\"0 0 24 24\"\n",
       "     width=\"24px\">\n",
       "    <g>\n",
       "        <path d=\"M19 3H5c-1.1 0-2 .9-2 2v14c0 1.1.9 2 2 2h14c1.1 0 2-.9 2-2V5c0-1.1-.9-2-2-2zM9 17H7v-7h2v7zm4 0h-2V7h2v10zm4 0h-2v-4h2v4z\"/>\n",
       "    </g>\n",
       "</svg>\n",
       "  </button>\n",
       "\n",
       "<style>\n",
       "  .colab-df-quickchart {\n",
       "      --bg-color: #E8F0FE;\n",
       "      --fill-color: #1967D2;\n",
       "      --hover-bg-color: #E2EBFA;\n",
       "      --hover-fill-color: #174EA6;\n",
       "      --disabled-fill-color: #AAA;\n",
       "      --disabled-bg-color: #DDD;\n",
       "  }\n",
       "\n",
       "  [theme=dark] .colab-df-quickchart {\n",
       "      --bg-color: #3B4455;\n",
       "      --fill-color: #D2E3FC;\n",
       "      --hover-bg-color: #434B5C;\n",
       "      --hover-fill-color: #FFFFFF;\n",
       "      --disabled-bg-color: #3B4455;\n",
       "      --disabled-fill-color: #666;\n",
       "  }\n",
       "\n",
       "  .colab-df-quickchart {\n",
       "    background-color: var(--bg-color);\n",
       "    border: none;\n",
       "    border-radius: 50%;\n",
       "    cursor: pointer;\n",
       "    display: none;\n",
       "    fill: var(--fill-color);\n",
       "    height: 32px;\n",
       "    padding: 0;\n",
       "    width: 32px;\n",
       "  }\n",
       "\n",
       "  .colab-df-quickchart:hover {\n",
       "    background-color: var(--hover-bg-color);\n",
       "    box-shadow: 0 1px 2px rgba(60, 64, 67, 0.3), 0 1px 3px 1px rgba(60, 64, 67, 0.15);\n",
       "    fill: var(--button-hover-fill-color);\n",
       "  }\n",
       "\n",
       "  .colab-df-quickchart-complete:disabled,\n",
       "  .colab-df-quickchart-complete:disabled:hover {\n",
       "    background-color: var(--disabled-bg-color);\n",
       "    fill: var(--disabled-fill-color);\n",
       "    box-shadow: none;\n",
       "  }\n",
       "\n",
       "  .colab-df-spinner {\n",
       "    border: 2px solid var(--fill-color);\n",
       "    border-color: transparent;\n",
       "    border-bottom-color: var(--fill-color);\n",
       "    animation:\n",
       "      spin 1s steps(1) infinite;\n",
       "  }\n",
       "\n",
       "  @keyframes spin {\n",
       "    0% {\n",
       "      border-color: transparent;\n",
       "      border-bottom-color: var(--fill-color);\n",
       "      border-left-color: var(--fill-color);\n",
       "    }\n",
       "    20% {\n",
       "      border-color: transparent;\n",
       "      border-left-color: var(--fill-color);\n",
       "      border-top-color: var(--fill-color);\n",
       "    }\n",
       "    30% {\n",
       "      border-color: transparent;\n",
       "      border-left-color: var(--fill-color);\n",
       "      border-top-color: var(--fill-color);\n",
       "      border-right-color: var(--fill-color);\n",
       "    }\n",
       "    40% {\n",
       "      border-color: transparent;\n",
       "      border-right-color: var(--fill-color);\n",
       "      border-top-color: var(--fill-color);\n",
       "    }\n",
       "    60% {\n",
       "      border-color: transparent;\n",
       "      border-right-color: var(--fill-color);\n",
       "    }\n",
       "    80% {\n",
       "      border-color: transparent;\n",
       "      border-right-color: var(--fill-color);\n",
       "      border-bottom-color: var(--fill-color);\n",
       "    }\n",
       "    90% {\n",
       "      border-color: transparent;\n",
       "      border-bottom-color: var(--fill-color);\n",
       "    }\n",
       "  }\n",
       "</style>\n",
       "\n",
       "  <script>\n",
       "    async function quickchart(key) {\n",
       "      const quickchartButtonEl =\n",
       "        document.querySelector('#' + key + ' button');\n",
       "      quickchartButtonEl.disabled = true;  // To prevent multiple clicks.\n",
       "      quickchartButtonEl.classList.add('colab-df-spinner');\n",
       "      try {\n",
       "        const charts = await google.colab.kernel.invokeFunction(\n",
       "            'suggestCharts', [key], {});\n",
       "      } catch (error) {\n",
       "        console.error('Error during call to suggestCharts:', error);\n",
       "      }\n",
       "      quickchartButtonEl.classList.remove('colab-df-spinner');\n",
       "      quickchartButtonEl.classList.add('colab-df-quickchart-complete');\n",
       "    }\n",
       "    (() => {\n",
       "      let quickchartButtonEl =\n",
       "        document.querySelector('#df-02bc85cb-5393-47eb-9e34-1f601df07312 button');\n",
       "      quickchartButtonEl.style.display =\n",
       "        google.colab.kernel.accessAllowed ? 'block' : 'none';\n",
       "    })();\n",
       "  </script>\n",
       "</div>\n",
       "\n",
       "  <div id=\"id_8669d129-0884-4fe5-b213-3f1a89f67f10\">\n",
       "    <style>\n",
       "      .colab-df-generate {\n",
       "        background-color: #E8F0FE;\n",
       "        border: none;\n",
       "        border-radius: 50%;\n",
       "        cursor: pointer;\n",
       "        display: none;\n",
       "        fill: #1967D2;\n",
       "        height: 32px;\n",
       "        padding: 0 0 0 0;\n",
       "        width: 32px;\n",
       "      }\n",
       "\n",
       "      .colab-df-generate:hover {\n",
       "        background-color: #E2EBFA;\n",
       "        box-shadow: 0px 1px 2px rgba(60, 64, 67, 0.3), 0px 1px 3px 1px rgba(60, 64, 67, 0.15);\n",
       "        fill: #174EA6;\n",
       "      }\n",
       "\n",
       "      [theme=dark] .colab-df-generate {\n",
       "        background-color: #3B4455;\n",
       "        fill: #D2E3FC;\n",
       "      }\n",
       "\n",
       "      [theme=dark] .colab-df-generate:hover {\n",
       "        background-color: #434B5C;\n",
       "        box-shadow: 0px 1px 3px 1px rgba(0, 0, 0, 0.15);\n",
       "        filter: drop-shadow(0px 1px 2px rgba(0, 0, 0, 0.3));\n",
       "        fill: #FFFFFF;\n",
       "      }\n",
       "    </style>\n",
       "    <button class=\"colab-df-generate\" onclick=\"generateWithVariable('df')\"\n",
       "            title=\"Generate code using this dataframe.\"\n",
       "            style=\"display:none;\">\n",
       "\n",
       "  <svg xmlns=\"http://www.w3.org/2000/svg\" height=\"24px\"viewBox=\"0 0 24 24\"\n",
       "       width=\"24px\">\n",
       "    <path d=\"M7,19H8.4L18.45,9,17,7.55,7,17.6ZM5,21V16.75L18.45,3.32a2,2,0,0,1,2.83,0l1.4,1.43a1.91,1.91,0,0,1,.58,1.4,1.91,1.91,0,0,1-.58,1.4L9.25,21ZM18.45,9,17,7.55Zm-12,3A5.31,5.31,0,0,0,4.9,8.1,5.31,5.31,0,0,0,1,6.5,5.31,5.31,0,0,0,4.9,4.9,5.31,5.31,0,0,0,6.5,1,5.31,5.31,0,0,0,8.1,4.9,5.31,5.31,0,0,0,12,6.5,5.46,5.46,0,0,0,6.5,12Z\"/>\n",
       "  </svg>\n",
       "    </button>\n",
       "    <script>\n",
       "      (() => {\n",
       "      const buttonEl =\n",
       "        document.querySelector('#id_8669d129-0884-4fe5-b213-3f1a89f67f10 button.colab-df-generate');\n",
       "      buttonEl.style.display =\n",
       "        google.colab.kernel.accessAllowed ? 'block' : 'none';\n",
       "\n",
       "      buttonEl.onclick = () => {\n",
       "        google.colab.notebook.generateWithVariable('df');\n",
       "      }\n",
       "      })();\n",
       "    </script>\n",
       "  </div>\n",
       "\n",
       "    </div>\n",
       "  </div>\n"
      ],
      "text/plain": [
       "    Name  Age     City\n",
       "0  Harsh   25    Noida\n",
       "2  Rahul   23  Florida\n",
       "3  Divya   31      USA"
      ]
     },
     "execution_count": 68,
     "metadata": {},
     "output_type": "execute_result"
    }
   ],
   "source": [
    "df"
   ]
  },
  {
   "cell_type": "code",
   "execution_count": null,
   "metadata": {
    "colab": {
     "base_uri": "https://localhost:8080/",
     "height": 347
    },
    "id": "0Kp8kp9yMGdd",
    "outputId": "b0fcfa62-b4e9-424c-823e-085b98aec349"
   },
   "outputs": [
    {
     "data": {
      "application/vnd.google.colaboratory.intrinsic+json": {
       "summary": "{\n  \"name\": \"df\",\n  \"rows\": 240,\n  \"fields\": [\n    {\n      \"column\": \"Transaction ID\",\n      \"properties\": {\n        \"dtype\": \"number\",\n        \"std\": 69,\n        \"min\": 10001,\n        \"max\": 10240,\n        \"num_unique_values\": 240,\n        \"samples\": [\n          10025,\n          10007,\n          10094\n        ],\n        \"semantic_type\": \"\",\n        \"description\": \"\"\n      }\n    },\n    {\n      \"column\": \"Date\",\n      \"properties\": {\n        \"dtype\": \"object\",\n        \"num_unique_values\": 240,\n        \"samples\": [\n          \"2024-01-25\",\n          \"2024-01-07\",\n          \"2024-04-03\"\n        ],\n        \"semantic_type\": \"\",\n        \"description\": \"\"\n      }\n    },\n    {\n      \"column\": \"Product Category\",\n      \"properties\": {\n        \"dtype\": \"category\",\n        \"num_unique_values\": 6,\n        \"samples\": [\n          \"Electronics\",\n          \"Home Appliances\",\n          \"Sports\"\n        ],\n        \"semantic_type\": \"\",\n        \"description\": \"\"\n      }\n    },\n    {\n      \"column\": \"Product Name\",\n      \"properties\": {\n        \"dtype\": \"string\",\n        \"num_unique_values\": 232,\n        \"samples\": [\n          \"The Ordinary Caffeine Solution 5% + EGCG\",\n          \"Samsung QLED 4K TV\",\n          \"Dune by Frank Herbert\"\n        ],\n        \"semantic_type\": \"\",\n        \"description\": \"\"\n      }\n    },\n    {\n      \"column\": \"Units Sold\",\n      \"properties\": {\n        \"dtype\": \"number\",\n        \"std\": 1,\n        \"min\": 1,\n        \"max\": 10,\n        \"num_unique_values\": 7,\n        \"samples\": [\n          2,\n          1,\n          6\n        ],\n        \"semantic_type\": \"\",\n        \"description\": \"\"\n      }\n    },\n    {\n      \"column\": \"Unit Price\",\n      \"properties\": {\n        \"dtype\": \"number\",\n        \"std\": 429.4466949104776,\n        \"min\": 6.5,\n        \"max\": 3899.99,\n        \"num_unique_values\": 117,\n        \"samples\": [\n          219.99,\n          89.99,\n          79.99\n        ],\n        \"semantic_type\": \"\",\n        \"description\": \"\"\n      }\n    },\n    {\n      \"column\": \"Total Revenue\",\n      \"properties\": {\n        \"dtype\": \"number\",\n        \"std\": 485.80446856513214,\n        \"min\": 6.5,\n        \"max\": 3899.99,\n        \"num_unique_values\": 173,\n        \"samples\": [\n          6.7,\n          130.0,\n          15.0\n        ],\n        \"semantic_type\": \"\",\n        \"description\": \"\"\n      }\n    },\n    {\n      \"column\": \"Region\",\n      \"properties\": {\n        \"dtype\": \"category\",\n        \"num_unique_values\": 3,\n        \"samples\": [\n          \"North America\",\n          \"Europe\",\n          \"Asia\"\n        ],\n        \"semantic_type\": \"\",\n        \"description\": \"\"\n      }\n    },\n    {\n      \"column\": \"Payment Method\",\n      \"properties\": {\n        \"dtype\": \"category\",\n        \"num_unique_values\": 3,\n        \"samples\": [\n          \"Credit Card\",\n          \"PayPal\",\n          \"Debit Card\"\n        ],\n        \"semantic_type\": \"\",\n        \"description\": \"\"\n      }\n    }\n  ]\n}",
       "type": "dataframe",
       "variable_name": "df"
      },
      "text/html": [
       "\n",
       "  <div id=\"df-04387262-d214-4aa1-a11a-06d221146290\" class=\"colab-df-container\">\n",
       "    <div>\n",
       "<style scoped>\n",
       "    .dataframe tbody tr th:only-of-type {\n",
       "        vertical-align: middle;\n",
       "    }\n",
       "\n",
       "    .dataframe tbody tr th {\n",
       "        vertical-align: top;\n",
       "    }\n",
       "\n",
       "    .dataframe thead th {\n",
       "        text-align: right;\n",
       "    }\n",
       "</style>\n",
       "<table border=\"1\" class=\"dataframe\">\n",
       "  <thead>\n",
       "    <tr style=\"text-align: right;\">\n",
       "      <th></th>\n",
       "      <th>Transaction ID</th>\n",
       "      <th>Date</th>\n",
       "      <th>Product Category</th>\n",
       "      <th>Product Name</th>\n",
       "      <th>Units Sold</th>\n",
       "      <th>Unit Price</th>\n",
       "      <th>Total Revenue</th>\n",
       "      <th>Region</th>\n",
       "      <th>Payment Method</th>\n",
       "    </tr>\n",
       "  </thead>\n",
       "  <tbody>\n",
       "    <tr>\n",
       "      <th>0</th>\n",
       "      <td>10001</td>\n",
       "      <td>2024-01-01</td>\n",
       "      <td>Electronics</td>\n",
       "      <td>iPhone 14 Pro</td>\n",
       "      <td>2</td>\n",
       "      <td>999.99</td>\n",
       "      <td>1999.98</td>\n",
       "      <td>North America</td>\n",
       "      <td>Credit Card</td>\n",
       "    </tr>\n",
       "    <tr>\n",
       "      <th>1</th>\n",
       "      <td>10002</td>\n",
       "      <td>2024-01-02</td>\n",
       "      <td>Home Appliances</td>\n",
       "      <td>Dyson V11 Vacuum</td>\n",
       "      <td>1</td>\n",
       "      <td>499.99</td>\n",
       "      <td>499.99</td>\n",
       "      <td>Europe</td>\n",
       "      <td>PayPal</td>\n",
       "    </tr>\n",
       "    <tr>\n",
       "      <th>2</th>\n",
       "      <td>10003</td>\n",
       "      <td>2024-01-03</td>\n",
       "      <td>Clothing</td>\n",
       "      <td>Levi's 501 Jeans</td>\n",
       "      <td>3</td>\n",
       "      <td>69.99</td>\n",
       "      <td>209.97</td>\n",
       "      <td>Asia</td>\n",
       "      <td>Debit Card</td>\n",
       "    </tr>\n",
       "    <tr>\n",
       "      <th>3</th>\n",
       "      <td>10004</td>\n",
       "      <td>2024-01-04</td>\n",
       "      <td>Books</td>\n",
       "      <td>The Da Vinci Code</td>\n",
       "      <td>4</td>\n",
       "      <td>15.99</td>\n",
       "      <td>63.96</td>\n",
       "      <td>North America</td>\n",
       "      <td>Credit Card</td>\n",
       "    </tr>\n",
       "    <tr>\n",
       "      <th>4</th>\n",
       "      <td>10005</td>\n",
       "      <td>2024-01-05</td>\n",
       "      <td>Beauty Products</td>\n",
       "      <td>Neutrogena Skincare Set</td>\n",
       "      <td>1</td>\n",
       "      <td>89.99</td>\n",
       "      <td>89.99</td>\n",
       "      <td>Europe</td>\n",
       "      <td>PayPal</td>\n",
       "    </tr>\n",
       "  </tbody>\n",
       "</table>\n",
       "</div>\n",
       "    <div class=\"colab-df-buttons\">\n",
       "\n",
       "  <div class=\"colab-df-container\">\n",
       "    <button class=\"colab-df-convert\" onclick=\"convertToInteractive('df-04387262-d214-4aa1-a11a-06d221146290')\"\n",
       "            title=\"Convert this dataframe to an interactive table.\"\n",
       "            style=\"display:none;\">\n",
       "\n",
       "  <svg xmlns=\"http://www.w3.org/2000/svg\" height=\"24px\" viewBox=\"0 -960 960 960\">\n",
       "    <path d=\"M120-120v-720h720v720H120Zm60-500h600v-160H180v160Zm220 220h160v-160H400v160Zm0 220h160v-160H400v160ZM180-400h160v-160H180v160Zm440 0h160v-160H620v160ZM180-180h160v-160H180v160Zm440 0h160v-160H620v160Z\"/>\n",
       "  </svg>\n",
       "    </button>\n",
       "\n",
       "  <style>\n",
       "    .colab-df-container {\n",
       "      display:flex;\n",
       "      gap: 12px;\n",
       "    }\n",
       "\n",
       "    .colab-df-convert {\n",
       "      background-color: #E8F0FE;\n",
       "      border: none;\n",
       "      border-radius: 50%;\n",
       "      cursor: pointer;\n",
       "      display: none;\n",
       "      fill: #1967D2;\n",
       "      height: 32px;\n",
       "      padding: 0 0 0 0;\n",
       "      width: 32px;\n",
       "    }\n",
       "\n",
       "    .colab-df-convert:hover {\n",
       "      background-color: #E2EBFA;\n",
       "      box-shadow: 0px 1px 2px rgba(60, 64, 67, 0.3), 0px 1px 3px 1px rgba(60, 64, 67, 0.15);\n",
       "      fill: #174EA6;\n",
       "    }\n",
       "\n",
       "    .colab-df-buttons div {\n",
       "      margin-bottom: 4px;\n",
       "    }\n",
       "\n",
       "    [theme=dark] .colab-df-convert {\n",
       "      background-color: #3B4455;\n",
       "      fill: #D2E3FC;\n",
       "    }\n",
       "\n",
       "    [theme=dark] .colab-df-convert:hover {\n",
       "      background-color: #434B5C;\n",
       "      box-shadow: 0px 1px 3px 1px rgba(0, 0, 0, 0.15);\n",
       "      filter: drop-shadow(0px 1px 2px rgba(0, 0, 0, 0.3));\n",
       "      fill: #FFFFFF;\n",
       "    }\n",
       "  </style>\n",
       "\n",
       "    <script>\n",
       "      const buttonEl =\n",
       "        document.querySelector('#df-04387262-d214-4aa1-a11a-06d221146290 button.colab-df-convert');\n",
       "      buttonEl.style.display =\n",
       "        google.colab.kernel.accessAllowed ? 'block' : 'none';\n",
       "\n",
       "      async function convertToInteractive(key) {\n",
       "        const element = document.querySelector('#df-04387262-d214-4aa1-a11a-06d221146290');\n",
       "        const dataTable =\n",
       "          await google.colab.kernel.invokeFunction('convertToInteractive',\n",
       "                                                    [key], {});\n",
       "        if (!dataTable) return;\n",
       "\n",
       "        const docLinkHtml = 'Like what you see? Visit the ' +\n",
       "          '<a target=\"_blank\" href=https://colab.research.google.com/notebooks/data_table.ipynb>data table notebook</a>'\n",
       "          + ' to learn more about interactive tables.';\n",
       "        element.innerHTML = '';\n",
       "        dataTable['output_type'] = 'display_data';\n",
       "        await google.colab.output.renderOutput(dataTable, element);\n",
       "        const docLink = document.createElement('div');\n",
       "        docLink.innerHTML = docLinkHtml;\n",
       "        element.appendChild(docLink);\n",
       "      }\n",
       "    </script>\n",
       "  </div>\n",
       "\n",
       "\n",
       "<div id=\"df-e5fef441-f96c-479f-9ec1-ea1151772201\">\n",
       "  <button class=\"colab-df-quickchart\" onclick=\"quickchart('df-e5fef441-f96c-479f-9ec1-ea1151772201')\"\n",
       "            title=\"Suggest charts\"\n",
       "            style=\"display:none;\">\n",
       "\n",
       "<svg xmlns=\"http://www.w3.org/2000/svg\" height=\"24px\"viewBox=\"0 0 24 24\"\n",
       "     width=\"24px\">\n",
       "    <g>\n",
       "        <path d=\"M19 3H5c-1.1 0-2 .9-2 2v14c0 1.1.9 2 2 2h14c1.1 0 2-.9 2-2V5c0-1.1-.9-2-2-2zM9 17H7v-7h2v7zm4 0h-2V7h2v10zm4 0h-2v-4h2v4z\"/>\n",
       "    </g>\n",
       "</svg>\n",
       "  </button>\n",
       "\n",
       "<style>\n",
       "  .colab-df-quickchart {\n",
       "      --bg-color: #E8F0FE;\n",
       "      --fill-color: #1967D2;\n",
       "      --hover-bg-color: #E2EBFA;\n",
       "      --hover-fill-color: #174EA6;\n",
       "      --disabled-fill-color: #AAA;\n",
       "      --disabled-bg-color: #DDD;\n",
       "  }\n",
       "\n",
       "  [theme=dark] .colab-df-quickchart {\n",
       "      --bg-color: #3B4455;\n",
       "      --fill-color: #D2E3FC;\n",
       "      --hover-bg-color: #434B5C;\n",
       "      --hover-fill-color: #FFFFFF;\n",
       "      --disabled-bg-color: #3B4455;\n",
       "      --disabled-fill-color: #666;\n",
       "  }\n",
       "\n",
       "  .colab-df-quickchart {\n",
       "    background-color: var(--bg-color);\n",
       "    border: none;\n",
       "    border-radius: 50%;\n",
       "    cursor: pointer;\n",
       "    display: none;\n",
       "    fill: var(--fill-color);\n",
       "    height: 32px;\n",
       "    padding: 0;\n",
       "    width: 32px;\n",
       "  }\n",
       "\n",
       "  .colab-df-quickchart:hover {\n",
       "    background-color: var(--hover-bg-color);\n",
       "    box-shadow: 0 1px 2px rgba(60, 64, 67, 0.3), 0 1px 3px 1px rgba(60, 64, 67, 0.15);\n",
       "    fill: var(--button-hover-fill-color);\n",
       "  }\n",
       "\n",
       "  .colab-df-quickchart-complete:disabled,\n",
       "  .colab-df-quickchart-complete:disabled:hover {\n",
       "    background-color: var(--disabled-bg-color);\n",
       "    fill: var(--disabled-fill-color);\n",
       "    box-shadow: none;\n",
       "  }\n",
       "\n",
       "  .colab-df-spinner {\n",
       "    border: 2px solid var(--fill-color);\n",
       "    border-color: transparent;\n",
       "    border-bottom-color: var(--fill-color);\n",
       "    animation:\n",
       "      spin 1s steps(1) infinite;\n",
       "  }\n",
       "\n",
       "  @keyframes spin {\n",
       "    0% {\n",
       "      border-color: transparent;\n",
       "      border-bottom-color: var(--fill-color);\n",
       "      border-left-color: var(--fill-color);\n",
       "    }\n",
       "    20% {\n",
       "      border-color: transparent;\n",
       "      border-left-color: var(--fill-color);\n",
       "      border-top-color: var(--fill-color);\n",
       "    }\n",
       "    30% {\n",
       "      border-color: transparent;\n",
       "      border-left-color: var(--fill-color);\n",
       "      border-top-color: var(--fill-color);\n",
       "      border-right-color: var(--fill-color);\n",
       "    }\n",
       "    40% {\n",
       "      border-color: transparent;\n",
       "      border-right-color: var(--fill-color);\n",
       "      border-top-color: var(--fill-color);\n",
       "    }\n",
       "    60% {\n",
       "      border-color: transparent;\n",
       "      border-right-color: var(--fill-color);\n",
       "    }\n",
       "    80% {\n",
       "      border-color: transparent;\n",
       "      border-right-color: var(--fill-color);\n",
       "      border-bottom-color: var(--fill-color);\n",
       "    }\n",
       "    90% {\n",
       "      border-color: transparent;\n",
       "      border-bottom-color: var(--fill-color);\n",
       "    }\n",
       "  }\n",
       "</style>\n",
       "\n",
       "  <script>\n",
       "    async function quickchart(key) {\n",
       "      const quickchartButtonEl =\n",
       "        document.querySelector('#' + key + ' button');\n",
       "      quickchartButtonEl.disabled = true;  // To prevent multiple clicks.\n",
       "      quickchartButtonEl.classList.add('colab-df-spinner');\n",
       "      try {\n",
       "        const charts = await google.colab.kernel.invokeFunction(\n",
       "            'suggestCharts', [key], {});\n",
       "      } catch (error) {\n",
       "        console.error('Error during call to suggestCharts:', error);\n",
       "      }\n",
       "      quickchartButtonEl.classList.remove('colab-df-spinner');\n",
       "      quickchartButtonEl.classList.add('colab-df-quickchart-complete');\n",
       "    }\n",
       "    (() => {\n",
       "      let quickchartButtonEl =\n",
       "        document.querySelector('#df-e5fef441-f96c-479f-9ec1-ea1151772201 button');\n",
       "      quickchartButtonEl.style.display =\n",
       "        google.colab.kernel.accessAllowed ? 'block' : 'none';\n",
       "    })();\n",
       "  </script>\n",
       "</div>\n",
       "\n",
       "    </div>\n",
       "  </div>\n"
      ],
      "text/plain": [
       "   Transaction ID        Date Product Category             Product Name  \\\n",
       "0           10001  2024-01-01      Electronics            iPhone 14 Pro   \n",
       "1           10002  2024-01-02  Home Appliances         Dyson V11 Vacuum   \n",
       "2           10003  2024-01-03         Clothing         Levi's 501 Jeans   \n",
       "3           10004  2024-01-04            Books        The Da Vinci Code   \n",
       "4           10005  2024-01-05  Beauty Products  Neutrogena Skincare Set   \n",
       "\n",
       "   Units Sold  Unit Price  Total Revenue         Region Payment Method  \n",
       "0           2      999.99        1999.98  North America    Credit Card  \n",
       "1           1      499.99         499.99         Europe         PayPal  \n",
       "2           3       69.99         209.97           Asia     Debit Card  \n",
       "3           4       15.99          63.96  North America    Credit Card  \n",
       "4           1       89.99          89.99         Europe         PayPal  "
      ]
     },
     "execution_count": 69,
     "metadata": {},
     "output_type": "execute_result"
    }
   ],
   "source": [
    "df = pd.read_csv('/content/sales_data.csv')\n",
    "df.head(5)"
   ]
  },
  {
   "cell_type": "code",
   "execution_count": null,
   "metadata": {
    "colab": {
     "base_uri": "https://localhost:8080/",
     "height": 366
    },
    "id": "TjuQXd7pMdWK",
    "outputId": "84c58e55-2fb6-40d0-dcb0-e48aeb49cde0"
   },
   "outputs": [
    {
     "data": {
      "text/html": [
       "<div>\n",
       "<style scoped>\n",
       "    .dataframe tbody tr th:only-of-type {\n",
       "        vertical-align: middle;\n",
       "    }\n",
       "\n",
       "    .dataframe tbody tr th {\n",
       "        vertical-align: top;\n",
       "    }\n",
       "\n",
       "    .dataframe thead th {\n",
       "        text-align: right;\n",
       "    }\n",
       "</style>\n",
       "<table border=\"1\" class=\"dataframe\">\n",
       "  <thead>\n",
       "    <tr style=\"text-align: right;\">\n",
       "      <th></th>\n",
       "      <th>0</th>\n",
       "    </tr>\n",
       "  </thead>\n",
       "  <tbody>\n",
       "    <tr>\n",
       "      <th>Transaction ID</th>\n",
       "      <td>int64</td>\n",
       "    </tr>\n",
       "    <tr>\n",
       "      <th>Date</th>\n",
       "      <td>object</td>\n",
       "    </tr>\n",
       "    <tr>\n",
       "      <th>Product Category</th>\n",
       "      <td>object</td>\n",
       "    </tr>\n",
       "    <tr>\n",
       "      <th>Product Name</th>\n",
       "      <td>object</td>\n",
       "    </tr>\n",
       "    <tr>\n",
       "      <th>Units Sold</th>\n",
       "      <td>int64</td>\n",
       "    </tr>\n",
       "    <tr>\n",
       "      <th>Unit Price</th>\n",
       "      <td>float64</td>\n",
       "    </tr>\n",
       "    <tr>\n",
       "      <th>Total Revenue</th>\n",
       "      <td>float64</td>\n",
       "    </tr>\n",
       "    <tr>\n",
       "      <th>Region</th>\n",
       "      <td>object</td>\n",
       "    </tr>\n",
       "    <tr>\n",
       "      <th>Payment Method</th>\n",
       "      <td>object</td>\n",
       "    </tr>\n",
       "  </tbody>\n",
       "</table>\n",
       "</div><br><label><b>dtype:</b> object</label>"
      ],
      "text/plain": [
       "Transaction ID        int64\n",
       "Date                 object\n",
       "Product Category     object\n",
       "Product Name         object\n",
       "Units Sold            int64\n",
       "Unit Price          float64\n",
       "Total Revenue       float64\n",
       "Region               object\n",
       "Payment Method       object\n",
       "dtype: object"
      ]
     },
     "execution_count": 70,
     "metadata": {},
     "output_type": "execute_result"
    }
   ],
   "source": [
    "## Display the data types of each column\n",
    "df.dtypes"
   ]
  },
  {
   "cell_type": "code",
   "execution_count": null,
   "metadata": {
    "colab": {
     "base_uri": "https://localhost:8080/",
     "height": 300
    },
    "id": "LD2IHB_oMo4g",
    "outputId": "1936a2f5-e242-468d-d090-24b8f73e18c2"
   },
   "outputs": [
    {
     "data": {
      "application/vnd.google.colaboratory.intrinsic+json": {
       "summary": "{\n  \"name\": \"df\",\n  \"rows\": 8,\n  \"fields\": [\n    {\n      \"column\": \"Transaction ID\",\n      \"properties\": {\n        \"dtype\": \"number\",\n        \"std\": 4614.040851266818,\n        \"min\": 69.42621983083913,\n        \"max\": 10240.0,\n        \"num_unique_values\": 7,\n        \"samples\": [\n          240.0,\n          10120.5,\n          10180.25\n        ],\n        \"semantic_type\": \"\",\n        \"description\": \"\"\n      }\n    },\n    {\n      \"column\": \"Units Sold\",\n      \"properties\": {\n        \"dtype\": \"number\",\n        \"std\": 83.87075705616478,\n        \"min\": 1.0,\n        \"max\": 240.0,\n        \"num_unique_values\": 7,\n        \"samples\": [\n          240.0,\n          2.158333333333333,\n          3.0\n        ],\n        \"semantic_type\": \"\",\n        \"description\": \"\"\n      }\n    },\n    {\n      \"column\": \"Unit Price\",\n      \"properties\": {\n        \"dtype\": \"number\",\n        \"std\": 1321.4136221172519,\n        \"min\": 6.5,\n        \"max\": 3899.99,\n        \"num_unique_values\": 8,\n        \"samples\": [\n          236.3955833333333,\n          89.99,\n          240.0\n        ],\n        \"semantic_type\": \"\",\n        \"description\": \"\"\n      }\n    },\n    {\n      \"column\": \"Total Revenue\",\n      \"properties\": {\n        \"dtype\": \"number\",\n        \"std\": 1302.6221043037256,\n        \"min\": 6.5,\n        \"max\": 3899.99,\n        \"num_unique_values\": 8,\n        \"samples\": [\n          335.699375,\n          179.97,\n          240.0\n        ],\n        \"semantic_type\": \"\",\n        \"description\": \"\"\n      }\n    }\n  ]\n}",
       "type": "dataframe"
      },
      "text/html": [
       "\n",
       "  <div id=\"df-16571b4b-ee8f-4bff-9a69-ab8e79c5fc9d\" class=\"colab-df-container\">\n",
       "    <div>\n",
       "<style scoped>\n",
       "    .dataframe tbody tr th:only-of-type {\n",
       "        vertical-align: middle;\n",
       "    }\n",
       "\n",
       "    .dataframe tbody tr th {\n",
       "        vertical-align: top;\n",
       "    }\n",
       "\n",
       "    .dataframe thead th {\n",
       "        text-align: right;\n",
       "    }\n",
       "</style>\n",
       "<table border=\"1\" class=\"dataframe\">\n",
       "  <thead>\n",
       "    <tr style=\"text-align: right;\">\n",
       "      <th></th>\n",
       "      <th>Transaction ID</th>\n",
       "      <th>Units Sold</th>\n",
       "      <th>Unit Price</th>\n",
       "      <th>Total Revenue</th>\n",
       "    </tr>\n",
       "  </thead>\n",
       "  <tbody>\n",
       "    <tr>\n",
       "      <th>count</th>\n",
       "      <td>240.00000</td>\n",
       "      <td>240.000000</td>\n",
       "      <td>240.000000</td>\n",
       "      <td>240.000000</td>\n",
       "    </tr>\n",
       "    <tr>\n",
       "      <th>mean</th>\n",
       "      <td>10120.50000</td>\n",
       "      <td>2.158333</td>\n",
       "      <td>236.395583</td>\n",
       "      <td>335.699375</td>\n",
       "    </tr>\n",
       "    <tr>\n",
       "      <th>std</th>\n",
       "      <td>69.42622</td>\n",
       "      <td>1.322454</td>\n",
       "      <td>429.446695</td>\n",
       "      <td>485.804469</td>\n",
       "    </tr>\n",
       "    <tr>\n",
       "      <th>min</th>\n",
       "      <td>10001.00000</td>\n",
       "      <td>1.000000</td>\n",
       "      <td>6.500000</td>\n",
       "      <td>6.500000</td>\n",
       "    </tr>\n",
       "    <tr>\n",
       "      <th>25%</th>\n",
       "      <td>10060.75000</td>\n",
       "      <td>1.000000</td>\n",
       "      <td>29.500000</td>\n",
       "      <td>62.965000</td>\n",
       "    </tr>\n",
       "    <tr>\n",
       "      <th>50%</th>\n",
       "      <td>10120.50000</td>\n",
       "      <td>2.000000</td>\n",
       "      <td>89.990000</td>\n",
       "      <td>179.970000</td>\n",
       "    </tr>\n",
       "    <tr>\n",
       "      <th>75%</th>\n",
       "      <td>10180.25000</td>\n",
       "      <td>3.000000</td>\n",
       "      <td>249.990000</td>\n",
       "      <td>399.225000</td>\n",
       "    </tr>\n",
       "    <tr>\n",
       "      <th>max</th>\n",
       "      <td>10240.00000</td>\n",
       "      <td>10.000000</td>\n",
       "      <td>3899.990000</td>\n",
       "      <td>3899.990000</td>\n",
       "    </tr>\n",
       "  </tbody>\n",
       "</table>\n",
       "</div>\n",
       "    <div class=\"colab-df-buttons\">\n",
       "\n",
       "  <div class=\"colab-df-container\">\n",
       "    <button class=\"colab-df-convert\" onclick=\"convertToInteractive('df-16571b4b-ee8f-4bff-9a69-ab8e79c5fc9d')\"\n",
       "            title=\"Convert this dataframe to an interactive table.\"\n",
       "            style=\"display:none;\">\n",
       "\n",
       "  <svg xmlns=\"http://www.w3.org/2000/svg\" height=\"24px\" viewBox=\"0 -960 960 960\">\n",
       "    <path d=\"M120-120v-720h720v720H120Zm60-500h600v-160H180v160Zm220 220h160v-160H400v160Zm0 220h160v-160H400v160ZM180-400h160v-160H180v160Zm440 0h160v-160H620v160ZM180-180h160v-160H180v160Zm440 0h160v-160H620v160Z\"/>\n",
       "  </svg>\n",
       "    </button>\n",
       "\n",
       "  <style>\n",
       "    .colab-df-container {\n",
       "      display:flex;\n",
       "      gap: 12px;\n",
       "    }\n",
       "\n",
       "    .colab-df-convert {\n",
       "      background-color: #E8F0FE;\n",
       "      border: none;\n",
       "      border-radius: 50%;\n",
       "      cursor: pointer;\n",
       "      display: none;\n",
       "      fill: #1967D2;\n",
       "      height: 32px;\n",
       "      padding: 0 0 0 0;\n",
       "      width: 32px;\n",
       "    }\n",
       "\n",
       "    .colab-df-convert:hover {\n",
       "      background-color: #E2EBFA;\n",
       "      box-shadow: 0px 1px 2px rgba(60, 64, 67, 0.3), 0px 1px 3px 1px rgba(60, 64, 67, 0.15);\n",
       "      fill: #174EA6;\n",
       "    }\n",
       "\n",
       "    .colab-df-buttons div {\n",
       "      margin-bottom: 4px;\n",
       "    }\n",
       "\n",
       "    [theme=dark] .colab-df-convert {\n",
       "      background-color: #3B4455;\n",
       "      fill: #D2E3FC;\n",
       "    }\n",
       "\n",
       "    [theme=dark] .colab-df-convert:hover {\n",
       "      background-color: #434B5C;\n",
       "      box-shadow: 0px 1px 3px 1px rgba(0, 0, 0, 0.15);\n",
       "      filter: drop-shadow(0px 1px 2px rgba(0, 0, 0, 0.3));\n",
       "      fill: #FFFFFF;\n",
       "    }\n",
       "  </style>\n",
       "\n",
       "    <script>\n",
       "      const buttonEl =\n",
       "        document.querySelector('#df-16571b4b-ee8f-4bff-9a69-ab8e79c5fc9d button.colab-df-convert');\n",
       "      buttonEl.style.display =\n",
       "        google.colab.kernel.accessAllowed ? 'block' : 'none';\n",
       "\n",
       "      async function convertToInteractive(key) {\n",
       "        const element = document.querySelector('#df-16571b4b-ee8f-4bff-9a69-ab8e79c5fc9d');\n",
       "        const dataTable =\n",
       "          await google.colab.kernel.invokeFunction('convertToInteractive',\n",
       "                                                    [key], {});\n",
       "        if (!dataTable) return;\n",
       "\n",
       "        const docLinkHtml = 'Like what you see? Visit the ' +\n",
       "          '<a target=\"_blank\" href=https://colab.research.google.com/notebooks/data_table.ipynb>data table notebook</a>'\n",
       "          + ' to learn more about interactive tables.';\n",
       "        element.innerHTML = '';\n",
       "        dataTable['output_type'] = 'display_data';\n",
       "        await google.colab.output.renderOutput(dataTable, element);\n",
       "        const docLink = document.createElement('div');\n",
       "        docLink.innerHTML = docLinkHtml;\n",
       "        element.appendChild(docLink);\n",
       "      }\n",
       "    </script>\n",
       "  </div>\n",
       "\n",
       "\n",
       "<div id=\"df-4e128d53-631f-4d29-ae77-a281301af8bd\">\n",
       "  <button class=\"colab-df-quickchart\" onclick=\"quickchart('df-4e128d53-631f-4d29-ae77-a281301af8bd')\"\n",
       "            title=\"Suggest charts\"\n",
       "            style=\"display:none;\">\n",
       "\n",
       "<svg xmlns=\"http://www.w3.org/2000/svg\" height=\"24px\"viewBox=\"0 0 24 24\"\n",
       "     width=\"24px\">\n",
       "    <g>\n",
       "        <path d=\"M19 3H5c-1.1 0-2 .9-2 2v14c0 1.1.9 2 2 2h14c1.1 0 2-.9 2-2V5c0-1.1-.9-2-2-2zM9 17H7v-7h2v7zm4 0h-2V7h2v10zm4 0h-2v-4h2v4z\"/>\n",
       "    </g>\n",
       "</svg>\n",
       "  </button>\n",
       "\n",
       "<style>\n",
       "  .colab-df-quickchart {\n",
       "      --bg-color: #E8F0FE;\n",
       "      --fill-color: #1967D2;\n",
       "      --hover-bg-color: #E2EBFA;\n",
       "      --hover-fill-color: #174EA6;\n",
       "      --disabled-fill-color: #AAA;\n",
       "      --disabled-bg-color: #DDD;\n",
       "  }\n",
       "\n",
       "  [theme=dark] .colab-df-quickchart {\n",
       "      --bg-color: #3B4455;\n",
       "      --fill-color: #D2E3FC;\n",
       "      --hover-bg-color: #434B5C;\n",
       "      --hover-fill-color: #FFFFFF;\n",
       "      --disabled-bg-color: #3B4455;\n",
       "      --disabled-fill-color: #666;\n",
       "  }\n",
       "\n",
       "  .colab-df-quickchart {\n",
       "    background-color: var(--bg-color);\n",
       "    border: none;\n",
       "    border-radius: 50%;\n",
       "    cursor: pointer;\n",
       "    display: none;\n",
       "    fill: var(--fill-color);\n",
       "    height: 32px;\n",
       "    padding: 0;\n",
       "    width: 32px;\n",
       "  }\n",
       "\n",
       "  .colab-df-quickchart:hover {\n",
       "    background-color: var(--hover-bg-color);\n",
       "    box-shadow: 0 1px 2px rgba(60, 64, 67, 0.3), 0 1px 3px 1px rgba(60, 64, 67, 0.15);\n",
       "    fill: var(--button-hover-fill-color);\n",
       "  }\n",
       "\n",
       "  .colab-df-quickchart-complete:disabled,\n",
       "  .colab-df-quickchart-complete:disabled:hover {\n",
       "    background-color: var(--disabled-bg-color);\n",
       "    fill: var(--disabled-fill-color);\n",
       "    box-shadow: none;\n",
       "  }\n",
       "\n",
       "  .colab-df-spinner {\n",
       "    border: 2px solid var(--fill-color);\n",
       "    border-color: transparent;\n",
       "    border-bottom-color: var(--fill-color);\n",
       "    animation:\n",
       "      spin 1s steps(1) infinite;\n",
       "  }\n",
       "\n",
       "  @keyframes spin {\n",
       "    0% {\n",
       "      border-color: transparent;\n",
       "      border-bottom-color: var(--fill-color);\n",
       "      border-left-color: var(--fill-color);\n",
       "    }\n",
       "    20% {\n",
       "      border-color: transparent;\n",
       "      border-left-color: var(--fill-color);\n",
       "      border-top-color: var(--fill-color);\n",
       "    }\n",
       "    30% {\n",
       "      border-color: transparent;\n",
       "      border-left-color: var(--fill-color);\n",
       "      border-top-color: var(--fill-color);\n",
       "      border-right-color: var(--fill-color);\n",
       "    }\n",
       "    40% {\n",
       "      border-color: transparent;\n",
       "      border-right-color: var(--fill-color);\n",
       "      border-top-color: var(--fill-color);\n",
       "    }\n",
       "    60% {\n",
       "      border-color: transparent;\n",
       "      border-right-color: var(--fill-color);\n",
       "    }\n",
       "    80% {\n",
       "      border-color: transparent;\n",
       "      border-right-color: var(--fill-color);\n",
       "      border-bottom-color: var(--fill-color);\n",
       "    }\n",
       "    90% {\n",
       "      border-color: transparent;\n",
       "      border-bottom-color: var(--fill-color);\n",
       "    }\n",
       "  }\n",
       "</style>\n",
       "\n",
       "  <script>\n",
       "    async function quickchart(key) {\n",
       "      const quickchartButtonEl =\n",
       "        document.querySelector('#' + key + ' button');\n",
       "      quickchartButtonEl.disabled = true;  // To prevent multiple clicks.\n",
       "      quickchartButtonEl.classList.add('colab-df-spinner');\n",
       "      try {\n",
       "        const charts = await google.colab.kernel.invokeFunction(\n",
       "            'suggestCharts', [key], {});\n",
       "      } catch (error) {\n",
       "        console.error('Error during call to suggestCharts:', error);\n",
       "      }\n",
       "      quickchartButtonEl.classList.remove('colab-df-spinner');\n",
       "      quickchartButtonEl.classList.add('colab-df-quickchart-complete');\n",
       "    }\n",
       "    (() => {\n",
       "      let quickchartButtonEl =\n",
       "        document.querySelector('#df-4e128d53-631f-4d29-ae77-a281301af8bd button');\n",
       "      quickchartButtonEl.style.display =\n",
       "        google.colab.kernel.accessAllowed ? 'block' : 'none';\n",
       "    })();\n",
       "  </script>\n",
       "</div>\n",
       "\n",
       "    </div>\n",
       "  </div>\n"
      ],
      "text/plain": [
       "       Transaction ID  Units Sold   Unit Price  Total Revenue\n",
       "count       240.00000  240.000000   240.000000     240.000000\n",
       "mean      10120.50000    2.158333   236.395583     335.699375\n",
       "std          69.42622    1.322454   429.446695     485.804469\n",
       "min       10001.00000    1.000000     6.500000       6.500000\n",
       "25%       10060.75000    1.000000    29.500000      62.965000\n",
       "50%       10120.50000    2.000000    89.990000     179.970000\n",
       "75%       10180.25000    3.000000   249.990000     399.225000\n",
       "max       10240.00000   10.000000  3899.990000    3899.990000"
      ]
     },
     "execution_count": 71,
     "metadata": {},
     "output_type": "execute_result"
    }
   ],
   "source": [
    "## Describe the DataFrame\n",
    "df.describe()"
   ]
  },
  {
   "cell_type": "code",
   "execution_count": null,
   "metadata": {
    "colab": {
     "base_uri": "https://localhost:8080/",
     "height": 366
    },
    "id": "KQvykrkSM8Wa",
    "outputId": "50dca06d-43f9-4f41-9dc6-d58b25ac73e7"
   },
   "outputs": [
    {
     "data": {
      "text/html": [
       "<div>\n",
       "<style scoped>\n",
       "    .dataframe tbody tr th:only-of-type {\n",
       "        vertical-align: middle;\n",
       "    }\n",
       "\n",
       "    .dataframe tbody tr th {\n",
       "        vertical-align: top;\n",
       "    }\n",
       "\n",
       "    .dataframe thead th {\n",
       "        text-align: right;\n",
       "    }\n",
       "</style>\n",
       "<table border=\"1\" class=\"dataframe\">\n",
       "  <thead>\n",
       "    <tr style=\"text-align: right;\">\n",
       "      <th></th>\n",
       "      <th>0</th>\n",
       "    </tr>\n",
       "  </thead>\n",
       "  <tbody>\n",
       "    <tr>\n",
       "      <th>Transaction ID</th>\n",
       "      <td>False</td>\n",
       "    </tr>\n",
       "    <tr>\n",
       "      <th>Date</th>\n",
       "      <td>False</td>\n",
       "    </tr>\n",
       "    <tr>\n",
       "      <th>Product Category</th>\n",
       "      <td>False</td>\n",
       "    </tr>\n",
       "    <tr>\n",
       "      <th>Product Name</th>\n",
       "      <td>False</td>\n",
       "    </tr>\n",
       "    <tr>\n",
       "      <th>Units Sold</th>\n",
       "      <td>False</td>\n",
       "    </tr>\n",
       "    <tr>\n",
       "      <th>Unit Price</th>\n",
       "      <td>False</td>\n",
       "    </tr>\n",
       "    <tr>\n",
       "      <th>Total Revenue</th>\n",
       "      <td>False</td>\n",
       "    </tr>\n",
       "    <tr>\n",
       "      <th>Region</th>\n",
       "      <td>False</td>\n",
       "    </tr>\n",
       "    <tr>\n",
       "      <th>Payment Method</th>\n",
       "      <td>False</td>\n",
       "    </tr>\n",
       "  </tbody>\n",
       "</table>\n",
       "</div><br><label><b>dtype:</b> bool</label>"
      ],
      "text/plain": [
       "Transaction ID      False\n",
       "Date                False\n",
       "Product Category    False\n",
       "Product Name        False\n",
       "Units Sold          False\n",
       "Unit Price          False\n",
       "Total Revenue       False\n",
       "Region              False\n",
       "Payment Method      False\n",
       "dtype: bool"
      ]
     },
     "execution_count": 76,
     "metadata": {},
     "output_type": "execute_result"
    }
   ],
   "source": [
    "## Handling Missing Values\n",
    "df.isnull().any()"
   ]
  },
  {
   "cell_type": "code",
   "execution_count": null,
   "metadata": {
    "colab": {
     "base_uri": "https://localhost:8080/",
     "height": 366
    },
    "id": "BPB_YPYpNl3K",
    "outputId": "1f51cab5-e42f-4fe3-e884-0e23076446d9"
   },
   "outputs": [
    {
     "data": {
      "text/html": [
       "<div>\n",
       "<style scoped>\n",
       "    .dataframe tbody tr th:only-of-type {\n",
       "        vertical-align: middle;\n",
       "    }\n",
       "\n",
       "    .dataframe tbody tr th {\n",
       "        vertical-align: top;\n",
       "    }\n",
       "\n",
       "    .dataframe thead th {\n",
       "        text-align: right;\n",
       "    }\n",
       "</style>\n",
       "<table border=\"1\" class=\"dataframe\">\n",
       "  <thead>\n",
       "    <tr style=\"text-align: right;\">\n",
       "      <th></th>\n",
       "      <th>0</th>\n",
       "    </tr>\n",
       "  </thead>\n",
       "  <tbody>\n",
       "    <tr>\n",
       "      <th>Transaction ID</th>\n",
       "      <td>0</td>\n",
       "    </tr>\n",
       "    <tr>\n",
       "      <th>Date</th>\n",
       "      <td>0</td>\n",
       "    </tr>\n",
       "    <tr>\n",
       "      <th>Product Category</th>\n",
       "      <td>0</td>\n",
       "    </tr>\n",
       "    <tr>\n",
       "      <th>Product Name</th>\n",
       "      <td>0</td>\n",
       "    </tr>\n",
       "    <tr>\n",
       "      <th>Units Sold</th>\n",
       "      <td>0</td>\n",
       "    </tr>\n",
       "    <tr>\n",
       "      <th>Unit Price</th>\n",
       "      <td>0</td>\n",
       "    </tr>\n",
       "    <tr>\n",
       "      <th>Total Revenue</th>\n",
       "      <td>0</td>\n",
       "    </tr>\n",
       "    <tr>\n",
       "      <th>Region</th>\n",
       "      <td>0</td>\n",
       "    </tr>\n",
       "    <tr>\n",
       "      <th>Payment Method</th>\n",
       "      <td>0</td>\n",
       "    </tr>\n",
       "  </tbody>\n",
       "</table>\n",
       "</div><br><label><b>dtype:</b> int64</label>"
      ],
      "text/plain": [
       "Transaction ID      0\n",
       "Date                0\n",
       "Product Category    0\n",
       "Product Name        0\n",
       "Units Sold          0\n",
       "Unit Price          0\n",
       "Total Revenue       0\n",
       "Region              0\n",
       "Payment Method      0\n",
       "dtype: int64"
      ]
     },
     "execution_count": 77,
     "metadata": {},
     "output_type": "execute_result"
    }
   ],
   "source": [
    "df.isnull().sum()"
   ]
  },
  {
   "cell_type": "code",
   "execution_count": null,
   "metadata": {
    "id": "5Uf_ZDZmN6_Z"
   },
   "outputs": [],
   "source": [
    "df_filled = df.fillna(0)"
   ]
  },
  {
   "cell_type": "code",
   "execution_count": null,
   "metadata": {
    "colab": {
     "base_uri": "https://localhost:8080/",
     "height": 366
    },
    "id": "3X7TiwOCOlMK",
    "outputId": "a5850d10-2c00-4da3-be1c-8e9b8bbd23cd"
   },
   "outputs": [
    {
     "data": {
      "text/html": [
       "<div>\n",
       "<style scoped>\n",
       "    .dataframe tbody tr th:only-of-type {\n",
       "        vertical-align: middle;\n",
       "    }\n",
       "\n",
       "    .dataframe tbody tr th {\n",
       "        vertical-align: top;\n",
       "    }\n",
       "\n",
       "    .dataframe thead th {\n",
       "        text-align: right;\n",
       "    }\n",
       "</style>\n",
       "<table border=\"1\" class=\"dataframe\">\n",
       "  <thead>\n",
       "    <tr style=\"text-align: right;\">\n",
       "      <th></th>\n",
       "      <th>0</th>\n",
       "    </tr>\n",
       "  </thead>\n",
       "  <tbody>\n",
       "    <tr>\n",
       "      <th>Transaction ID</th>\n",
       "      <td>0</td>\n",
       "    </tr>\n",
       "    <tr>\n",
       "      <th>Date</th>\n",
       "      <td>0</td>\n",
       "    </tr>\n",
       "    <tr>\n",
       "      <th>Product Category</th>\n",
       "      <td>0</td>\n",
       "    </tr>\n",
       "    <tr>\n",
       "      <th>Product Name</th>\n",
       "      <td>0</td>\n",
       "    </tr>\n",
       "    <tr>\n",
       "      <th>Units Sold</th>\n",
       "      <td>0</td>\n",
       "    </tr>\n",
       "    <tr>\n",
       "      <th>Unit Price</th>\n",
       "      <td>0</td>\n",
       "    </tr>\n",
       "    <tr>\n",
       "      <th>Total Revenue</th>\n",
       "      <td>0</td>\n",
       "    </tr>\n",
       "    <tr>\n",
       "      <th>Region</th>\n",
       "      <td>0</td>\n",
       "    </tr>\n",
       "    <tr>\n",
       "      <th>Payment Method</th>\n",
       "      <td>0</td>\n",
       "    </tr>\n",
       "  </tbody>\n",
       "</table>\n",
       "</div><br><label><b>dtype:</b> int64</label>"
      ],
      "text/plain": [
       "Transaction ID      0\n",
       "Date                0\n",
       "Product Category    0\n",
       "Product Name        0\n",
       "Units Sold          0\n",
       "Unit Price          0\n",
       "Total Revenue       0\n",
       "Region              0\n",
       "Payment Method      0\n",
       "dtype: int64"
      ]
     },
     "execution_count": 79,
     "metadata": {},
     "output_type": "execute_result"
    }
   ],
   "source": [
    "df_filled.isnull().sum()"
   ]
  },
  {
   "cell_type": "code",
   "execution_count": null,
   "metadata": {
    "colab": {
     "base_uri": "https://localhost:8080/",
     "height": 164
    },
    "id": "8JGdDvk6O7Bh",
    "outputId": "58dac8cd-95a0-49ef-cdb7-d08b19258959"
   },
   "outputs": [
    {
     "data": {
      "application/vnd.google.colaboratory.intrinsic+json": {
       "summary": "{\n  \"name\": \"df\",\n  \"rows\": 240,\n  \"fields\": [\n    {\n      \"column\": \"Transaction ID\",\n      \"properties\": {\n        \"dtype\": \"number\",\n        \"std\": 69,\n        \"min\": 10001,\n        \"max\": 10240,\n        \"num_unique_values\": 240,\n        \"samples\": [\n          10025,\n          10007,\n          10094\n        ],\n        \"semantic_type\": \"\",\n        \"description\": \"\"\n      }\n    },\n    {\n      \"column\": \"Date\",\n      \"properties\": {\n        \"dtype\": \"object\",\n        \"num_unique_values\": 240,\n        \"samples\": [\n          \"2024-01-25\",\n          \"2024-01-07\",\n          \"2024-04-03\"\n        ],\n        \"semantic_type\": \"\",\n        \"description\": \"\"\n      }\n    },\n    {\n      \"column\": \"Product Category\",\n      \"properties\": {\n        \"dtype\": \"category\",\n        \"num_unique_values\": 6,\n        \"samples\": [\n          \"Electronics\",\n          \"Home Appliances\",\n          \"Sports\"\n        ],\n        \"semantic_type\": \"\",\n        \"description\": \"\"\n      }\n    },\n    {\n      \"column\": \"Product Name\",\n      \"properties\": {\n        \"dtype\": \"string\",\n        \"num_unique_values\": 232,\n        \"samples\": [\n          \"The Ordinary Caffeine Solution 5% + EGCG\",\n          \"Samsung QLED 4K TV\",\n          \"Dune by Frank Herbert\"\n        ],\n        \"semantic_type\": \"\",\n        \"description\": \"\"\n      }\n    },\n    {\n      \"column\": \"Units Sold\",\n      \"properties\": {\n        \"dtype\": \"number\",\n        \"std\": 1,\n        \"min\": 1,\n        \"max\": 10,\n        \"num_unique_values\": 7,\n        \"samples\": [\n          2,\n          1,\n          6\n        ],\n        \"semantic_type\": \"\",\n        \"description\": \"\"\n      }\n    },\n    {\n      \"column\": \"Unit Price\",\n      \"properties\": {\n        \"dtype\": \"number\",\n        \"std\": 429.4466949104776,\n        \"min\": 6.5,\n        \"max\": 3899.99,\n        \"num_unique_values\": 117,\n        \"samples\": [\n          219.99,\n          89.99,\n          79.99\n        ],\n        \"semantic_type\": \"\",\n        \"description\": \"\"\n      }\n    },\n    {\n      \"column\": \"Total Revenue\",\n      \"properties\": {\n        \"dtype\": \"number\",\n        \"std\": 485.80446856513214,\n        \"min\": 6.5,\n        \"max\": 3899.99,\n        \"num_unique_values\": 173,\n        \"samples\": [\n          6.7,\n          130.0,\n          15.0\n        ],\n        \"semantic_type\": \"\",\n        \"description\": \"\"\n      }\n    },\n    {\n      \"column\": \"Region\",\n      \"properties\": {\n        \"dtype\": \"category\",\n        \"num_unique_values\": 3,\n        \"samples\": [\n          \"North America\",\n          \"Europe\",\n          \"Asia\"\n        ],\n        \"semantic_type\": \"\",\n        \"description\": \"\"\n      }\n    },\n    {\n      \"column\": \"Payment Method\",\n      \"properties\": {\n        \"dtype\": \"category\",\n        \"num_unique_values\": 3,\n        \"samples\": [\n          \"Credit Card\",\n          \"PayPal\",\n          \"Debit Card\"\n        ],\n        \"semantic_type\": \"\",\n        \"description\": \"\"\n      }\n    }\n  ]\n}",
       "type": "dataframe",
       "variable_name": "df"
      },
      "text/html": [
       "\n",
       "  <div id=\"df-f5781860-4fb1-4efb-aaea-baecf602fa54\" class=\"colab-df-container\">\n",
       "    <div>\n",
       "<style scoped>\n",
       "    .dataframe tbody tr th:only-of-type {\n",
       "        vertical-align: middle;\n",
       "    }\n",
       "\n",
       "    .dataframe tbody tr th {\n",
       "        vertical-align: top;\n",
       "    }\n",
       "\n",
       "    .dataframe thead th {\n",
       "        text-align: right;\n",
       "    }\n",
       "</style>\n",
       "<table border=\"1\" class=\"dataframe\">\n",
       "  <thead>\n",
       "    <tr style=\"text-align: right;\">\n",
       "      <th></th>\n",
       "      <th>Transaction ID</th>\n",
       "      <th>Date</th>\n",
       "      <th>Product Category</th>\n",
       "      <th>Product Name</th>\n",
       "      <th>Units Sold</th>\n",
       "      <th>Unit Price</th>\n",
       "      <th>Total Revenue</th>\n",
       "      <th>Region</th>\n",
       "      <th>Payment Method</th>\n",
       "    </tr>\n",
       "  </thead>\n",
       "  <tbody>\n",
       "    <tr>\n",
       "      <th>0</th>\n",
       "      <td>10001</td>\n",
       "      <td>2024-01-01</td>\n",
       "      <td>Electronics</td>\n",
       "      <td>iPhone 14 Pro</td>\n",
       "      <td>2</td>\n",
       "      <td>999.99</td>\n",
       "      <td>1999.98</td>\n",
       "      <td>North America</td>\n",
       "      <td>Credit Card</td>\n",
       "    </tr>\n",
       "    <tr>\n",
       "      <th>1</th>\n",
       "      <td>10002</td>\n",
       "      <td>2024-01-02</td>\n",
       "      <td>Home Appliances</td>\n",
       "      <td>Dyson V11 Vacuum</td>\n",
       "      <td>1</td>\n",
       "      <td>499.99</td>\n",
       "      <td>499.99</td>\n",
       "      <td>Europe</td>\n",
       "      <td>PayPal</td>\n",
       "    </tr>\n",
       "  </tbody>\n",
       "</table>\n",
       "</div>\n",
       "    <div class=\"colab-df-buttons\">\n",
       "\n",
       "  <div class=\"colab-df-container\">\n",
       "    <button class=\"colab-df-convert\" onclick=\"convertToInteractive('df-f5781860-4fb1-4efb-aaea-baecf602fa54')\"\n",
       "            title=\"Convert this dataframe to an interactive table.\"\n",
       "            style=\"display:none;\">\n",
       "\n",
       "  <svg xmlns=\"http://www.w3.org/2000/svg\" height=\"24px\" viewBox=\"0 -960 960 960\">\n",
       "    <path d=\"M120-120v-720h720v720H120Zm60-500h600v-160H180v160Zm220 220h160v-160H400v160Zm0 220h160v-160H400v160ZM180-400h160v-160H180v160Zm440 0h160v-160H620v160ZM180-180h160v-160H180v160Zm440 0h160v-160H620v160Z\"/>\n",
       "  </svg>\n",
       "    </button>\n",
       "\n",
       "  <style>\n",
       "    .colab-df-container {\n",
       "      display:flex;\n",
       "      gap: 12px;\n",
       "    }\n",
       "\n",
       "    .colab-df-convert {\n",
       "      background-color: #E8F0FE;\n",
       "      border: none;\n",
       "      border-radius: 50%;\n",
       "      cursor: pointer;\n",
       "      display: none;\n",
       "      fill: #1967D2;\n",
       "      height: 32px;\n",
       "      padding: 0 0 0 0;\n",
       "      width: 32px;\n",
       "    }\n",
       "\n",
       "    .colab-df-convert:hover {\n",
       "      background-color: #E2EBFA;\n",
       "      box-shadow: 0px 1px 2px rgba(60, 64, 67, 0.3), 0px 1px 3px 1px rgba(60, 64, 67, 0.15);\n",
       "      fill: #174EA6;\n",
       "    }\n",
       "\n",
       "    .colab-df-buttons div {\n",
       "      margin-bottom: 4px;\n",
       "    }\n",
       "\n",
       "    [theme=dark] .colab-df-convert {\n",
       "      background-color: #3B4455;\n",
       "      fill: #D2E3FC;\n",
       "    }\n",
       "\n",
       "    [theme=dark] .colab-df-convert:hover {\n",
       "      background-color: #434B5C;\n",
       "      box-shadow: 0px 1px 3px 1px rgba(0, 0, 0, 0.15);\n",
       "      filter: drop-shadow(0px 1px 2px rgba(0, 0, 0, 0.3));\n",
       "      fill: #FFFFFF;\n",
       "    }\n",
       "  </style>\n",
       "\n",
       "    <script>\n",
       "      const buttonEl =\n",
       "        document.querySelector('#df-f5781860-4fb1-4efb-aaea-baecf602fa54 button.colab-df-convert');\n",
       "      buttonEl.style.display =\n",
       "        google.colab.kernel.accessAllowed ? 'block' : 'none';\n",
       "\n",
       "      async function convertToInteractive(key) {\n",
       "        const element = document.querySelector('#df-f5781860-4fb1-4efb-aaea-baecf602fa54');\n",
       "        const dataTable =\n",
       "          await google.colab.kernel.invokeFunction('convertToInteractive',\n",
       "                                                    [key], {});\n",
       "        if (!dataTable) return;\n",
       "\n",
       "        const docLinkHtml = 'Like what you see? Visit the ' +\n",
       "          '<a target=\"_blank\" href=https://colab.research.google.com/notebooks/data_table.ipynb>data table notebook</a>'\n",
       "          + ' to learn more about interactive tables.';\n",
       "        element.innerHTML = '';\n",
       "        dataTable['output_type'] = 'display_data';\n",
       "        await google.colab.output.renderOutput(dataTable, element);\n",
       "        const docLink = document.createElement('div');\n",
       "        docLink.innerHTML = docLinkHtml;\n",
       "        element.appendChild(docLink);\n",
       "      }\n",
       "    </script>\n",
       "  </div>\n",
       "\n",
       "\n",
       "<div id=\"df-892243b6-f3ff-4480-aa0a-f098a33c5e27\">\n",
       "  <button class=\"colab-df-quickchart\" onclick=\"quickchart('df-892243b6-f3ff-4480-aa0a-f098a33c5e27')\"\n",
       "            title=\"Suggest charts\"\n",
       "            style=\"display:none;\">\n",
       "\n",
       "<svg xmlns=\"http://www.w3.org/2000/svg\" height=\"24px\"viewBox=\"0 0 24 24\"\n",
       "     width=\"24px\">\n",
       "    <g>\n",
       "        <path d=\"M19 3H5c-1.1 0-2 .9-2 2v14c0 1.1.9 2 2 2h14c1.1 0 2-.9 2-2V5c0-1.1-.9-2-2-2zM9 17H7v-7h2v7zm4 0h-2V7h2v10zm4 0h-2v-4h2v4z\"/>\n",
       "    </g>\n",
       "</svg>\n",
       "  </button>\n",
       "\n",
       "<style>\n",
       "  .colab-df-quickchart {\n",
       "      --bg-color: #E8F0FE;\n",
       "      --fill-color: #1967D2;\n",
       "      --hover-bg-color: #E2EBFA;\n",
       "      --hover-fill-color: #174EA6;\n",
       "      --disabled-fill-color: #AAA;\n",
       "      --disabled-bg-color: #DDD;\n",
       "  }\n",
       "\n",
       "  [theme=dark] .colab-df-quickchart {\n",
       "      --bg-color: #3B4455;\n",
       "      --fill-color: #D2E3FC;\n",
       "      --hover-bg-color: #434B5C;\n",
       "      --hover-fill-color: #FFFFFF;\n",
       "      --disabled-bg-color: #3B4455;\n",
       "      --disabled-fill-color: #666;\n",
       "  }\n",
       "\n",
       "  .colab-df-quickchart {\n",
       "    background-color: var(--bg-color);\n",
       "    border: none;\n",
       "    border-radius: 50%;\n",
       "    cursor: pointer;\n",
       "    display: none;\n",
       "    fill: var(--fill-color);\n",
       "    height: 32px;\n",
       "    padding: 0;\n",
       "    width: 32px;\n",
       "  }\n",
       "\n",
       "  .colab-df-quickchart:hover {\n",
       "    background-color: var(--hover-bg-color);\n",
       "    box-shadow: 0 1px 2px rgba(60, 64, 67, 0.3), 0 1px 3px 1px rgba(60, 64, 67, 0.15);\n",
       "    fill: var(--button-hover-fill-color);\n",
       "  }\n",
       "\n",
       "  .colab-df-quickchart-complete:disabled,\n",
       "  .colab-df-quickchart-complete:disabled:hover {\n",
       "    background-color: var(--disabled-bg-color);\n",
       "    fill: var(--disabled-fill-color);\n",
       "    box-shadow: none;\n",
       "  }\n",
       "\n",
       "  .colab-df-spinner {\n",
       "    border: 2px solid var(--fill-color);\n",
       "    border-color: transparent;\n",
       "    border-bottom-color: var(--fill-color);\n",
       "    animation:\n",
       "      spin 1s steps(1) infinite;\n",
       "  }\n",
       "\n",
       "  @keyframes spin {\n",
       "    0% {\n",
       "      border-color: transparent;\n",
       "      border-bottom-color: var(--fill-color);\n",
       "      border-left-color: var(--fill-color);\n",
       "    }\n",
       "    20% {\n",
       "      border-color: transparent;\n",
       "      border-left-color: var(--fill-color);\n",
       "      border-top-color: var(--fill-color);\n",
       "    }\n",
       "    30% {\n",
       "      border-color: transparent;\n",
       "      border-left-color: var(--fill-color);\n",
       "      border-top-color: var(--fill-color);\n",
       "      border-right-color: var(--fill-color);\n",
       "    }\n",
       "    40% {\n",
       "      border-color: transparent;\n",
       "      border-right-color: var(--fill-color);\n",
       "      border-top-color: var(--fill-color);\n",
       "    }\n",
       "    60% {\n",
       "      border-color: transparent;\n",
       "      border-right-color: var(--fill-color);\n",
       "    }\n",
       "    80% {\n",
       "      border-color: transparent;\n",
       "      border-right-color: var(--fill-color);\n",
       "      border-bottom-color: var(--fill-color);\n",
       "    }\n",
       "    90% {\n",
       "      border-color: transparent;\n",
       "      border-bottom-color: var(--fill-color);\n",
       "    }\n",
       "  }\n",
       "</style>\n",
       "\n",
       "  <script>\n",
       "    async function quickchart(key) {\n",
       "      const quickchartButtonEl =\n",
       "        document.querySelector('#' + key + ' button');\n",
       "      quickchartButtonEl.disabled = true;  // To prevent multiple clicks.\n",
       "      quickchartButtonEl.classList.add('colab-df-spinner');\n",
       "      try {\n",
       "        const charts = await google.colab.kernel.invokeFunction(\n",
       "            'suggestCharts', [key], {});\n",
       "      } catch (error) {\n",
       "        console.error('Error during call to suggestCharts:', error);\n",
       "      }\n",
       "      quickchartButtonEl.classList.remove('colab-df-spinner');\n",
       "      quickchartButtonEl.classList.add('colab-df-quickchart-complete');\n",
       "    }\n",
       "    (() => {\n",
       "      let quickchartButtonEl =\n",
       "        document.querySelector('#df-892243b6-f3ff-4480-aa0a-f098a33c5e27 button');\n",
       "      quickchartButtonEl.style.display =\n",
       "        google.colab.kernel.accessAllowed ? 'block' : 'none';\n",
       "    })();\n",
       "  </script>\n",
       "</div>\n",
       "\n",
       "    </div>\n",
       "  </div>\n"
      ],
      "text/plain": [
       "   Transaction ID        Date Product Category      Product Name  Units Sold  \\\n",
       "0           10001  2024-01-01      Electronics     iPhone 14 Pro           2   \n",
       "1           10002  2024-01-02  Home Appliances  Dyson V11 Vacuum           1   \n",
       "\n",
       "   Unit Price  Total Revenue         Region Payment Method  \n",
       "0      999.99        1999.98  North America    Credit Card  \n",
       "1      499.99         499.99         Europe         PayPal  "
      ]
     },
     "execution_count": 80,
     "metadata": {},
     "output_type": "execute_result"
    }
   ],
   "source": [
    "df.head(2)"
   ]
  },
  {
   "cell_type": "code",
   "execution_count": null,
   "metadata": {
    "colab": {
     "base_uri": "https://localhost:8080/"
    },
    "id": "cxom9n7xOpdR",
    "outputId": "e95af40e-192e-4ce5-ce37-ba910137460d"
   },
   "outputs": [
    {
     "data": {
      "application/vnd.google.colaboratory.intrinsic+json": {
       "summary": "{\n  \"name\": \"df\",\n  \"rows\": 240,\n  \"fields\": [\n    {\n      \"column\": \"Transaction ID\",\n      \"properties\": {\n        \"dtype\": \"number\",\n        \"std\": 69,\n        \"min\": 10001,\n        \"max\": 10240,\n        \"num_unique_values\": 240,\n        \"samples\": [\n          10025,\n          10007,\n          10094\n        ],\n        \"semantic_type\": \"\",\n        \"description\": \"\"\n      }\n    },\n    {\n      \"column\": \"Date of Purchase\",\n      \"properties\": {\n        \"dtype\": \"object\",\n        \"num_unique_values\": 240,\n        \"samples\": [\n          \"2024-01-25\",\n          \"2024-01-07\",\n          \"2024-04-03\"\n        ],\n        \"semantic_type\": \"\",\n        \"description\": \"\"\n      }\n    },\n    {\n      \"column\": \"Product Category\",\n      \"properties\": {\n        \"dtype\": \"category\",\n        \"num_unique_values\": 6,\n        \"samples\": [\n          \"Electronics\",\n          \"Home Appliances\",\n          \"Sports\"\n        ],\n        \"semantic_type\": \"\",\n        \"description\": \"\"\n      }\n    },\n    {\n      \"column\": \"Product Name\",\n      \"properties\": {\n        \"dtype\": \"string\",\n        \"num_unique_values\": 232,\n        \"samples\": [\n          \"The Ordinary Caffeine Solution 5% + EGCG\",\n          \"Samsung QLED 4K TV\",\n          \"Dune by Frank Herbert\"\n        ],\n        \"semantic_type\": \"\",\n        \"description\": \"\"\n      }\n    },\n    {\n      \"column\": \"Units Sold\",\n      \"properties\": {\n        \"dtype\": \"number\",\n        \"std\": 1,\n        \"min\": 1,\n        \"max\": 10,\n        \"num_unique_values\": 7,\n        \"samples\": [\n          2,\n          1,\n          6\n        ],\n        \"semantic_type\": \"\",\n        \"description\": \"\"\n      }\n    },\n    {\n      \"column\": \"Unit Price\",\n      \"properties\": {\n        \"dtype\": \"number\",\n        \"std\": 429.4466949104776,\n        \"min\": 6.5,\n        \"max\": 3899.99,\n        \"num_unique_values\": 117,\n        \"samples\": [\n          219.99,\n          89.99,\n          79.99\n        ],\n        \"semantic_type\": \"\",\n        \"description\": \"\"\n      }\n    },\n    {\n      \"column\": \"Total Revenue\",\n      \"properties\": {\n        \"dtype\": \"number\",\n        \"std\": 485.80446856513214,\n        \"min\": 6.5,\n        \"max\": 3899.99,\n        \"num_unique_values\": 173,\n        \"samples\": [\n          6.7,\n          130.0,\n          15.0\n        ],\n        \"semantic_type\": \"\",\n        \"description\": \"\"\n      }\n    },\n    {\n      \"column\": \"Region\",\n      \"properties\": {\n        \"dtype\": \"category\",\n        \"num_unique_values\": 3,\n        \"samples\": [\n          \"North America\",\n          \"Europe\",\n          \"Asia\"\n        ],\n        \"semantic_type\": \"\",\n        \"description\": \"\"\n      }\n    },\n    {\n      \"column\": \"Payment Method\",\n      \"properties\": {\n        \"dtype\": \"category\",\n        \"num_unique_values\": 3,\n        \"samples\": [\n          \"Credit Card\",\n          \"PayPal\",\n          \"Debit Card\"\n        ],\n        \"semantic_type\": \"\",\n        \"description\": \"\"\n      }\n    }\n  ]\n}",
       "type": "dataframe",
       "variable_name": "df"
      },
      "text/html": [
       "\n",
       "  <div id=\"df-d3cb15ab-da9b-481b-83bc-b4cbb71b3d3d\" class=\"colab-df-container\">\n",
       "    <div>\n",
       "<style scoped>\n",
       "    .dataframe tbody tr th:only-of-type {\n",
       "        vertical-align: middle;\n",
       "    }\n",
       "\n",
       "    .dataframe tbody tr th {\n",
       "        vertical-align: top;\n",
       "    }\n",
       "\n",
       "    .dataframe thead th {\n",
       "        text-align: right;\n",
       "    }\n",
       "</style>\n",
       "<table border=\"1\" class=\"dataframe\">\n",
       "  <thead>\n",
       "    <tr style=\"text-align: right;\">\n",
       "      <th></th>\n",
       "      <th>Transaction ID</th>\n",
       "      <th>Date of Purchase</th>\n",
       "      <th>Product Category</th>\n",
       "      <th>Product Name</th>\n",
       "      <th>Units Sold</th>\n",
       "      <th>Unit Price</th>\n",
       "      <th>Total Revenue</th>\n",
       "      <th>Region</th>\n",
       "      <th>Payment Method</th>\n",
       "    </tr>\n",
       "  </thead>\n",
       "  <tbody>\n",
       "    <tr>\n",
       "      <th>0</th>\n",
       "      <td>10001</td>\n",
       "      <td>2024-01-01</td>\n",
       "      <td>Electronics</td>\n",
       "      <td>iPhone 14 Pro</td>\n",
       "      <td>2</td>\n",
       "      <td>999.99</td>\n",
       "      <td>1999.98</td>\n",
       "      <td>North America</td>\n",
       "      <td>Credit Card</td>\n",
       "    </tr>\n",
       "    <tr>\n",
       "      <th>1</th>\n",
       "      <td>10002</td>\n",
       "      <td>2024-01-02</td>\n",
       "      <td>Home Appliances</td>\n",
       "      <td>Dyson V11 Vacuum</td>\n",
       "      <td>1</td>\n",
       "      <td>499.99</td>\n",
       "      <td>499.99</td>\n",
       "      <td>Europe</td>\n",
       "      <td>PayPal</td>\n",
       "    </tr>\n",
       "  </tbody>\n",
       "</table>\n",
       "</div>\n",
       "    <div class=\"colab-df-buttons\">\n",
       "\n",
       "  <div class=\"colab-df-container\">\n",
       "    <button class=\"colab-df-convert\" onclick=\"convertToInteractive('df-d3cb15ab-da9b-481b-83bc-b4cbb71b3d3d')\"\n",
       "            title=\"Convert this dataframe to an interactive table.\"\n",
       "            style=\"display:none;\">\n",
       "\n",
       "  <svg xmlns=\"http://www.w3.org/2000/svg\" height=\"24px\" viewBox=\"0 -960 960 960\">\n",
       "    <path d=\"M120-120v-720h720v720H120Zm60-500h600v-160H180v160Zm220 220h160v-160H400v160Zm0 220h160v-160H400v160ZM180-400h160v-160H180v160Zm440 0h160v-160H620v160ZM180-180h160v-160H180v160Zm440 0h160v-160H620v160Z\"/>\n",
       "  </svg>\n",
       "    </button>\n",
       "\n",
       "  <style>\n",
       "    .colab-df-container {\n",
       "      display:flex;\n",
       "      gap: 12px;\n",
       "    }\n",
       "\n",
       "    .colab-df-convert {\n",
       "      background-color: #E8F0FE;\n",
       "      border: none;\n",
       "      border-radius: 50%;\n",
       "      cursor: pointer;\n",
       "      display: none;\n",
       "      fill: #1967D2;\n",
       "      height: 32px;\n",
       "      padding: 0 0 0 0;\n",
       "      width: 32px;\n",
       "    }\n",
       "\n",
       "    .colab-df-convert:hover {\n",
       "      background-color: #E2EBFA;\n",
       "      box-shadow: 0px 1px 2px rgba(60, 64, 67, 0.3), 0px 1px 3px 1px rgba(60, 64, 67, 0.15);\n",
       "      fill: #174EA6;\n",
       "    }\n",
       "\n",
       "    .colab-df-buttons div {\n",
       "      margin-bottom: 4px;\n",
       "    }\n",
       "\n",
       "    [theme=dark] .colab-df-convert {\n",
       "      background-color: #3B4455;\n",
       "      fill: #D2E3FC;\n",
       "    }\n",
       "\n",
       "    [theme=dark] .colab-df-convert:hover {\n",
       "      background-color: #434B5C;\n",
       "      box-shadow: 0px 1px 3px 1px rgba(0, 0, 0, 0.15);\n",
       "      filter: drop-shadow(0px 1px 2px rgba(0, 0, 0, 0.3));\n",
       "      fill: #FFFFFF;\n",
       "    }\n",
       "  </style>\n",
       "\n",
       "    <script>\n",
       "      const buttonEl =\n",
       "        document.querySelector('#df-d3cb15ab-da9b-481b-83bc-b4cbb71b3d3d button.colab-df-convert');\n",
       "      buttonEl.style.display =\n",
       "        google.colab.kernel.accessAllowed ? 'block' : 'none';\n",
       "\n",
       "      async function convertToInteractive(key) {\n",
       "        const element = document.querySelector('#df-d3cb15ab-da9b-481b-83bc-b4cbb71b3d3d');\n",
       "        const dataTable =\n",
       "          await google.colab.kernel.invokeFunction('convertToInteractive',\n",
       "                                                    [key], {});\n",
       "        if (!dataTable) return;\n",
       "\n",
       "        const docLinkHtml = 'Like what you see? Visit the ' +\n",
       "          '<a target=\"_blank\" href=https://colab.research.google.com/notebooks/data_table.ipynb>data table notebook</a>'\n",
       "          + ' to learn more about interactive tables.';\n",
       "        element.innerHTML = '';\n",
       "        dataTable['output_type'] = 'display_data';\n",
       "        await google.colab.output.renderOutput(dataTable, element);\n",
       "        const docLink = document.createElement('div');\n",
       "        docLink.innerHTML = docLinkHtml;\n",
       "        element.appendChild(docLink);\n",
       "      }\n",
       "    </script>\n",
       "  </div>\n",
       "\n",
       "\n",
       "<div id=\"df-ea06fc61-2b04-40f5-982c-aa4123d7a263\">\n",
       "  <button class=\"colab-df-quickchart\" onclick=\"quickchart('df-ea06fc61-2b04-40f5-982c-aa4123d7a263')\"\n",
       "            title=\"Suggest charts\"\n",
       "            style=\"display:none;\">\n",
       "\n",
       "<svg xmlns=\"http://www.w3.org/2000/svg\" height=\"24px\"viewBox=\"0 0 24 24\"\n",
       "     width=\"24px\">\n",
       "    <g>\n",
       "        <path d=\"M19 3H5c-1.1 0-2 .9-2 2v14c0 1.1.9 2 2 2h14c1.1 0 2-.9 2-2V5c0-1.1-.9-2-2-2zM9 17H7v-7h2v7zm4 0h-2V7h2v10zm4 0h-2v-4h2v4z\"/>\n",
       "    </g>\n",
       "</svg>\n",
       "  </button>\n",
       "\n",
       "<style>\n",
       "  .colab-df-quickchart {\n",
       "      --bg-color: #E8F0FE;\n",
       "      --fill-color: #1967D2;\n",
       "      --hover-bg-color: #E2EBFA;\n",
       "      --hover-fill-color: #174EA6;\n",
       "      --disabled-fill-color: #AAA;\n",
       "      --disabled-bg-color: #DDD;\n",
       "  }\n",
       "\n",
       "  [theme=dark] .colab-df-quickchart {\n",
       "      --bg-color: #3B4455;\n",
       "      --fill-color: #D2E3FC;\n",
       "      --hover-bg-color: #434B5C;\n",
       "      --hover-fill-color: #FFFFFF;\n",
       "      --disabled-bg-color: #3B4455;\n",
       "      --disabled-fill-color: #666;\n",
       "  }\n",
       "\n",
       "  .colab-df-quickchart {\n",
       "    background-color: var(--bg-color);\n",
       "    border: none;\n",
       "    border-radius: 50%;\n",
       "    cursor: pointer;\n",
       "    display: none;\n",
       "    fill: var(--fill-color);\n",
       "    height: 32px;\n",
       "    padding: 0;\n",
       "    width: 32px;\n",
       "  }\n",
       "\n",
       "  .colab-df-quickchart:hover {\n",
       "    background-color: var(--hover-bg-color);\n",
       "    box-shadow: 0 1px 2px rgba(60, 64, 67, 0.3), 0 1px 3px 1px rgba(60, 64, 67, 0.15);\n",
       "    fill: var(--button-hover-fill-color);\n",
       "  }\n",
       "\n",
       "  .colab-df-quickchart-complete:disabled,\n",
       "  .colab-df-quickchart-complete:disabled:hover {\n",
       "    background-color: var(--disabled-bg-color);\n",
       "    fill: var(--disabled-fill-color);\n",
       "    box-shadow: none;\n",
       "  }\n",
       "\n",
       "  .colab-df-spinner {\n",
       "    border: 2px solid var(--fill-color);\n",
       "    border-color: transparent;\n",
       "    border-bottom-color: var(--fill-color);\n",
       "    animation:\n",
       "      spin 1s steps(1) infinite;\n",
       "  }\n",
       "\n",
       "  @keyframes spin {\n",
       "    0% {\n",
       "      border-color: transparent;\n",
       "      border-bottom-color: var(--fill-color);\n",
       "      border-left-color: var(--fill-color);\n",
       "    }\n",
       "    20% {\n",
       "      border-color: transparent;\n",
       "      border-left-color: var(--fill-color);\n",
       "      border-top-color: var(--fill-color);\n",
       "    }\n",
       "    30% {\n",
       "      border-color: transparent;\n",
       "      border-left-color: var(--fill-color);\n",
       "      border-top-color: var(--fill-color);\n",
       "      border-right-color: var(--fill-color);\n",
       "    }\n",
       "    40% {\n",
       "      border-color: transparent;\n",
       "      border-right-color: var(--fill-color);\n",
       "      border-top-color: var(--fill-color);\n",
       "    }\n",
       "    60% {\n",
       "      border-color: transparent;\n",
       "      border-right-color: var(--fill-color);\n",
       "    }\n",
       "    80% {\n",
       "      border-color: transparent;\n",
       "      border-right-color: var(--fill-color);\n",
       "      border-bottom-color: var(--fill-color);\n",
       "    }\n",
       "    90% {\n",
       "      border-color: transparent;\n",
       "      border-bottom-color: var(--fill-color);\n",
       "    }\n",
       "  }\n",
       "</style>\n",
       "\n",
       "  <script>\n",
       "    async function quickchart(key) {\n",
       "      const quickchartButtonEl =\n",
       "        document.querySelector('#' + key + ' button');\n",
       "      quickchartButtonEl.disabled = true;  // To prevent multiple clicks.\n",
       "      quickchartButtonEl.classList.add('colab-df-spinner');\n",
       "      try {\n",
       "        const charts = await google.colab.kernel.invokeFunction(\n",
       "            'suggestCharts', [key], {});\n",
       "      } catch (error) {\n",
       "        console.error('Error during call to suggestCharts:', error);\n",
       "      }\n",
       "      quickchartButtonEl.classList.remove('colab-df-spinner');\n",
       "      quickchartButtonEl.classList.add('colab-df-quickchart-complete');\n",
       "    }\n",
       "    (() => {\n",
       "      let quickchartButtonEl =\n",
       "        document.querySelector('#df-ea06fc61-2b04-40f5-982c-aa4123d7a263 button');\n",
       "      quickchartButtonEl.style.display =\n",
       "        google.colab.kernel.accessAllowed ? 'block' : 'none';\n",
       "    })();\n",
       "  </script>\n",
       "</div>\n",
       "\n",
       "    </div>\n",
       "  </div>\n"
      ],
      "text/plain": [
       "   Transaction ID Date of Purchase Product Category      Product Name  \\\n",
       "0           10001       2024-01-01      Electronics     iPhone 14 Pro   \n",
       "1           10002       2024-01-02  Home Appliances  Dyson V11 Vacuum   \n",
       "\n",
       "   Units Sold  Unit Price  Total Revenue         Region Payment Method  \n",
       "0           2      999.99        1999.98  North America    Credit Card  \n",
       "1           1      499.99         499.99         Europe         PayPal  "
      ]
     },
     "execution_count": 81,
     "metadata": {},
     "output_type": "execute_result"
    }
   ],
   "source": [
    "df = df.rename(columns={'Date':'Date of Purchase'})\n",
    "df.head(2)"
   ]
  },
  {
   "cell_type": "code",
   "execution_count": null,
   "metadata": {
    "id": "vf-EA7P7PFCE"
   },
   "outputs": [],
   "source": []
  }
 ],
 "metadata": {
  "colab": {
   "provenance": []
  },
  "kernelspec": {
   "display_name": "Python 3",
   "name": "python3"
  },
  "language_info": {
   "name": "python",
   "version": "3.13.0"
  }
 },
 "nbformat": 4,
 "nbformat_minor": 0
}
